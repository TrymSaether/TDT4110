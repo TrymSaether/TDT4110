{
 "cells": [
  {
   "cell_type": "markdown",
   "metadata": {},
   "source": [
    "# Del 1: Kompendium ITGK \n",
    "**Denne notebooken har som mål å gi en introduksjon til programmering og forklarer kalkulasjoner, variabler og innebygde funksjoner i Python.**"
   ]
  },
  {
   "cell_type": "markdown",
   "metadata": {},
   "source": [
    "&nbsp;"
   ]
  },
  {
   "cell_type": "markdown",
   "metadata": {},
   "source": [
    "## 1 Introduksjon"
   ]
  },
  {
   "cell_type": "markdown",
   "metadata": {},
   "source": [
    "Dette kompendiet er laget av Vilde Roland Arntzen og Miriam Størseth Lillebo sommeren 2021. Kompendiet skal fungere som en ekstraressurs ved siden av annet fagmateriell som bøker, øvinger, forelesninger og øvingsforelesninger. Kompendiet tar utgangspunkt i pensumplisten for  programmeringsdelen av TDT4110 høsten 2020, og kombinerer forklaring av konsepter og relevante oppgaver."
   ]
  },
  {
   "cell_type": "markdown",
   "metadata": {},
   "source": [
    "<img src=\"bilder/intro.png\" style=\"height: 160px; \"/>"
   ]
  },
  {
   "cell_type": "markdown",
   "metadata": {},
   "source": [
    "&nbsp;"
   ]
  },
  {
   "cell_type": "markdown",
   "metadata": {},
   "source": [
    "## 2 Innhold"
   ]
  },
  {
   "cell_type": "markdown",
   "metadata": {},
   "source": [
    "Kompendiet består av 6 notebooks som tar for seg ulike deler av pensum. Denne notebooken er nummer 1 av 6. Vi har forsøkt å bygge opp notebookene slik at de først gir en introduksjon tiul temaet med nyttige eksempler og deretter gir noen oppgaver som du kan ha nytte av å løse selv. Dette inkluderer oppgaver vi har laget selv som vi mener er relevante, kombinert med tidligere eksamensoppgaver der det er relevant. "
   ]
  },
  {
   "cell_type": "markdown",
   "metadata": {},
   "source": [
    "1. **Introduksjon til Python og kalkulasjoner**\n",
    "2. Boolske operatorer, innebygde funksjoner i Python og moduler\n",
    "3. Løkker\n",
    "4. Selvprogrammerte funksjoner\n",
    "5. Lister, tupler, strenger, og dictionaries og sett \n",
    "6. Filbehandling og feilhåndtering"
   ]
  },
  {
   "cell_type": "markdown",
   "metadata": {},
   "source": [
    "&nbsp;"
   ]
  },
  {
   "cell_type": "markdown",
   "metadata": {},
   "source": [
    "## 3 Motivasjon"
   ]
  },
  {
   "cell_type": "markdown",
   "metadata": {},
   "source": [
    "**Hva skal jeg med ITGK?**\n",
    "\n",
    "De aller fleste bedrifter i dagens samfunn benytter seg av eller produserer teknologi for ulike formål. Uavhengig om du ønsker å bli programmerer, økonom, leder eller inntre i andre stillinger så trenger man ofte en teknologiforståelse for å samarbeide på tvers av yrker og utdannelse. Indusustrien ønsker seg folk som har kunnskap om programmering for at man blant annet skal kunne identifisere effektive løsninger eller lede menneskene som utvikler disse\n",
    "\n",
    "* Applikasjoner benyttes både som komersielle kanaler og produkter\n",
    "* Teknologi driver ofte høy-frekvens forhandlinger \n",
    "* For å kunne ta gode beslutninger for en organisasjon kreves det analyse av store mengder data - dette gjøres ofte ved pruk av programmering (særlig Python) \n"
   ]
  },
  {
   "cell_type": "markdown",
   "metadata": {},
   "source": [
    "**Learning by doing**\n",
    "\n",
    "Å lære seg å programmere kan være både **slitsomt** og **frustrerende**. I lesefag som historie og samfunnsfag er vi vant til å ha en *lineær læringskurve*, som vil si at vi lærer like jevnt som vi leser og bruker tid på å faget. Slik er det *ikke* med programmering. Når man lærer seg å programmere er det ofte mye knot i starten, og man skal holde styr på både syntaks (hvordan man skriver koden) og logikk (hvordan man løser problemet). I starten er dette overveldende - men husk at du ikke er alene. Der har vi alle vært, og du skal vite at **selv om man ikke forstår noe i starten, så kan du fortsatt gjøre det veldig bra ved å legge inn en god mengde arbeid!**. Noen tips på veien for å komme seg dit: \n",
    "1. Ikke vær redd for å feile - det verste som skjer er at programmet krasjer. \n",
    "2. Det holder ikke kun å lese - du må få inn mengdetrening gjennom praktiske oppgaver (øvinger, eksamensoppgaver osv.).\n",
    "3. Hvis du ikke får til en oppgave, eller det er en oppgave du fikk til men du forstår den ikke helt. Legg den fra deg og løs den på nytt senere.\n",
    "4. Bruk studassene for det de er verdt - still spørsmål om alt og ingenting, det er bare positivt! "
   ]
  },
  {
   "cell_type": "markdown",
   "metadata": {},
   "source": [
    "<img src=\"bilder/learning_by_doing.png\" style=\"height: 310px; \"/>"
   ]
  },
  {
   "cell_type": "markdown",
   "metadata": {},
   "source": [
    "&nbsp;"
   ]
  },
  {
   "cell_type": "markdown",
   "metadata": {},
   "source": [
    "## 4 Introduksjon til programmering"
   ]
  },
  {
   "cell_type": "markdown",
   "metadata": {},
   "source": [
    "### 4.1 Hva er programmering?"
   ]
  },
  {
   "cell_type": "markdown",
   "metadata": {},
   "source": [
    "<img src=\"bilder/programmering_def.png\" style=\"height: 200px; \"/>"
   ]
  },
  {
   "cell_type": "markdown",
   "metadata": {},
   "source": [
    "**Syntaks:** er læren om hvordan ord settes sammen til større enheter. Vi starter med enkle \"ord\", og bygger stadig videre.\n"
   ]
  },
  {
   "cell_type": "markdown",
   "metadata": {},
   "source": [
    "&nbsp;"
   ]
  },
  {
   "cell_type": "markdown",
   "metadata": {},
   "source": [
    "### 4.2 Operatorer"
   ]
  },
  {
   "cell_type": "markdown",
   "metadata": {},
   "source": [
    "**Operatorer** er spesielle symboler som signaliserer at en **beregning** skal utføres. Dette har du mest sannsynlig vært borti før når du bruker en kalkulator og gir kalkulatoren instruksjoner for å beregne noe for deg. På samme måten kan vi bruke Python som en kalkulator. \n",
    "\n",
    "Ved bruk av opetatorer beregnes parenteser først etterfulgt av presedensrekkefølgen i tabellen under. Ved lik presedens blir operatorer brukt fra venstre mot høyre. "
   ]
  },
  {
   "cell_type": "markdown",
   "metadata": {},
   "source": [
    "<img src=\"bilder/presedens.png\" style=\"height: 200px; \"/>"
   ]
  },
  {
   "cell_type": "markdown",
   "metadata": {},
   "source": [
    "En oversikt over operatorer og beskrivelse av dem finner du [her](https://realpython.com/python-operators-expressions/)."
   ]
  },
  {
   "cell_type": "markdown",
   "metadata": {},
   "source": [
    "#### Eksempler\n",
    "Kjør kodene under for å teste presedens og parantesbruk i Python. "
   ]
  },
  {
   "cell_type": "markdown",
   "metadata": {},
   "source": [
    "$$ 3 \\cdot 4 $$"
   ]
  },
  {
   "cell_type": "code",
   "execution_count": null,
   "metadata": {},
   "outputs": [],
   "source": [
    "3*4"
   ]
  },
  {
   "cell_type": "markdown",
   "metadata": {},
   "source": [
    "$$ 10 + 5 - 2$$"
   ]
  },
  {
   "cell_type": "code",
   "execution_count": null,
   "metadata": {},
   "outputs": [],
   "source": [
    "10+5-2"
   ]
  },
  {
   "cell_type": "markdown",
   "metadata": {},
   "source": [
    "$$ -4 \\cdot \\frac{1}{2}$$"
   ]
  },
  {
   "cell_type": "code",
   "execution_count": null,
   "metadata": {},
   "outputs": [],
   "source": [
    "-4*1/2"
   ]
  },
  {
   "cell_type": "markdown",
   "metadata": {},
   "source": [
    "$$2^3$$"
   ]
  },
  {
   "cell_type": "code",
   "execution_count": null,
   "metadata": {},
   "outputs": [],
   "source": [
    "2**3"
   ]
  },
  {
   "cell_type": "markdown",
   "metadata": {},
   "source": [
    "&nbsp;"
   ]
  },
  {
   "cell_type": "markdown",
   "metadata": {},
   "source": [
    "### 4.3 Oppgaver: Kalkulasjoner\n",
    "Test om du har forstått *kalkulasjoner* i Python ved å løse oppgavene under. "
   ]
  },
  {
   "cell_type": "markdown",
   "metadata": {},
   "source": [
    "&nbsp;"
   ]
  },
  {
   "cell_type": "markdown",
   "metadata": {},
   "source": [
    "**Oppgave 1: Lånekassen**\n",
    "\n",
    "Du har studert i fem år ved NTNU og har endelig fullført en mastergrad. Gjennom studiet har du tatt opp fullt lån og stipend alle fem årene. I snitt innebærer dette 60 800 kr i lån og 40 200 kr i stipend hvert år. Det fjerde året var du på utveksling og måtte betale ekstra for skolepenger. Da fikk du 100 000 ekstra i lån og 70 000 ekstra i stipend ved siden av det du betaler fra før. Man trenger ikke å betale rente på disse pengene gjennom studiet. \n"
   ]
  },
  {
   "cell_type": "markdown",
   "metadata": {},
   "source": [
    "**a)** Hva er den totale lånte summen fra lånekassen? "
   ]
  },
  {
   "cell_type": "code",
   "execution_count": null,
   "metadata": {},
   "outputs": [],
   "source": []
  },
  {
   "cell_type": "markdown",
   "metadata": {},
   "source": [
    "**b)** Du utsetter nedbetaling på lånet i 3 år med en rente på 2%. Hvor mye må du betale ned på lånet etter tre år? "
   ]
  },
  {
   "cell_type": "code",
   "execution_count": null,
   "metadata": {},
   "outputs": [],
   "source": []
  },
  {
   "cell_type": "markdown",
   "metadata": {},
   "source": [
    "&nbsp;"
   ]
  },
  {
   "cell_type": "markdown",
   "metadata": {},
   "source": [
    "**Oppgave 2: Valuta**\n",
    "\n",
    "Du er på ferie i USA og har 5000 NOK på konto. 1 USD = 8.5 NOK og det koster 3 USD å ta ut penger. Hvor mnange USD har du hvis du tar ut penger tre ganger på turen? "
   ]
  },
  {
   "cell_type": "code",
   "execution_count": null,
   "metadata": {},
   "outputs": [],
   "source": []
  },
  {
   "cell_type": "markdown",
   "metadata": {},
   "source": [
    "&nbsp;"
   ]
  },
  {
   "cell_type": "markdown",
   "metadata": {},
   "source": [
    "**Oppgave 3: Celsius til Farenheit**\n",
    "\n",
    "Du får oppgitt at det er 34 celsius-grader ute. Hva tilsvarer dette i Farenheit?\n",
    "\n",
    "$$F = \\frac{9}{5}\\cdot Celsius + 32$$"
   ]
  },
  {
   "cell_type": "code",
   "execution_count": null,
   "metadata": {},
   "outputs": [],
   "source": []
  },
  {
   "cell_type": "markdown",
   "metadata": {},
   "source": [
    "&nbsp;"
   ]
  },
  {
   "cell_type": "markdown",
   "metadata": {},
   "source": [
    "**Oppgave 4: Regn ut følgende**\n",
    "\n",
    "**a)** $$ 8 \\cdot -2 -(2+ -5)$$"
   ]
  },
  {
   "cell_type": "code",
   "execution_count": null,
   "metadata": {},
   "outputs": [],
   "source": []
  },
  {
   "cell_type": "markdown",
   "metadata": {},
   "source": [
    "**b)** $$ -2 - -3 -2 $$"
   ]
  },
  {
   "cell_type": "code",
   "execution_count": null,
   "metadata": {},
   "outputs": [],
   "source": []
  },
  {
   "cell_type": "markdown",
   "metadata": {},
   "source": [
    "**c)** $$ -5 - 2^{-1 \\cdot -2} $$"
   ]
  },
  {
   "cell_type": "code",
   "execution_count": null,
   "metadata": {},
   "outputs": [],
   "source": []
  },
  {
   "cell_type": "markdown",
   "metadata": {},
   "source": [
    "**d)** $$ -(1 \\cdot 1 \\cdot 2 \\cdot 3 \\cdot-9)$$"
   ]
  },
  {
   "cell_type": "code",
   "execution_count": null,
   "metadata": {},
   "outputs": [],
   "source": []
  },
  {
   "cell_type": "markdown",
   "metadata": {},
   "source": [
    "&nbsp;"
   ]
  },
  {
   "cell_type": "markdown",
   "metadata": {},
   "source": [
    "**Oppgave 5: Modulo**\n",
    "\n",
    "**Modulo**-operatoren er ny for mange som tar ITGK. Operatoren gir deg resten etter en divisjon som kan være nyttig i mange situasjoner. Vi kan tenke på a modulo b ( i Python ```a % b```) som hvor mange ganger går b i a. Et eksempel er gitt under. "
   ]
  },
  {
   "cell_type": "markdown",
   "metadata": {},
   "source": [
    "<img src=\"bilder/modulo.png\" style=\"height: 200px; \"/>"
   ]
  },
  {
   "cell_type": "markdown",
   "metadata": {},
   "source": [
    "Et eksempel på modulo er klokken. Hver gang minuttviseren har gått en hel runde, starter den på begynnelsen igjen - så spørsmålet hvor vil viseren stå etter 2 timer og 30 minutter (150 minutter) kan omformuleres til hva er 150 modulo 60? "
   ]
  },
  {
   "cell_type": "markdown",
   "metadata": {},
   "source": [
    "<img src=\"bilder/clock.png\" style=\"height: 190px; \"/>"
   ]
  },
  {
   "cell_type": "code",
   "execution_count": null,
   "metadata": {},
   "outputs": [],
   "source": [
    "150 % 60"
   ]
  },
  {
   "cell_type": "markdown",
   "metadata": {},
   "source": [
    "Som også er det samme som følgende"
   ]
  },
  {
   "cell_type": "code",
   "execution_count": null,
   "metadata": {},
   "outputs": [],
   "source": [
    "150 - 60 - 60"
   ]
  },
  {
   "cell_type": "markdown",
   "metadata": {},
   "source": [
    "&nbsp;"
   ]
  },
  {
   "cell_type": "markdown",
   "metadata": {},
   "source": [
    "## 5 Innebygde funksjoner og variabler"
   ]
  },
  {
   "cell_type": "markdown",
   "metadata": {},
   "source": [
    "For å få ekstra funksjonalitet i tillegg til det vi koder fra bunnen av, benytter vi oss av **innebygde funksjoner** i Python. Det finnes mange innebygde funksjoner, som gjør mye forskjellig, som å ta absoluttverdien av en verdi (som i matematikken), eller skrive ut (og vise frem) resultatet fra kodingen til bruker/konsollen.\n",
    "\n",
    "\n",
    "Funksjoner fungerer på mange måter likt som i matematikken, hvor en funksjon tar inn ett eller flere **argumenter** og returnerer et eller flere **resultatverdier**. Vi kaller ofte argumentene for *input* (**må *ikke* blandes med den innebygde ```input()```-funksjonen i Python**) og resultatene for *output*.\n",
    "\n",
    "Dette er analogt til i matematikken hvor man har en funksjon $f$:\n",
    "\n",
    "$$f(x) = x^2$$\n",
    "\n",
    "Her er $f$ funksjonen, $x$ er argumentet, og $x^2$ blir output. Dette vil for eksempel gi $f(1) = 1^2 = 1$, $f(2)=2^2 = 4$ osv. "
   ]
  },
  {
   "cell_type": "markdown",
   "metadata": {},
   "source": [
    "&nbsp;"
   ]
  },
  {
   "cell_type": "markdown",
   "metadata": {},
   "source": [
    "Under en en liste med eksempler på innebygde funksjoner i Python. Hvis dere ønsker å sjekke ut flere kan dere ta en titt [her](https://docs.python.org/3/library/functions.html). Merk at det *ikke* er forventet at dere må pugge disse til eksamen, bare vite om de viktigste (typisk de vi beskriver mer i dybden). "
   ]
  },
  {
   "cell_type": "markdown",
   "metadata": {},
   "source": [
    "<img src=\"bilder/innebygde_funksjoner.png\" style=\"height: 170px;\"/>"
   ]
  },
  {
   "cell_type": "markdown",
   "metadata": {},
   "source": [
    "&nbsp;"
   ]
  },
  {
   "cell_type": "markdown",
   "metadata": {},
   "source": [
    "### 5.1 Print-funksjonen"
   ]
  },
  {
   "cell_type": "markdown",
   "metadata": {},
   "source": [
    "```print()``` er en funksjon i Python som skriver ut en spesifisert melding til skjermen (også kalt konsollen). "
   ]
  },
  {
   "cell_type": "code",
   "execution_count": null,
   "metadata": {},
   "outputs": [],
   "source": [
    "print(\"Dette er en setning som printes ti skjermen :-) \")"
   ]
  },
  {
   "cell_type": "markdown",
   "metadata": {},
   "source": [
    "```print()``` kan ta inn et eller flere argumenter. Under ser man et eksempel på hvordan funskjonen fungerer når man gir den flere argumenter."
   ]
  },
  {
   "cell_type": "code",
   "execution_count": null,
   "metadata": {},
   "outputs": [],
   "source": [
    "print(\"Her printes\", \"flere argumenter\", \"samtidig.\")\n",
    "print(\"Tall kan også printes:\", 100)"
   ]
  },
  {
   "cell_type": "markdown",
   "metadata": {},
   "source": [
    "&nbsp;"
   ]
  },
  {
   "cell_type": "markdown",
   "metadata": {},
   "source": [
    "### 5.2 Kommentarer\n",
    "Når vi koder bruker vi ofte kommentarer i koden. Kommentarer er tekst som ikke har noen effekt på programmet og markeres ved ```#``` eller ```\"\"\"```. ```#``` markerer linjekommentarer, mens ```\"\"\"``` brukes til å kommentere ut hele blokker (flere linjer). "
   ]
  },
  {
   "cell_type": "markdown",
   "metadata": {},
   "source": [
    "Forsøk å kjøre kodene under og se hva som skjer. "
   ]
  },
  {
   "cell_type": "code",
   "execution_count": null,
   "metadata": {},
   "outputs": [],
   "source": [
    "# Dette er en linjekommentar som betyr at linjen ikke er med i koden\n",
    "print(\"Dette er ikke en kommentar - men en del av koden\")"
   ]
  },
  {
   "cell_type": "code",
   "execution_count": null,
   "metadata": {},
   "outputs": [],
   "source": [
    "\"\"\"\n",
    "Dette er en kommentar som \n",
    "går over flere linjer. Koden\n",
    "i denne blokken vil ikke kjøres.\n",
    "print(\"dette kjøres ikke\")\n",
    "\"\"\"\n",
    "print(\"Men dette kjøres, fordi det er utenfor kodeblokken.\")"
   ]
  },
  {
   "cell_type": "markdown",
   "metadata": {},
   "source": [
    "&nbsp;"
   ]
  },
  {
   "cell_type": "markdown",
   "metadata": {},
   "source": [
    "### 5.3 Variabler\n",
    "Man kan tenke på **variabler** som et navn knyttet til en verdi, på samme måte som i matematikk. En variabel lagrer verdien en plass i minnet slik at den senere kan brukes. Man kan deklarere en variabel ved å bruke ```=```-tegnet. Under har vi laget en variabel ```x``` som har fått verdien 5."
   ]
  },
  {
   "cell_type": "code",
   "execution_count": null,
   "metadata": {},
   "outputs": [],
   "source": [
    "x = 5"
   ]
  },
  {
   "cell_type": "markdown",
   "metadata": {},
   "source": [
    "Etter at variabelen er deklarert, kan den brukes videre. Under skrives verdien til x ut til konsoll."
   ]
  },
  {
   "cell_type": "code",
   "execution_count": null,
   "metadata": {},
   "outputs": [],
   "source": [
    "print(x)"
   ]
  },
  {
   "cell_type": "markdown",
   "metadata": {},
   "source": [
    "Man kan også endre verdien til x og bruke den senere. "
   ]
  },
  {
   "cell_type": "code",
   "execution_count": null,
   "metadata": {},
   "outputs": [],
   "source": [
    "x = x - 3"
   ]
  },
  {
   "cell_type": "code",
   "execution_count": null,
   "metadata": {},
   "outputs": [],
   "source": [
    "print(x)"
   ]
  },
  {
   "cell_type": "markdown",
   "metadata": {},
   "source": [
    "#### Variabeltyper\n",
    "En variabel har en type som kan være alt fra heltall (integer), desimaltall (float) til tekststrenger (string). Variabelen ```x``` over er av typen heltall. En liste av variabeltyper er gitt under.\n",
    "* **Integer:** Heltall, f. eks: ```1```, ```3```, ```8```\n",
    "* **Float:** Desimaltall, f. eks: ```0.5```, ```1/2```, ```0.677```\n",
    "* **Boolean:** Sannhetsverdi ```True``` eller ```False```\n",
    "* **String:** Tekst, f.eks: ```\"Hei\"```, ```\"Hello World\"```"
   ]
  },
  {
   "cell_type": "markdown",
   "metadata": {},
   "source": [
    "En tekststreng deklareres med fnutter. Det kan gjøres med ```'enkeltfnutter'```, ```\"dobbeltfnutter\"``` eller ```'''trippelfnutter'''```. Det er ikke så farlig hvilken man velger, men pass på å lukke fnuttene med samme type som du starter med. "
   ]
  },
  {
   "cell_type": "markdown",
   "metadata": {},
   "source": [
    "Det er viktig å være **nøye** med hva slags type variabelen din har slik at programmet du lager gir forventet oppførsel. Eksempelet under viser hvordan dette kan gå galt hvis vi har feil datatyper."
   ]
  },
  {
   "cell_type": "code",
   "execution_count": null,
   "metadata": {},
   "outputs": [],
   "source": [
    "\"5\" + \"6\" + \"7\""
   ]
  },
  {
   "cell_type": "markdown",
   "metadata": {},
   "source": [
    "Eksempelet over legger sammen tre tekststrenger som resultrerer i en sammensatt tekststreng og *ikke* summen av de tre tall-verdiene. Dersom vi ønsket å summere de tre tallene sammen må de være representert som numeriske verdier (Integer eller Float) som under. "
   ]
  },
  {
   "cell_type": "code",
   "execution_count": null,
   "metadata": {},
   "outputs": [],
   "source": [
    "5 + 6 + 7"
   ]
  },
  {
   "cell_type": "markdown",
   "metadata": {},
   "source": [
    "Man kan *ikke* summere strenger med numeriske verdier, det vil gi en feilmelding som eksempelet under. "
   ]
  },
  {
   "cell_type": "code",
   "execution_count": null,
   "metadata": {},
   "outputs": [],
   "source": [
    "5 + \"5\""
   ]
  },
  {
   "cell_type": "markdown",
   "metadata": {},
   "source": [
    "Merk at feilmeldingen sier hva som er feil i koden ```unsupported operand type(s) for +: 'int' and 'str'``` – som betyr at man ikke kan legge sammen tall med strenger. \n",
    "\n",
    "Dette virker kanskje åpenbart, men er veldig viktig å ha i bakhodet etterhvert fordi enkelte funksjoner i Python automatisk gir spesifikke typer, som vi vil se for ```input()```-funksjonen."
   ]
  },
  {
   "cell_type": "markdown",
   "metadata": {},
   "source": [
    "#### Konvertering av variabler\n",
    "Dersom man ønsker å konvertere (caste) en variabel fra en type til en annen kan man bruke *innebygde funksjoner* for dette i Python. Dette inkluderer blant annet\n",
    "* ```int(x)```: konverterer et argument ```x``` til et heltall.\n",
    "* ```bool(x)```: konverterer et argument ```x``` til en sannhetsverdi (True/False).\n",
    "* ```str(x)```: konverterer et argument ```x``` til en tekststreng.\n",
    "\n"
   ]
  },
  {
   "cell_type": "markdown",
   "metadata": {},
   "source": [
    "Hvis vi nå konverterer tallene representert som strenger fra eksempelet i stad til heltall før de legges sammen får vi et annet resultat: "
   ]
  },
  {
   "cell_type": "code",
   "execution_count": null,
   "metadata": {},
   "outputs": [],
   "source": [
    "int(\"5\") + int(\"6\") + int(\"7\")"
   ]
  },
  {
   "cell_type": "markdown",
   "metadata": {},
   "source": [
    "Pass på når du bruker konverteringsfunksjoner – **ikke alt kan konverteres**."
   ]
  },
  {
   "cell_type": "code",
   "execution_count": null,
   "metadata": {},
   "outputs": [],
   "source": [
    "int(\"Dette er en streng\")"
   ]
  },
  {
   "cell_type": "markdown",
   "metadata": {},
   "source": [
    "Når vi forsøker å konvertere en teksstreng som ikke inneholder numeriske verdier (0-9) får vi en feilmelding som vist over. Heldigvis går det helt fint å gjøre noen feil, da Python som regel gir oss en beskjed om at noe er galt. "
   ]
  },
  {
   "cell_type": "markdown",
   "metadata": {},
   "source": [
    "&nbsp;"
   ]
  },
  {
   "cell_type": "markdown",
   "metadata": {},
   "source": [
    "### 5.4 Input\n",
    "```input()``` er en innebygd funksjon i Python som lar oss hente inn data fra brukeren av programmet. Når ```input()``` kalles vil programmet stoppe på den linjen input er kalt frem til brukeren har gitt et input. \n",
    "\n",
    "Funksjonen **gir alltid en teksstreng** tilbake til programmet. Dersom denne inputen skal benyttes senere i programmet må den lagres i en variabel. \n",
    "\n",
    "```input(x)``` tar inn ett argument ```x``` som er teksten som printes/skrives ut til brukeren. Denne teksten beskriver typisk hva slags type input som er ønskelig fra bruker. Kjør kodeblokken under for å se hvordan funksjonen fungerer. Etter du har skrevet inn navnet ditt, trykk enter. "
   ]
  },
  {
   "cell_type": "code",
   "execution_count": null,
   "metadata": {},
   "outputs": [],
   "source": [
    "navn = input(\"Skriv inn navnet ditt: \")\n",
    "\n",
    "print(\"Hei\", navn +\"!!\",\"Hyggelig å hilse på deg!\")"
   ]
  },
  {
   "cell_type": "markdown",
   "metadata": {},
   "source": [
    "&nbsp;"
   ]
  },
  {
   "cell_type": "markdown",
   "metadata": {},
   "source": [
    "### 5.5 Oppgaver: Innebygde funksjoner og variabler\n",
    "Test om du har forstått *innebygde funksjoner* og *variabler* i Python ved å løse oppgavene under. "
   ]
  },
  {
   "cell_type": "markdown",
   "metadata": {},
   "source": [
    "&nbsp;"
   ]
  },
  {
   "cell_type": "markdown",
   "metadata": {},
   "source": [
    "**Oppgave 6: ```input()``` og ```print()```**\n",
    "\n",
    "Lag et program som gjør følgende:\n",
    "1. Spør brukeren om navn og lagrer dette i variabelen```navn```\n",
    "2. Spør brukeren om alder og lagrer dette i variabelen ```alder```\n",
    "3. Regn ut hvor mange år det er til brukeren er 100 år (vi antar her at brukeren ikke kan være eldre enn 100 år) og lagre dette i variabelen ```x```\n",
    "4. Skriv ut følgende til bruker: ```\"Hei <navn>! Du har <x> år igjen til du er 100 år!\"```\n",
    "\n",
    "\n",
    "*NB! Husk at ```input()```-funksjonen tar inn en tekststreng og at dersom denne skal brukes i kalkulasjoner må den konverteres til et tall først!*\n"
   ]
  },
  {
   "cell_type": "code",
   "execution_count": null,
   "metadata": {},
   "outputs": [],
   "source": []
  },
  {
   "cell_type": "markdown",
   "metadata": {},
   "source": [
    "&nbsp;"
   ]
  },
  {
   "cell_type": "markdown",
   "metadata": {},
   "source": [
    "\n",
    "**Oppgave 7: ```input()```vs. input-argument**\n",
    "\n",
    "Beskriv forskjellen på ```input()```-funksjonen i Python og det at en *funksjon* i Python tar inn et input-argument. Dobbeltklikk på boksen under for å skrive svaret ditt"
   ]
  },
  {
   "cell_type": "markdown",
   "metadata": {},
   "source": [
    "Svar: *Dobbeltklikk her for å skrive svaret ditt*"
   ]
  },
  {
   "cell_type": "markdown",
   "metadata": {},
   "source": [
    "&nbsp;"
   ]
  },
  {
   "cell_type": "markdown",
   "metadata": {},
   "source": [
    "##  6 Syntaksfeil"
   ]
  },
  {
   "cell_type": "markdown",
   "metadata": {},
   "source": [
    "Tidligere i kompendiet har vi sett hvordan Python klager når vi gjør feil – da sendes det ut en **feilmelding**. Dette kan for eksempel være hvis man prøver å legge sammen to typer som ikke kan summeres, for eksempel en streng og et heltall, eller når man forsøker å konvertere en ikke-numerisk tekststreng til et heltall. \n",
    "\n",
    "En annen type feil er **syntaksfeil**. Husk at syntaks er byggeklossene til koden – altså hvordan vi skriver den. Siden datamaskinen må ha *tydelige og konkrete instruksjoner*, så forstår den ikke hvis vi skriver feil syntaks. Feil syntaks er ikke korrekt Python, og det vil oppstå en syntaksfeil som i eksempelet under."
   ]
  },
  {
   "cell_type": "code",
   "execution_count": null,
   "metadata": {},
   "outputs": [],
   "source": [
    "print(\"Hello\""
   ]
  },
  {
   "cell_type": "markdown",
   "metadata": {},
   "source": [
    "I eksempelet over mangler det en ```)``` for å lukke ```print()```-funksjonen. Selv om vi er *nærme* riktig syntaks, så er det feil – og programmet vil derfor ikke kjøre. Et annet eksempel er gitt under hvor vi forsøker å skrive tekst rett inn i Python uten å definere det med fnutter. "
   ]
  },
  {
   "cell_type": "code",
   "execution_count": null,
   "metadata": {},
   "outputs": [],
   "source": [
    "Hei på deg!"
   ]
  },
  {
   "cell_type": "markdown",
   "metadata": {},
   "source": [
    "#### Syntaksfeil vs. logiske feil\n",
    "Syntaksfeil er (ofte) enkelt å oppdage fordi koden ikke kjører, som i eksempele over. Merk at **det kan være feil i koden selv om den kjører!** Et eksempel på dette er **logiske feil i koden**. \n",
    "\n",
    "Logiske feil i koden oppstår når koden ikke fungerer slik den skal. Dette kan være vanskeligere å finne fordi man må ha forståelse både for hvordan koden *skal* fungere og hvordan den *faktisk* fungerer. Et eksempel er gitt under."
   ]
  },
  {
   "cell_type": "code",
   "execution_count": null,
   "metadata": {},
   "outputs": [],
   "source": [
    "# Regn ut arealet til sirkelen\n",
    "pi = 3.14\n",
    "r = 2\n",
    "\n",
    "A = pi**r # NB! Dette er feil fordi arealet til en sirkel er pi*r*r (og ikke pi**r)\n",
    "print(A)"
   ]
  },
  {
   "cell_type": "markdown",
   "metadata": {},
   "source": [
    "Koden over ga formelen $A = \\pi^r$ når vi egentlig ønsket $A = \\pi \\cdot r^2$. For å oppdage denne feilen må man ha en viss forståelse for arealformelen og være observant. Det kan derfor være lurt å lese over koden en ekstra gang, selv omd en kjører uten syntaksfeil. Det riktige svaret er gitt under. "
   ]
  },
  {
   "cell_type": "code",
   "execution_count": null,
   "metadata": {},
   "outputs": [],
   "source": [
    "A = pi*r*r\n",
    "print(A)"
   ]
  },
  {
   "cell_type": "markdown",
   "metadata": {},
   "source": [
    "&nbsp;"
   ]
  },
  {
   "cell_type": "markdown",
   "metadata": {},
   "source": [
    "### 6.1 Oppgaver: Kodeforståelse og feil i koden\n",
    "Test om du har forstått *syntaksfeil* og *logiske feil* i Python ved å løse oppgavene under. "
   ]
  },
  {
   "cell_type": "markdown",
   "metadata": {},
   "source": [
    "&nbsp;"
   ]
  },
  {
   "cell_type": "markdown",
   "metadata": {},
   "source": [
    "**Oppgave 8: Rett opp koden**\n",
    "\n",
    "Koden under skal dele 20 på 32 og multiplisere med 10 ved bruk av variablene ```a```, ```b```, og ```c``` under. Dette skal skrives ut til bruker. Det er noen feil i koden, så du må rette den opp slik at den har rett funksjonalitet."
   ]
  },
  {
   "cell_type": "code",
   "execution_count": null,
   "metadata": {},
   "outputs": [],
   "source": [
    "a = 20 \n",
    "b = 32 \n",
    "c = \"10\"\n",
    "\n",
    "print( a % b * c )"
   ]
  },
  {
   "cell_type": "markdown",
   "metadata": {},
   "source": [
    "&nbsp;"
   ]
  },
  {
   "cell_type": "markdown",
   "metadata": {},
   "source": [
    "**Oppgave 9: Finn feilene**\n",
    "\n",
    "Det er flere feil i koden under som gjør at den ikke fungerer. Finn denne feilen og rett den opp slik at koden kjører og printer ut en melding til brukeren. "
   ]
  },
  {
   "cell_type": "code",
   "execution_count": null,
   "metadata": {},
   "outputs": [],
   "source": [
    "navn = \"bruker!\"\n",
    "print(``Hei``, navn, `` hvordan går det med deg? ``)\n",
    "\n",
    "print(\"I dag er en fin dag')"
   ]
  },
  {
   "cell_type": "markdown",
   "metadata": {},
   "source": [
    "&nbsp;"
   ]
  }
 ],
 "metadata": {
  "kernelspec": {
   "display_name": "Python 3",
   "language": "python",
   "name": "python3"
  },
  "language_info": {
   "codemirror_mode": {
    "name": "ipython",
    "version": 3
   },
   "file_extension": ".py",
   "mimetype": "text/x-python",
   "name": "python",
   "nbconvert_exporter": "python",
   "pygments_lexer": "ipython3",
   "version": "3.9.0"
  }
 },
 "nbformat": 4,
 "nbformat_minor": 4
}
