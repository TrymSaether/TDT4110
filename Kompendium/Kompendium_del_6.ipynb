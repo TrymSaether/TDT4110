{
 "cells": [
  {
   "cell_type": "markdown",
   "metadata": {},
   "source": [
    "# Del 6: Kompendium ITGK \n"
   ]
  },
  {
   "cell_type": "markdown",
   "metadata": {},
   "source": [
    "**Dette kompendiet tar for seg filbehandling og feilhåndtering i Python.**"
   ]
  },
  {
   "cell_type": "markdown",
   "metadata": {},
   "source": [
    "&nbsp;"
   ]
  },
  {
   "cell_type": "markdown",
   "metadata": {},
   "source": [
    "## 1 Introduksjon"
   ]
  },
  {
   "cell_type": "markdown",
   "metadata": {},
   "source": [
    "Dette kompendiet er laget av Vilde Roland Arntzen og Miriam Størseth Lillebo sommeren 2021. Kompendiet skal fungere som en ekstraressurs ved siden av annet fagmateriell som bøker, øvinger, forelesninger og øvingsforelesninger. Kompendiet tar utgangspunkt i pensumplisten for  programmeringsdelen av TDT4110 høsten 2020, og kombinerer forklaring av konsepter og relevante oppgaver."
   ]
  },
  {
   "cell_type": "markdown",
   "metadata": {},
   "source": [
    "<img src=\"bilder/intro.png\" style=\"height: 160px; \"/>"
   ]
  },
  {
   "cell_type": "markdown",
   "metadata": {},
   "source": [
    "&nbsp;"
   ]
  },
  {
   "cell_type": "markdown",
   "metadata": {},
   "source": [
    "## 2 Innhold"
   ]
  },
  {
   "cell_type": "markdown",
   "metadata": {},
   "source": [
    "Kompendiet består av 6 notebooks som tar for seg ulike deler av pensum. Denne notebooken er nummer 6 av 6. Vi har forsøkt å bygge opp notebookene slik at de først gir en introduksjon til temaet med nyttige eksempler og deretter gir noen oppgaver som du kan ha nytte av å løse selv. Dette inkluderer oppgaver vi har laget selv som vi mener er relevante, kombinert med tidligere eksamensoppgaver der det er relevant. "
   ]
  },
  {
   "cell_type": "markdown",
   "metadata": {},
   "source": [
    "1. Introduksjon til Python og kalkulasjoner\n",
    "2. Boolske operatorer, innebygde funksjoner i Python og moduler\n",
    "3. Løkker\n",
    "4. Selvprogrammerte funksjoner\n",
    "5. Lister, tupler, strenger, dictionaries og sett\n",
    "6. **Filbehandling og feilhåndtering**"
   ]
  },
  {
   "cell_type": "markdown",
   "metadata": {},
   "source": [
    "&nbsp;"
   ]
  },
  {
   "cell_type": "markdown",
   "metadata": {},
   "source": [
    "## 3 Filbehandling\n",
    "De fleste kjenner til filer fra før av gjennom programmer som word eller excel. En **fil** er et sted du kan lagre data eller informasjon som lagres i minnet til datamaskinen din. Når du definerer variabler i koden din lagres de i korttidsminnet som vil si at de kun er tilgjengelig så lenge koden kjører. Filer lagres i langtidsminnet til datamaskinen og vil være tilgjengelige selv om programmet skrus av og på igjen. \n",
    "\n",
    "\n",
    "Vi skal nå lære å **lese fra** og **skrive til** filer. Frem til nå har vi vært gjennom mye som krever logisk resonnering, som løkker og logikk. Filbehandling derimot **er veldig metodisk**. Det vil si at man terper på *metoden* som brukes for å lese og skrive til fil, men ellers er logikken mye av det samme som vi har lært om lister og løkker. \n",
    "\n",
    "Vi kommer til å bruke **.txt**-filer (tekstfiler) i dette kompendiet. I tekstfiler skrives og leses all data som strenger. Det vil si at dersom man for eksempel leser numerisk data fra en fil så må denne konverteres fra streng til numerisk datatype.\n",
    "\n",
    "&nbsp;\n",
    "\n",
    "### 3.1 Hvordan ser en fil ut? \n",
    "Under ser vi en visualisering av en fil som inneholder heltall. Illustrasjonen til venstre viser hvordan en fil ser ut dersom den *printes ut* til konsollen (brukeren), mens illustrasjonen til høyre viser hvordan filen faktisk ser ut i form av hva slags tegn den inneholder.\n",
    "\n",
    "\n",
    "<img src=\"bilder/fil_utseende.png\" style=\"height: 220px; \"/>\n",
    "\n",
    "Som man kan se så inneholder filen \\n etter hvert tall. Dette tegnet representerer linjeskift. Det finnes flere slike tegn som man må håndtere når man jobber med filer. \n",
    "\n",
    "Ofte skal man hente ut innholdet i en fil og bruke det til noe nyttig. For eksempel kan illustrasjonen over representere poeng i et kortspill. Hvis man skal kunne ta inn disse og regne gjennomsnittssum må man først fjerne tegnene vi ikke trenger for deretter å splitte strengen på hvert linjeskift. Vi skal lære mer om hvordan vi kan gjøre dette under. \n",
    "\n",
    "&nbsp;\n",
    "\n",
    "### 3.2 Sti / path \n",
    "En fil er lagret på en spesifikk plass i minnet som vi kan aksesseres ved å referere til dens *sti* (path). Dette kjenner du nok delvis til, som f.eks. filene du har lagret på skrivebordet ditt eller i dokumenter på datamaskinen. Et eksempel på hvordan en sti kan se ut er gitt under\n",
    "\n",
    "        /Users/vildearntzen/Desktop/ITGK/min_notebook.ipynb\n",
    "            \n",
    "Enhver datamaskin vil ha ulike stier basert på brukernavn og mappestrukturen. For å slippe å forholde seg til stier kan man ha filene man jobber med i samme mappe som filen man koder i. Da trenger man kun å referere til filnavnet på følgende måte \n",
    "\n",
    "                      notebook.ipynb\n",
    "\n",
    "\n",
    "**Merk at i denne notebooken så antar vi at filene ligger i *samme* mappe som notebooken/filen vi koder programmet vårt i.** \n",
    "\n",
    "&nbsp;\n",
    "\n",
    "### 3.3 Moduser for filbehandling\n",
    "Det er tre spesielle **moduser** for filbehandling som vi skal bruke. Disse tre er:\n",
    "\n",
    "<img src=\"bilder/moduser.png\" style=\"height: 220px; \"/>\n",
    "\n",
    "For å jobbe med filer må man åpne dem. Det er to syntakser for å gjøre dette. Den første er:\n",
    "\n",
    "\n",
    "                   file = open(filename, modus)\n",
    "                   <gjør det du skal med filen>\n",
    "                   file.close() \n",
    "        \n",
    "        \n",
    "Med denne formen må man huske å lukke filen ved bruk av `file.close()`-funksjonen. Dette er blant annet fordi at å holde filer åpne i kortiddsminnet er kostbart for datamaskinen din. Den andre formen som brukes for å åpne filer er vist under. \n",
    "\n",
    "                with open(filename, modus) as file:\n",
    "                    <gjør det du skal med filen>\n",
    "\n",
    "Når man bruker denne formen må man huske å skrive all kode som refererer til filen innenfor innrykk. Fordelen med denne metoden er at den automatisk lukker filen, og at man derfor ikke trenger å huske på dette selv. \n",
    "\n",
    "Det har ikke noe å si hvilken metode man velger, så lenge man bruker metoden på riktig måte. \n",
    "\n",
    "&nbsp;"
   ]
  },
  {
   "cell_type": "markdown",
   "metadata": {},
   "source": [
    "### `read` \n",
    "\n",
    "Hvis vi ønsker å hente data fra en fil og inn i programmet vårt kan vi lese fra filen. Modusen for å lese fra fil er *alltid* `r` som står for read. Under åpner vi filen `eksempel_fil.txt` som ligger i samme mappe som notebooken vi koder i, i **lesemodus**."
   ]
  },
  {
   "cell_type": "code",
   "execution_count": null,
   "metadata": {},
   "outputs": [],
   "source": [
    "min_fil = open(\"eksempel_fil.txt\", \"r\")"
   ]
  },
  {
   "cell_type": "markdown",
   "metadata": {},
   "source": [
    "Nå som filen er åpen kan vi hente ut data fra den. Dette kan også gjøres på flere måter, men det er vanlig å bruke `read()` eller `readlines()` som vi skal se på under."
   ]
  },
  {
   "cell_type": "code",
   "execution_count": null,
   "metadata": {},
   "outputs": [],
   "source": [
    "min_fil.read()"
   ]
  },
  {
   "cell_type": "code",
   "execution_count": null,
   "metadata": {},
   "outputs": [],
   "source": [
    "min_fil.close() # husk å lukke filen når vi bruker denne syntaksen!"
   ]
  },
  {
   "cell_type": "markdown",
   "metadata": {},
   "source": [
    "Som vi ser lar `read()`-funksjonen oss lese hele filen inn i en enkelt tekststreng. I enkelte tilfeller er det fint, men noen ganger ønsker vi også å hente ut hver enkelt linje i filen som en egen enhet. Det kan gjøres med `readlines()`-funksjonen:"
   ]
  },
  {
   "cell_type": "code",
   "execution_count": null,
   "metadata": {},
   "outputs": [],
   "source": [
    "with open(\"eksempel_fil.txt\", \"r\") as min_fil: # vi kunne brukt samme syntaks som over for å åpne/lukke fil, men valgte å bruke denne for å demonstrere at begge fungerer fint\n",
    "    linjer = min_fil.readlines()\n",
    "\n",
    "linjer"
   ]
  },
  {
   "cell_type": "markdown",
   "metadata": {},
   "source": [
    "Som vi ser så returnerer `readlines()` en liste med alle linjene i filen som hver sin separate streng. Merk at linjeskift automatisk blir med på slutten av strengen.\n",
    "\n",
    "Nå som vi har hentet ut hver linje i filen, kan vi benytte oss av konseptene vi tidligere har lært til å behandle den. For eksempel kan vi iterere gjennom hver linje i filen ved hjelp av en for-løkke som gjort under."
   ]
  },
  {
   "cell_type": "code",
   "execution_count": null,
   "metadata": {},
   "outputs": [],
   "source": [
    "for line in linjer:\n",
    "    print(line)"
   ]
  },
  {
   "cell_type": "markdown",
   "metadata": {},
   "source": [
    "Merk at når vi printer en streng med linjeskift i til konsollen vil ikke \\n vises, men det vil printes en ny linje. \n",
    "\n",
    "&nbsp;"
   ]
  },
  {
   "cell_type": "markdown",
   "metadata": {},
   "source": [
    "### `write`\n",
    "**Write**-modusen er en av to moduser som lar oss skrive til fil. Write skrives som en `w` og brukes i følgende scenarier:\n",
    "* Du har en fil som eksisterer fra før og ønsker **å skrive over dens tidligere innhold** med noe nytt.\n",
    "* Du har ingen fil og må opprette en fil selv som du deretter ønsker å skrive til (her kan både write og append brukes)\n",
    "\n",
    "I kodeblokken under oppretter vi filen `skrive_eksempel.txt`. Den lagres på samme sted som notebooken ligger. "
   ]
  },
  {
   "cell_type": "code",
   "execution_count": null,
   "metadata": {},
   "outputs": [],
   "source": [
    "skrive_fil = open(\"skrive_eksempel.txt\",\"w\")"
   ]
  },
  {
   "cell_type": "markdown",
   "metadata": {},
   "source": [
    "Under skriver vi 10 linjer til filen hvor det står `Dette er linje i` for hver linje 1-10, ved bruk av `.write()`-funksjonen."
   ]
  },
  {
   "cell_type": "code",
   "execution_count": null,
   "metadata": {},
   "outputs": [],
   "source": [
    "for i in range(1,11):\n",
    "     skrive_fil.write(\"Dette er linje \" + str(i) + \"\\n\") # legger til \\n for å markere at det skal være linjeskift på slutten av hver iterasjon"
   ]
  },
  {
   "cell_type": "markdown",
   "metadata": {},
   "source": [
    "Når vi er ferdig med å gjøre det vi skal lukker vi filen."
   ]
  },
  {
   "cell_type": "code",
   "execution_count": null,
   "metadata": {},
   "outputs": [],
   "source": [
    "skrive_fil.close()"
   ]
  },
  {
   "cell_type": "markdown",
   "metadata": {},
   "source": [
    "For å se om handlingen over var vellykket forsøker vi å lese fra filen ved bruk av `.read()`-funksjonen. Siden vi har lukket filen må vi åpne den på nytt. "
   ]
  },
  {
   "cell_type": "code",
   "execution_count": null,
   "metadata": {},
   "outputs": [],
   "source": [
    "skrive_fil = open(\"skrive_eksempel.txt\", \"r\")\n",
    "innhold = skrive_fil.read()\n",
    "skrive_fil.close() \n",
    "\n",
    "innhold"
   ]
  },
  {
   "cell_type": "markdown",
   "metadata": {},
   "source": [
    "Over ser vi den rå tekststrengen. Hvis vi printer denne ser det slik ut:"
   ]
  },
  {
   "cell_type": "code",
   "execution_count": null,
   "metadata": {},
   "outputs": [],
   "source": [
    "print(innhold)"
   ]
  },
  {
   "cell_type": "markdown",
   "metadata": {},
   "source": [
    "Dermed ser vi at operasjonen var vellykket og vi har klart å skrive flere linjer til fil! Merk at hvis du kjører samme kode om igjen, så vil de nye linjene *ikke* legges til på slutten av de gamle, men de vil overskrive de gamle og lage en identisk fil. Under skal vi se nærmere på hvordan vi kan legge til flere linjer i filen. "
   ]
  },
  {
   "cell_type": "markdown",
   "metadata": {},
   "source": [
    "&nbsp;"
   ]
  },
  {
   "cell_type": "markdown",
   "metadata": {},
   "source": [
    "### `append`\n",
    "**Append** er en annen modus for å skrive til fil og skrives som `a`. Append brukes i følgende scenarier:\n",
    "* Du har en fil som eksisterer fra før og ønsker å **legge til nytt innhold på slutten av filen uten å overskrive tidligere innhold.**\n",
    "* Du har ingen fil og må opprette en fil selv som du deretter ønsker å skrive til (her kan både write og append brukes)\n",
    "\n",
    "Vi ønsker å legge til fem linjer til i filen i forrige eksempel. De skal være identiske men ha nummer 11-15. Dette kan vi bruke append-modus til som følgende. "
   ]
  },
  {
   "cell_type": "code",
   "execution_count": null,
   "metadata": {},
   "outputs": [],
   "source": [
    "append_fil = open(\"skrive_eksempel.txt\", \"a\")\n",
    "\n",
    "for i in range(11,16):\n",
    "     append_fil.write(\"Dette er linje \" + str(i) + \"\\n\") "
   ]
  },
  {
   "cell_type": "markdown",
   "metadata": {},
   "source": [
    "Merk at dersom du kjører kodeblokken over flere ganger så vil den fortsette å legge til linje 11-15 flere ganger etter hverandre fordi vi er i append-modus. Under leser vi fra filen for å se om handlingen var vellykket. "
   ]
  },
  {
   "cell_type": "code",
   "execution_count": null,
   "metadata": {},
   "outputs": [],
   "source": [
    "append_fil = open(\"skrive_eksempel.txt\", \"r\")\n",
    "innhold = append_fil.read()\n",
    "skrive_fil.close() \n",
    "\n",
    "innhold"
   ]
  },
  {
   "cell_type": "code",
   "execution_count": null,
   "metadata": {},
   "outputs": [],
   "source": [
    "print(innhold)"
   ]
  },
  {
   "cell_type": "markdown",
   "metadata": {},
   "source": [
    "Som vi ser er det nå lagt til fem linjer til i filen vår."
   ]
  },
  {
   "cell_type": "markdown",
   "metadata": {},
   "source": [
    "&nbsp;"
   ]
  },
  {
   "cell_type": "markdown",
   "metadata": {},
   "source": [
    "## 3.4 Funksjoner for filbehandling\n",
    "\n",
    "<img src=\"bilder/fil_funksjoner.png\" style=\"height: 260px; \"/>"
   ]
  },
  {
   "cell_type": "markdown",
   "metadata": {},
   "source": [
    "&nbsp;"
   ]
  },
  {
   "cell_type": "markdown",
   "metadata": {},
   "source": [
    "## 3.5 Oppgaver: Filbehandling\n",
    "Test om du har forstått *filbehandling* i Python ved å løse oppgavene under. "
   ]
  },
  {
   "cell_type": "markdown",
   "metadata": {},
   "source": [
    "**Oppgave 1: Introduksjon til filbehandling**\n",
    "\n",
    "**a)** Skriv en funksjon `produce_number_file` som tar inn inputparameterne:\n",
    "\n",
    "* `filename`: et filnavn\n",
    "* `a`: et tall\n",
    "* `b`: et tall\n",
    "\n",
    "Programmet skal opprette en fil med navn filnavn og skrive 100 tilfeldige tall mellom a og b, med linjeskift mellom til filen. Dersom a er lik eller større enn b skal det skrives ut en melding til skjermen som sier at b må være større enn a. "
   ]
  },
  {
   "cell_type": "code",
   "execution_count": null,
   "metadata": {},
   "outputs": [],
   "source": []
  },
  {
   "cell_type": "markdown",
   "metadata": {},
   "source": [
    "**b)** Skriv en funksjon `add_to_number_file` som tar inn inputparameterne:\n",
    "* `filename`: et filnavn\n",
    "* `a`: et tall\n",
    "* `b`: et tall\n",
    "\n",
    "Funksjonen skal ha samme funksjonalitet som i a), men hvis filen eksisterer fra før av så skal tallene legges til på slutten av filen og ikke skrive over det som er der fra før av. "
   ]
  },
  {
   "cell_type": "code",
   "execution_count": null,
   "metadata": {},
   "outputs": [],
   "source": []
  },
  {
   "cell_type": "markdown",
   "metadata": {},
   "source": [
    "**c)** Skriv en funksjon `read_file`som tar inn inputparameterne: \n",
    "* `filename`: et filnavn\n",
    "* `a`: et tall\n",
    "* `b`: et tall\n",
    "\n",
    "Funksjonen skal lese innholdet fra read_file og printe ut linjene fra og med `a` til (men ikke med) `b` med en linje med `------------` mellom hver linje som printes ut. \n",
    "\n",
    "*Ekstraoppgave: midtstill alle linjene som printes ved bruk av streng-formattering.*\n"
   ]
  },
  {
   "cell_type": "code",
   "execution_count": null,
   "metadata": {},
   "outputs": [],
   "source": []
  },
  {
   "cell_type": "markdown",
   "metadata": {},
   "source": [
    "Hvis du ønsker å sjekke om funksjonen din fungerer kan du forsøke å lese noen linjer fra filen du opprettet i oppgave a)."
   ]
  },
  {
   "cell_type": "markdown",
   "metadata": {},
   "source": [
    "**Oppgave 2: Eksamen kont 2017 Oppgave 2**\n",
    "\n",
    "Du kan anta at alle funksjonene mottar gyldige argumenter (inn-verdier). Du kan benytte deg av funksjoner fra deloppgaver selv om du ikke har løst deloppgaven.\n",
    "\n",
    "I denne oppgaven skal du lage et program for å sammenlikne priser på utvalgte varer fra forskjellige butikker. Utgangspunktet for denne sammenlikningen er ei tekstfil der hver linje består av tre elementer adskilt med tabulator (”`\\t`”): Navn på butikkjede, Navn på vare, og Pris (se tekstboks). Merk at en slik tekst fil kan ha varierende antall butikkjeder, samt varierende antall varer som sammenliknes.\n",
    "\n",
    "(De oppgitte prisene er fiktive og ikke reelle priser fra de oppgitte butikkjedene.)\n",
    "\n",
    "`pricewar.txt`:\n",
    "\n",
    "<img src=\"bilder/pricewar_txt.png\" style=\"height: 290px; \"/>\n"
   ]
  },
  {
   "cell_type": "markdown",
   "metadata": {},
   "source": [
    "**2a)** Skriv funksjonen file_to_list som har en inputparameter filename. Denne funksjonen skal lese inn en tekstfil filename og returnere en tabell (liste av lister), der hver rekke inneholder navn på butikkjede, navn på vare, og pris på vare. Merk at pris på vare skal representeres som et flyttall (float).\n",
    "\n",
    "\n",
    "Eksempel på kall av funksjon med filen ’pricewar.txt’:\n",
    "\n",
    "<img src=\"bilder/eksamen_k17_5a.png\" style=\"height: 150px; \"/>\n"
   ]
  },
  {
   "cell_type": "code",
   "execution_count": null,
   "metadata": {},
   "outputs": [],
   "source": []
  },
  {
   "cell_type": "markdown",
   "metadata": {},
   "source": [
    "**2b)** Skriv funksjonen list_stores som har dataList som input-parameter. dataList er en tabell (liste av lister) lik den som blir returnert fra funksjonen file_to_list i Oppgave 2a. Funksjonen skal returnere en komplett liste av butikkjeder den finner i tabellen dataList. Hver butikkjede skal kun ha ett innslag i lista. Merk også at man aldri vet hvilke butikkjeder som lista vil inneholde. Rekkefølgen på butikkjedene skal samsvare med rekkefølgen de kommer i tabellen dataList.\n",
    "\n",
    "Eksempel på kall av funksjon med filen ’pricewar.txt’:\n",
    "\n",
    "<img src=\"bilder/eksamen_k17_5b.png\" style=\"height: 90px; \"/>"
   ]
  },
  {
   "cell_type": "code",
   "execution_count": null,
   "metadata": {},
   "outputs": [],
   "source": []
  },
  {
   "cell_type": "markdown",
   "metadata": {},
   "source": [
    "**Oppgave 3: Eksamen Høst 2017 Oppgave 3**"
   ]
  },
  {
   "cell_type": "markdown",
   "metadata": {},
   "source": [
    "\n",
    "<img src=\"bilder/eksamen_17_3.png\" style=\"height: 800px; \"/>"
   ]
  },
  {
   "cell_type": "code",
   "execution_count": null,
   "metadata": {},
   "outputs": [],
   "source": []
  },
  {
   "cell_type": "markdown",
   "metadata": {},
   "source": [
    "**Oppgave 4: Eksamen Kont 2019 Oppgave 5 a**\n",
    "\n",
    "Programmeringsoppgaven tar utgangspunkt i oppskrifter. Et sett med ingredienser til oppskrifter skal leses inn fra fil. Deretter skal du lage funksjoner for å finne oppskrifter med gitte ingredienser, og komme med forslag til en tilfeldig rett som inneholder disse. Et sett med navn på matretter og tilhørende ingredienser befinner seg i filen food.txt. Den har følgene struktur: (Det er ikke et ekstra linjeskift mellom hver rett.)\n",
    "\n",
    "`food.txt`:\n",
    "\n",
    "<img src=\"bilder/food_txt.png\" style=\"height: 200px; \"/>\n",
    "\n",
    "\n",
    "Skriv funksjonen read_file(filename) som skal lese inn en fil, og returnere en liste. Hver linje i filen blir ett element i denne listen, slik som i eksempelet under:\n",
    "\n",
    "<img src=\"bilder/eksamen_k19_3.png\" style=\"height: 130px; \"/>"
   ]
  },
  {
   "cell_type": "code",
   "execution_count": null,
   "metadata": {},
   "outputs": [],
   "source": []
  },
  {
   "cell_type": "markdown",
   "metadata": {},
   "source": [
    "&nbsp;"
   ]
  },
  {
   "cell_type": "markdown",
   "metadata": {},
   "source": [
    "## 4 Feilhåndtering\n",
    "I kompendium 1 så vi nærmere på feilmeldinger og i hvilke situasjioner disse kan oppstå. Her skal vi se på hvordan vi kan *håndtere* disse uten at programmet vårt stopper. \n",
    "\n",
    "<img src=\"bilder/error.png\" style=\"height: 180px; \"/>\n",
    "\n",
    "Under er det gitt et eksempel på kode som fører til at programmet vårt krasjer"
   ]
  },
  {
   "cell_type": "code",
   "execution_count": null,
   "metadata": {},
   "outputs": [],
   "source": [
    "10*( 1/ 0)"
   ]
  },
  {
   "cell_type": "markdown",
   "metadata": {},
   "source": [
    "&nbsp;"
   ]
  },
  {
   "cell_type": "markdown",
   "metadata": {},
   "source": [
    "## 4.1 Try - Except\n",
    "Feilmeldinger oppstår i mange ulike tilfeller, som for eksempel hvis du forsøker å lese fra en fil som ikke eksisterer. \n",
    "\n",
    "Dette kan vi løse ved å legge inn en try-except-blokk. Hvis det da oppstår en feilmelding vil koden hoppe rett videre til koden som står i except-blokken. Syntaksen til en try-except blokk er som følgende: \n",
    "\n",
    "          try:\n",
    "              <kode du vil prøve, men ikke vet om fungerer>\n",
    "          except:\n",
    "              <kode som skal kjøre hvis koden i try-blokken feiler>\n",
    "\n",
    "På samme måte som med if-setninger og løkker, er også try-except innrykkssensitivt. Det vil si at det som skrives i try- og except-blokkene må skrives innenfor et inntrykk. Det som kommer utenfor innrykket etter try-except vil kjøres uavhengig av hvilken av blokkene som kjøres.\n",
    "\n",
    "**Eksempel**\n",
    "\n",
    "Under er det lagt inn et eksempel på en try-except-blokk som forsøker å åpne og lese fra en fil som ikke eksisterer.\n"
   ]
  },
  {
   "cell_type": "code",
   "execution_count": null,
   "metadata": {},
   "outputs": [],
   "source": [
    "try:\n",
    "    fil = open(\"non_existing_file.txt\", \"r\")\n",
    "    innhold = fil.readlines() \n",
    "    fil.close()\n",
    "    \n",
    "    print(innhold)\n",
    "except: \n",
    "    print(\"Filen eksisterer ikke.\")\n",
    "\n",
    "print(\"Dette er kode som kjører uansett om try-blokken kjører eller ikke.\")"
   ]
  },
  {
   "cell_type": "markdown",
   "metadata": {},
   "source": [
    "Som vi ser så stopper ikke programmet selv om filen ikke eksisterer, men kjører heller innholdet i except-blokken. Den siste print-setningen er utenfor try-except-blokken og kjøres uansett om filen eksisterer eller ikke"
   ]
  },
  {
   "cell_type": "markdown",
   "metadata": {},
   "source": [
    "&nbsp;"
   ]
  },
  {
   "cell_type": "markdown",
   "metadata": {},
   "source": [
    "## 4.2 Oppgaver: feilhåndtering \n",
    "\n",
    "\n",
    "**Oppgave 5: Implementer feilhåndtering for filhåndtering**\n",
    "\n",
    "I denne oppgaven skal du gå inn i koden du skrev i oppgavene om filbehandling i seksjon 3 og legge inn feilhåndtering der det gir mening. Hvis du er usikker på når det gir mening - tenk gjennom hvilke situasjoner det kan oppstå en feil når du håndterer filer. Du kan også google dette. \n",
    "\n",
    "&nbsp;\n",
    "\n",
    "\n"
   ]
  },
  {
   "cell_type": "markdown",
   "metadata": {},
   "source": [
    "**Oppgave 6: Implementer feilhåndtering for tall-input**\n",
    "\n",
    "Så langt i kompendiumene har vi som regel brukt ```int(input)``` e.l. for å lese input fra bruker i programmene våre. Da kan det noen ganger oppstå et problem dersom bruker skriver inn noe annet enn tall, som igjen fører til at programmet krasjer. \n",
    "\n",
    "I denne oppgaven skal du lage en funksjon som spør bruker om et heltall, og spør igjen dersom brukeren ikke skriver inn et heltall. Når brukeren har skrevet inn et heltall, skal funksjonen **skrive ut** tallet. \n",
    "\n",
    "*Hint: `str.isnumeric()` sjekker om en streng kun inneholder tall*\n"
   ]
  },
  {
   "cell_type": "code",
   "execution_count": null,
   "metadata": {},
   "outputs": [],
   "source": []
  },
  {
   "cell_type": "markdown",
   "metadata": {},
   "source": [
    "**Oppgave 7: Ingredienser (Hentet fra eksamen Kont2019)**\n",
    "\n",
    "I denne oppgaven skal du bruke en dictionary som stammer fra en tidligere deloppgave i denne eksamensoppgaven. For enkelhets skyld får du denne utdelt i kodeblokken under. \n",
    "\n",
    "Funksjonen ```print_recipe()``` skal ta inn denne dictionaryen samt en matrett (streng), og skrive ut informasjon om hvor mange ingredienser retten inneholder og hva disse er. \n",
    "\n",
    "Funksjonen tar inn parameterne: \n",
    "\n",
    "* ```food_dict``` (dictionary)\n",
    "* ```rett``` (streng)\n",
    "\n",
    "Her er et eksempel på kjøring:\n",
    "\n",
    "    >>> print_recipe(food_dict, \"pannekaker\")\n",
    "        pannekaker har 4 ingredienser: egg, mel, salt, melk\n",
    "    >>> print_recipe(food_dict, \"spaghetti\")\n",
    "        Det er ingen rett som heter spaghetti\n",
    "\n",
    "Legg merke til at listen over ingredienser skal skrives ut på en fin måte."
   ]
  },
  {
   "cell_type": "code",
   "execution_count": null,
   "metadata": {},
   "outputs": [],
   "source": [
    "# Dette er dictionaryen du skal bruke\n",
    "\n",
    "food_dict = {'pannekaker': ['egg', 'mel', 'salt', 'melk'],\n",
    "             'grandiosa': ['grandiosa'],\n",
    "             'paprikasaus': ['sjalottløk', 'hvitløk', 'olje', 'buljong', 'smør', 'salt', 'pepper'],\n",
    "             'omelett': ['egg', 'vann', 'salt', 'smør', 'skinke', 'hvitost', 'paprika']}"
   ]
  },
  {
   "cell_type": "code",
   "execution_count": null,
   "metadata": {},
   "outputs": [],
   "source": []
  }
 ],
 "metadata": {
  "kernelspec": {
   "display_name": "Python 3",
   "language": "python",
   "name": "python3"
  },
  "language_info": {
   "codemirror_mode": {
    "name": "ipython",
    "version": 3
   },
   "file_extension": ".py",
   "mimetype": "text/x-python",
   "name": "python",
   "nbconvert_exporter": "python",
   "pygments_lexer": "ipython3",
   "version": "3.9.0"
  }
 },
 "nbformat": 4,
 "nbformat_minor": 4
}
