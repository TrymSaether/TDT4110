{
 "cells": [
  {
   "cell_type": "markdown",
   "metadata": {},
   "source": [
    "# Del 4: Kompendium ITGK \n",
    "**Dette kompendiet går gjennom hvordan man kan programmere egne funksjoner i Python.**"
   ]
  },
  {
   "cell_type": "markdown",
   "metadata": {},
   "source": [
    "## 1 Introduksjon"
   ]
  },
  {
   "cell_type": "markdown",
   "metadata": {},
   "source": [
    "Dette kompendiet er laget av Vilde Roland Arntzen og Miriam Størseth Lillebo sommeren 2021. Kompendiet skal fungere som en ekstraressurs ved siden av annet fagmateriell som bøker, øvinger, forelesninger og øvingsforelesninger. Kompendiet tar utgangspunkt i pensumplisten for  programmeringsdelen av TDT4110 høsten 2020, og kombinerer forklaring av konsepter og relevante oppgaver."
   ]
  },
  {
   "cell_type": "markdown",
   "metadata": {},
   "source": [
    "<img src=\"bilder/intro.png\" style=\"height: 160px; \"/>"
   ]
  },
  {
   "cell_type": "markdown",
   "metadata": {},
   "source": [
    "&nbsp;"
   ]
  },
  {
   "cell_type": "markdown",
   "metadata": {},
   "source": [
    "## 2 Innhold"
   ]
  },
  {
   "cell_type": "markdown",
   "metadata": {},
   "source": [
    "Kompendiet består av 6 notebooks som tar for seg ulike deler av pensum. Denne notebooken er nummer 4 av 6. Vi har forsøkt å bygge opp notebookene slik at de først gir en introduksjon til temaet med nyttige eksempler og deretter gir noen oppgaver som du kan ha nytte av å løse selv. Dette inkluderer oppgaver vi har laget selv som vi mener er relevante, og tidligere eksamensoppgaver. "
   ]
  },
  {
   "cell_type": "markdown",
   "metadata": {},
   "source": [
    "1. Introduksjon til Python og kalkulasjoner\n",
    "2. Boolske operatorer, innebygde funksjoner i Python og moduler\n",
    "3. Løkker\n",
    "4. **Selvprogrammerte funksjoner**\n",
    "5. Lister, tupler, strenger, og dictionaries og sett \n",
    "6. Filbehandling og feilhåndtering"
   ]
  },
  {
   "cell_type": "markdown",
   "metadata": {},
   "source": [
    "&nbsp;"
   ]
  },
  {
   "cell_type": "markdown",
   "metadata": {},
   "source": [
    "## 3 Funksjoner"
   ]
  },
  {
   "cell_type": "markdown",
   "metadata": {},
   "source": [
    "Frem til nå har vi lært en del grunnleggende byggesteiner innen programmering. Fra nå av skal vi begynne å koble ting sammen for å løse større og mer spennende oppgaver. "
   ]
  },
  {
   "cell_type": "markdown",
   "metadata": {},
   "source": [
    "### 3.1 Hva er en funksjon?"
   ]
  },
  {
   "cell_type": "markdown",
   "metadata": {},
   "source": [
    "En funksjon er helt enkelt en kodeblokk som bare kjører når vi ber den om å kjøre. Kodeblokken eksisterer i et program med den hensikt å gjøre en spesifikk oppgave, og det kalles en funksjon fordi det som regel **har** en funksjon - *den gjør noe for oss!*\n",
    "\n",
    "&nbsp;\n",
    "\n",
    "<img src=\"bilder/syntaks_clean.png\" style=\"height: 220px; \"/>\n",
    "\n",
    "&nbsp;\n",
    "\n",
    "Ved å lage en funksjon så definerer vi på et vis et nytt ord eller en kommando som vi kan bruke i koden vår. Dette er ofte fornuftig fordi de fleste programmer er så store at det har en hensikt å dele de opp i mindre deloppgaver - funksjoner! Denne måten å dele opp programmer på gir mange fordeler som vi skal komme tilbake til, men først må vi se på skillet mellom innebygde og selvskrevne funksjoner."
   ]
  },
  {
   "cell_type": "markdown",
   "metadata": {},
   "source": [
    "**Black-box** og **white-box**  (innebygde og selvskrevne)\n",
    "\n",
    "I de tidligere kompendiumene har vi brukt mange innebygde funksjoner. Disse kalles ofte for **black-box**-funksjoner. Dette er funksjoner der vi ikke alltid vet hvordan de er bygd opp og logikken bak, kun hvilken funksjonalitet de tilbyr. Eksempler på slike funksjoner er:  \n",
    "1. print()\n",
    "2. input()\n",
    "3. len()\n",
    "\n",
    "\n",
    "**White-box**-funksjoner er derimot funksjoner som vi skriver selv og som vi bestemmer hvordan skal fungere. Fordi vi selv skriver koden og logikken fir disse vet vi både hvordan de er bygd opp og hvordan de fungerer. En slik funksjon fungerer stort sett på samme måte som i matematikk, der vi tar inn en variabel, gjør noe med den og returnerer et resultat.\n",
    "\n",
    "\n",
    "Innebygde og selvkodede funksjoner har til felles at de kan ta inn et eller flere **input**, utføre en **funksjon** på inputen og returnere dette som en **output**.\n",
    "\n",
    "&nbsp;\n"
   ]
  },
  {
   "cell_type": "markdown",
   "metadata": {},
   "source": [
    "<img src=\"bilder/mattefunksjon.png\" style=\"height: 200px; \"/>"
   ]
  },
  {
   "cell_type": "markdown",
   "metadata": {},
   "source": [
    "&nbsp;"
   ]
  },
  {
   "cell_type": "markdown",
   "metadata": {},
   "source": [
    "I bunn og grunn fungerer en funksjon på den måten at man gir inn en input, også gjør funksjonen noe med denne inputen, før en output returneres. De følgende illustrasjonene viser hvordan dette henger sammen.\n",
    "\n",
    "&nbsp;\n",
    "\n",
    "<img src=\"bilder/visualisering_enkel.png\" style=\"height: 100px; \"/> \n",
    "\n",
    "&nbsp;\n",
    "\n",
    "Disse illustrasjonene viser hvorfor funksjoner kan kalles for bokser. Man gir inn noe og får ut noe annet avhengig av hvordan funksjonen er definert. Bildet under viser et litt mer utfyllende eksempel på hvordan en funksjon fungerer:\n",
    "\n",
    "&nbsp;\n",
    "\n",
    "<img src=\"bilder/visualisering.png\" style=\"height: 200px; \"/>\n",
    "\n",
    "&nbsp;\n",
    "\n",
    "Her gir man inn en stor mengde dyr (```input```) inn til en funksjon som skal plukke ut kun *unike* dyr. ```output``` blir derfor kun en av hver av de unike dyrene fra hele dyremengden.\n",
    "\n",
    "&nbsp;\n",
    "\n",
    "\n",
    "### NB: Input  er ikke det samme som `input()`-funksjonen\n",
    "Merk at **input i en funksjon IKKE er det samme som `input()`-funksjonen i Python!** Input i en funksjon er et *argument* – en verdi – som funksjonen tar inn for å bruke og *ikke* et kall for å hente inn noe fra bruker som `input()`-funksjonen gjør. Fordelen med å ta inn et input i funksjonen er at koden kan gjenbrukes for ulike type inputverdier. For eksempel hvis vi ønsker å plotte funksjonen $f(x) = x^2$ kan vi gjøre dette for x=1, x=2 osv.\n"
   ]
  },
  {
   "cell_type": "markdown",
   "metadata": {},
   "source": [
    "&nbsp;"
   ]
  },
  {
   "cell_type": "markdown",
   "metadata": {},
   "source": [
    "### 3.2 Fordeler med å bruke funksjoner"
   ]
  },
  {
   "cell_type": "markdown",
   "metadata": {},
   "source": [
    "Som nevnt finnes det mange fordeler ved å bruke funksjoner i programmene sine. Et lite utvalg av disse fordelene finner du under:\n",
    "\n",
    "1. **Gjenbruk**  \n",
    "Funksjoner gjør at vi ikke trenger å skrive samme kode flere ganger, og lar oss gjenbruke kode. Det betyr at vi kan definere funksjonen en gang, og kjøre den når vi vil og så mange ganger vi vil.\n",
    "   \n",
    "    \n",
    "2. **Delproblemer**  \n",
    "Funksjoner er en god måte å dele opp problemer i mindre delproblemer, noe vi ofte har bruk for i store og komplekse programmer.\n",
    "\n",
    "\n",
    "3. **Ryddig kode**.  \n",
    "Funksjoner gjør koden lettere å lese, og koden blir mer oversiktlig. De lar oss også gruppere kode slik at det skal bli lettere å forstå hva som foregår.\n",
    "\n",
    "\n",
    "4. **Gjenta oppgaver for ulike verdier**   \n",
    "Funksjoner lar oss motta verdier slik at de kan gjøre samme oppgave på forskjellige verdier. \n",
    "\n",
    "\n",
    "5. **Returnerer verdier**  \n",
    "Funksjoner kan returnere verdier slik at vi kan bruke dem i beregninger.\n",
    "\n",
    "\n",
    "6. **Flytte beregninger**   \n",
    "De lar oss flytte beregninger ut fra hovedprogrammet og inn i funksjoner.\n"
   ]
  },
  {
   "cell_type": "markdown",
   "metadata": {},
   "source": [
    "&nbsp;"
   ]
  },
  {
   "cell_type": "markdown",
   "metadata": {},
   "source": [
    "### 3.3 Syntaks: Hvordan lage en selvskreven funksjon?"
   ]
  },
  {
   "cell_type": "markdown",
   "metadata": {},
   "source": [
    "Vi må kunne syntaksen for å kunne lage og bruke selvskrevne funksjoner."
   ]
  },
  {
   "cell_type": "markdown",
   "metadata": {},
   "source": [
    "&nbsp;\n",
    "\n",
    "<img src=\"bilder/syntaks_forklart.png\" style=\"height: 250px; \"/>\n"
   ]
  },
  {
   "cell_type": "markdown",
   "metadata": {},
   "source": [
    "Den første linjen i en funksjon kalles **funksjonshodet**. Funksjonshodet deklarerer en funksjon ved å bruke den reserverte ordet ```def```. Deretter følger navnet på funksjonen, noe man kan velge selv. Parantesene markerer begynnelsen på ```input```-en til funksjonen, før funksjonshodet avsluttes med ```:```. Resten av koden er kodeblokken som tilhører funksjonen, før en ```return```definerer hva funksjonen skal gi som output. \n",
    "```:``` viser hvor selve kodeblokken begynner. Denne kodeblokken må også skrives med innrykk, på samme måte som for if-setninger og løkker, da innrykket viser hvilken kode som tilhører funksjonen. Syntaksen for funksjoner i Python er følgende:\n",
    "\n",
    "    def funksjon(input):\n",
    "        <kodeblokk som skal kjøres> \n",
    "        return output\n",
    "        \n",
    "**NB:** En funksjon behøver ikke å ha hverken parametere (input) eller return-setninger. For eksempel hvis man skal lage en funksjon som skal printe ut noe på en spesifikk måte (som f.eks. en tabell) til skjermen er det ikke gitt at man vil returnere en verdi som skal brukes senere. Syntaks for en slik funksjon vil da se slik ut:\n",
    "\n",
    "    def funksjon ():\n",
    "        <kodeblokk som skal kjøres>\n",
    "        \n",
    "\n",
    "Hvis man ikke spesifiserer en return så vil funksjonen automatisk returnere ```None``` som representerer \"ingen verdi\" i Python. `None` er ikke det samme som 0, `False`, eller en tom streng, men er en egen datatype (NoneType). Kun `None` representerer `None`.\n"
   ]
  },
  {
   "cell_type": "code",
   "execution_count": null,
   "metadata": {},
   "outputs": [],
   "source": [
    "# Eksempel på en enkel navne-funksjon med parameter og return\n",
    "\n",
    "def hent_navn(navn):\n",
    "    return \"Du heter \" + navn\n",
    "\n",
    "navn = hent_navn(\"Miriam\") # lagrer return-verdien i en variabel\n",
    "\n",
    "print(navn)"
   ]
  },
  {
   "cell_type": "code",
   "execution_count": null,
   "metadata": {},
   "outputs": [],
   "source": [
    "# Eksempel på en enkel navne-funksjon uten parameter og return\n",
    "\n",
    "def hent_navn():\n",
    "    navn = input(\"Hva heter du? \")\n",
    "    print(\"Du heter\", navn)\n",
    "    \n",
    "hent_navn() # kaller funksjonen\n",
    "\n",
    "# merk at det ikke gir mening å lagre hent_navn() i en variabel fordi den ikke returnerer noe\n",
    "    \n"
   ]
  },
  {
   "cell_type": "markdown",
   "metadata": {},
   "source": [
    "**Input: Argument og parameter**\n",
    "\n",
    "Det er ofte nyttig å sende med data til funksjoner når de kalles i form av ```input```. Dette gjøres ved argumenter og parametere.\n",
    "\n",
    "Et argument er data som blir matet en funksjon når en funksjon blir brukt.\n",
    "\n",
    "En parameter er variabelen som står skrevet i funksjonshodet. Denne mottar et argument som blir matet en funksjon når funksjonen blir tatt i bruk. En funksjon har vanligvis parametre fordi vi ønsker å bruke den flere ganger med forskjellige verdier. Funksjoner kan ha ingen eller mange parametere.\n",
    "\n",
    "En vanlig måte å sende over flere argumenter til en funksjon er å sende inn verdier i riktig rekkefølge i forhold til parameterne."
   ]
  },
  {
   "cell_type": "code",
   "execution_count": null,
   "metadata": {},
   "outputs": [],
   "source": [
    "#Eksempel: Argumenter og parameter\n",
    "\n",
    "def summere_to_tall(tall1, tall2): # tall1 og tall2 er parametere\n",
    "    return tall1 + tall2\n",
    "\n",
    "print(summere_to_tall(2,3)) # 2 og 3 er argumenter\n",
    "\n",
    "# Her vil argumentet 2 mates inn til parameteret tall1, mens argumentet 3 mates inn til parameteret tall2"
   ]
  },
  {
   "cell_type": "markdown",
   "metadata": {},
   "source": [
    "&nbsp;"
   ]
  },
  {
   "cell_type": "markdown",
   "metadata": {},
   "source": [
    "### 3.4 Hvordan bruke en funksjon du har laget?"
   ]
  },
  {
   "cell_type": "markdown",
   "metadata": {},
   "source": [
    "Som nevnt innledningsvis, så er en funksjon helt enkelt en kodeblokk som bare kjører når vi ber den om å kjøre. Derfor må vi også be den om å kjøre når vi trenger den! \n",
    "\n",
    "For å kjøre (bruke) en funksjon må man **kalle** funksjonen. Når en funksjon blir kalt, hopper programmet til funksjonen og utfører all koden i kodeblokka til funksjonen. \n",
    "\n",
    "Dette betyr at vi først må definere en funksjon, noe vi gjør eksempelet under. Prøv å kjøre koden som definerer funksjonen. Hva skjer?"
   ]
  },
  {
   "cell_type": "code",
   "execution_count": null,
   "metadata": {},
   "outputs": [],
   "source": [
    "# Definisjon av funksjon\n",
    "\n",
    "def beskjed():\n",
    "    print(\"Hei sann!\")\n",
    "    print(\"Denne funksjonen printer ut denne beskjeden!\")"
   ]
  },
  {
   "cell_type": "markdown",
   "metadata": {},
   "source": [
    "Kodelinjene i eksempelet over fører til at funksjonen ```beskjed()``` blir opprettet, men som du sikkert la merke til, så kjøres ingenting. Det er fordi funksjonen ikke ennå er kalt! Derfor trenger vi å kalle funksjonen for at den skal kjøre:"
   ]
  },
  {
   "cell_type": "code",
   "execution_count": null,
   "metadata": {},
   "outputs": [],
   "source": [
    "# Kall av funksjonen beskjed()\n",
    "beskjed()"
   ]
  },
  {
   "cell_type": "markdown",
   "metadata": {},
   "source": [
    "&nbsp;"
   ]
  },
  {
   "cell_type": "markdown",
   "metadata": {},
   "source": [
    "### 3.5 Forskjellen på ```print(x)``` og ```return x``` "
   ]
  },
  {
   "cell_type": "markdown",
   "metadata": {},
   "source": [
    "Som du kanskje har lagt merke til så kan man bruke både ```print``` og ```return``` i funksjoner. Her må man altså være litt obs på forskjellen! \n",
    "\n",
    "**```print```**  \n",
    "Brukes som regel til å opplyse bruker om noe. Når man bruker print i funksjonen, så vil den printe av seg selv når den kalles. Dersom man bruker ```print``` i funksjonen sin, så kan man *ikke* gjenbruke verdiene i funksjonen senere. Etter verdiene er printet så forsvinner de, som betyr at vi altså ikke kan fange opp resultatet som printes til å bruke utenfor funksjonen.\n"
   ]
  },
  {
   "cell_type": "code",
   "execution_count": null,
   "metadata": {},
   "outputs": [],
   "source": [
    "# Eksempel 1 på print-funksjon\n",
    "\n",
    "def print_product(x, y):\n",
    "    z = x*y\n",
    "    print(z)\n",
    "\n",
    "print_product(3,5)"
   ]
  },
  {
   "cell_type": "code",
   "execution_count": null,
   "metadata": {},
   "outputs": [],
   "source": [
    "# Eksempel 2 på print-funksjon\n",
    "\n",
    "def print_adjektivfortelling(adjektiv1, adjektiv2):\n",
    "    print(\"Huset var\", adjektiv1, \"og hunden var\", adjektiv2)\n",
    "    \n",
    "print_adjektivfortelling(\"grønt\", \"søt\")"
   ]
  },
  {
   "cell_type": "markdown",
   "metadata": {},
   "source": [
    "Ved å forsøke å lagre et funksjonskall fra denne funksjonen i en variabel får vi følgende."
   ]
  },
  {
   "cell_type": "code",
   "execution_count": null,
   "metadata": {},
   "outputs": [],
   "source": [
    "variabel = print_adjektivfortelling(\"grønt\", \"søt\")\n",
    "\n",
    "print(variabel)"
   ]
  },
  {
   "cell_type": "markdown",
   "metadata": {},
   "source": [
    "variabel får verdien `None` fordi funksjonen `print_adjektivfortelling` ikke returnerer noe."
   ]
  },
  {
   "cell_type": "markdown",
   "metadata": {},
   "source": [
    "**```return```**  \n",
    "Gjør at funksjonen gir en eller flere verdier tilbake når den kalles. Disse returnverdiene kan lagres i variabler, noe som gjør at vi kan fange opp resultatet og bruke dette i programmet utenfor funksjonen. Når man bruker ```return``` vil ikke funksjonen printe noe av seg selv når den kalles, noe som gjør at programmet utenfor må printe resultatet ved behov. ```return``` stopper også en funksjon. \n"
   ]
  },
  {
   "cell_type": "code",
   "execution_count": null,
   "metadata": {},
   "outputs": [],
   "source": [
    "# Eksempel 1 på return-funksjon\n",
    "\n",
    "def find_product(x, y):\n",
    "    z = x*y\n",
    "    return z\n",
    "\n",
    "product = find_product(3,5)\n",
    "print(product)"
   ]
  },
  {
   "cell_type": "code",
   "execution_count": null,
   "metadata": {},
   "outputs": [],
   "source": [
    "# Eksempel 2 på return-funksjon\n",
    "\n",
    "def make_adjektivfortelling(adjektiv1, adjektiv2):\n",
    "    return \"Huset var \" + adjektiv1 + \" og hunden var \" + adjektiv2\n",
    "\n",
    "fortelling = make_adjektivfortelling(\"grønt\", \"søt\")\n",
    "print(fortelling)"
   ]
  },
  {
   "cell_type": "markdown",
   "metadata": {},
   "source": [
    "<img src=\"bilder/print_return.png\" style=\"height: 100px; \"/>\n",
    "\n",
    "Dette er et siste (og kanskje litt forvirrende poeng). Det betyr at man kan kombinere ```print``` og ```return``` i en funksjon dersom man har behov for det. Da er det viktig å huske at man må bruke ```print``` til å skrive ut beskjeder først, før man bruker ```return``` til å returnere en verdi/verdier, da ```return``` stanser funksjonen."
   ]
  },
  {
   "cell_type": "markdown",
   "metadata": {},
   "source": [
    "&nbsp;"
   ]
  },
  {
   "cell_type": "markdown",
   "metadata": {},
   "source": [
    "### 3.6 Lokale og globale variabler"
   ]
  },
  {
   "cell_type": "markdown",
   "metadata": {},
   "source": [
    "Når det kommer til funksjoner så må vi også skille mellom *lokale* og *globale* variabler. Dette fordi variabler som man definerer inne i funksjonen er ikke tilgjengelige i koden utenfor funksjonen, som vil si at variablene er \"out of scope\". \n",
    "\n",
    "**Lokale variabler** er variabler som opprettes internt i en funksjon og som ikke kan aksesseres fra kode utenfor funksjonen. Det at vi kaller det for lokale variabler indikerer at variabelen kun kan brukes lokalt inne i funksjonen. \n"
   ]
  },
  {
   "cell_type": "code",
   "execution_count": null,
   "metadata": {},
   "outputs": [],
   "source": [
    "# Eksempel: Lokal variabel\n",
    "\n",
    "def funk1(tall1):\n",
    "\ttall2 = 3 # tall2 er en lokal variabel\n",
    "\treturn tall1 + tall2\n",
    "\n",
    "print(funk1(2))\n"
   ]
  },
  {
   "cell_type": "markdown",
   "metadata": {},
   "source": [
    "**Merk:** Vi må passe på å skille lokale variabler fra de tidligere introduserte input-parameterne. Det er to forskjellige ting. Parametere er variabler som står skrevet i funksjonshodet, mens lokale variabler opprettes inni funksjonen."
   ]
  },
  {
   "cell_type": "markdown",
   "metadata": {},
   "source": [
    "**Globale variabler** betegner variabler som opprettes i koden utenfor funksjoner, og disse kan aksesseres av alle funksjoner og kodeblokker i en programfil (Python-fila der koden er lagret). En global variabel må altså opprettes utenom en funksjon, men kan endres i funksjon ved å bruke kodeordet global inne i funksjonen. "
   ]
  },
  {
   "cell_type": "code",
   "execution_count": null,
   "metadata": {},
   "outputs": [],
   "source": [
    "# Eksempel: Global variabel\n",
    "\n",
    "alder = 0 # alder er en global variabel\n",
    "\n",
    "def print_alder():\n",
    "    print(\"Alder-variabelen er\", alder) # Dette fungerer fordi alder er global\n",
    "    \n",
    "print_alder()"
   ]
  },
  {
   "cell_type": "code",
   "execution_count": null,
   "metadata": {},
   "outputs": [],
   "source": [
    "# Eksempel: Endre global variabel\n",
    "\n",
    "def endre_alder():\n",
    "    global alder # Nå kan vi endre på variabelen alder\n",
    "    alder = int(input(\"Hvor gammel er du? \"))\n",
    "    \n",
    "endre_alder()\n",
    "print(\"Alder-variabelen er\", alder, \"etter funksjonen er kalt.\")"
   ]
  },
  {
   "cell_type": "markdown",
   "metadata": {},
   "source": [
    "**Merk:** Globale variabler må brukes med omhu, vanligvis kun av konstanter (variabler som ikke endres av programmet som pi = 3.14). I store programmer gjør bruk av globale variabler det vanskelig å finne feil (debugge) og bør derfor unngås. Man bør spesielt være forsiktig med å endre på globale variabler inne i funksjoner, som gjør koden rotete. Bruksområde for globale variabler er derfor i store programmer å definere konstanter som ikke skal endres i koden. Konstanter er variabler som ikke endrer verdi  og skrives gjerne kun med store bokstaver."
   ]
  },
  {
   "cell_type": "code",
   "execution_count": null,
   "metadata": {},
   "outputs": [],
   "source": [
    "# Global variabel: PI\n",
    "\n",
    "PI = 3.14 # PI er en typisk konstant som ikke skal endres\n",
    "\n",
    "def omkrets(radius):\n",
    "\tomkrets = radius*2*PI\n",
    "\treturn omkrets\n",
    "\n",
    "print(\"Omkretsen er \", omkrets(5))\n"
   ]
  },
  {
   "cell_type": "markdown",
   "metadata": {},
   "source": [
    "**Lokale og globale variabler: Hva er galt med det følgende kode-eksempelet?**  \n",
    "Prøv å kjøre koden."
   ]
  },
  {
   "cell_type": "code",
   "execution_count": null,
   "metadata": {},
   "outputs": [],
   "source": [
    "# Funksjon som henter et navn og lagrer det i variabelen navn\n",
    "\n",
    "def hent_navn():\n",
    "    navn = input(\"Hva heter du? \")\n",
    "    \n",
    "hent_navn()\n",
    "print(\"Du heter\", navn) # prøver å printe ut variabelen alder"
   ]
  },
  {
   "cell_type": "markdown",
   "metadata": {},
   "source": [
    "<img src=\"bilder/error.png\" style=\"height: 200px; \"/>\n",
    "\n",
    "\n",
    "Hint: Variabler 'lever' kun i sine egne omgivelser. `navn` i `hent_navn` eksisterer bare mens funksjonen utføres. Når funksjonen er ferdig, slettes variabelen. Det neste feltet er lagt til for at du skal kunne prøve deg frem på å endre koden i det forrige eksempelet for å få den til å kjøre:"
   ]
  },
  {
   "cell_type": "code",
   "execution_count": null,
   "metadata": {},
   "outputs": [],
   "source": [
    "# Prøv deg frem her"
   ]
  },
  {
   "cell_type": "markdown",
   "metadata": {},
   "source": [
    "&nbsp;"
   ]
  },
  {
   "cell_type": "markdown",
   "metadata": {},
   "source": [
    "### 3.7 Bruk av flere funksjoner"
   ]
  },
  {
   "cell_type": "markdown",
   "metadata": {},
   "source": [
    "Programmer kan bygges opp ved å definere flere funksjoner, og funksjoner kan kalles fra andre funksjoner. "
   ]
  },
  {
   "cell_type": "code",
   "execution_count": null,
   "metadata": {},
   "outputs": [],
   "source": [
    "# Eksempel: Bruk av flere funksjoner\n",
    "\n",
    "def areal_oslo():\n",
    "    areal = 454.12\n",
    "    print(\"Arealet i Oslo er\", areal, \"kvadratkilometer\")\n",
    "    \n",
    "def areal_rogaland():\n",
    "    areal = 9377.10\n",
    "    print(\"Arealet i Rogaland er\", areal, \"kvadratkilometer\")\n",
    "    \n",
    "def areal_nordland():\n",
    "    areal = 38154.62\n",
    "    print(\"Arealet i Nordland er\", areal, \"kvadratkilometer\")\n",
    "    \n",
    "def areal_viken():\n",
    "    areal = 24592.59\n",
    "    print(\"Arealet i Viken er\", areal, \"kvadratkilometer\")\n",
    "    \n",
    "areal_oslo()\n",
    "areal_rogaland()\n",
    "areal_nordland()\n",
    "areal_viken()"
   ]
  },
  {
   "cell_type": "markdown",
   "metadata": {},
   "source": [
    "I det forrige eksempelet ble alle funksjonene kalt fra hovedprogrammet. De kan også kalles fra en egen funksjon:"
   ]
  },
  {
   "cell_type": "code",
   "execution_count": null,
   "metadata": {},
   "outputs": [],
   "source": [
    "# Eksempel: Bruk av flere funksjoner\n",
    "\n",
    "def hent_alle_areal():\n",
    "    areal_oslo()\n",
    "    areal_rogaland()\n",
    "    areal_nordland()\n",
    "    areal_viken()\n",
    "    \n",
    "hent_alle_areal()"
   ]
  },
  {
   "cell_type": "markdown",
   "metadata": {},
   "source": [
    "*Ekstraoppgave: I de to forrige eksempelene har vi laget og kalt fire funksjoner med ganske lik funksjonalitet. Den eneste forskjellen er egentlig areal-tallet, samt hvilket fylkenavn som printes ut i print-setningen. Har du noen forslag til hvordan dette kunne vært løst bedre? (Hint: Input-parametere). Kodeblokken under er lagt til for at du skal kunne leke deg litt frem med en bedre løsning selv.*"
   ]
  },
  {
   "cell_type": "code",
   "execution_count": null,
   "metadata": {},
   "outputs": [],
   "source": [
    "# Skriv koden din her"
   ]
  },
  {
   "cell_type": "markdown",
   "metadata": {},
   "source": [
    "&nbsp;"
   ]
  },
  {
   "cell_type": "markdown",
   "metadata": {},
   "source": [
    "### 3.8 `main()`-funksjonen"
   ]
  },
  {
   "cell_type": "markdown",
   "metadata": {},
   "source": [
    "Det siste konseptet vi skal gå igjennom nå er `main()`-funksjonen. Når et program har flere funksjoner, bruker man ofte en `main()`-funksjon som en «koordinator» i programmet. `main()`-funksjonen inneholder da hovedlogikken i programmet og gjengir en overordnet struktur. Den kaller de andre funksjonene som er definert, og står for kommunikasjon med bruker."
   ]
  },
  {
   "cell_type": "code",
   "execution_count": null,
   "metadata": {},
   "outputs": [],
   "source": [
    "# Definering av funksjonen melding_til_deg\n",
    "def melding_til_deg():\n",
    "    print(\"Hei du!\")\n",
    "    print(\"Jeg håper du har en topp dag :-)\")\n",
    "\n",
    "# Definering av main-funksjon\n",
    "def main():\n",
    "    print(\"Dette er en melding til deg:\")\n",
    "    melding_til_deg()\n",
    "    print(\"Melding ferdig!\")\n",
    "    \n",
    "main() # Kaller main-funksjonen"
   ]
  },
  {
   "cell_type": "markdown",
   "metadata": {},
   "source": [
    "&nbsp;"
   ]
  },
  {
   "cell_type": "markdown",
   "metadata": {},
   "source": [
    "### 3.9 Oppgaver: Funksjoner"
   ]
  },
  {
   "cell_type": "markdown",
   "metadata": {},
   "source": [
    "**Oppgave 1: Matematiske funksjoner**  \n",
    "\n",
    "Lag en funksjon som gjør følgende:  \n",
    "\n",
    "- Tar inn parameterne ```x``` og ```y```  \n",
    "- Utfører operasjoner som tilsvarer den matematiske funksjonen:  \n",
    "\n",
    "$$ f(x) = x^2 + 4x + y^3 $$\n",
    "        \n",
    "- **Printer** resultatet  \n",
    "\n",
    "Kjør funksjonen med:\n",
    "1. ```x``` = 2 og ```y``` = 4\n",
    "2.```x``` = 3 og ```y``` = 2"
   ]
  },
  {
   "cell_type": "code",
   "execution_count": null,
   "metadata": {},
   "outputs": [],
   "source": []
  },
  {
   "cell_type": "markdown",
   "metadata": {},
   "source": [
    "**Oppgave 2: Omkrets og areal av en sirkel** \n",
    "\n",
    "**a) Omkrets**\n",
    "\n",
    "Lag en funksjon som tar inn parameteret ```r```for radius, og som regner ut omkretsen av en sirkel. Formelen for omkretsen av en sirkel er følgende:\n",
    "\n",
    "$$ O = r \\cdot 2\\cdot \\pi $$\n",
    "\n",
    "der **r** står for radius. \n",
    "\n",
    "Denne gangen skal du **returnere** resultatet."
   ]
  },
  {
   "cell_type": "code",
   "execution_count": null,
   "metadata": {},
   "outputs": [],
   "source": []
  },
  {
   "cell_type": "markdown",
   "metadata": {},
   "source": [
    "**b) Areal**\n",
    "\n",
    "Lag så en funksjon som regner ut arealet av en sirkel, som også tar inn parameteret ```r``` for radius. Formelen for arealet av en sirkel er følgende:\n",
    "\n",
    "$$ A = \\pi \\cdot r^2 $$\n",
    "\n",
    "der **r** står for radius.\n",
    "\n",
    "Denne gangen skal du også **returnere** resultatet. "
   ]
  },
  {
   "cell_type": "code",
   "execution_count": null,
   "metadata": {},
   "outputs": [],
   "source": []
  },
  {
   "cell_type": "markdown",
   "metadata": {},
   "source": [
    "**c) main()-funksjon**\n",
    "\n",
    "Lag en main()-funksjon som gjør følgende:\n",
    "\n",
    "1. Tar inn en radius ```r``` fra bruker\n",
    "2. Regner ut omkrets av en sirkel med radius ```r```\n",
    "3. Regner ut arealet av en sirkel med radius ```r```\n",
    "4. Skriver ut resultatene\n",
    "\n",
    "*Hint: Bruk dine tidligere definerte funksjoner*"
   ]
  },
  {
   "cell_type": "code",
   "execution_count": null,
   "metadata": {},
   "outputs": [],
   "source": []
  },
  {
   "cell_type": "markdown",
   "metadata": {},
   "source": [
    "**Oppgave 3: Kjøretur**\n",
    "\n",
    "Du skal på en kjøretur, men vet ikke hvor du vil kjøre. Derfor vil du lage en chatbot som tilfeldig velger ut om du skal kjøre til høyre, venstre eller rett frem i kryss (du kan anta at alle kryss har alternativene høyre, venstre og rett frem i denne oppgaven). \n",
    "\n",
    "Lag en funksjon som tar inn et spørsmål ```spm``` som parameter, og som **skriver ut** spørsmålet og svaret (høyre, venstre eller rett frem). \n",
    "\n",
    "*Hint:*\n",
    "* *import random*\n",
    "* *random.choice([\"Høyre\", \"Venstre\", \"Rett frem\"])*\n",
    "\n",
    "Kjør koden med spørsmålet ```spm = \"Hvor skal jeg kjøre?\"```.\n",
    "\n",
    "\n",
    "*Ekstraoppgave: Lag en løkke som stiller spørsmålet flere ganger for å simulere flere veikryss.*\n"
   ]
  },
  {
   "cell_type": "code",
   "execution_count": null,
   "metadata": {},
   "outputs": [],
   "source": []
  },
  {
   "cell_type": "markdown",
   "metadata": {},
   "source": [
    "**Oppgave 4: Nytteverdi**\n",
    "\n",
    "Beskriv med egne ord hvorfor funksjoner er nyttig for deg når du skal lage egne programmer."
   ]
  },
  {
   "cell_type": "markdown",
   "metadata": {},
   "source": [
    "*Dobbeltklikk her for å skrive svaret ditt*"
   ]
  },
  {
   "cell_type": "markdown",
   "metadata": {},
   "source": [
    "**Oppgave 5: Kodeforståelse 1 (Hentet fra eksamen H2018 sett 1)**\n",
    "\n",
    "Gitt følgende funksjon:\n",
    "\n",
    "    def myst(val1, val2): \n",
    "        if (val1 and val2):\n",
    "            return 'a'\n",
    "        elif (val1 and not val2):\n",
    "            return 'b'\n",
    "        elif (not val1 and val2):\n",
    "            return 'c' \n",
    "        else:\n",
    "            return 'd'\n",
    "            \n",
    "Hva returneres ved funksjonskallet under? \n",
    "    \n",
    "    myst(not(not False and True), not(not False or False))\n",
    "\n"
   ]
  },
  {
   "cell_type": "markdown",
   "metadata": {},
   "source": [
    "*Dobbeltklikk her for å skrive svaret ditt*"
   ]
  },
  {
   "cell_type": "markdown",
   "metadata": {},
   "source": [
    "**Oppgave 6: Kodeforståelse 2 (Hentet fra eksamen H2018 sett 1)**\n",
    "\n",
    "Gitt funksjonen:\n",
    "\n",
    "    def myst(t1,t2): \n",
    "        n=2\n",
    "        while (t1 % n != 0) or (t2 % n != 0): \n",
    "            n+= 1\n",
    "        return n\n",
    "        \n",
    "Hva skrives ut når følgende kode kjøres? \n",
    "\n",
    "    print(myst(49,42))"
   ]
  },
  {
   "cell_type": "markdown",
   "metadata": {},
   "source": [
    "*Dobbeltklikk her for å skrive svaret ditt*"
   ]
  },
  {
   "cell_type": "markdown",
   "metadata": {},
   "source": [
    "**Oppgave 7: Allidrett (Hentet fra eksamen Kont2016)**\n",
    "\n",
    "*(I denne oppgaven kan det være gunstig å kalle funksjoner som du har laget i tidligere deloppgaver)*\n",
    "\n",
    "Lea og Lars er trenere for Allidrett for 2.klassingene på Pythonmyra skole. De deltar i\n",
    "miniturneringer i fotball og innebandy, med 3-5 spillere på banen og gjerne 1-2 innbyttere i tillegg.\n",
    "Da det tar noe tid å utarbeide manuelle planer for laginndeling og innbyttefrekvens til disse kampene,\n",
    "ønsker de et program som kan gjøre noe av jobben.\n",
    "\n",
    "**a) Lag funksjon `sek_paa_benken()`**\n",
    "\n",
    "Hvis man har innbyttere på et lag, er det ønskelig at alle får like mye spilletid i hver kamp. Skriv en\n",
    "funksjon ```sek_paa_benken(ant_paa_laget,ant_paa_banen,kamptid).```\n",
    "\n",
    "Innparametrene er hhv. hvor mange spillere det er på laget, hvor mange av disse som skal være på\n",
    "banen til en hver tid, og varigheten av en kamp i antall minutter. \n",
    "\n",
    "Funksjonen skal returnere hvor\n",
    "mange sekunder hver enkelt spiller må være innbytter i løpet av en kamp, avrundet til nærmeste\n",
    "heltall. \n",
    "\n",
    " Eksempel på kjøring:\n",
    " \n",
    "    >>> sek_paa_benken(6, 5, 12)\n",
    "        120\n",
    "    >>> sek_paa_benken(6, 4, 12)\n",
    "        240\n",
    "    >>> sek_paa_benken(7, 5, 12)\n",
    "        206\n",
    "    >>>sek_paa_benken(5, 5, 12)\n",
    "        0\n",
    "    >>>"
   ]
  },
  {
   "cell_type": "code",
   "execution_count": null,
   "metadata": {},
   "outputs": [],
   "source": []
  },
  {
   "cell_type": "markdown",
   "metadata": {},
   "source": [
    "**b) Lag funksjon minutt_sekund()**\n",
    "\n",
    "Når trenerne ser på klokka under kamper for å sjekke når neste innbytte skal skje, er det enklere å\n",
    "forholde seg til minutter og sekunder enn kun sekunder. Skriv derfor en funksjon ```minutt_sekund(sekunder)``` hvor innparameter er antall ```sekunder``` (heltall) og returverdi en\n",
    "streng på formen ```'mm:ss'```. Hvis antall minutter er mindre enn 10, skal strengen ha formen ```'m:ss'```,\n",
    "mens sekunder alltid skal representeres som to tegn, også om det er mindre enn 10. \n",
    "\n",
    "Eksempel på kjøring:\n",
    "\n",
    "    >>> minutt_sekund(120)\n",
    "        '2:00'\n",
    "    >>> minutt_sekund(206)\n",
    "        '3:26'\n",
    "    >>>"
   ]
  },
  {
   "cell_type": "code",
   "execution_count": null,
   "metadata": {},
   "outputs": [],
   "source": []
  },
  {
   "cell_type": "markdown",
   "metadata": {},
   "source": [
    "**Oppgave 8: Bilregistrering (Hentet fra eksamen H2020)**\n",
    "\n",
    "**a)**\n",
    "Lag en funksjon ```car_registration``` som genererer og returnerer et tilfeldig bilnummer.\n",
    "Bilnummeret skal bestå av 2 store bokstaver og 5 siffer.\n",
    "Bokstavene Æ,Ø og Å skal ikke inngå. 0 kan ikke være det første av de 5 sifrene\n",
    "\n",
    "Eksempel på kjøring: \n",
    "\n",
    "      >>> print(car_registration())\n",
    "          JC48096"
   ]
  },
  {
   "cell_type": "code",
   "execution_count": null,
   "metadata": {},
   "outputs": [],
   "source": []
  },
  {
   "cell_type": "markdown",
   "metadata": {},
   "source": [
    "**b)** \n",
    "Lag en funksjon ```prepare``` som tar inn et binært tall og forbereder det til å bli konvertert til oktalt. Funksjonen\n",
    "skal sjekke at det som skrives på tastaturet faktisk representerer et binært tall.  \n",
    "Deretter skal funksjonen legge til 0-er i begynnelsen av tallet slik at det består av nok siffer til å kunne\n",
    "konverteres til oktalt (der hvert siffer representeres av 3 binære siffer - eks 1010011 skal bli til 001010011).\n",
    "\n",
    "Eksempel på kjøring: \n",
    "\n",
    "    >>> print(prepare(\"10201\"))\n",
    "        Det er ikke et binært tall.\n",
    "    >>> print(prepare(\"10101\"))\n",
    "        010101\n",
    "    >>> print(prepare(\"1101\"))\n",
    "        001101"
   ]
  },
  {
   "cell_type": "code",
   "execution_count": null,
   "metadata": {},
   "outputs": [],
   "source": []
  },
  {
   "cell_type": "markdown",
   "metadata": {},
   "source": [
    "&nbsp;"
   ]
  }
 ],
 "metadata": {
  "kernelspec": {
   "display_name": "Python 3",
   "language": "python",
   "name": "python3"
  },
  "language_info": {
   "codemirror_mode": {
    "name": "ipython",
    "version": 3
   },
   "file_extension": ".py",
   "mimetype": "text/x-python",
   "name": "python",
   "nbconvert_exporter": "python",
   "pygments_lexer": "ipython3",
   "version": "3.9.0"
  }
 },
 "nbformat": 4,
 "nbformat_minor": 5
}
