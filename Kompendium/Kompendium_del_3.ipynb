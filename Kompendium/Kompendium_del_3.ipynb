{
 "cells": [
  {
   "cell_type": "markdown",
   "metadata": {},
   "source": [
    "# Del 3: Kompendium ITGK \n",
    "**Dette kompendiet går gjennom for- og while-løkker i Python.**\n"
   ]
  },
  {
   "cell_type": "markdown",
   "metadata": {},
   "source": [
    "&nbsp;"
   ]
  },
  {
   "cell_type": "markdown",
   "metadata": {},
   "source": [
    "## 1 Introduksjon"
   ]
  },
  {
   "cell_type": "markdown",
   "metadata": {},
   "source": [
    "Dette kompendiet er laget av Vilde Roland Arntzen og Miriam Størseth Lillebo sommeren 2021. Kompendiet skal fungere som en ekstraressurs ved siden av annet fagmateriell som bøker, øvinger, forelesninger og øvingsforelesninger. Kompendiet tar utgangspunkt i pensumplisten for  programmeringsdelen av TDT4110 høsten 2020, og kombinerer forklaring av konsepter og relevante oppgaver."
   ]
  },
  {
   "cell_type": "markdown",
   "metadata": {},
   "source": [
    "<img src=\"bilder/intro.png\" style=\"height: 160px; \"/>"
   ]
  },
  {
   "cell_type": "markdown",
   "metadata": {},
   "source": [
    "&nbsp;"
   ]
  },
  {
   "cell_type": "markdown",
   "metadata": {},
   "source": [
    "## 2 Innhold"
   ]
  },
  {
   "cell_type": "markdown",
   "metadata": {},
   "source": [
    "Kompendiet består av 6 notebooks som tar for seg ulike deler av pensum. Denne notebooken er nummer 3 av 6. Vi har forsøkt å bygge opp notebookene slik at de først gir en introduksjon til temaet med nyttige eksempler og deretter gir noen oppgaver som du kan ha nytte av å løse selv. Dette inkluderer oppgaver vi har laget selv som vi mener er relevante, og tidligere eksamensoppgaver. "
   ]
  },
  {
   "cell_type": "markdown",
   "metadata": {},
   "source": [
    "1. Introduksjon til Python og kalkulasjoner\n",
    "2. Boolske operatorer, innebygde funksjoner i Python og moduler\n",
    "3. **Løkker**\n",
    "4. Selvprogrammerte funksjoner\n",
    "5. Lister, tupler, strenger, og dictionaries og sett \n",
    "6. Filbehandling og feilhåndtering"
   ]
  },
  {
   "cell_type": "markdown",
   "metadata": {},
   "source": [
    " &nbsp;"
   ]
  },
  {
   "cell_type": "markdown",
   "metadata": {},
   "source": [
    "## 3 Hva er en løkke og hvorfor trenger vi den?"
   ]
  },
  {
   "cell_type": "markdown",
   "metadata": {},
   "source": [
    "Løkker er strukturer som lar deg gjenta kode om og om igjen, uten at du faktisk trenger å skrive selve koden flere ganger. Det vil si at løkker brukes dersom deler av programmet skal kjøres flere ganger. Dette er ofte veldig nyttig i programmeringsverdenen, da vi ofte har behov for å gjenta prosesser.\n",
    "\n",
    "Hvorvidt en løkke kjøres igjen eller ikke kontrolleres av en *betingelse*. Hvis betingelsen ikke er oppfyllt fortsetter altså programmet etter løkken i stedet for å gjenta koden i løkken. "
   ]
  },
  {
   "cell_type": "markdown",
   "metadata": {},
   "source": [
    "<img src=\"bilder/loops.png\" style=\"height: 180px; \"/>"
   ]
  },
  {
   "cell_type": "markdown",
   "metadata": {},
   "source": [
    "Her kommer derfor et eksempel fra den virkelige verden: \n",
    "\n",
    "Se for deg at du skal lage taco. Da trenger du å kutte opp flere typer grønnsaker som f.eks. agurk, tomat, salat og løk. Det betyr at du vil kutte en grønnsak etter den andre frem til alle de fire ingrediensene er i riktig størrelse til å ha i tacoen, og da vil du stoppe. Til slutt blander du alle grønnsakene sammen. Selve kuttingen kan deles opp i en serie på tre steg: \n",
    "\n",
    "1. **En initialisering:** Vi er klare til å lage taco, og har funnet frem de fire ingrediensene vi skal kutte opp. Vi begynner med den første av dem, og vil i første iterasjon kutte opp agurken. \n",
    "2. **En repetisjon:** Agurken er ferdig kuttet, så vi kutter opp resten av ingrediensene ved å kutte en av gangen.\n",
    "3. **En sluttbetingelse:** Når alle fire ingrediensene er kuttet opp, så har vi ikke mer å kutte, og vi må stoppe.\n"
   ]
  },
  {
   "cell_type": "markdown",
   "metadata": {},
   "source": [
    "<img src=\"bilder/taco.png\" style=\"height: 80px; \"/>"
   ]
  },
  {
   "cell_type": "markdown",
   "metadata": {},
   "source": [
    "Disse tre stegene i en prossess er det vi kaller en løkke innen programmering. Det kan også kalles en *iterasjonsprosess*. **Iterasjon** er en betegnelse for det å utføre noe flere ganger (kutte fire ulike grønnsaker fire ganger). Eksempelet under viser en enkel løkke som gjør en variant av denne grønnsakskuttingen."
   ]
  },
  {
   "cell_type": "code",
   "execution_count": null,
   "metadata": {},
   "outputs": [],
   "source": [
    "for i in range(4):  \n",
    "    print(\"Kutter en grønnsak!\")     # skriver til skjerm at en grønnsak kuttes \n",
    "    \n",
    "print(\"Blander grønnsakene sammen.\") # dette kjører når betingelsen sier at løkken er ferdig (antall er lik null)"
   ]
  },
  {
   "cell_type": "markdown",
   "metadata": {},
   "source": [
    "Eksempelet over er et eksempel på en ```for```-løkke. Dette er en av de to løkkene som man bruker i Python. Den andre typen løkke kalles ```while```-løkke, og disse to har forskjellig funksjonalitet. En ```for```-løkke kjører et bestemt antall ganger, mens en while-løkke vil kjøre inntil en gitt betingelse ikke er tilfredsstilt lenger. Både ```for```- og ```while```-løkker blir gjennomgått under. "
   ]
  },
  {
   "cell_type": "markdown",
   "metadata": {},
   "source": [
    "**Løkker er innrykk-sensitive**\n",
    "\n",
    "Merk at løkker er sensitive for innrykk (tab), på samme måte som vi har sett for if-setninger tidligere. Dette er nødvendig i Python for å vise hvilken kode som tilhører løkken og som skal gjennomføres så lenge løkken kjører, og hvilken del av programmet som er utenfor løkken. Syntaksen på en for-løkke er derfor som følgende\n",
    "\n",
    "    for <midlertidig variabel> in range <x>:\n",
    "        <kodeblokk som utføres så lenge løkken kjører> \n",
    "        \n",
    "I denne syntaksen vil:\n",
    "\n",
    "1. <midlertidig variabel> står for en variabel som representerer hvor i løkken vi er på til enhver tid. Navnet på variabelen kan man bestemme selv, men ```i``` brukes typisk som variabelnavn i denne settingen. Det viktigste er likevel at man vet hva man har kalt den midlertidige variabelen sin, slik at man kan bruke den i kodeblokken inne i løkken. Eksempelet under viser hvordan to for-løkker med forskjellig navn på den midlertidige variabelen har samme funksjonalitet. \n",
    "2. ```x``` være et gitt antall, og programmet vil derfor kjøre løkke-koden ```x``` ganger. \n",
    "3. Kodeblokken som ligger ved innrykket er koden som kjøres så lenge løkken kjøres. \n",
    "    \n"
   ]
  },
  {
   "cell_type": "markdown",
   "metadata": {},
   "source": [
    "<img src=\"bilder/types.png\" style=\"height: 200px; \"/>"
   ]
  },
  {
   "cell_type": "markdown",
   "metadata": {},
   "source": [
    "Som illustrert over er det to typer for-løkker. Index counter og element-løkker. Vi skal kun gå gjennom index-counter her og kommer tilbake til element-løkker i kompendium 5 som handler om datastrukturer. "
   ]
  },
  {
   "cell_type": "markdown",
   "metadata": {},
   "source": [
    " &nbsp;\n",
    " "
   ]
  },
  {
   "cell_type": "markdown",
   "metadata": {},
   "source": [
    "## 4 For-løkke"
   ]
  },
  {
   "cell_type": "markdown",
   "metadata": {},
   "source": [
    "En for-løkke er en løkke som kjører koden et gitt antall ganger, og dette antallet må være kjent før løkken startes. Antallet kan være et gitt antall eller et intervall mellom to verdier/variabler. \n",
    "\n",
    "Eksempelet under viser en enkel for-løkke som printer ut ITGK tre ganger. "
   ]
  },
  {
   "cell_type": "code",
   "execution_count": null,
   "metadata": {},
   "outputs": [],
   "source": [
    "for i in range(3):\n",
    "    print(\"ITGK\")"
   ]
  },
  {
   "cell_type": "markdown",
   "metadata": {},
   "source": [
    "Et annet eksempel er følgende for-løkke som oppdaterer variabler basert på tidligere variabler. "
   ]
  },
  {
   "cell_type": "code",
   "execution_count": null,
   "metadata": {},
   "outputs": [],
   "source": [
    "# initialiserer verdier til tall1 og tall2\n",
    "tall1 = 1\n",
    "tall2 = 0\n",
    "\n",
    "for i in range(5):\n",
    "    # oppdatarere tall1 og tall2 for hver runde i løkken basert på nåværende verdier\n",
    "    tall1 = i\n",
    "    tall2 = tall1 + tall2\n",
    "\n",
    "print(\"Tall 1: \", tall1)\n",
    "print(\"Tall 2: \", tall2)"
   ]
  },
  {
   "cell_type": "markdown",
   "metadata": {},
   "source": [
    "En viktig merknad når man jobber med løkker, er at etterhvert som løkken kjører og variabler oppdateres så må man bruke de **oppdaterte veriene** til variablene. Det vil si at etter løkken har kjørt en eller flere ganger, har den **overskrevet** de initialiserte verdiene ogd et er da de nye verdiene vi bruker videre i beregningene våre.\n",
    "\n",
    "\n",
    "Hvis du har problemer med å forstå dette, forsøk å tegne det ut på et ark slik det er gjort under og senk på løkken som en sekvensiell prosess hvor du starter på ttoppen og beveger deg nedover, og går til toppen igjen dersom løkken ikke er ferdig enda: "
   ]
  },
  {
   "cell_type": "markdown",
   "metadata": {},
   "source": [
    "<img src=\"bilder/manuell_løkke.png\" style=\"height: 160px; \"/>"
   ]
  },
  {
   "cell_type": "markdown",
   "metadata": {},
   "source": [
    "**Merk at en for-løkke starter på 0 hvis ikke annet er spesifisert!** \n",
    "\n",
    "Når du gir inn antall ganger løkken skal kjøre, så vil løkken alltid starte på 0 hvis man ikke har spesifisert noe annet. ```i```-variabelen holder styr på hvilken iterasjon du er på, og vil i kodeblokken under være 0 i første iterasjon. Det vil si at dersom du ber programmet om å printe ut ITGK tre ganger, så vil den første iterasjonen ha en ```i```-verdi på 0, mens de to neste iterasjonene vil ha ```i=1``` og ```i=2```. Dette kan vi vise ved å skrive ut ```i```-verdiene til skjerm inne i løkken, som blir gjort i eksempelet under."
   ]
  },
  {
   "cell_type": "code",
   "execution_count": null,
   "metadata": {},
   "outputs": [],
   "source": [
    "for i in range(3):\n",
    "    print(\"Dette er iterasjon \", i)\n",
    "    print(\"ITGK\")"
   ]
  },
  {
   "cell_type": "markdown",
   "metadata": {},
   "source": [
    "### 4.1 Spesifikasjon av ```range```-funksjonen\n",
    "\n",
    "```range```-funksjonen som brukes til å definere verdiene som itereres over i en for-løkke *kan* ta inn ett, to eller tre argumenter. Disser er beskrevet under."
   ]
  },
  {
   "cell_type": "markdown",
   "metadata": {},
   "source": [
    "**```range(y)```**\n",
    "\n",
    "```y``` spesifiserer hvilken verdi løkken skal gå til (men ikke med). F.eks. vil ```for i in range(3)```gå fra og med 0 til (men ikke med) 3. "
   ]
  },
  {
   "cell_type": "code",
   "execution_count": null,
   "metadata": {},
   "outputs": [],
   "source": [
    "for i in range(5):\n",
    "    print(\"Vi itererer gjennom indeks: \", i) "
   ]
  },
  {
   "cell_type": "markdown",
   "metadata": {},
   "source": [
    "**```range(x,y)```**\n",
    "\n",
    "```x```spesifiserer hvilken versi løkken skal starte på, mens ```y``` er det samme som over. F.eks. ```for i in range(2,6)``` vil gå fra og med 2 til (men ikke med) 6. "
   ]
  },
  {
   "cell_type": "code",
   "execution_count": null,
   "metadata": {},
   "outputs": [],
   "source": [
    "for i in range(2,5):\n",
    "    print(\"Vi itererer gjennom indeks: \", i) "
   ]
  },
  {
   "cell_type": "markdown",
   "metadata": {},
   "source": [
    "**```range(x,y,z)```**\n",
    "\n",
    "```x``` og ```y``` er det samme som det andre punktet, mens z bestemmer skrittlengde, som tilsvarer hvert ```z```te tall som skal med. F.eks. vil ```for i in range(2,8,2)``` gi følgende tall for i: 2, 4, 6. "
   ]
  },
  {
   "cell_type": "code",
   "execution_count": null,
   "metadata": {},
   "outputs": [],
   "source": [
    "for i in range(2,8,2):\n",
    "    print(\"Vi itererer gjennom indeks: \", i) "
   ]
  },
  {
   "cell_type": "markdown",
   "metadata": {},
   "source": [
    "Merk at når man har spesifisert skrittlengde, ```z = 2```, så vil løkken kun kjøre for hver andre ```i```-verdi, mens en skrittlengde på 3 vil gi hver tredje ```i```-verdi, osv. "
   ]
  },
  {
   "cell_type": "markdown",
   "metadata": {},
   "source": [
    "&nbsp;"
   ]
  },
  {
   "cell_type": "markdown",
   "metadata": {},
   "source": [
    "### 4.2 Eksempel på bruk av for-løkke til renteberegninger\n",
    "\n",
    "Dette er et eksempel på praktisk bruk av for-løkken. Vi skal sette 20 000 kroner inn i banken til en rente på 2.8 %. Vi ønsker å finne ut hva beløpet vokser til hvert år framover i åtte år, og skrive ut beløpet til skjerm for hvert år. For å regne ut dette trenger vi først vekstfaktoren: \n",
    "\n",
    "$$ 1 + \\frac{2.8}{100} = 1,028$$\n",
    "\n",
    "For å regne ut hva beløpet har økt til i år x, så brukes denne utregningen\n",
    "\n",
    "$$ 20 000kr \\cdot  1,028^x $$\n",
    "\n",
    "Lag et program som regner ut og skriver til skjerm hvor mye beløpet har vokst til for hvert år i åtte år."
   ]
  },
  {
   "cell_type": "code",
   "execution_count": null,
   "metadata": {},
   "outputs": [],
   "source": [
    "belop = 20000\n",
    "vekstfaktor = 1.028\n",
    "\n",
    "for i in range(1, 9):\n",
    "    verdi = belop * vekstfaktor**i\n",
    "    print(\"På \", i, \"år har beløpet på 20 000 kroner blitt til \", verdi)"
   ]
  },
  {
   "cell_type": "markdown",
   "metadata": {},
   "source": [
    "Merk her at løkken har en sluttverdi på 9, for å kunne inkludere år 8. "
   ]
  },
  {
   "cell_type": "markdown",
   "metadata": {},
   "source": [
    "### 4.3 Oppgaver: For-løkker\n",
    "Test om du har forstått *for-løkker* ved å gjøre de følgende oppgavene. "
   ]
  },
  {
   "cell_type": "markdown",
   "metadata": {},
   "source": [
    "**Oppgave 1: Tall**\n",
    "\n",
    "Skriv en løkke som printer ut alle tallene fra 10-20. "
   ]
  },
  {
   "cell_type": "code",
   "execution_count": null,
   "metadata": {},
   "outputs": [],
   "source": []
  },
  {
   "cell_type": "markdown",
   "metadata": {},
   "source": [
    "**Oppgave 2: Sum** \n",
    "\n",
    "Skriv en løkke som summerer sammen tallene fra 3 til og med 21.\n",
    "\n",
    "*Hint 1: Husk å lage programmet slik at du får med sluttverdien*\n",
    "\n",
    "*Hint 2: Bruk en variabel for å holde styr på summeringen*"
   ]
  },
  {
   "cell_type": "code",
   "execution_count": null,
   "metadata": {},
   "outputs": [],
   "source": []
  },
  {
   "cell_type": "markdown",
   "metadata": {},
   "source": [
    "**Oppgave 3: Renteberegning**\n",
    "\n",
    "I eksempelet over beregnet vi hvor mye et beløp på 20 000kr økte på åtte år med en rente på 2,8%. \n",
    "Lag nå et program der bruker kan skrive inn et gitt sparebeløp og rente, og regn ut hvor mye det gitte beløpet øker hvert år i ti år. Skriv resultatet for hvert år til skjerm.\n",
    "\n"
   ]
  },
  {
   "cell_type": "code",
   "execution_count": null,
   "metadata": {},
   "outputs": [],
   "source": []
  },
  {
   "cell_type": "markdown",
   "metadata": {},
   "source": [
    "**Oppgave 4: Delelig på 4**\n",
    "\n",
    "Lag et program som tar inn to tall fra brukeren, og skriver ut alle tallene mellom disse (første inklusiv, andre eksklusiv) som er delelige på 4."
   ]
  },
  {
   "cell_type": "code",
   "execution_count": null,
   "metadata": {},
   "outputs": [],
   "source": []
  },
  {
   "cell_type": "markdown",
   "metadata": {},
   "source": [
    "&nbsp;"
   ]
  },
  {
   "cell_type": "markdown",
   "metadata": {},
   "source": [
    "## 5 While-løkke"
   ]
  },
  {
   "cell_type": "markdown",
   "metadata": {},
   "source": [
    "En ```while```-løkke er en type løkke som kjører koden så lenge en gitt betingelse er sann. Programmet kjører bare det som står inni while-løkken dersom betingelsen i while-løkken er oppfylt. Syntaksen for en while-løkke kan se slik ut\n",
    "\n",
    "    while <betingelse>:\n",
    "      <kodeblokk som utføres så lenge løkken kjører>\n",
    "      \n",
    "Man kan tenke på betingelsen som en repetitiv if-setning som holder på inntill betingelsen ikke lenger er tilfredsstilt. Løkken sjekker først betingelsen, og dersom første forsøk ga ```True``` vil den kjøre kodeblokken inne i løkken etterfulgt av å sjekke betingelsen på nytt. Slik fortsetter det. Eksempelet under viser en enkel ```while```-løkke som printer \"Hei verden!\" frem til verdien til i ikke lenger er mindre enn 4."
   ]
  },
  {
   "cell_type": "code",
   "execution_count": null,
   "metadata": {},
   "outputs": [],
   "source": [
    "i = 0\n",
    "\n",
    "while i < 4:\n",
    "    print(\"Hei verden!\")\n",
    "    i += 1"
   ]
  },
  {
   "cell_type": "markdown",
   "metadata": {},
   "source": [
    "Her vil løkken begynne med en ```i```-verdi på 0. Første iterasjon sjekker om ```i```er mindre enn 4 (i<4), noe den vil være ettersom at i initialiseres til 0 over. Derfor vil første iterasjon skje. Inne i løkken vil da \"Hei verden\" skrives ut til skjerm, før ```i```-verdien økes med 1. Etter første iterasjon vil altså ```i=1```.\n",
    "\n",
    "I neste iterasjon vil det samme skje, men denne gangen vil det sjekkes med ```i=1```. Ettersom at ```i```fremdeles er mindre enn 4, så vil løkken kjøre videre fordi betingelsen fremdeles er ```True```. \n",
    "\n",
    "Løkken stopper etter fjerde iterasjon. Da vil ```i``` ha fått en verdi 4 (```i=4```) og betingelsen i ```while```-løkken vil bli ```False``` ettersom at 4 ikke er strengt mindre enn 4. Løkken stanser og programmet går videre til koden under kodeblokken.\n"
   ]
  },
  {
   "cell_type": "markdown",
   "metadata": {},
   "source": [
    "**Eksempel: Gjettelek**\n",
    "\n",
    "Det følgende eksempelet viser hvordan man kan bruke en ```while```-løkke til å programmere en gjettelek. Her setter man en gitt variabel ```alder```. Deretter bruker man en løkke for å spørre bruker om å gjette hva denne ```alder```-variabelen er. "
   ]
  },
  {
   "cell_type": "code",
   "execution_count": null,
   "metadata": {},
   "outputs": [],
   "source": [
    "alder = 23\n",
    "gjett = 0\n",
    "\n",
    "while gjett != alder:\n",
    "    gjett = int(input(\"Hvor gammel tror du at jeg er?\"))\n",
    "    \n",
    "print(\"Du gjettet riktig! Jeg er 23 år gammel.\")"
   ]
  },
  {
   "cell_type": "markdown",
   "metadata": {},
   "source": [
    "### 5.1 break og continue\n",
    "\n",
    "**Break**\n",
    "\n",
    "Noen ganger vil man avslutte løkken før den egentlig er ferdig:\n",
    "   1. Man har funnet det man leter etter\n",
    "   2. Man er ferdig med en oppgave\n",
    "   3. Bruker velger å avslutte\n",
    "    \n",
    "```break``` lar oss avslutte løkken selv om løkke-betingelsen fremdeles er ```True```.\n",
    "\n",
    "Eksempel: Forlat løkken når ```i``` er 5."
   ]
  },
  {
   "cell_type": "code",
   "execution_count": null,
   "metadata": {},
   "outputs": [],
   "source": [
    "i = 1\n",
    "while i < 10:\n",
    "  print(i)\n",
    "  if i == 5:\n",
    "    break\n",
    "  i += 1"
   ]
  },
  {
   "cell_type": "markdown",
   "metadata": {},
   "source": [
    "**Continue**\n",
    "\n",
    "Andre ganger vil man avslutte en runde i løkken (men så starte på en ny):\n",
    "   1. Ugyldig input fra bruker\n",
    "   2. Operasjoner som bare skal gjøres i spesifikke iterasjoner (f.eks. partall)\n",
    "   \n",
    "```continue``` lar stoppe den nåværende iterasjonen, og fortsette med den neste. \n",
    "\n",
    "Eksempel: Hvis ```i``` er 4, stopp iterasjonen og fortsett til neste iterasjon."
   ]
  },
  {
   "cell_type": "code",
   "execution_count": null,
   "metadata": {},
   "outputs": [],
   "source": [
    "i = 0\n",
    "while i < 6:\n",
    "    i += 1\n",
    "    if i == 4:\n",
    "        continue\n",
    "    print(i)"
   ]
  },
  {
   "cell_type": "markdown",
   "metadata": {},
   "source": [
    "### 5.2 Oppgaver: While-løkker\n",
    "\n",
    "Test om du har forstått *while-løkker* ved å gjøre de følgende oppgavene. \n",
    "\n"
   ]
  },
  {
   "cell_type": "markdown",
   "metadata": {},
   "source": [
    "**Oppgave 1: Sum**\n",
    "\n",
    "Skriv et program som gjør følgende:\n",
    "1. Tar inn et tall fra bruker.\n",
    "2. Summerer tallene fra 1 og oppover helt til summen overstiger tallet fra bruker.\n",
    "3. Skriver ut hvert regnestykke til konsollen.\n"
   ]
  },
  {
   "cell_type": "code",
   "execution_count": null,
   "metadata": {},
   "outputs": [],
   "source": []
  },
  {
   "cell_type": "markdown",
   "metadata": {},
   "source": [
    "**Oppgave 2: Oddetall**\n",
    "\n",
    "Skriv et program som skriver ut alle oddetall fra 0 til og med 15."
   ]
  },
  {
   "cell_type": "code",
   "execution_count": null,
   "metadata": {},
   "outputs": [],
   "source": []
  },
  {
   "cell_type": "markdown",
   "metadata": {},
   "source": [
    "**Oppgave 3: Utvalgte tall**\n",
    "\n",
    "Skriv et program som skriver ut alle tall fra 0 til og med 10, *unntatt* 2 og 7.\n",
    "\n",
    "*Hint: continue*"
   ]
  },
  {
   "cell_type": "code",
   "execution_count": null,
   "metadata": {},
   "outputs": [],
   "source": []
  },
  {
   "cell_type": "markdown",
   "metadata": {},
   "source": [
    "**Oppgave 4: Gjettelek**\n",
    "\n",
    "Lag et program der du bestemmer et tall på forhånd, før du ber brukeren om å gjette på tallet. Sjekk om bruker har gjettet riktig. Hvis tallene *ikke* er like, gi brukeren beskjed om tallet er større eller mindre enn det forhåndsbestemte tallet. La brukeren gjette til den har gjettet riktig tall, eller til brukeren skriver \"stopp\".\n",
    "\n",
    "*Hint: hvis \"stopp\" - break*"
   ]
  },
  {
   "cell_type": "code",
   "execution_count": null,
   "metadata": {},
   "outputs": [],
   "source": []
  },
  {
   "cell_type": "markdown",
   "metadata": {},
   "source": [
    "## 6 Eksamensoppgaver om løkker"
   ]
  },
  {
   "cell_type": "markdown",
   "metadata": {},
   "source": [
    "**Oppgave 1: Kodeforståelse (Hentet fra eksamen H2016)**\n",
    "\n",
    "Hva blir skrevet ut på skjermen hvis koden vist under blir kjørt? Forklar med en setning hva koden gjør.\n",
    "\n",
    "<img src=\"bilder/kodeforstoelse.png\" style=\"height: 200px; \"/>"
   ]
  },
  {
   "cell_type": "markdown",
   "metadata": {},
   "source": [
    "*Dobbeltklikk her for å skrive svaret ditt*"
   ]
  },
  {
   "cell_type": "markdown",
   "metadata": {},
   "source": [
    "**Oppgave 2: Kodeforståelse (Hentet fra eksamen H2019)**\n",
    "\n",
    "Hva skrives ut av denne koden?\n",
    "\n",
    "<img src=\"bilder/kodeforstoelse2.png\" style=\"height: 200px; \"/>"
   ]
  },
  {
   "cell_type": "markdown",
   "metadata": {},
   "source": [
    "*Dobbeltklikk her for å skrive svaret ditt*"
   ]
  },
  {
   "cell_type": "markdown",
   "metadata": {},
   "source": [
    "**Oppgave 3: Bilskilt (Hentet fra eksamen H2020)**\n",
    "\n",
    "Lag et program som genererer og returnerer et tilfeldig bilnummer.\n",
    "Bilnummeret skal bestå av 2 store bokstaver og 5 siffer.\n",
    "Bokstavene Æ, Ø og Å skal ikke inngå. 0 kan ikke være det første av de 5 sifrene."
   ]
  },
  {
   "cell_type": "code",
   "execution_count": null,
   "metadata": {},
   "outputs": [],
   "source": []
  }
 ],
 "metadata": {
  "kernelspec": {
   "display_name": "Python 3",
   "language": "python",
   "name": "python3"
  },
  "language_info": {
   "codemirror_mode": {
    "name": "ipython",
    "version": 3
   },
   "file_extension": ".py",
   "mimetype": "text/x-python",
   "name": "python",
   "nbconvert_exporter": "python",
   "pygments_lexer": "ipython3",
   "version": "3.9.0"
  }
 },
 "nbformat": 4,
 "nbformat_minor": 4
}
