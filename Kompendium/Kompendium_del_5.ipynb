{
 "cells": [
  {
   "cell_type": "markdown",
   "metadata": {},
   "source": [
    "# Del 5: Kompendium ITGK \n"
   ]
  },
  {
   "cell_type": "markdown",
   "metadata": {},
   "source": [
    "**Dette kompendiet tar for seg datastrukturer i Python. Dette inkluderer de datatypene som gjør det mulig å lagre en samling av elementer i en enkelt variabel. Vi skal se på lister, tupler, strenger, dictionaries og sett.**"
   ]
  },
  {
   "cell_type": "markdown",
   "metadata": {},
   "source": [
    "&nbsp;"
   ]
  },
  {
   "cell_type": "markdown",
   "metadata": {},
   "source": [
    "## 1 Introduksjon"
   ]
  },
  {
   "cell_type": "markdown",
   "metadata": {},
   "source": [
    "Dette kompendiet er laget av Vilde Roland Arntzen og Miriam Størseth Lillebo sommeren 2021. Kompendiet skal fungere som en ekstraressurs ved siden av annet fagmateriell som bøker, øvinger, forelesninger og øvingsforelesninger. Kompendiet tar utgangspunkt i pensumplisten for  programmeringsdelen av TDT4110 høsten 2020, og kombinerer forklaring av konsepter og relevante oppgaver."
   ]
  },
  {
   "cell_type": "markdown",
   "metadata": {},
   "source": [
    "<img src=\"bilder/intro.png\" style=\"height: 160px; \"/>"
   ]
  },
  {
   "cell_type": "markdown",
   "metadata": {},
   "source": [
    "&nbsp;"
   ]
  },
  {
   "cell_type": "markdown",
   "metadata": {},
   "source": [
    "## 2 Innhold"
   ]
  },
  {
   "cell_type": "markdown",
   "metadata": {},
   "source": [
    "Kompendiet består av 6 notebooks som tar for seg ulike deler av pensum. Denne notebooken er nummer 5 av 6. Vi har forsøkt å bygge opp notebookene slik at de først gir en introduksjon til temaet med nyttige eksempler og deretter gir noen oppgaver som du kan ha nytte av å løse selv. Dette inkluderer oppgaver vi har laget selv som vi mener er relevante, kombinert med tidligere eksamensoppgaver der det er relevant. "
   ]
  },
  {
   "cell_type": "markdown",
   "metadata": {},
   "source": [
    "1. Introduksjon til Python og kalkulasjoner\n",
    "2. Boolske operatorer, innebygde funksjoner i Python og moduler\n",
    "3. Løkker\n",
    "4. Selvprogrammerte funksjoner\n",
    "5. **Lister, tupler, strenger, dictionaries og sett**\n",
    "6. Filbehandling og feilhåndtering"
   ]
  },
  {
   "cell_type": "markdown",
   "metadata": {},
   "source": [
    "&nbsp;"
   ]
  },
  {
   "cell_type": "markdown",
   "metadata": {},
   "source": [
    "## 3 Lister og Tupler\n",
    "Lister og tupler er to datastrukturer som har en spesifikk orden, og derfor kan indekseres. Dette skal vi se nærmere på i denne seksjonen. \n",
    "\n",
    "### 3.1 Hva er en liste? \n",
    "**Lister** brukes til å lagre flere elementer i en enkelt variabel. Listeelementer er **ordnet** (dvs. at de har en spesifikk plass i listen med en rekkefølge), kan **endres**, og tillater **duplikate verdier**. Elementene i en liste er også **indekserte**, hvor det første elementet i listen har indeks 0 (skrives ```[0]```), det neste elementet 1 osv. Man kan også indeksere en liste fra bakerste element ved å bruke -1 som tilsvarer det bakerste elementet, -2 som tilsvarer det nest bakerste osv. "
   ]
  },
  {
   "cell_type": "markdown",
   "metadata": {},
   "source": [
    "<img src=\"bilder/liste.png\" style=\"height: 170px; \"/>"
   ]
  },
  {
   "cell_type": "markdown",
   "metadata": {},
   "source": [
    "&nbsp;"
   ]
  },
  {
   "cell_type": "markdown",
   "metadata": {},
   "source": [
    "**Eksempler på lister**"
   ]
  },
  {
   "cell_type": "markdown",
   "metadata": {},
   "source": [
    "Liste med partall fra 2 til 10"
   ]
  },
  {
   "cell_type": "code",
   "execution_count": null,
   "metadata": {},
   "outputs": [],
   "source": [
    "partall = [2,4,6,8,10]"
   ]
  },
  {
   "cell_type": "markdown",
   "metadata": {},
   "source": [
    "Liste med strenger"
   ]
  },
  {
   "cell_type": "code",
   "execution_count": null,
   "metadata": {},
   "outputs": [],
   "source": [
    "# Merk at det er lov at melk forekommer 2 ganger\n",
    "\n",
    "handleliste = [\"melk\", \"brød\", \"egg\", \"kaffe\", \"melk\"] "
   ]
  },
  {
   "cell_type": "markdown",
   "metadata": {},
   "source": [
    "Liste med kombinerte typer"
   ]
  },
  {
   "cell_type": "code",
   "execution_count": null,
   "metadata": {},
   "outputs": [],
   "source": [
    "# Innhold i listen: Navn, alder, høyde, student/ikke student\n",
    "\n",
    "person = [\"Vilde\", 24, 1.70, False]"
   ]
  },
  {
   "cell_type": "markdown",
   "metadata": {},
   "source": [
    "&nbsp;"
   ]
  },
  {
   "cell_type": "markdown",
   "metadata": {},
   "source": [
    "### 3.2 Nyttige egenskaper ved lister \n",
    "Under er det listet opp noen nyttige egenskaper ved lister som ofte brukes for å aksessere elementer og manipulere innholdet i lister. \n",
    "<img src=\"bilder/liste_egenskaper.png\" style=\"height: 250px; \"/>"
   ]
  },
  {
   "cell_type": "markdown",
   "metadata": {},
   "source": [
    "#### Indeksering\n",
    "\n",
    "Hvis vi ønsker å hente ut det første og det siste elementet i person-listen kan vi bruke indeksene, som følgende:"
   ]
  },
  {
   "cell_type": "code",
   "execution_count": null,
   "metadata": {},
   "outputs": [],
   "source": [
    "first = person[0]\n",
    "last = person[-1]\n",
    "\n",
    "print(first, \"is the first element of the list, and\", last, \"is the last element.\")"
   ]
  },
  {
   "cell_type": "markdown",
   "metadata": {},
   "source": [
    "#### Slicing\n",
    "Slicing er en metode for å hente ut en \"slice\", en del, av en liste. Slicing har en start- og en sluttposisjon som skrives som ```[start:slutt]```. Rangen er ```start <= x < stop```. Merk at ```start```inkluderes i den slicede listen, men at```slutt``` ikke er iinkluderes (likt som med range når vi bruker index count-løkker). "
   ]
  },
  {
   "cell_type": "markdown",
   "metadata": {},
   "source": [
    "Vi definerer følgende liste som skal slices."
   ]
  },
  {
   "cell_type": "code",
   "execution_count": null,
   "metadata": {},
   "outputs": [],
   "source": [
    "liste = [\"a\", \"b\", \"c\", \"d\", \"e\"]"
   ]
  },
  {
   "cell_type": "markdown",
   "metadata": {},
   "source": [
    "Hvis vi ønsker å hente ut element ```b``` til ```d```kan vi slice listen slik:"
   ]
  },
  {
   "cell_type": "code",
   "execution_count": null,
   "metadata": {},
   "outputs": [],
   "source": [
    "liste[1:-1]"
   ]
  },
  {
   "cell_type": "markdown",
   "metadata": {},
   "source": [
    "Merk at indeks 1 indekserer det andre elementet i listen fordi lister i Python er 0-indeksert. Merk også at sluttindeksen (-1 som er det bakerste elementet) ikke er med i den slicede listen fordi sluttindeksen er til men ikke med. "
   ]
  },
  {
   "cell_type": "markdown",
   "metadata": {},
   "source": [
    "#### Traversering\n",
    "Traversering er en ekstra funksjon som lar oss hente ut hvert ```x```-te element fra en liste. Det skrives ganske likt som slicing bare at man bruker den tredje posisjonen ```liste[::x]```. Man kan slice og traversere en liste samtidig ved å skrive ```liste[a:b:x]```som vil returnere en liste fra og med indeks ```a``` til (men ikke med) indeks ```b``` som heneter ut hvert ```x```-te element."
   ]
  },
  {
   "cell_type": "code",
   "execution_count": null,
   "metadata": {},
   "outputs": [],
   "source": [
    "tall_liste = [1, 2, 3, 4, 5, 6 , 7, 8, 9, 10]"
   ]
  },
  {
   "cell_type": "markdown",
   "metadata": {},
   "source": [
    "Hvis vi ønsker å hente ut kun oddetall fra ```tall_liste``` kan vi bruke traversering:"
   ]
  },
  {
   "cell_type": "code",
   "execution_count": null,
   "metadata": {},
   "outputs": [],
   "source": [
    "tall_liste[::2]"
   ]
  },
  {
   "cell_type": "markdown",
   "metadata": {},
   "source": [
    "Merk at vi også kunne skrevet ```tall_liste[0:len(tall_liste):2]```som ville gitt akkurat det samme (her spesifiserer vi indeksene i slicingen som er spesifisert til hele listen. Hvis disse indeksene ikke er spesifisert så vil slicingen bruke default-verdiene, som setter starten av listen til startindeks og slutten av listen til sluttindeks.\n",
    "\n",
    "Hvis vi ønsker å hente ut alle partallene kan vi kombinere slicing og traversering. Da starter vi på indeks 1 som tilsvarer det andre elementet i listen fordi den er 0-indeksert."
   ]
  },
  {
   "cell_type": "code",
   "execution_count": null,
   "metadata": {},
   "outputs": [],
   "source": [
    "tall_liste[1::2]"
   ]
  },
  {
   "cell_type": "markdown",
   "metadata": {},
   "source": [
    "Merk at det går fint å kun legge in startindeks og ikke sluttindeks. Slicingen vil da bruke siste mulige inseks (slutten av listen) som sluttindeks, som nevnt over. "
   ]
  },
  {
   "cell_type": "markdown",
   "metadata": {},
   "source": [
    "&nbsp;"
   ]
  },
  {
   "cell_type": "markdown",
   "metadata": {},
   "source": [
    "### 3.3 Iterasjon gjennom lister\n",
    "For å iterere gjennom lister benytter vi løkker. Det er to hovedmåter å gjøre dette på - den første er en indeks-counter som dere er kjent med fra tidligere, og den andre er en element-løkke som itererer elementvis. "
   ]
  },
  {
   "cell_type": "code",
   "execution_count": null,
   "metadata": {},
   "outputs": [],
   "source": [
    "partall = [2, 4, 6, 8, 10]"
   ]
  },
  {
   "cell_type": "markdown",
   "metadata": {},
   "source": [
    "#### Indeks-counter"
   ]
  },
  {
   "cell_type": "code",
   "execution_count": null,
   "metadata": {},
   "outputs": [],
   "source": [
    "for i in range(0, len(liste)):\n",
    "    element = partall[i]\n",
    "    \n",
    "    print(\"Element\", i, \":\", element)"
   ]
  },
  {
   "cell_type": "markdown",
   "metadata": {},
   "source": [
    "**Element**"
   ]
  },
  {
   "cell_type": "code",
   "execution_count": null,
   "metadata": {},
   "outputs": [],
   "source": [
    "for element in partall:\n",
    "    print(element) # merk at her får vi ikke med indeksen, men heneter ut elementene direkte"
   ]
  },
  {
   "cell_type": "markdown",
   "metadata": {},
   "source": [
    "&nbsp;"
   ]
  },
  {
   "cell_type": "markdown",
   "metadata": {},
   "source": [
    "### 3.4 Innebygde listefunksjoner\n",
    "Under er det listet opp en rekke funksjoner som er nyttige når vi jobber med lister. "
   ]
  },
  {
   "cell_type": "markdown",
   "metadata": {},
   "source": [
    "<img src=\"bilder/liste_funksjoner.png\" style=\"height: 250px; \"/>\n"
   ]
  },
  {
   "cell_type": "markdown",
   "metadata": {},
   "source": [
    "&nbsp;"
   ]
  },
  {
   "cell_type": "markdown",
   "metadata": {},
   "source": [
    "### 3.5 Tupler\n",
    "Hittil har vi kun sett på lister. Lister kan endres og skrives med ```[]```. **Tupler** er en annen type datastruktur som *ikke* kan endres og skrives med ```()```. Ellers så fungerer tupler og lister på en *helt identisk* måte i Python."
   ]
  },
  {
   "cell_type": "code",
   "execution_count": null,
   "metadata": {},
   "outputs": [],
   "source": [
    "liste = [\"a\", \"b\", \"c\"]\n",
    "liste[1] = 4             # endrer elementet på indeks 1 til verdien 4\n",
    "\n",
    "print(liste)"
   ]
  },
  {
   "cell_type": "markdown",
   "metadata": {},
   "source": [
    "Koden over definerer en liste som kan endres. I koden under forsøker vi å gjøre det samme med en tuppel som skal gi en feilmelding når du kjører den."
   ]
  },
  {
   "cell_type": "code",
   "execution_count": null,
   "metadata": {},
   "outputs": [],
   "source": [
    "tuppel = (\"a\", \"b\", \"c\")\n",
    "tuppel[1] = 4"
   ]
  },
  {
   "cell_type": "markdown",
   "metadata": {},
   "source": [
    "Feilmeldingen oppstår fordi fordi tupler ikke kan endres. Vi kan fortsatt hente ut verdier fra tupler basert på indeksen deres akkurat som med lister, så lenge vi ikke forsøker å endre/oppdatere verdien. "
   ]
  },
  {
   "cell_type": "code",
   "execution_count": null,
   "metadata": {},
   "outputs": [],
   "source": [
    "tuppel[1]"
   ]
  },
  {
   "cell_type": "markdown",
   "metadata": {},
   "source": [
    "&nbsp;"
   ]
  },
  {
   "cell_type": "markdown",
   "metadata": {},
   "source": [
    "### 3.6 Oppgaver: Lister og tupler\n",
    "Test om du har forstått *lister* og *tupler* i Python ved å løse oppgavene under. "
   ]
  },
  {
   "cell_type": "markdown",
   "metadata": {},
   "source": [
    "#### Oppgave 1: Handletur\n",
    "\n",
    "**a)** Lag en handleliste som har følgende innhold og er lagret i variabelen ```ukeshandel```. Listen skal ha samme rekkefølge som listet opp under. \n",
    "* Egg\n",
    "* Mel\n",
    "* Honning\n",
    "* Kaffe"
   ]
  },
  {
   "cell_type": "code",
   "execution_count": null,
   "metadata": {},
   "outputs": [],
   "source": []
  },
  {
   "cell_type": "markdown",
   "metadata": {},
   "source": [
    "**b)** Lag en tuppel som heter ```antall_enheter``` som holder styr på hvor mange enheter av hver ting som skal handles. Det skal være 12 egg, 1 mel, 1 honning og 4 kaffe. Merk at dette skal være en tuppel og *ikke* en liste slik at det ikke skal være mulig å endre verdiene i etterkant."
   ]
  },
  {
   "cell_type": "code",
   "execution_count": null,
   "metadata": {},
   "outputs": [],
   "source": []
  },
  {
   "cell_type": "markdown",
   "metadata": {},
   "source": [
    "**c)** Iterer gjennom ```ukeshandel``` og ```antall_enheter``` og skriv ut følgende: \n",
    "\n",
    "            Enhet  |    Antall\n",
    "        -----------------------------\n",
    "          <enhet>     <antall enheter>\n",
    "          <enhet>     <antall enheter>\n",
    "                  ...\n",
    "          <enhet>     <antall enheter>\n",
    "\n",
    "*Hint: Hvis du ønskler å formattere tabellen på en fin og enkel måte, les gjennom seksjon 5 om strenger først og benytt deg av formatteringsfunksjonene.*"
   ]
  },
  {
   "cell_type": "code",
   "execution_count": null,
   "metadata": {},
   "outputs": [],
   "source": []
  },
  {
   "cell_type": "markdown",
   "metadata": {},
   "source": [
    "**d)** Under er det definert en liste med priser. Disse er sortert i samme rekkefølge som handlelisten i oppgave a). I denne deloppgaven skal du lage en liste ```total_kostnad```som inneholder den totale kostnaden for hver ting som skal kjøpes (dvs. antall enheter x pris på enheten). "
   ]
  },
  {
   "cell_type": "code",
   "execution_count": null,
   "metadata": {},
   "outputs": [],
   "source": [
    "priser = [28.50, 12.90, 39.90, 24.50]\n",
    "\n",
    "# Skriv din kode her "
   ]
  },
  {
   "cell_type": "markdown",
   "metadata": {},
   "source": [
    "**e)** Du skal nå utvide det som ble printet ut i oppgave c) til å inkludere informasjon om kostnad. Skriv ut følgede til skjermen. \n",
    "\n",
    "\n",
    "            Enhet     |     Antall     |         Totalkostnad\n",
    "      ------------------------------------------------------------------\n",
    "           <enhet>     <antall enheter>   <total kostnad for enhet> kr\n",
    "           <enhet>     <antall enheter>   <total kostnad for enhet> kr \n",
    "                                 ...\n",
    "           <enhet>     <antall enheter>   <total kostnad for enhet> kr"
   ]
  },
  {
   "cell_type": "code",
   "execution_count": null,
   "metadata": {},
   "outputs": [],
   "source": []
  },
  {
   "cell_type": "markdown",
   "metadata": {},
   "source": [
    "**Oppgave 4: Fondskonto**\n",
    "\n",
    "Du har hørt at det er lurt å investere penger i fond og har lagt inn 5000 kr i et indeksfond. De neste fem årene legger du fondet til siden og følger ikke med. Under er det oppgitt en liste med årlig avkastning for hvert av de fem årene. Samtidig har fondet hatt en årlig kostnad på 2%. Din oppgave er å regne ut hvor mye penger du har hvis du tar ut pengene igjen etter de fem årene. "
   ]
  },
  {
   "cell_type": "code",
   "execution_count": null,
   "metadata": {},
   "outputs": [],
   "source": [
    "aarlige_avkastninger = [0.15, 0.23, -0.08, -0.12, 0.13]\n",
    "aarlig_kostnad = 0.02 \n",
    "\n",
    "# Skriv din kode her"
   ]
  },
  {
   "cell_type": "markdown",
   "metadata": {},
   "source": [
    "**Oppgave 3: Personalia**\n",
    "\n",
    "Under har du fått oppgitt tre lister med personalia til tre forelesere. Listene er på formatet \n",
    "        \n",
    "        [<fornavn>, <etternavn>, <emnekode>, <emne>, <høyde>, <id>]\n",
    "\n",
    "Du er kontaktperson for trinnet ditt og skal videredele informasjonen til dine klassekamerater. Etter introduksjonen av GRPR (personvernloven) må man ta ekstra hensyn til hva slags informasjon som deles. Du ser det kun hensiktsmessig rett å dele fornavn, etternavn, emnekode og emne med de andre studentene. Benytt *slicing* til å hente ut den nødvendige informasjonen og skriv den deretter fint ut til skjermen.\n",
    "\n",
    "\n",
    "*Ekstraoppgave: hvis du ønsker å løse oppgaven mer effektivt og ikke repetere koden, kan du lage en ny liste som heter ```personalia```og inneholder de tre listene ```personalia1```, ```personalia2``` og ```personalia3```. En liste med lister i fungerer på samme måte som andre lister, bare at elementene er en liste i seg selv.*"
   ]
  },
  {
   "cell_type": "code",
   "execution_count": null,
   "metadata": {},
   "outputs": [],
   "source": [
    "personalia1 = [\"Vilde\", \"Arntzen\", \"TDT4110\", \"ITGK\", 170, \"1234\"]\n",
    "personalia2 = [\"Ola\", \"Nordmann\", \"TDT4100\", \"OOP\", 190, \"9876\"]\n",
    "personalia3 = [\"Kari\", \"Nansen\", \"TDT4110\", \"ITGK\", 166, \"5678\"]\n",
    "\n",
    "# Skriv din kode her"
   ]
  },
  {
   "cell_type": "markdown",
   "metadata": {},
   "source": [
    "**Oppgave 5: Weather Data (Eksamen 2014)**\n",
    "\n",
    "<img src=\"bilder/E2014-3.png\" style=\"height: 600px; \"/>\n",
    "\n",
    "**Sammendrag** \n",
    "\n",
    "Du skal lage en funksjon som går gjennom listen weatherData og skriver ut\n",
    "* Antall dager i perioden (Dvs. antall lister i weatherData)\n",
    "* Total nedbørsmengde i perioden \n",
    "* Høyeste temperatur og dagen denne forekom\n",
    "* Laveste temperatur og dagen denne forekom \n",
    "\n",
    "*`weatherData`:*\n",
    "* weatherData er en liste med lister i (matrise), hvor hver liste i weatherData er på formatet `[maximumstemperatur, minimumstemperatur, nedbørsmengde]`\n",
    "* Den første lista i weatherData, dvs. `weatherData[0]` er vær-data for dag 1, den andre lista i weatherData, dv  `weatherData[1]` er værdata for dag 2 osv. \n",
    "\n",
    "\n",
    "*Hint:* Konsentrer deg om ett av punktene over om gangen, lagre informasjonen i variabler og skriv ut informasjonen til slutt.\n",
    "    \n",
    "  "
   ]
  },
  {
   "cell_type": "code",
   "execution_count": null,
   "metadata": {},
   "outputs": [],
   "source": [
    "def weatherStats(weatherData):\n",
    "    # Regn ut antall dager i perioden og lagre resultatet i variabelen n_days\n",
    "    \n",
    "    \n",
    "    # Regn ut total nedbørsmengde og lagre resultatet i variabelen rain \n",
    "\n",
    "    \n",
    "    # Finn høyeste temperatur og dagen denne forekom og lagre i de respektive variablene max_temp og max_day\n",
    "    \n",
    "\n",
    "    # Finn laveste temperatur og dagen denne forekom og lagre i de respektive variablene min_temp og min_day\n",
    "    \n",
    "\n",
    "    # gå gjennom rader i tabellen weatherData\n",
    " \n",
    "    \n",
    "    \n",
    "    ########## Koden din slutter her ###########\n",
    "    print(\"There are\", n_days, \"in the period\")\n",
    "    print(\"The highest temperature was\", max_temp, \"on day number\", max_day)\n",
    "    print(\"The lowest temperature was\", min_temp, \"on day number\", min_day)\n",
    "    print(\"There was a total of\", round(nedbør,2) , \"mm rain in the period\")\n",
    "    "
   ]
  },
  {
   "cell_type": "markdown",
   "metadata": {},
   "source": [
    "Test om funksjonen din skriver ut riktig informasjon ved å kjøre kodeblokken under og sammenligne med det som kommer ut i eksamensbeskrivelsen."
   ]
  },
  {
   "cell_type": "code",
   "execution_count": null,
   "metadata": {},
   "outputs": [],
   "source": [
    "weatherData = [[12.0, 2.4, 8.2], [6.1, 0.6, 11.9], [8.3, -3.5, 0.0], [11.6, -5.2, 0.0], [15.3, 2.8, 14.3]]\n",
    "\n",
    "weatherStats(weatherData)"
   ]
  },
  {
   "cell_type": "markdown",
   "metadata": {},
   "source": [
    "&nbsp;"
   ]
  },
  {
   "cell_type": "markdown",
   "metadata": {},
   "source": [
    "## 4 NumPy-modulen\n",
    "**NumPy** er en Python-modul for å jobbe med lister på en effektiv måte. Dette brukes mye i matematikk, fysikk, kunstig intelligens, data-analyse, osv. \n",
    "\n",
    "Fordelen med å bruke NumPy over vanlige lister er følgende: \n",
    "* De er raskere å jobbe med når man har store lister (dvs. når man bruker funksjoner på de, itererer over de osv.)\n",
    "* De bruker mindre minne på datamaskinen\n",
    "* De tilbyr større fleksibilitet og har flere nyttige innebygde funksjoner enn vanlige lister\n",
    "\n",
    "\n",
    "NumPy brukes mye i arbeidslivet og i andre fag som benytter seg av programmering, som også er grunnen til at det er en del av pensum i TDT4110."
   ]
  },
  {
   "cell_type": "markdown",
   "metadata": {},
   "source": [
    "For å benytte seg av NumPy må man først importere modulen, slik som vi har gjort under. Vi kan ikke benytte oss av numpy før kodeblokken under er kjørt."
   ]
  },
  {
   "cell_type": "code",
   "execution_count": null,
   "metadata": {},
   "outputs": [],
   "source": [
    "import numpy as np"
   ]
  },
  {
   "cell_type": "markdown",
   "metadata": {},
   "source": [
    "```as```-nøkkelordet lar oss lage et referanseord til numpy-modulen. En standard konvensjon er å importere numpy som ```np```da dette gjør at vi ikke trenger å skrive ut ```numpy```, men kun ```np```når vi skal benytte en innebygd funksjon eller variabel fra modulen."
   ]
  },
  {
   "cell_type": "markdown",
   "metadata": {},
   "source": [
    "### 4.1 Endimensjonale lister\n",
    "Dersom vi ønsker å skrive listen ```liste = [1,2,3,4,5]``` som en numpy-array gjør vi som følgende."
   ]
  },
  {
   "cell_type": "code",
   "execution_count": null,
   "metadata": {},
   "outputs": [],
   "source": [
    "np.array([1,2,3,4,5])"
   ]
  },
  {
   "cell_type": "markdown",
   "metadata": {},
   "source": [
    "### 4.2 Matriser\n",
    "Noen ganger kan det være fordelaktiv å lagre flere lister i en liste. Dette kalles for en matrise og kan også gjøres ved bruk av numpy-arrays. \n",
    "\n",
    "Under er det definert en matrise med nuller ved bruk av vanlige python-lister."
   ]
  },
  {
   "cell_type": "code",
   "execution_count": null,
   "metadata": {},
   "outputs": [],
   "source": [
    "matrise = [[0,0,0],[0,0,0],[0,0,0], [0,0,0]]"
   ]
  },
  {
   "cell_type": "markdown",
   "metadata": {},
   "source": [
    "Den samme matrisen kan defineres som følgende ved bruk av numpy-modulen:"
   ]
  },
  {
   "cell_type": "code",
   "execution_count": null,
   "metadata": {},
   "outputs": [],
   "source": [
    "matrise = np.zeros((4, 3))"
   ]
  },
  {
   "cell_type": "markdown",
   "metadata": {},
   "source": [
    "### 4.3 Nyttige funksjoner i NumPy\n",
    "<img src=\"bilder/numpy_funksjoner.png\" style=\"height: 400px; \"/>"
   ]
  },
  {
   "cell_type": "markdown",
   "metadata": {},
   "source": [
    "&nbsp;"
   ]
  },
  {
   "cell_type": "markdown",
   "metadata": {},
   "source": [
    "### 4.4 Oppgaver: Numpy arrays\n",
    "Test om du har forstått *numpy arrays* i Python ved å løse oppgavene under. "
   ]
  },
  {
   "cell_type": "markdown",
   "metadata": {},
   "source": [
    "**Oppgave 6: NumPy**\n",
    "\n",
    "**a)** Importer NumPy-biblioteket og definer følgende numpy-arrays:\n",
    "* x skal ha alle tallene fra 5 til 10 \n",
    "* y skal ha alle tallene fra 30 til 70 \n",
    "    * Hint: np.arange(a,b) git tallene fra og med a til b\n",
    "\n",
    "Til slutt: print ut de to listene."
   ]
  },
  {
   "cell_type": "code",
   "execution_count": null,
   "metadata": {},
   "outputs": [],
   "source": [
    "# Skriv koden din her"
   ]
  },
  {
   "cell_type": "markdown",
   "metadata": {},
   "source": [
    "**b)** Lag en numpy-matrise (dvs. liste med lister i) på størrelse 3 x 3 ( 3 rader og 3 kolonner ) med enere i første rad, toere i andre rad og treere i tredje rad. Deretter lag en for-løkke som itererer gjennom matrisen og printer ut hver rad.\n",
    "<br>\n",
    "* Hint: np.array-funksjonen kan også ta inn matriser"
   ]
  },
  {
   "cell_type": "code",
   "execution_count": null,
   "metadata": {},
   "outputs": [],
   "source": [
    "# Skriv koden din her"
   ]
  },
  {
   "cell_type": "markdown",
   "metadata": {},
   "source": [
    "&nbsp;"
   ]
  },
  {
   "cell_type": "markdown",
   "metadata": {},
   "source": [
    "## 5 Strenger\n",
    "En **streng** kan sees på som en sekvens av tegn (characters) som ligger på hver sin gitte plass. Strenger har dermed mange av de samme egenskapene som lister som vi skal se på under."
   ]
  },
  {
   "cell_type": "code",
   "execution_count": null,
   "metadata": {},
   "outputs": [],
   "source": [
    "min_streng = \"Hei, jeg heter Vilde\""
   ]
  },
  {
   "cell_type": "markdown",
   "metadata": {},
   "source": [
    "For å aksessere elementene i strengen benytter vi indeksering på samme måte som med lister og tupler. Indeksen forteller hvilken \"plass\" vi er på i strengen på samme måte som vi så med lister tidligere i kompendiet. Den første indeksen i strengen er 0 og den siste er *antall elementer - 1*. Det vil si at det første elementet i `min_streng`, `'H'`,  kan hentes ut slik:"
   ]
  },
  {
   "cell_type": "code",
   "execution_count": null,
   "metadata": {},
   "outputs": [],
   "source": [
    "min_streng[0]"
   ]
  },
  {
   "cell_type": "markdown",
   "metadata": {},
   "source": [
    "Det siste elementet av `min_streng` kan hentes ut slik: "
   ]
  },
  {
   "cell_type": "code",
   "execution_count": null,
   "metadata": {},
   "outputs": [],
   "source": [
    "min_streng[-1] "
   ]
  },
  {
   "cell_type": "markdown",
   "metadata": {},
   "source": [
    "Eller slik: "
   ]
  },
  {
   "cell_type": "code",
   "execution_count": null,
   "metadata": {},
   "outputs": [],
   "source": [
    "min_streng[len(min_streng)-1]"
   ]
  },
  {
   "cell_type": "markdown",
   "metadata": {},
   "source": [
    "Når vi aksesserer siste indeks ved bruk av -1 aksesserer vi posisjonen \"bakifra\" på samme måte som beskrevet for lister. Siste indeks er -1, nest siste er -2 osv. \n",
    "\n",
    "På samme måte som med lister, kan man også benytte **slicing** for å hente ut en del av strengen. I kodeblokken under henter vi ut de første 4 charactersene av `min_streng`. Husk at start- og sluttindeksen er ```start <= x < slutt``` som vil si at det er fra og med ```start```til (men ikke med) ```slutt```. "
   ]
  },
  {
   "cell_type": "code",
   "execution_count": null,
   "metadata": {},
   "outputs": [],
   "source": [
    "min_streng[0:4]"
   ]
  },
  {
   "cell_type": "markdown",
   "metadata": {},
   "source": [
    "Kodeblokken under er lagt til for at du skal kunne leke deg litt frem med strenger selv. Gjerne kombiner det med konsepter du har lært tidligere som if-setninger, løkker og funksjoner."
   ]
  },
  {
   "cell_type": "code",
   "execution_count": null,
   "metadata": {},
   "outputs": [],
   "source": []
  },
  {
   "cell_type": "markdown",
   "metadata": {},
   "source": [
    "&nbsp;"
   ]
  },
  {
   "cell_type": "markdown",
   "metadata": {},
   "source": [
    "### 5.1 Indeksering, slicing og traversering med strenger\n",
    "<img src=\"bilder/streng_egenskaper.png\" style=\"height: 300px; \"/>"
   ]
  },
  {
   "cell_type": "markdown",
   "metadata": {},
   "source": [
    "&nbsp;"
   ]
  },
  {
   "cell_type": "markdown",
   "metadata": {},
   "source": [
    "### 5.2 Innebygde streng-funksjoner"
   ]
  },
  {
   "cell_type": "markdown",
   "metadata": {},
   "source": [
    "<img src=\"bilder/streng_funksjoner.png\" style=\"height: 270px; \"/>"
   ]
  },
  {
   "cell_type": "markdown",
   "metadata": {},
   "source": [
    "&nbsp;"
   ]
  },
  {
   "cell_type": "markdown",
   "metadata": {},
   "source": [
    "### 5.3 Strenger er ikke-muterbare\n",
    "\n",
    "\n",
    "\n",
    "Strenger kan *ikke* muteres, som vil si at det er flere funksjoner som eksisterer for lister som *ikke* fungerer for strenger. Blant dem er :\n",
    "* Sortering: ```streng.sort()``` fungerer ikke\n",
    "* Reversering: ```streng.reverse()```fungerer ikke\n",
    "* Endre bestemte karakterer i strenger (f.eks. ```streng[0] = 'A'```) fungerer ikke\n",
    "* Legge til i samme streng-variabel: ```streng.append()``` fungerer ikke\n",
    "* Slette en del av en streng: ```string.remove()``` fungerer ikke\n",
    "\n",
    "**Dette vil gi feilmeldinger!**\n",
    "\n",
    "<img src=\"bilder/error.png\" style=\"height: 180px; \"/>\n"
   ]
  },
  {
   "cell_type": "markdown",
   "metadata": {},
   "source": [
    "&nbsp;"
   ]
  },
  {
   "cell_type": "markdown",
   "metadata": {},
   "source": [
    "### 5.4 Konvertering mellom streng og liste\n",
    "Selv om strenger er *ikke-muterbare* kan vi konvertere de til lister og bruke listefunksjonaliteten til å mutere dem for deretter å konvertere de tilbake til strenger igjen. Kodeblokken under konverterer en streng til en liste. "
   ]
  },
  {
   "cell_type": "code",
   "execution_count": null,
   "metadata": {},
   "outputs": [],
   "source": [
    "streng = \"Per\"\n",
    "\n",
    "liste = list(streng)"
   ]
  },
  {
   "cell_type": "code",
   "execution_count": null,
   "metadata": {},
   "outputs": [],
   "source": [
    "liste"
   ]
  },
  {
   "cell_type": "markdown",
   "metadata": {},
   "source": [
    "Nå som strengen er konvertert til en liste, kan vi mutere den ved hjelp av liste-funksjonene. Under legger vi til flere tegn i strengen før vi skal konvertere den tilbake til en streng."
   ]
  },
  {
   "cell_type": "code",
   "execution_count": null,
   "metadata": {},
   "outputs": [],
   "source": [
    "liste.append(\"-\")\n",
    "liste.append(\"O\")\n",
    "liste.append(\"v\")\n",
    "liste.append(\"e\")\n"
   ]
  },
  {
   "cell_type": "code",
   "execution_count": null,
   "metadata": {},
   "outputs": [],
   "source": [
    "liste"
   ]
  },
  {
   "cell_type": "markdown",
   "metadata": {},
   "source": [
    "Vi kan nå mutere listen og lage den strengen vi ønsker. Hvis vi ønsker å konvertere den tilbake kan vi bruke ```\"\".join()```."
   ]
  },
  {
   "cell_type": "code",
   "execution_count": null,
   "metadata": {},
   "outputs": [],
   "source": [
    "\"\".join(liste)"
   ]
  },
  {
   "cell_type": "markdown",
   "metadata": {},
   "source": [
    "**Merk at selv om strenger ikke er muterbare, så kan man summere to strenger sammen som gir en viss grad for muterbarhet. Under summerer vi to strenger sammen som gjør det samme som vi gjorde med bruk av lister over**"
   ]
  },
  {
   "cell_type": "code",
   "execution_count": null,
   "metadata": {},
   "outputs": [],
   "source": [
    "\"Per\" +\"-Ove\""
   ]
  },
  {
   "cell_type": "markdown",
   "metadata": {},
   "source": [
    "Men! man kan ikke trekke strenger fra hverandre - dette vil gi en feilmelding som under. "
   ]
  },
  {
   "cell_type": "code",
   "execution_count": null,
   "metadata": {},
   "outputs": [],
   "source": [
    "\"Per-Ove\" - \"Ove\""
   ]
  },
  {
   "cell_type": "markdown",
   "metadata": {},
   "source": [
    "&nbsp;"
   ]
  },
  {
   "cell_type": "markdown",
   "metadata": {},
   "source": [
    "### 5.5 Iterere over strenger\n",
    "På samme måte som man itererer gjennom lister så kan man også iterere over strenger ved å bruke en element-løkke eller en index counter-løkke. Begge eksemplene er vist under. Merk at selv om man ikke kan mutere strenger, så kan man indeksere de - altså hente ut characters på en spesifikk indeks. "
   ]
  },
  {
   "cell_type": "code",
   "execution_count": null,
   "metadata": {},
   "outputs": [],
   "source": [
    "navn = \"Vilde\""
   ]
  },
  {
   "cell_type": "markdown",
   "metadata": {},
   "source": [
    "**Element**"
   ]
  },
  {
   "cell_type": "code",
   "execution_count": null,
   "metadata": {},
   "outputs": [],
   "source": [
    "for char in navn:\n",
    "    print(char)"
   ]
  },
  {
   "cell_type": "markdown",
   "metadata": {},
   "source": [
    "Merk at vi bruker ```for char in``` istedenfor ```for element in```. Det har egentlig ikke noe å si hvilket variabelnavn vi bruker her, så lenge vi er *konsistente* i koden. Dvs. at når vi har valgt å bruke *char*, så er det også det vi refererer til senere. \n",
    "\n",
    "Ofte velger vi et ord som er beskrivende for det vi driver med som ```char``` når vi refererer til characters i en streng, og ```element``` når vi refererer til elementene i en liste. Hvis listen innholder en spesiell ting, f.eks. navn kan det også være naturlig å skrive ```for name in list```."
   ]
  },
  {
   "cell_type": "markdown",
   "metadata": {},
   "source": [
    "**Index counter**"
   ]
  },
  {
   "cell_type": "code",
   "execution_count": null,
   "metadata": {},
   "outputs": [],
   "source": [
    "for i in range(len(navn)):\n",
    "    print(navn[i])"
   ]
  },
  {
   "cell_type": "markdown",
   "metadata": {},
   "source": [
    "&nbsp;"
   ]
  },
  {
   "cell_type": "markdown",
   "metadata": {},
   "source": [
    "### 5.6 Strengformattering og -konkatinering\n",
    "Hvis man ønsker å skrive ut strenger på en fin måte kan man bruke **formattering** og **konkatinering**. Det finnes mange måter å gjøre dette på, hvorav noen er nevnt under. Det er ikke så farlig hvilken metode man velger så lenge man kan utføre handlingen man prøver på. \n",
    "\n",
    "<img src=\"bilder/streng_formattering.png\" style=\"height: 270px; \"/>"
   ]
  },
  {
   "cell_type": "markdown",
   "metadata": {},
   "source": [
    "**Eksempel på strengformattering**\n"
   ]
  },
  {
   "cell_type": "code",
   "execution_count": null,
   "metadata": {},
   "outputs": [],
   "source": [
    "d = [ [\"Vilde\", 24],\n",
    "     [\"Ola\", 42],\n",
    "     [\"Kari\", 30]]\n",
    "     \n",
    "# {:<x} betyr at strengen skal være venstrestilt med bredde x\n",
    "print(\"{:<8} {:<15}\".format('Name','Age'))\n",
    "\n",
    "for v in d:\n",
    "    name, age = v\n",
    "    print (\"{:<8} {:<15}\".format( name, age,))"
   ]
  },
  {
   "cell_type": "markdown",
   "metadata": {},
   "source": [
    "&nbsp;"
   ]
  },
  {
   "cell_type": "markdown",
   "metadata": {},
   "source": [
    "### 5.7 Sjekke eksistens / substrenger\n",
    "Man kan også sjekke om en streng er en substreng av en annen streng ved å bruke følgende syntaks. \n",
    "\n",
    "    if <substring> in <string>:\n",
    "        <kodeblokk>\n",
    "                \n",
    "Dette kan også brukes til å sjekke om en streng inneholder en character, eller på lister for å sjekke om et element er en del av en liste."
   ]
  },
  {
   "cell_type": "code",
   "execution_count": null,
   "metadata": {},
   "outputs": [],
   "source": [
    "\"kake\" in \"sitronkake\""
   ]
  },
  {
   "cell_type": "code",
   "execution_count": null,
   "metadata": {},
   "outputs": [],
   "source": [
    "\"bolle\" in \"sitronkake\""
   ]
  },
  {
   "cell_type": "code",
   "execution_count": null,
   "metadata": {},
   "outputs": [],
   "source": [
    "\"Per\" in [\"Per\", \"Pål\", \"Askeladden\"]"
   ]
  },
  {
   "cell_type": "markdown",
   "metadata": {},
   "source": [
    "&nbsp;"
   ]
  },
  {
   "cell_type": "markdown",
   "metadata": {},
   "source": [
    "### 5.8 Oppgaver: Strenger\n",
    "Test om du har forstått *strenger* i Python ved å løse oppgavene under. "
   ]
  },
  {
   "cell_type": "markdown",
   "metadata": {},
   "source": [
    "**Oppgave 7: Hva printes her?**\n",
    "\n",
    "<img src=\"bilder/myst_function.png\" style=\"height: 250px; \"/>\n"
   ]
  },
  {
   "cell_type": "markdown",
   "metadata": {},
   "source": [
    "*Svar: Dobbeltklikk her for å skrive svaret ditt.*"
   ]
  },
  {
   "cell_type": "code",
   "execution_count": null,
   "metadata": {},
   "outputs": [],
   "source": [
    "# Denne boksen er lagt til for å kladde hvis du trenger det \n",
    "# - men prøv uten først!"
   ]
  },
  {
   "cell_type": "markdown",
   "metadata": {},
   "source": [
    "**Oppgave 8: Samme lengde**\n",
    "\n",
    "Lag en funksjon `check_equal_lenght` som tar inn to strenger, `string1` og `string2`, som sjekker om strengene er like lange. Den skal returnere `True` dersom strengene er like lange, og `False` ellers."
   ]
  },
  {
   "cell_type": "code",
   "execution_count": null,
   "metadata": {},
   "outputs": [],
   "source": []
  },
  {
   "cell_type": "markdown",
   "metadata": {},
   "source": [
    "**Oppgave 9: Funny word**\n",
    "\n",
    "Lag en funksjon `funny_word` som tar inn inputparameteren `word`. `funny_word` skal bytte ut alle vokalene i `word` med en ny tilfeldig vokal. <br> <br>\n",
    "*Hint*\n",
    "* vokaler = `['a','e','i','o','u’]`, `for char in word:`, `if char in vokaler:` "
   ]
  },
  {
   "cell_type": "code",
   "execution_count": null,
   "metadata": {},
   "outputs": [],
   "source": []
  },
  {
   "cell_type": "markdown",
   "metadata": {},
   "source": [
    "**Oppgave 10: Telleren**\n",
    "\n",
    "Lag en funksjon ```count_occurrence``` som tar inn inputparameterene ```word```og ```character``` og teller antall forekomster av ```character```i ```word``` og returnerer tallet. "
   ]
  },
  {
   "cell_type": "code",
   "execution_count": null,
   "metadata": {},
   "outputs": [],
   "source": []
  },
  {
   "cell_type": "markdown",
   "metadata": {},
   "source": [
    "&nbsp;"
   ]
  },
  {
   "cell_type": "markdown",
   "metadata": {},
   "source": [
    "##  6. Sett og Dictionaries\n",
    "Sett og dictionaries har til felles at de ikke har en rekkefølge, men at de begge utgjør en uordnet samling av elementer. Denne seksjonen tar først for seg sett etterfulgt av dictionaries, med noen oppgaver til slutt."
   ]
  },
  {
   "cell_type": "markdown",
   "metadata": {},
   "source": [
    "### 6.1 Sets\n",
    "Et **sett** er en uordnet samling av elementer som er itererbar, muterbar og ikke  har duplikate elementer. Hvis du er kjent med sett fra matematikken, fungerer sett i Python på lik måte.\n",
    "\n",
    "\n",
    "\n",
    "Sett fungerer på mange måter likt som en liste; man kan eksempelvis også legge til elementer i sett. Et sett har ikke indekser, så man kan *ikke* aksessere elementer ved hjelp av indeks som man gjør med lister og strenger. "
   ]
  },
  {
   "cell_type": "code",
   "execution_count": null,
   "metadata": {},
   "outputs": [],
   "source": [
    "mitt_sett = set([\"a\", \"b\", \"c\"])\n",
    "mitt_sett"
   ]
  },
  {
   "cell_type": "markdown",
   "metadata": {},
   "source": [
    "For å legge til et element i settet kan vi bruke `.add()`-funksjonen:"
   ]
  },
  {
   "cell_type": "code",
   "execution_count": null,
   "metadata": {},
   "outputs": [],
   "source": [
    "mitt_sett.add(\"d\")\n",
    "mitt_sett"
   ]
  },
  {
   "cell_type": "markdown",
   "metadata": {},
   "source": [
    "For å fjerne et element fra settet kan vi bruke `.discard()`-funksjonen:"
   ]
  },
  {
   "cell_type": "code",
   "execution_count": null,
   "metadata": {},
   "outputs": [],
   "source": [
    "mitt_sett.discard(\"d\")\n",
    "mitt_sett"
   ]
  },
  {
   "cell_type": "markdown",
   "metadata": {},
   "source": [
    "Dersom vi har en liste med flere forekomster, men ønsker å gjøre om til å bare ha én forekomst per element kan vi gjøre om listen til et sett. Siden et sett ikke har duplikate elementer vil det kun beholde en forekomst per element."
   ]
  },
  {
   "cell_type": "code",
   "execution_count": null,
   "metadata": {},
   "outputs": [],
   "source": [
    "duplikate_elementer = [1,1,2,2,4,4,2,1,1,3,3,3]\n",
    "ingen_duplikater = set(duplikate_elementer)\n",
    "ingen_duplikater"
   ]
  },
  {
   "cell_type": "markdown",
   "metadata": {},
   "source": [
    "Hvis vi vil konvertere settet vårt til en liste kan vi gjøre følgende:"
   ]
  },
  {
   "cell_type": "code",
   "execution_count": null,
   "metadata": {},
   "outputs": [],
   "source": [
    "min_liste = list(ingen_duplikater)\n",
    "min_liste"
   ]
  },
  {
   "cell_type": "markdown",
   "metadata": {},
   "source": [
    "Nå har vi en liste uten duplikate elementer. "
   ]
  },
  {
   "cell_type": "markdown",
   "metadata": {},
   "source": [
    "#### Sett-operasjoner\n",
    "På samme måte som i matematikken kan man utføre operasjoner på sett, som å ta union, differansen eller snittet av settet.\n",
    "<img src=\"bilder/sett_operasjoner.png\" style=\"height: 270px; \"/>"
   ]
  },
  {
   "cell_type": "markdown",
   "metadata": {},
   "source": [
    "<img src=\"bilder/sett_operasjoner2.png\" style=\"height: 270px; \"/>"
   ]
  },
  {
   "cell_type": "markdown",
   "metadata": {},
   "source": [
    "#### Sett-funksjoner"
   ]
  },
  {
   "cell_type": "markdown",
   "metadata": {},
   "source": [
    "<img src=\"bilder/sett_funksjoner.png\" style=\"height: 270px; \"/>\n"
   ]
  },
  {
   "cell_type": "markdown",
   "metadata": {},
   "source": [
    "&nbsp;"
   ]
  },
  {
   "cell_type": "markdown",
   "metadata": {},
   "source": [
    "### 6.2 Dictionaries"
   ]
  },
  {
   "cell_type": "markdown",
   "metadata": {},
   "source": [
    "En **dictionary** er en muterbar samling av elementer som kan sammenlignes med et oppslagsverk. I likhet til sett og i motsetning til lister kan *ikke* dictionaries indekseres basert på plass/tall. Elementer hentes ut basert på `keys`. På et abstrakt nivå består dictionaries av en `key`med en assosiert `value`."
   ]
  },
  {
   "cell_type": "markdown",
   "metadata": {},
   "source": [
    "<img src=\"bilder/dictionary.png\" style=\"height: 220px; \"/>"
   ]
  },
  {
   "cell_type": "markdown",
   "metadata": {},
   "source": [
    "Under er det definert en dictionary, `vitass_alder`, som inneholder navnet til tidligere vitasser i ITGK som `key` med alderen deres som tilhørende `value`:"
   ]
  },
  {
   "cell_type": "code",
   "execution_count": null,
   "metadata": {},
   "outputs": [],
   "source": [
    "vitass_alder = {\"Vilde\": 23, \"Harald\": 23, \"Magnus\":24, \"Sindre\": 25, \"Bjørn Kåre\":24}"
   ]
  },
  {
   "cell_type": "markdown",
   "metadata": {},
   "source": [
    "For å hente ut en `value` fra en dictionary bruker vi den tilhørende `key`-en. Under henter vi ut alderen (value) til Vilde (key)"
   ]
  },
  {
   "cell_type": "code",
   "execution_count": null,
   "metadata": {},
   "outputs": [],
   "source": [
    "vitass_alder[\"Vilde\"]"
   ]
  },
  {
   "cell_type": "markdown",
   "metadata": {},
   "source": [
    "Vi kan også sjekke om en `key` eksisterer i en dictionary. Merk at ved å bruke `element in dictionary` vil den automatisk sjekke keys og ikke values"
   ]
  },
  {
   "cell_type": "code",
   "execution_count": null,
   "metadata": {},
   "outputs": [],
   "source": [
    "\"Harald\" in vitass_alder"
   ]
  },
  {
   "cell_type": "markdown",
   "metadata": {},
   "source": [
    "Hvis vi ønsker å sjekke om en `value` eksisterer i dictionary må vi bruke `.values()`-funksjonen som henter ut verdiene i notebooken:"
   ]
  },
  {
   "cell_type": "code",
   "execution_count": null,
   "metadata": {},
   "outputs": [],
   "source": [
    "23 in vitass_alder.values()"
   ]
  },
  {
   "cell_type": "markdown",
   "metadata": {},
   "source": [
    "På samme måte som med lister, kan vi også iterere gjennom dictionarien ved hjelp av en for-løkke:"
   ]
  },
  {
   "cell_type": "markdown",
   "metadata": {},
   "source": [
    "**Iterere gjennom `keys`**"
   ]
  },
  {
   "cell_type": "code",
   "execution_count": null,
   "metadata": {},
   "outputs": [],
   "source": [
    "for key in vitass_alder:\n",
    "    print(key, \"har alderen\", vitass_alder[key])"
   ]
  },
  {
   "cell_type": "markdown",
   "metadata": {},
   "source": [
    "**Iterere gjennom `values`**"
   ]
  },
  {
   "cell_type": "code",
   "execution_count": null,
   "metadata": {},
   "outputs": [],
   "source": [
    "for value in vitass_alder.values():\n",
    "    print(value)"
   ]
  },
  {
   "cell_type": "markdown",
   "metadata": {},
   "source": [
    "**Iterere gjennom `key`og `values`samtidig**"
   ]
  },
  {
   "cell_type": "code",
   "execution_count": null,
   "metadata": {},
   "outputs": [],
   "source": [
    "for key, value in vitass_alder.items():\n",
    "    print(key, value)"
   ]
  },
  {
   "cell_type": "markdown",
   "metadata": {},
   "source": [
    "#### Dictionary-funksjoner\n",
    "<img src=\"bilder/dictionary_funksjoner.png\" style=\"height: 230px; \"/>"
   ]
  },
  {
   "cell_type": "code",
   "execution_count": null,
   "metadata": {},
   "outputs": [],
   "source": []
  },
  {
   "cell_type": "markdown",
   "metadata": {},
   "source": [
    "### 6.3 Oppgaver: Sett og dictionaries"
   ]
  },
  {
   "cell_type": "markdown",
   "metadata": {},
   "source": [
    "**Oppgave 11: Shopping List**\n",
    "    \n",
    "*Du har fått beskjed om å ta vare på alle prisene til elementene i handlelisten til moren din*\n",
    "\n",
    "**a)** Lag en ny dictionary `shopping_list` som inneholder følgende elementer som key med korresponderende pris som value. Print ut prisen til brød etter handlelisten er definert.\n",
    "* 'Brød': 23\n",
    "* 'Melk': 17\n",
    "* 'Egg': 39\n",
    "* 'Smør': 30"
   ]
  },
  {
   "cell_type": "code",
   "execution_count": null,
   "metadata": {},
   "outputs": [],
   "source": []
  },
  {
   "cell_type": "markdown",
   "metadata": {},
   "source": [
    "*Prisene endrer seg raskt som fy. Du har fått beskjed om å legge til funksjonalitet i programmet ditt for å oppdatere prisene i handlelisten*"
   ]
  },
  {
   "cell_type": "markdown",
   "metadata": {},
   "source": [
    "**b)** Lag en funksjon `update_price` som tar inn parameterne `item` og `price` og oppdaterer prisen til `item` til den nye prisen `price` i `shopping_list`"
   ]
  },
  {
   "cell_type": "code",
   "execution_count": null,
   "metadata": {},
   "outputs": [],
   "source": []
  },
  {
   "cell_type": "markdown",
   "metadata": {},
   "source": [
    "*Moren din vil nå ha listen pent printet ut på en handlelapp*\n",
    "\n",
    "**c)** Lag en funksjon, `print_shopping_list`, som tar inn en dictionary `dictionary` og itererer gjennom alle elementene i `dictionary` og printer ut item med korresponderende pris med `:` i mellom og `kr` på slutten.\n",
    "* Hint: Item er key i dict og prisen er value\n",
    "* Hint: en value til korresponderende key kan hentes ut ved `dictionary[key]`"
   ]
  },
  {
   "cell_type": "code",
   "execution_count": null,
   "metadata": {},
   "outputs": [],
   "source": []
  },
  {
   "cell_type": "markdown",
   "metadata": {},
   "source": [
    "**d)** Lag en funksjon `total_price_shopping`, som tar inn to dictionaries: \n",
    "* En dictionary, `prices`. Den kan (men må ikke) se slik ut: `{\"Brød\": 23, \"Melk\": 17, \"Kattemat\": 3, \"Egg: 30}`\n",
    "* En dictionary `numer_of_items` som representerer en \"handlekurv\", og kan (men må ikke) se slik ut: `{\"Melk\": 2, \"Egg\": 4}`. Dette betyr at det ligger to melk og 4 egg i handlekurven.\n",
    "\n",
    "Returner total pris på handlekurven, ved hjelp av de to dictionariene. \n"
   ]
  },
  {
   "cell_type": "code",
   "execution_count": null,
   "metadata": {},
   "outputs": [],
   "source": []
  },
  {
   "cell_type": "markdown",
   "metadata": {},
   "source": [
    "**Oppgave 11: Random**\n",
    "    \n",
    "Lag en funksjon `random_set` som prøver ti ganger å legge til et tilfeldig heltall mellom 1 og 10 i et sett. \n",
    "* For hvert tall du prøver å legge til, print tallet\n",
    "* Print til slutt det endelige settet og lengden av settet\n",
    "* Hint: `my_set.add(verdi)`\n",
    "* Hint: `print(my_set, \"har lengde\", len(my_set))`"
   ]
  },
  {
   "cell_type": "code",
   "execution_count": null,
   "metadata": {},
   "outputs": [],
   "source": []
  },
  {
   "cell_type": "markdown",
   "metadata": {},
   "source": [
    "**Oppgave 12: Navneliste**\n",
    "\n",
    "Du har en todimensjonal liste som inneholder fornavn og etternavn på formatet:\n",
    "\n",
    "    [[fornavn1, etternavn1],\n",
    "     [fornavn2, etternavn2],\n",
    "            ...\n",
    "     [fornavnN, etternavnN]]\n",
    " \n",
    "Antall personer i tabellen kan variere, men det vil alltid kun være oppgitt et fornavn og et etternavn for hver person som begge er strenger. Det vil si at dersom en person har et mellomnavn vil dette være del av samme streng som fornavn i tabellen. \n",
    "\n",
    "Lag en funksjon som heter ```name_list``` og som tar innen slik tabell . Funksjonen skal lage en navneliste i form av en dictionary som har etternavn som key og fornavn som value. Dersom det er flere personer med samme etternavn skal fornavnene lagres i en liste tilknyttet keyen til deres etternavn.\n"
   ]
  },
  {
   "cell_type": "code",
   "execution_count": null,
   "metadata": {},
   "outputs": [],
   "source": []
  },
  {
   "cell_type": "markdown",
   "metadata": {},
   "source": [
    "**Oppgave 13: Matliste-dictionary (Eksamen Kont 2019)**\n",
    "\n",
    "Til denne oppgaven trenger du en liste over matretter og ingredienser. Denne får du utdelt her:\n"
   ]
  },
  {
   "cell_type": "code",
   "execution_count": null,
   "metadata": {},
   "outputs": [],
   "source": [
    "# liste til oppgaven\n",
    "liste = ['pannekaker: egg, mel, salt, melk\\n', 'grandiosa: grandiosa\\n', \n",
    "         'paprikasaus: sjalottløk, hvitløk, olje, buljong, smør, salt, pepper\\n', \n",
    "         'omelett: egg, vann, salt, smør, skinke, hvitost, paprika \\n']\n",
    "\n",
    "# Skriv din kode her"
   ]
  },
  {
   "cell_type": "markdown",
   "metadata": {},
   "source": [
    "**a)** Først og fremst trenger vi en funksjon for å rydde i denne listen. Gitt en streng med ord atskilt av komma og mellomrom ‘,‘, lag funksjonen ```fix_ingredients(string)``` som returnerer en liste med alle substrenger som elementer i en liste. Funksjonen skal fungere på vilkårlige matvarer, som vist i eksempelet under. Legg merke til hva som skjer med mellomrom og andre ‘whitespace’-tegn.\n",
    "\n",
    "Eksempel:\n",
    "<img src=\"bilder/eksamen_kont2019_1.png\" style=\"height: 90px; \"/>\n"
   ]
  },
  {
   "cell_type": "code",
   "execution_count": null,
   "metadata": {},
   "outputs": [],
   "source": []
  },
  {
   "cell_type": "markdown",
   "metadata": {},
   "source": [
    "**b)** Du skal nå lage en funksjon ```make_dict(foodlist)```. Denne tar inn listen du fikk oppgitt over (```liste```), altså en liste med strenger. Funksjonen skal returnere en ordbok (dictionary). Nøkkelen til hvert oppslag skal være alt som står foran det første kolonet ‘:’ i hvert element (altså matretten det er snakk om). Innholdet bak nøkkelen skal være\n",
    "en liste som inneholder ingrediensene til hver matrett. Funksjonen skal fungere for vilkårlige matretter, og som\n",
    "vist under:\n",
    "\n",
    "<img src=\"bilder/eksamen_kont2019.png\" style=\"height: 120px; \"/>\n",
    "\n",
    "**Oppsummert:** Du skal lage funksjon som lager en dictionary der nøkkelen til hvert oppslag skal være alt som står\n",
    "foran det første kolonet ‘:’ i hvert element, mens innholdet bak nøkkelen skal være\n",
    "en liste som inneholder ingrediensene til hver matrett. Kjør funksjonen og lagre den i variablen ```food_dict```."
   ]
  },
  {
   "cell_type": "code",
   "execution_count": null,
   "metadata": {},
   "outputs": [],
   "source": []
  },
  {
   "cell_type": "markdown",
   "metadata": {},
   "source": [
    "**c)** Skriv oppsummering og ingredienser for én spesifikk rett: ```print_recipe()```. Nå skal du bruke ordboken ```food_dict``` fra forrige oppgave. Funksjonen ```print_recipe()``` skal ta inn denne ordboken samt en matrett (streng), og skrive ut informasjon om hvor mange ingredienser retten inneholder og hva disse er. Under vises hva funksjonen har som input, og hva som skal skrives ut. Legg merke til at listen over ingredienser skal skrives ut på en fin måte, f.eks som vist under:\n",
    "\n",
    "<img src=\"bilder/eksamen_kont2019_2.png\" style=\"height: 70px; \"/>\n",
    "\n"
   ]
  },
  {
   "cell_type": "code",
   "execution_count": null,
   "metadata": {},
   "outputs": [],
   "source": []
  },
  {
   "cell_type": "markdown",
   "metadata": {},
   "source": [
    "**NB**: Denne oppgaven er som nevnt hentet fra konteeksamen fra 2019. Hvis du ønsker flere utfordringer knyttet til denne oppgaven, så finnes det flere deloppgaver hvis du sjekker Eksamen Kont 2019 på [denne linken](https://itgkhub.apps.stack.it.ntnu.no/hub/user-redirect/git-pull?repo=https%3A%2F%2Fgitlab.stud.idi.ntnu.no%2Fitgk2020%2Fitgk-2020-vinger&urlpath=tree%2Fitgk-2020-vinger%2F%2FEksamensoppgaver%2Feksamen_kont_2019%2Feksamen_kont_2019_programmering.ipynb&branch=master). "
   ]
  },
  {
   "cell_type": "markdown",
   "metadata": {},
   "source": [
    "&nbsp;"
   ]
  }
 ],
 "metadata": {
  "kernelspec": {
   "display_name": "Python 3",
   "language": "python",
   "name": "python3"
  },
  "language_info": {
   "codemirror_mode": {
    "name": "ipython",
    "version": 3
   },
   "file_extension": ".py",
   "mimetype": "text/x-python",
   "name": "python",
   "nbconvert_exporter": "python",
   "pygments_lexer": "ipython3",
   "version": "3.9.0"
  }
 },
 "nbformat": 4,
 "nbformat_minor": 4
}
