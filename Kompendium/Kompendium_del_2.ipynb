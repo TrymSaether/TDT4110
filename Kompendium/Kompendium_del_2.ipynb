{
 "cells": [
  {
   "cell_type": "markdown",
   "metadata": {},
   "source": [
    "# Del 2: Kompendium ITGK \n",
    "**Denne notebooken forklarer boolske operatorer, innebygde funksjoner og moduler i Python.**\n"
   ]
  },
  {
   "cell_type": "markdown",
   "metadata": {},
   "source": [
    "&nbsp;"
   ]
  },
  {
   "cell_type": "markdown",
   "metadata": {},
   "source": [
    "## 1 Introduksjon"
   ]
  },
  {
   "cell_type": "markdown",
   "metadata": {},
   "source": [
    "Dette kompendiet er laget av Vilde Roland Arntzen og Miriam Størseth Lillebo sommeren 2021. Kompendiet skal fungere som en ekstraressurs ved siden av annet fagmateriell som bøker, øvinger, forelesninger og øvingsforelesninger. Kompendiet tar utgangspunkt i pensumplisten for  programmeringsdelen av TDT4110 høsten 2020, og kombinerer forklaring av konsepter og relevante oppgaver."
   ]
  },
  {
   "cell_type": "markdown",
   "metadata": {},
   "source": [
    "<img src=\"bilder/intro.png\" style=\"height: 160px; \"/>"
   ]
  },
  {
   "cell_type": "markdown",
   "metadata": {},
   "source": [
    "&nbsp;"
   ]
  },
  {
   "cell_type": "markdown",
   "metadata": {},
   "source": [
    "## 2 Innhold"
   ]
  },
  {
   "cell_type": "markdown",
   "metadata": {},
   "source": [
    "Kompendiet består av 6 notebooks som tar for seg ulike deler av pensum. Denne notebooken er nummer 2 av 6. Vi har forsøkt å bygge opp notebookene slik at de først gir en introduksjon til temaet med nyttige eksempler og deretter gir noen oppgaver som du kan ha nytte av å løse selv. Dette inkluderer oppgaver vi har laget selv som vi mener er relevante, og tidligere eksamensoppgaver. "
   ]
  },
  {
   "cell_type": "markdown",
   "metadata": {},
   "source": [
    "1. Introduksjon til Python og kalkulasjoner\n",
    "2. **Boolske operatorer, innebygde funksjoner i Python og moduler**\n",
    "3. Løkker\n",
    "4. Selvprogrammerte funksjoner\n",
    "5. Lister, tupler, strenger, og dictionaries og sett\n",
    "6. Filbehandling og feilhåndtering"
   ]
  },
  {
   "cell_type": "markdown",
   "metadata": {},
   "source": [
    "&nbsp;"
   ]
  },
  {
   "cell_type": "markdown",
   "metadata": {},
   "source": [
    "## 3 Boolske operatorer og moduler"
   ]
  },
  {
   "cell_type": "markdown",
   "metadata": {},
   "source": [
    "### 3.1 Sammenligning med boolske operatorer\n",
    "I del 1 av kompendiet lærte vi om operatorer som lar oss utføre kalkulasjoner i Python. **Boolske operatorer** er operatorer som lar oss sammenligne verdier, og returnerer en sannhetsverdi (```True```eller ```False```). Tabellen under viser ulike boolske operatorer som kan brukes til å sammenligne verdier"
   ]
  },
  {
   "cell_type": "markdown",
   "metadata": {},
   "source": [
    "<img src=\"bilder/sammenligning.png\" style=\"height: 210px; \"/>"
   ]
  },
  {
   "cell_type": "markdown",
   "metadata": {},
   "source": [
    "**NB! Merk at ```==``` er en *operator* og er IKKE det samme som ```=``` som brukes til å *tilegne en verdi til en variabel***"
   ]
  },
  {
   "cell_type": "markdown",
   "metadata": {},
   "source": [
    "Eksemplene under sammenligner matematiske verdier i Python. "
   ]
  },
  {
   "cell_type": "markdown",
   "metadata": {},
   "source": [
    "$$2^2 \\leq 4$$"
   ]
  },
  {
   "cell_type": "code",
   "execution_count": null,
   "metadata": {},
   "outputs": [],
   "source": [
    "2**2 <= 4"
   ]
  },
  {
   "cell_type": "markdown",
   "metadata": {},
   "source": [
    "$$ 8 + 1 - 2 > 7 \\cdot 2$$"
   ]
  },
  {
   "cell_type": "code",
   "execution_count": null,
   "metadata": {},
   "outputs": [],
   "source": [
    "8 + 1 - 2 > 7 * 2"
   ]
  },
  {
   "cell_type": "markdown",
   "metadata": {},
   "source": [
    "$$2^3 == 2 \\cdot 2 \\cdot 2$$"
   ]
  },
  {
   "cell_type": "code",
   "execution_count": null,
   "metadata": {},
   "outputs": [],
   "source": [
    "2**3 == 2*2*2"
   ]
  },
  {
   "cell_type": "markdown",
   "metadata": {},
   "source": [
    "&nbsp;"
   ]
  },
  {
   "cell_type": "markdown",
   "metadata": {},
   "source": [
    "### 3.2 Importere moduler\n",
    "Noen ganger ønsker vi å utvide funksjonene i programmet vårt utover det som er tilgjengelig i Python. Dette kan gjøres ved å importere **moduler**. En modul tilbyr støtte for ekstra funksjonalitet i Python, utover det som vanligvis er tilgjengelig. Dette kan inkludere **innebygde funksjoner**, **variabler** og **datastrukturer** (dette kommer vi tilbake til i senere kompenium). En modul er i utgangspunktet en fil hvor man kan slå opp funksjonalitet, og fungerer derfor på mange måter som et bibliotek. Derfor kaller vi det ofte også for et bibliotek. \n",
    "\n",
    "For å importere en modul bruker vi ```import```-nøkkelordet. Kodeblokken under importerer ```math```-modulen som har ekstra funksjonalitet innenfor matematikk. Denne kodeblokken må ha kjørt før vi kan benytte oss av funksjonaliteten til ```math```-modulen."
   ]
  },
  {
   "cell_type": "code",
   "execution_count": null,
   "metadata": {},
   "outputs": [],
   "source": [
    "import math"
   ]
  },
  {
   "cell_type": "markdown",
   "metadata": {},
   "source": [
    "For å benytte oss av den importerte modulen på vi referere tilbake til den før vi kaller en funksjon eller henter ut en variabel. \n",
    "\n",
    "\n",
    "Kodeblokken under henter ut den faktiske verdien av pi fra ```math```-modulen. "
   ]
  },
  {
   "cell_type": "code",
   "execution_count": null,
   "metadata": {},
   "outputs": [],
   "source": [
    "math.pi"
   ]
  },
  {
   "cell_type": "markdown",
   "metadata": {},
   "source": [
    "Under regner vi ut $\\sqrt{9}$ ved hjelp av ```math```-modulen."
   ]
  },
  {
   "cell_type": "code",
   "execution_count": null,
   "metadata": {},
   "outputs": [],
   "source": [
    "math.sqrt(9)"
   ]
  },
  {
   "cell_type": "markdown",
   "metadata": {},
   "source": [
    "```math```-modulen er bare en av mange moduler. Under er et eksempel på en modul som dere kommer til å se mer til i dette emnet. ```random```modulen gir mulighet til å hente ut tilfeldige tall – på mange ulike måter. Kodeblokken under lar deg gi en øvre og en nedre grense og henter ut et tilfeldig tall mellom disse verdiene. "
   ]
  },
  {
   "cell_type": "code",
   "execution_count": null,
   "metadata": {},
   "outputs": [],
   "source": [
    "import random\n",
    "\n",
    "nedre = int(input(\"Nedre grense: \"))\n",
    "oevre = int(input(\"Øvre grense: \"))\n",
    "\n",
    "\n",
    "print(\"Et tilfeldig tall mellom\", nedre, \"og\", oevre, \"er\", random.randint(nedre, oevre))\n",
    "\n"
   ]
  },
  {
   "cell_type": "markdown",
   "metadata": {},
   "source": [
    "```random.randint(x,y)```tar inn to verdier, der ```x```er den nedre grensen og ```y``` er den øvre grensen og returnerer et tall lik eller mellom disse verdiene."
   ]
  },
  {
   "cell_type": "markdown",
   "metadata": {},
   "source": [
    "&nbsp;"
   ]
  },
  {
   "cell_type": "markdown",
   "metadata": {},
   "source": [
    "### 3.3 Oppgaver: Logiske operatorer og moduler\n",
    "Test om du har forstått *logiske operatorer* og *moduler* i Python ved å løse oppgavene under. "
   ]
  },
  {
   "cell_type": "markdown",
   "metadata": {},
   "source": [
    "**Oppgave 1: Logiske operatorer**\n",
    "\n",
    "Under er det listet opp ulike sammenligninger som bruker logiske operatorer. Din oppgave er å oversette disse til Python-kode.\n",
    "\n",
    "\n",
    "$$ 3 \\cdot 4^2 > 16 \\cdot 3$$"
   ]
  },
  {
   "cell_type": "code",
   "execution_count": null,
   "metadata": {},
   "outputs": [],
   "source": []
  },
  {
   "cell_type": "markdown",
   "metadata": {},
   "source": [
    "$$ 2 \\cdot 2 \\cdot 3 \\leq 2^3 $$"
   ]
  },
  {
   "cell_type": "code",
   "execution_count": null,
   "metadata": {},
   "outputs": [],
   "source": []
  },
  {
   "cell_type": "markdown",
   "metadata": {},
   "source": [
    "$$3^3 = 9$$"
   ]
  },
  {
   "cell_type": "code",
   "execution_count": null,
   "metadata": {},
   "outputs": [],
   "source": []
  },
  {
   "cell_type": "markdown",
   "metadata": {},
   "source": [
    "**Oppgave 2: Pantemaskin**\n",
    "\n",
    "I denne oppgaven skal du lage et system for en pantemaskin. Når brukeren panter flasker, kan h\\*n velge å få ut pengene for alle flaskene eller spille på \"pantelotteriet\".\n",
    "\n",
    "**a)** Du skal lage et program for å få tilbake pengene for panten på tradisjonelt vis. Du skal hente inn antall flasker som skal pantes fra bruker. Hver flaske gir 2kr i pant. Du skal først skrive ut antall kroner brukeren får igjen, deretter skrive ut på enn ny linje at brukeren har gjort noe bra for miljøet. \n",
    "\n",
    "*Hint: bruk ```input()```- og ```int()```-funksjonene*"
   ]
  },
  {
   "cell_type": "code",
   "execution_count": null,
   "metadata": {},
   "outputs": [],
   "source": []
  },
  {
   "cell_type": "markdown",
   "metadata": {},
   "source": [
    "**b)** Du skal nå utvide programmet og lage en funksjon for å spille i pantelotteriet. For at det skal lønne seg å pante flasker så øker vinnersjansene med antall flasker som pantes. Vinnersjansen gis som \n",
    "\n",
    "$$ x \\cdot \\frac{1}{100}$$\n",
    "\n",
    "Hvor $x$ er antall flasker som skal pantes. For at pantelotteriet skal simulere en trekning på du importere ```random```-biblioteket. Fra dette biblioteket kan du benytte ```randint()```-funksjonen til å hente ut tilfeldige tall. \n",
    "* Hent antall flasker som skal pantes ved å bruke ```input()```-funksjonen som i forrige oppgave, og lagre dette i en variabel ```x```\n",
    "* Skriv ut til bruker at dersom programmet printer True har den vunnet, og hvis programmet printer False har den tapt \n",
    "* Lag en variabel ```a``` som tar inn et tilfeldig tall mellom (eller lik) 1 og 100x\n",
    "* Dersom tallet er delelig med 100 (det vil si at resten er lik 0 når du deler tallet på 100) så har brukeren vunnet i pantelotteriet. (Hint: modulo-operatoren, ```a % b```, gir resten fra heltallsdivisjon når man deler a på b. "
   ]
  },
  {
   "cell_type": "code",
   "execution_count": null,
   "metadata": {},
   "outputs": [],
   "source": []
  },
  {
   "cell_type": "markdown",
   "metadata": {},
   "source": [
    "&nbsp;"
   ]
  },
  {
   "cell_type": "markdown",
   "metadata": {},
   "source": [
    "## 4 Logiske operatorer "
   ]
  },
  {
   "cell_type": "markdown",
   "metadata": {},
   "source": [
    "### 4.1 Boolske uttrykk og logiske operatorer\n",
    "Et **boolsk uttrykk** eller et **sannhetsuttrykk** er et uttrykk som produserer en sannhetsverdi, dvs. ```True```eller ```False```. Vi har tidligere sett på boolske operatorer i seksjon 3.1 som produserte boolske uttrykk. \n",
    "\n",
    "\n",
    "**Logiske operatorer** er operatorer som gjør det mulig å *kombinere* flere boolske uttrykk til en enhet og å ta *negasjonen* av de. Negasjon betyr nektelse og er en viktig sannhetsfunksjon. Hvis et utsagn er sant, er dets negasjon falsk, og motsatt. Tabellen under viser de ulike logiske operatorene.\n",
    "* ```a and b```: returnerer ```True```dersom a *og* b er ```True```.\n",
    "* ```a or b```: returnerer ```True```dersom a *eller* b er ```True```.\n",
    "* ```not a```: returnerer ```True```dersom a er ```False```.\n",
    "\n",
    "<img src=\"bilder/logiske_operatorer.png\" style=\"height: 170px; \"/>\n"
   ]
  },
  {
   "cell_type": "markdown",
   "metadata": {},
   "source": [
    "#### Eksempler på bruk av logiske operatorer\n",
    "\n"
   ]
  },
  {
   "cell_type": "code",
   "execution_count": null,
   "metadata": {},
   "outputs": [],
   "source": [
    "True and True"
   ]
  },
  {
   "cell_type": "code",
   "execution_count": null,
   "metadata": {},
   "outputs": [],
   "source": [
    "True and False"
   ]
  },
  {
   "cell_type": "code",
   "execution_count": null,
   "metadata": {},
   "outputs": [],
   "source": [
    "not (True and False)"
   ]
  },
  {
   "cell_type": "code",
   "execution_count": null,
   "metadata": {},
   "outputs": [],
   "source": [
    "a = True\n",
    "b = False\n",
    "\n",
    "\n",
    "# a and b gir False --> fordi ikke både a og b er False\n",
    "# a or b gir True --> fordi a er True\n",
    "not (a and b) and (a or b)"
   ]
  },
  {
   "cell_type": "markdown",
   "metadata": {},
   "source": [
    "&nbsp;"
   ]
  },
  {
   "cell_type": "markdown",
   "metadata": {},
   "source": [
    "### 4.2 Bryte ned logiske operatorer\n",
    "Det er *ikke* alltid åpenbart hva et resultat av å bruke logiske operatorer blir, særlig når man bruker mange logiske operatorer sammen. Derfor kan det være lurt å bryte ned de logiske operatorene i mindre biter for så å sette de sammen igjen. Under er eksempler på teknikker som kan brukes til å bryte ned logiske operatorer. "
   ]
  },
  {
   "cell_type": "markdown",
   "metadata": {},
   "source": [
    "<img src=\"bilder/bryte_ned_logiske_operatorer1.png\" style=\"height: 168px; \"/>\n"
   ]
  },
  {
   "cell_type": "markdown",
   "metadata": {},
   "source": [
    "<img src=\"bilder/bryte_ned_logiske_operatorer2.png\" style=\"height: 146px; \"/>\n"
   ]
  },
  {
   "cell_type": "markdown",
   "metadata": {},
   "source": [
    "I tillegg til de boolske operatorene vi har sett kan man også bruke ```is```-operatoren som sjekker om to verdier er identiske, eller ```is not```som sjekker om verdier ikke er identiske. Til sammen utgjør dette følgende operatorer for **sammenligning** av verdier."
   ]
  },
  {
   "cell_type": "markdown",
   "metadata": {},
   "source": [
    "<img src=\"bilder/sammenligning2.png\" style=\"height: 230px; \"/>\n"
   ]
  },
  {
   "cell_type": "markdown",
   "metadata": {},
   "source": [
    "**Merk her at ```=```og ```==``` ikke er det samme!**. To tegn (```==```) representerer en sammenligningsoperator som brukes til å sjekke om to verdier er like, mens ett tegn (```=```) brukes *kun* til å tilegne en variabel en verdi."
   ]
  },
  {
   "cell_type": "markdown",
   "metadata": {},
   "source": [
    "#### Eksempel på bruk av sammenligningsoperatorer\n",
    "Kjør kodeeksemplene under og forsøk å forstå hvorfor output blir som det blir. "
   ]
  },
  {
   "cell_type": "code",
   "execution_count": null,
   "metadata": {},
   "outputs": [],
   "source": [
    "a = True \n",
    "b = False\n",
    "x = 44\n",
    "y = 22"
   ]
  },
  {
   "cell_type": "code",
   "execution_count": null,
   "metadata": {
    "scrolled": false
   },
   "outputs": [],
   "source": [
    "z = x - 22 == y\n",
    "print(z)"
   ]
  },
  {
   "cell_type": "markdown",
   "metadata": {},
   "source": [
    "Kodeblokken over kan brytes ned på følgende måte:\n",
    "* ```z =```: z er en ny variabel som tilegnes verdien på høyre side av ```=```.\n",
    "* ```==```: er en boolsk operator som sjekker om venstre og høyre side er lik hverandre, og returnerer ```True```eller ```False```.\n",
    "* Den boolske operatoren sjekker om ```x-22``` er lik ```y```, som den altså er. På grunn av det vil ```z```tilegnes verdien ```True```."
   ]
  },
  {
   "cell_type": "code",
   "execution_count": null,
   "metadata": {},
   "outputs": [],
   "source": [
    "w = not ( (a and b) or (x != y))\n",
    "print(w)"
   ]
  },
  {
   "cell_type": "markdown",
   "metadata": {},
   "source": [
    "Kodeblokken over kan brytes ned slik:\n",
    "* ```w =```: w er en ny variabel som tilegnes verdien på høyre side av ```=```.\n",
    "* ```not ( )```: tar negasjonen av det som er innenfor parentesen. Dvs. at dersom uttrykket i parantesen er ```True```vil ```not```gjøre det til ```False```og motsatt. \n",
    "* ```or```: returnerer ```True``` hvis høyre *eller* venstre side av ```or```er ```True```.\n",
    "* ```a and b```: returnerer ```True```hvis både ```a```og ```b```er ```True```.\n",
    "* ``` x != y ```: returnerer ```True```hvis x og y *ikke* er like.\n",
    "* Siden x og y ikke er like vil ``` x != y ``` returnere ```True```som er nok til at ```or```-uttrykket returnerer ```True```. Negasjonen ```not```rundt dette uttrykket tar negasjonen av ```True```som til slutt returnerer ```False```. ```w```får derfor verdien ```False```."
   ]
  },
  {
   "cell_type": "markdown",
   "metadata": {},
   "source": [
    "**Dersom du synes det er mye å holde styr på, og ennå ikke har forstått helt hvor verdiene kommer fra – forsøk å bryte ned de to kodeblokkene på samme måte som illustrert over.**"
   ]
  },
  {
   "cell_type": "markdown",
   "metadata": {},
   "source": [
    "&nbsp;"
   ]
  },
  {
   "cell_type": "markdown",
   "metadata": {},
   "source": [
    "### 4.3 Logiske operatorer i arbeidslivet\n",
    "Hittil har vi kun sett den *teoretiske* siden av logiske operatorer. Under er det gitt et eksempel på hvordan logiske operatorer brukes i arbeidslivet.\n"
   ]
  },
  {
   "cell_type": "markdown",
   "metadata": {},
   "source": [
    "\n",
    "**Investment management - oljefondet**\n",
    "\n",
    "Enten du er økonom eller dataingeniør er programmering og de mekanismene vi har sett på så langt veldig nyttige. Du kjenner sikkert til *Oljefondet* som sikrer en ansvarlig og langsiktig forvaltning av inntektene fra Norges olje- og gassressurser. For at oljefondet ikke skal forsvinne i verdi, så investeres det i bedrifter og næringer som forhåpentligvis skal gjøre at fondet vokser på en bærekraftig måte. Dette gjøres ved bruk av en invisteringsstrategi som du kan lese mer om [her](https://www.nbim.no/no/oljefondet/slik-er-fondet-investert/).\n",
    "\n",
    "Investeringsstrategien til oljefondet baserer seg på å ha ca. 70% av fondets verdier investert i aksjer og ca. 30% i rentepapirer. Det vil si at dersom noen av aksjene vokser slik at en større andel enn 70% ligger i aksjer, så kjøper oljefondet automatisk opp flere rentepapirer. Denne overvåkningen gjøres av dataprogrammer som bruker *logiske operatorer* til å sjekke om andelen aksjer er større eller mindre enn 70% av totalverdien til fondet.\n",
    "\n",
    "Selv om mange av investeringene gjøres basert på menneskekunnskap, er det også veldig mye som skjer automatisk ved bruk av programmering. Det er derfor nyttig hvis man jobber med slike investeringer og ha en idé om hva slags problemer som kan løses mer effektivt ved bruk av kode.\n"
   ]
  },
  {
   "cell_type": "markdown",
   "metadata": {},
   "source": [
    "<img src=\"bilder/oljefondet.png\" style=\"height: 500px; \"/>"
   ]
  },
  {
   "cell_type": "markdown",
   "metadata": {},
   "source": [
    "&nbsp;"
   ]
  },
  {
   "cell_type": "markdown",
   "metadata": {},
   "source": [
    "### 4.3 Oppgaver: Logiske operatorer\n",
    "Test om du har forstått *logiske operatorer* i Python ved å løse oppgavene under. "
   ]
  },
  {
   "cell_type": "markdown",
   "metadata": {},
   "source": [
    "**Oppgave 1: Passord**\n",
    "\n",
    "Skriv et program som gjør følgende:\n",
    "1. Spør brukeren om passord og lagrer dette i variabelen ```x```. \n",
    "2. Sjekker om brukeren sitt passord er lik passordet som er bestemt under og skriver ut resultatet til bruker. "
   ]
  },
  {
   "cell_type": "code",
   "execution_count": null,
   "metadata": {},
   "outputs": [],
   "source": [
    "passord = \"123abc\"\n",
    "\n",
    "# Skriv din kode her"
   ]
  },
  {
   "cell_type": "markdown",
   "metadata": {},
   "source": [
    "&nbsp;"
   ]
  },
  {
   "cell_type": "markdown",
   "metadata": {},
   "source": [
    "**Oppgave 2: Arbeidslivet**\n",
    "\n",
    "Kom på et område relevant til ditt studieprogram hvor bruk av logiske operatorer kan være nyttig."
   ]
  },
  {
   "cell_type": "markdown",
   "metadata": {},
   "source": [
    "*Dobbeltklikk her for å skrive svaret ditt*"
   ]
  },
  {
   "cell_type": "markdown",
   "metadata": {},
   "source": [
    "&nbsp;"
   ]
  },
  {
   "cell_type": "markdown",
   "metadata": {},
   "source": [
    "**Oppgave 3: Oddetall**\n",
    "\n",
    "Skriv et program som tar inn et tall og sjekker om tallet er et oddetall. \n",
    "\n",
    "*Hint: du kan bruke modulo-operatoren. Dersom tallet har en rest (dvs. som ikke er null) når det deles på 2 så er det et oddetall.*"
   ]
  },
  {
   "cell_type": "code",
   "execution_count": null,
   "metadata": {},
   "outputs": [],
   "source": []
  },
  {
   "cell_type": "markdown",
   "metadata": {},
   "source": [
    "&nbsp;"
   ]
  },
  {
   "cell_type": "markdown",
   "metadata": {},
   "source": [
    "## 5 If-, elif- og else-setninger\n",
    "\n",
    "\n",
    "### 5.1 If-setninger\n",
    "**If-setninger** lar oss utføre en kodeblokk kun hvis et boolsk uttrykk er sant. Under viser et eksempel på en situasjon hvor det kan være nyttig å ha forskjellig kode i ulike situasjoner. \n",
    "\n",
    "\n",
    "<img src=\"bilder/motivasjon_if.png\" style=\"height: 250px; \"/>\n"
   ]
  },
  {
   "cell_type": "markdown",
   "metadata": {},
   "source": [
    "Det samme programmet som er illustrert over er kodet i kodeblokken under. "
   ]
  },
  {
   "cell_type": "code",
   "execution_count": null,
   "metadata": {},
   "outputs": [],
   "source": [
    "print(\"Svar j for ja og n for nei\")\n",
    "gjoert_oving = input(\"Har du gjort øving 2? \")\n",
    "\n",
    "if gjoert_oving == \"n\":\n",
    "    foelg_of = input(\"Du burde følge med i øvingsforelesning. Gjør du det? \")\n",
    "    if foelg_of == \"n\":\n",
    "        print(\"Gå til studass for å få hjelp\")\n",
    "    print(\"Gjør øvingen\")\n",
    "\n",
    "print(\"Problem løst!\")"
   ]
  },
  {
   "cell_type": "markdown",
   "metadata": {},
   "source": [
    "Merk at for hver if-setning er det et inntykk (tab). Dette er nødvendig i Python for å vise hvilken kode som kun skal utføres dersom if-statementen er sann. Syntaksen på en if-setning er derfor som følgende\n",
    "\n",
    "    if <betingelse>:\n",
    "        <kodeblokk som utføres hvis betingelsen er sann>"
   ]
  },
  {
   "cell_type": "markdown",
   "metadata": {},
   "source": [
    "Det er altså to mulige utfall av en if-setning; at kodeblokken kjøres eller ikke. Dette er demonstrert i kodeblokkene under. "
   ]
  },
  {
   "cell_type": "code",
   "execution_count": null,
   "metadata": {},
   "outputs": [],
   "source": [
    "if True: \n",
    "    print(\"Denne setningen kjøres fordi uttrykket er True!\")"
   ]
  },
  {
   "cell_type": "code",
   "execution_count": null,
   "metadata": {},
   "outputs": [],
   "source": [
    "if False:\n",
    "    print(\"Denne setningen printes IKKE fordi uttrykket er False. \")"
   ]
  },
  {
   "cell_type": "markdown",
   "metadata": {},
   "source": [
    "&nbsp;"
   ]
  },
  {
   "cell_type": "markdown",
   "metadata": {},
   "source": [
    "**Eksempel**"
   ]
  },
  {
   "cell_type": "markdown",
   "metadata": {},
   "source": [
    "Eksempelet under viser hvordan man kan lage et program for en automatisk dørvakt som sjekker alderen til de som kommer inn og skriver ```\"Velkommen inn!\"``` kun til de som er over 18 år, men ```\"Ha en fin kveld\"``` til alle uavhengig av alder. "
   ]
  },
  {
   "cell_type": "markdown",
   "metadata": {},
   "source": [
    "<img src=\"bilder/if-eksempel.png\" style=\"height: 270px; \"/>"
   ]
  },
  {
   "cell_type": "code",
   "execution_count": null,
   "metadata": {},
   "outputs": [],
   "source": [
    "alder = int(input(\"Skriv inn alderen din: \"))\n",
    "\n",
    "if alder >= 18: \n",
    "    print(\"Velkommen inn!\")\n",
    "    \n",
    "    \n",
    "print(\"Ha en fin kveld\")"
   ]
  },
  {
   "cell_type": "markdown",
   "metadata": {},
   "source": [
    "En ting som kanskje mangler i eksempelet over er muligheten til å skrive en kodeblokk til de som er under 18 år. Vi kunne gjort dette ved å skrive en til if-setning, men en enklere måte er å bruke en ```else```-setning som beskrives under."
   ]
  },
  {
   "cell_type": "markdown",
   "metadata": {},
   "source": [
    "&nbsp;"
   ]
  },
  {
   "cell_type": "markdown",
   "metadata": {},
   "source": [
    "### 5.2 Else-setninger\n",
    "En ```else```-setning fungerer på samme måte som å si *ellers*. Det vil si at else-setningen kjører dersom if-setningen *ikke* er sann, på samme måte som vi bruker ordet *ellers*. Merk at hvis vi har en else-setning, så vil alltid en av kodeblokkene kjøre. \n",
    "\n",
    "    if <betingelse>:\n",
    "        <kodeblokk som utføres hvis betingelsen er sann>\n",
    "    else:\n",
    "        <kodeblokk som utføres hvis betingelsen ikke er sann>\n",
    "        "
   ]
  },
  {
   "cell_type": "markdown",
   "metadata": {},
   "source": [
    "Vi kan endre eksempelet over til å ha en else-setning som vist under. "
   ]
  },
  {
   "cell_type": "markdown",
   "metadata": {},
   "source": [
    "<img src=\"bilder/else-eksempel.png\" style=\"height: 270px; \"/>"
   ]
  },
  {
   "cell_type": "code",
   "execution_count": null,
   "metadata": {},
   "outputs": [],
   "source": [
    "alder = int(input(\"Skriv inn alderen din: \"))\n",
    "\n",
    "if alder >= 18: \n",
    "    print(\"Velkommen inn!\")\n",
    "else:\n",
    "    print(\"Du er dessverre ikke gammel nok, prøv igjen om\", 18 - alder, \"år.\")\n",
    "    \n",
    "    \n",
    "print(\"Ha en fin kveld\")"
   ]
  },
  {
   "cell_type": "markdown",
   "metadata": {},
   "source": [
    "### 5.3 Elif-setninger\n",
    "\n",
    "Ved bruk av ```if``` og ```else``` kan man sjekke om en betingelse er sann eller ikke og tilpasse koden ut i fra dette. Noen ganger ønsker man å spesifisere *flere mulige alternativer* som kan gjøres ved bruk av ```elif```. Elif-setninger løser problemer av typen *hvis x gjør y, hvis z gjør w...*\n",
    "\n",
    "```elif``` brukes når du har **flere muligheter** for hva som kan skje, men **bare ett tilfelle inntreffer**.\n",
    "\n",
    "    if <betingelse 1>:\n",
    "        <kodeblokk som utføres hvis betingelse 1 er sann>\n",
    "    elif <betingelse 2>:\n",
    "        <kodeblokk som utføres hvis betingelse 2 er sann>\n",
    "        \n",
    "    ...\n",
    "    \n",
    "    elif <betingelse n>:\n",
    "        <kodeblokk som utføres hvis betingelse n er sann>\n",
    "    else:\n",
    "        <kodeblokk som utføres hvis ingen av betingelsene er sanne>\n"
   ]
  },
  {
   "cell_type": "markdown",
   "metadata": {},
   "source": [
    "Koden er sekvensiell, som vil si at den starter på toppen og sjekker setning for setning sekvensielt etter hverandre. Det vil si at den første elif-setningen kun kjører dersom if-setningen *ikke* er sann, den andre elif-setningen kjører kun hvis den første elif-setningen *ikke* er sann osv. \n",
    "\n",
    "**Merk at en elif-setning kommer alltid etter en if-setning, men trenger ikke å avsluttes med en else-setning.**"
   ]
  },
  {
   "cell_type": "markdown",
   "metadata": {},
   "source": [
    "**Eksempel**\n",
    "\n",
    "Hvis du skal sjekke om brukeren er gammel nok til å ta lappen for moped eller bil, ønsker du å sjekke om brukeren er over 18, over 16, eller ingen av delene."
   ]
  },
  {
   "cell_type": "markdown",
   "metadata": {},
   "source": [
    "<img src=\"bilder/elif-eksempel.png\" style=\"height: 270px; \"/>"
   ]
  },
  {
   "cell_type": "code",
   "execution_count": null,
   "metadata": {},
   "outputs": [],
   "source": [
    "alder = int(input(\"Skriv inn alderen din: \"))\n",
    "\n",
    "if alder < 16: \n",
    "    print(\"Du er for ung til å ta lappen.\")\n",
    "elif alder >= 18 : \n",
    "    print(\"Du kan ta lappen for både moped og bil.\")\n",
    "else:\n",
    "    print(\"Du kan kun ta moped-lappen\")"
   ]
  },
  {
   "cell_type": "markdown",
   "metadata": {},
   "source": [
    "&nbsp;"
   ]
  },
  {
   "cell_type": "markdown",
   "metadata": {},
   "source": [
    "### 5.4 Oppgaver: If, else og elif\n",
    "Test om du har forstått *if, else* og *elif* i Python ved å løse oppgavene under. "
   ]
  },
  {
   "cell_type": "markdown",
   "metadata": {},
   "source": [
    "**Oppgave 1: Oddetall** \n",
    "\n",
    "Tidligere kodet vi et program som skulle sjekke om et tall var oddetall og skrive ut resultatet til bruker. Nå skal du lage et program som tar inn et tall og skriver ut ```<Tall> er et oddetall```hvis det er oddetall og ```<Tall> er et partall```hvis det er partall. \n",
    "\n",
    "*Hint: husk at hvis et tall modulo 2 er lik 0, så er det et partall.*"
   ]
  },
  {
   "cell_type": "code",
   "execution_count": null,
   "metadata": {},
   "outputs": [],
   "source": []
  },
  {
   "cell_type": "markdown",
   "metadata": {},
   "source": [
    "**Oppgave 2: Matpakke eller ikke?**\n",
    "\n",
    "Kantina på skolen til Petter har gratis lunsj hver tirsdag og torsdag, noe som betyr at Petter ikke trenger å ha med lunsj disse dagene. De andre dagene må han ha med seg matpakke. Men Petter synes det er litt vanskelig å huske hvilke dager han må ta med seg egen matpakke. \n",
    "\n",
    "Lag et program der Petter kan skrive inn hvilken ukedag det er, og deretter få beskjed om han trenger å ha med matpakke eller ikke. "
   ]
  },
  {
   "cell_type": "code",
   "execution_count": null,
   "metadata": {},
   "outputs": [],
   "source": []
  },
  {
   "cell_type": "markdown",
   "metadata": {},
   "source": [
    "**Oppgave 3: Relevans** \n",
    "\n",
    "Beskriv en situasjon fra ditt studieprogram der if, else og elif er nyttig.  "
   ]
  },
  {
   "cell_type": "markdown",
   "metadata": {},
   "source": [
    "*Dobbeltklikk her for å skrive svaret ditt*"
   ]
  },
  {
   "cell_type": "markdown",
   "metadata": {},
   "source": [
    "**Oppgave 4: Poengsum**\n",
    "\n",
    "En av karakterskalaene på NTNU består en gradert bokstavkarakterskala fra A til E for bestått og F for ikke bestått. Hver av disse bokstavene har en egen betegnelse. Bokstavkarakterene med tilhørende betegnelser finner du i følgende tabell: \n",
    "\n",
    "| Karakter      | Betegnelse |\n",
    "| ----------- | ----------- |\n",
    "| A      | Fremragende       |\n",
    "| B   | Meget god        |\n",
    "| C   | God        |\n",
    "| D   | Nokså god        |\n",
    "| E   | Tilstrekkelig        |\n",
    "| F   | Ikke bestått        |\n",
    "\n",
    "Lag et program der bruker kan skrive inn hvilken karakter bruker har fått, hvor programmet deretter skriver ut den tilhørende betegnelsen. \n",
    "\n"
   ]
  },
  {
   "cell_type": "code",
   "execution_count": null,
   "metadata": {},
   "outputs": [],
   "source": []
  },
  {
   "cell_type": "markdown",
   "metadata": {},
   "source": [
    "**Oppgave 5: Tid**\n",
    "\n",
    "Skriv et program som tar inn en input ```seconds``` fra bruker, som skal være antall sekunder som har gått siden midnatt. Programmet skal skrive ut en streng som inneholder klokkeslettet på formatet ```hh:mm:ss```. Både timer, minutter og sekunder skal skrives med to siffer, og det skal brukes innledende null brukes dersom det er nødvendig. Programmet trenger ikke å håndtere verdier over 86400 sekunder (dvs. over ett døgn).\n",
    "\n",
    "*Denne oppgaven er hentet fra eksamen 2017 (4a). Merk at oppgaven er modifisert for å fjerne funksjonsdelen av oppgaven, da funksjoner først blir gjennomgått i neste kompendium.* "
   ]
  },
  {
   "cell_type": "code",
   "execution_count": null,
   "metadata": {},
   "outputs": [],
   "source": []
  }
 ],
 "metadata": {
  "kernelspec": {
   "display_name": "Python 3",
   "language": "python",
   "name": "python3"
  },
  "language_info": {
   "codemirror_mode": {
    "name": "ipython",
    "version": 3
   },
   "file_extension": ".py",
   "mimetype": "text/x-python",
   "name": "python",
   "nbconvert_exporter": "python",
   "pygments_lexer": "ipython3",
   "version": "3.9.0"
  }
 },
 "nbformat": 4,
 "nbformat_minor": 4
}
