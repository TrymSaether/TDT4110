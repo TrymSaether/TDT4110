{
 "cells": [
  {
   "cell_type": "markdown",
   "id": "45999737",
   "metadata": {},
   "source": [
    "# Functions\n",
    "- Purpose of functions\n",
    "- How functions work in Python\n",
    "  - \n",
    "- There is no \"magic\", just rules that govern behaviour\n",
    "\n",
    "- Some relevant issues:\n",
    "  - expressions and statements\n",
    "  - expressions are allowed as \"statements\" on their own,\n",
    "    - e.g. calling a function\n",
    " \n",
    " - scope of variables, the call stack\n",
    " - all data objects are stores in the heap, an area common to all parts of the program\n",
    " - but what parts are accessible depends on scope of variables.\n",
    " \n",
    " - use visualisation\n",
    " \n",
    " - What is the output of the following program?\n",
    " print(print(\"Hello World!\")\n",
    " - run in Thonny or similar\n",
    " - run in a Jupyter cell\n",
    " \n",
    " Some points:\n",
    " Every function call is an expression, and returns \"something\".\n",
    " this something can be **None**, som representerer *ingenting*\n",
    " None er data av type NoneType, og har dette som eneste rolle.\n",
    " Du kan ikke gjøre noe med None, f.eks."
   ]
  },
  {
   "cell_type": "code",
   "execution_count": 2,
   "id": "054c988d",
   "metadata": {},
   "outputs": [
    {
     "ename": "TypeError",
     "evalue": "unsupported operand type(s) for +: 'int' and 'NoneType'",
     "output_type": "error",
     "traceback": [
      "\u001b[1;31m---------------------------------------------------------------------------\u001b[0m",
      "\u001b[1;31mTypeError\u001b[0m                                 Traceback (most recent call last)",
      "Cell \u001b[1;32mIn [2], line 1\u001b[0m\n\u001b[1;32m----> 1\u001b[0m \u001b[38;5;241;43m1\u001b[39;49m\u001b[43m \u001b[49m\u001b[38;5;241;43m+\u001b[39;49m\u001b[43m \u001b[49m\u001b[38;5;28;43;01mNone\u001b[39;49;00m\n",
      "\u001b[1;31mTypeError\u001b[0m: unsupported operand type(s) for +: 'int' and 'NoneType'"
     ]
    }
   ],
   "source": [
    "1 + None"
   ]
  },
  {
   "cell_type": "markdown",
   "id": "dd3c3ebe",
   "metadata": {},
   "source": [
    "## Definisjon av funksjoner\n",
    "Funksjoner i Python (og i programmeringsspråk generelt) er en\n",
    "- gruppe programlinjer (kodeblokk)\n",
    "- som er definert etter et **funksjonshode**\n",
    "```python\n",
    "def funksjonsnavn(parametre):\n",
    "    kodelinje 1\n",
    "    kodelinje 2\n",
    "    ...\n",
    "```\n",
    "- Funksjonen utføres ikke når den defineres\n",
    "- Python-tolkeren registrerer kun funksjonen i minnet som et *funksjonsobjekt*\n",
    "\n",
    "## Å *kalle* en funksjon\n",
    "Når vi vil utføre instruksjonene i en funksjon,\n",
    "- så skriver vi funksjonsnavnet\n",
    "- etterfulgt av paranteser\n",
    "- med eventuelle *argumenter* mellom parantesene\n",
    "   - skilt med komma\n",
    "\n",
    "### Eksempler\n",
    "```python\n",
    "Pass\n",
    "```"
   ]
  },
  {
   "cell_type": "markdown",
   "id": "a5948910",
   "metadata": {},
   "source": [
    "### Noen ting å merke seg\n",
    "- Funksjoner må være definert før de kalles\n",
    "- Hvis funksjonen er definert i en anne fil, må de importeres via moduler\n",
    "   -  en modul (litt forenklet sagt) er en fil med kode vi kan gjenbruke\n",
    "- Unntaket er *innebygde funksjoner*, som print(), input(), int\n",
    "   - disse er alltid tilgjengelig\n",
    "   - hvis ikke de er redefinert til å være noe annet:\n",
    "      - print = \"Hei\"\n",
    "      - print(\"Hello\") gir feilmelding\n",
    "- I Python så sies en dataobjekt å være *kallbar* hvis en kan skrive paranteser bak.\n",
    "\n",
    "\n"
   ]
  },
  {
   "cell_type": "markdown",
   "id": "90893690",
   "metadata": {},
   "source": [
    "## Funksjoner definert i funksjoner\n",
    "Vi har allerede sett at variable i funksjoner, sammen med parametrene,\n",
    "er (nye) lokale variable\n",
    "(Unntaket er hvis variablene er definet med global)\n",
    "\n",
    "Vi kan også definere lokale funksjoner\n",
    "De kan ikke kalles fra utenfor funksjonen\n",
    "Hvis det er en hjelpefunksjon som bare gir mening i konteksten til funksjonen\n",
    "Den kan også brukes i mer avanserte teknikker\n",
    "  - funksjonen skal returnere nye funksjoner.\n"
   ]
  },
  {
   "cell_type": "markdown",
   "id": "3842a7e8",
   "metadata": {},
   "source": [
    "### Avansert: Anonyme funksjoner og lambda-funksjoner\n"
   ]
  },
  {
   "cell_type": "markdown",
   "id": "c161a8ec",
   "metadata": {},
   "source": [
    "### Noen funksjoner kalles metoder\n",
    "- I Python så kan dataobjekter ha funksjoner knyttet til seg, da kalles de for metoder.\n",
    "- De *kalles* via objektet med \"dot\"-notasjon:\n",
    "   - \"Abc#123!\".lower()   # Returnerer en streng hvor store bokstaver er gjort om til små\n",
    "- Dette er en tankegang knyttet til såkalt objektorientert programmering:\n",
    "   Funksjoner er knyttet til data.\n",
    "   - det er utenfor pensum å gå inn på selve metodikken\n",
    "   - vi kan bare tenke på som at en metode svarer til en vanlig funksjon hvor første argument er objektet:\n",
    "   \"Abc#123!.lower() svarer til et funksjonskall lower(\"Abc#123!\")\n",
    "\n"
   ]
  },
  {
   "cell_type": "markdown",
   "id": "cc1af7ca",
   "metadata": {},
   "source": [
    "## Liste over innebygde funksjoner"
   ]
  },
  {
   "cell_type": "markdown",
   "id": "4fe06a8a",
   "metadata": {},
   "source": [
    "Parametre sendes ved *tilordning* (assignment)\n",
    "\n",
    "def f(a,b):\n",
    "    return a+b\n",
    "\n",
    "I denne definisjone vil *parametrene* a og b fungere som lokale variable, dvs. de tilhører funksjonens scope\n",
    "\n",
    "Om det finnes globale variable med samme navn, så maskeres disse av "
   ]
  },
  {
   "cell_type": "code",
   "execution_count": 8,
   "id": "1ee82706",
   "metadata": {},
   "outputs": [
    {
     "name": "stdout",
     "output_type": "stream",
     "text": [
      "2\n",
      "5\n"
     ]
    },
    {
     "data": {
      "text/plain": [
       "function"
      ]
     },
     "execution_count": 8,
     "metadata": {},
     "output_type": "execute_result"
    }
   ],
   "source": [
    "x = 1\n",
    "def f(x):\n",
    "    print(x)\n",
    "\n",
    "f(2) # I funksjonen vil tilordningen x = 2 gjøres\n",
    "a = 5\n",
    "f(a)  # I funksjonen vil a tilordnes x, x = a\n",
    "\n",
    "type(f)"
   ]
  },
  {
   "cell_type": "code",
   "execution_count": null,
   "id": "84a23808",
   "metadata": {},
   "outputs": [],
   "source": [
    "Parametre: Variable som er definert i funksjonshodet\n",
    "\n",
    "Argumenter: Verdier som "
   ]
  },
  {
   "cell_type": "markdown",
   "id": "15712a6c",
   "metadata": {},
   "source": [
    "## Hensikten med funksjoner\n",
    "Eksempel med god bruk av funksjoner\n",
    "\n",
    "- Ha kode som kan kalles flere ganger\n",
    "- Med parametre blir funksjonen mer fleksibel\n",
    "  - kan gis forskjellige data\n",
    "  - kan \"tunes\" til å modifisere hva den gjør\n",
    "- Organiserer koden\n",
    "  - Abstraherer\n",
    "  - Deler koden i minde enheter\n",
    "  \n",
    "### Eksempler\n"
   ]
  },
  {
   "cell_type": "markdown",
   "id": "d5525bb5",
   "metadata": {},
   "source": [
    "### Definisjon og kall av funksjoner\n",
    "\n",
    "En funksjon defineres ved def-kommandoen:\n",
    "\n",
    "\n",
    "Den kalles ved å brukes funksjonsnavnet med parantes,\n",
    "og en liste med *argumenter*, som skal tilordnes parametrene i funksjonen.\n",
    "\n",
    "\n"
   ]
  },
  {
   "cell_type": "markdown",
   "id": "07ab2952",
   "metadata": {},
   "source": [
    "### Posisjonsargumenter og navngitte parametre\n",
    "Når vi kaller \n"
   ]
  },
  {
   "cell_type": "markdown",
   "id": "6f6c87ce",
   "metadata": {},
   "source": []
  },
  {
   "cell_type": "markdown",
   "id": "6b0e3f6b",
   "metadata": {},
   "source": [
    "## Funksjoner som dataobjekt\n",
    "Funksjoner er en egen datatype\n",
    "Hvis vi bruker navnet til en funksjon, uten parantes, så refererer vi til funksjonen, uten at vi kaller(utfører dens kode).\n",
    "\n",
    "vi kan sende funksjoner som argument til andre funksjoner:\n",
    "\n",
    "Litt hjernegymnastikk:\n",
    "Hva skjer her?\n"
   ]
  },
  {
   "cell_type": "code",
   "execution_count": 6,
   "id": "6174f55c",
   "metadata": {},
   "outputs": [
    {
     "data": {
      "text/plain": [
       "builtin_function_or_method"
      ]
     },
     "execution_count": 6,
     "metadata": {},
     "output_type": "execute_result"
    }
   ],
   "source": [
    "type(print)"
   ]
  },
  {
   "cell_type": "code",
   "execution_count": 9,
   "id": "a46fb202",
   "metadata": {},
   "outputs": [
    {
     "name": "stdout",
     "output_type": "stream",
     "text": [
      "2\n"
     ]
    }
   ],
   "source": [
    "def higherfunction(f):\n",
    "    return lambda u: f(u)\n",
    "\n",
    "g = higherfunction(f)\n",
    "g(2)"
   ]
  },
  {
   "cell_type": "markdown",
   "id": "39e8cd7a",
   "metadata": {},
   "source": [
    "### Dokumentasjon\n",
    "docstring?"
   ]
  },
  {
   "cell_type": "markdown",
   "id": "8b309c08",
   "metadata": {},
   "source": [
    "## Litt om moduler:\n",
    "Hvordan strukturere koden \n",
    "- Gjenbruk\n",
    "- "
   ]
  },
  {
   "cell_type": "markdown",
   "id": "3c6c1580",
   "metadata": {},
   "source": [
    "Noen gode råd:\n",
    "- Del opp koden i små funksjoner\n",
    "- Gi dem fornuftige navn\n",
    "- La hver funksjon utføre en \"oppgave\",\n",
    "- Unngå at funksjonen avhenger av globale variable\n",
    "- I større programmer, bør funksjoner skrives i separate filer\n",
    "\n"
   ]
  },
  {
   "cell_type": "markdown",
   "id": "dd163e15",
   "metadata": {},
   "source": [
    "## Avansert: Mer om dette senere: Returnere modifiserte parametre?\n",
    "NB! For vanlige ikke-muterbare datatyper så kan du ikke forandre en slik i en kalt funksjon\n",
    "Da må verdien returneres.\n",
    "\n",
    "\n"
   ]
  },
  {
   "cell_type": "markdown",
   "id": "0674ce95",
   "metadata": {},
   "source": [
    "### Ekstra: Rekursive funksjoner\n",
    "Hvis en funksjon \"kaller seg selv\"? Hva skjer da?\n",
    "\n",
    "Husk at når vi gjør et funksjonskall, så lages det et lokalt sett med parameter-variable.\n",
    "Når vi kaller seg selv, får vi et nytt sett med like navn, som maskerer de \n",
    "\n",
    "Dette er egentlig utrolig kult, og en veldig viktig mekanisme, som gjør at man kan løse mange\n",
    "oppgaver på en elegant måte.\n",
    "\n"
   ]
  },
  {
   "cell_type": "code",
   "execution_count": null,
   "id": "267daecf",
   "metadata": {},
   "outputs": [],
   "source": []
  }
 ],
 "metadata": {
  "kernelspec": {
   "display_name": "Python 3 (ipykernel)",
   "language": "python",
   "name": "python3"
  },
  "language_info": {
   "codemirror_mode": {
    "name": "ipython",
    "version": 3
   },
   "file_extension": ".py",
   "mimetype": "text/x-python",
   "name": "python",
   "nbconvert_exporter": "python",
   "pygments_lexer": "ipython3",
   "version": "3.8.13"
  },
  "varInspector": {
   "cols": {
    "lenName": 16,
    "lenType": 16,
    "lenVar": 40
   },
   "kernels_config": {
    "python": {
     "delete_cmd_postfix": "",
     "delete_cmd_prefix": "del ",
     "library": "var_list.py",
     "varRefreshCmd": "print(var_dic_list())"
    },
    "r": {
     "delete_cmd_postfix": ") ",
     "delete_cmd_prefix": "rm(",
     "library": "var_list.r",
     "varRefreshCmd": "cat(var_dic_list()) "
    }
   },
   "types_to_exclude": [
    "module",
    "function",
    "builtin_function_or_method",
    "instance",
    "_Feature"
   ],
   "window_display": false
  }
 },
 "nbformat": 4,
 "nbformat_minor": 5
}
