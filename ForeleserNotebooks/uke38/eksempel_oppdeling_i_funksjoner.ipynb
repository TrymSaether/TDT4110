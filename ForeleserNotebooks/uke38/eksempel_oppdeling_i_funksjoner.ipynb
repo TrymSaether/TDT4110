{
 "cells": [
  {
   "cell_type": "markdown",
   "id": "a371d1be",
   "metadata": {
    "slideshow": {
     "slide_type": "slide"
    }
   },
   "source": [
    "# Eksempel på \"divide and conquer\"\n",
    "Vi ønsker å lage et program som tegner trekanter.\n",
    "\n",
    "**Bruker-scenario:**\n",
    "- Be brukeren om å angi lengdene på trekantens sider.\n",
    "- Tegne trekanten.\n",
    "\n",
    "I tillegg bør vi\n",
    "- sjekke at sidene faktisk definerer en trekant.\n",
    "\n",
    "Vi finner ut at vi det finnes en Polygon-funksjon som vi kan bruke,\n",
    "men denne bruker koordinater til hjørnene, ikke lengdene til sidene.\n",
    "\n",
    "Så vi må også\n",
    "- beregne koordinater til hjørnene, gitt sidelengdene\n",
    "\n",
    "**Vi lager funksjoner for hver av disse del-oppgavene:**\n",
    "- bruker-input\n",
    "- sjekke at lengdene er gyldige\n",
    "- beregne hjørne-koordinater\n",
    "- tegne trekant\n"
   ]
  },
  {
   "cell_type": "code",
   "execution_count": 1,
   "id": "b1194885",
   "metadata": {
    "slideshow": {
     "slide_type": "slide"
    }
   },
   "outputs": [],
   "source": [
    "def bruker_input():\n",
    "    print(\"Angi trekantens sider:\")\n",
    "    a = int(input(\"Sidelengde a: \"))\n",
    "    b = int(input(\"Sidelengde b: \"))\n",
    "    c = int(input(\"Sidelengde c: \"))\n",
    "    \n",
    "    return a,b,c\n"
   ]
  },
  {
   "cell_type": "code",
   "execution_count": 5,
   "id": "dcd2c604",
   "metadata": {
    "slideshow": {
     "slide_type": "slide"
    }
   },
   "outputs": [],
   "source": [
    "def sjekk_trekant_ok(a,b,c):\n",
    "    if a + b > c and b + c > a and c + a > b:\n",
    "        return True\n",
    "    return False"
   ]
  },
  {
   "cell_type": "code",
   "execution_count": 6,
   "id": "a8ba6400",
   "metadata": {
    "slideshow": {
     "slide_type": "slide"
    }
   },
   "outputs": [],
   "source": [
    "def beregn_hjørne_koordinater(a,b,c):\n",
    "    # Ett hjørne i origo, ett i (c,0)\n",
    "    # Det siste regnes ut ved:\n",
    "    x = (a**2 + c**2 - b**2)/(2*c)\n",
    "    y = np.sqrt(a**2 - x**2)\n",
    "    return np.array([[0,0], [c,0], [x,y]])\n",
    "\n"
   ]
  },
  {
   "cell_type": "code",
   "execution_count": 2,
   "id": "1c19c485",
   "metadata": {
    "run_control": {
     "marked": false
    },
    "slideshow": {
     "slide_type": "slide"
    }
   },
   "outputs": [],
   "source": [
    "import numpy as np \n",
    "import matplotlib.pyplot as plt\n",
    "\n",
    "def tegn_trekant(X):\n",
    "\n",
    "    plt.figure()\n",
    "    plt.scatter(X[:, 0], X[:, 1], s = 10, color = 'blue')\n",
    "\n",
    "    t1 = plt.Polygon(X, color=\"blue\")\n",
    "    plt.gca().add_patch(t1)\n",
    "\n",
    "    plt.gca().set_aspect('equal', adjustable='box')\n",
    "    plt.show()\n",
    "\n"
   ]
  },
  {
   "cell_type": "code",
   "execution_count": 3,
   "id": "786bc7c8",
   "metadata": {
    "slideshow": {
     "slide_type": "slide"
    }
   },
   "outputs": [],
   "source": [
    "def main_trekant():\n",
    "    a, b, c = bruker_input()\n",
    "    if sjekk_trekant_ok(a,b,c):\n",
    "        X = beregn_hjørne_koordinater(a,b,c)\n",
    "        tegn_trekant(X)\n",
    "    else:\n",
    "        print(\"Beklager, feil input data.\")\n"
   ]
  },
  {
   "cell_type": "code",
   "execution_count": 7,
   "id": "ca02ad6e",
   "metadata": {
    "slideshow": {
     "slide_type": "slide"
    }
   },
   "outputs": [
    {
     "name": "stdout",
     "output_type": "stream",
     "text": [
      "Angi trekantens sider:\n",
      "Sidelengde a: 3\n",
      "Sidelengde b: 4\n",
      "Sidelengde c: 5\n"
     ]
    },
    {
     "data": {
      "image/png": "[encoded data removed]",
      "text/plain": [
       "<Figure size 432x288 with 1 Axes>"
      ]
     },
     "metadata": {
      "needs_background": "light"
     },
     "output_type": "display_data"
    }
   ],
   "source": [
    "main_trekant()"
   ]
  },
  {
   "cell_type": "markdown",
   "id": "37387424",
   "metadata": {},
   "source": []
  }
 ],
 "metadata": {
  "celltoolbar": "Slideshow",
  "kernelspec": {
   "display_name": "Python 3 (ipykernel)",
   "language": "python",
   "name": "python3"
  },
  "language_info": {
   "codemirror_mode": {
    "name": "ipython",
    "version": 3
   },
   "file_extension": ".py",
   "mimetype": "text/x-python",
   "name": "python",
   "nbconvert_exporter": "python",
   "pygments_lexer": "ipython3",
   "version": "3.8.13"
  },
  "varInspector": {
   "cols": {
    "lenName": 16,
    "lenType": 16,
    "lenVar": 40
   },
   "kernels_config": {
    "python": {
     "delete_cmd_postfix": "",
     "delete_cmd_prefix": "del ",
     "library": "var_list.py",
     "varRefreshCmd": "print(var_dic_list())"
    },
    "r": {
     "delete_cmd_postfix": ") ",
     "delete_cmd_prefix": "rm(",
     "library": "var_list.r",
     "varRefreshCmd": "cat(var_dic_list()) "
    }
   },
   "types_to_exclude": [
    "module",
    "function",
    "builtin_function_or_method",
    "instance",
    "_Feature"
   ],
   "window_display": false
  }
 },
 "nbformat": 4,
 "nbformat_minor": 5
}
