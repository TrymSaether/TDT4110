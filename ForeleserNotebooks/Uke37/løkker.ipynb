{
 "cells": [
  {
   "cell_type": "markdown",
   "id": "5e4c0e1e",
   "metadata": {},
   "source": [
    "# Løkker - Å gjenta deler av koden\n",
    "Vi har to typer løkker i Python\n",
    "- while-løkker\n",
    "   - disse er styrt av logiske betingelser slik som if-setninger\n",
    "   - løkken utføres helt til betingelsen er False\n",
    "- for-løkker\n",
    "    - her har vi en tellemekanisme som styrer antall løkken utføres"
   ]
  },
  {
   "cell_type": "markdown",
   "id": "18178f64",
   "metadata": {},
   "source": [
    "## Gjenta kode\n",
    "I forrige uke hadde vi et eksempel hvor brukeren skulle svare på et spørsmål:\n"
   ]
  },
  {
   "cell_type": "code",
   "execution_count": null,
   "id": "3fd3c7e6",
   "metadata": {},
   "outputs": [],
   "source": [
    "# Kode fra forrige gang, litt forenklet\n",
    "\n",
    "svar = int(input(\"Hva er kvadratroten til 64? ))\n",
    "\n",
    "if svar == 8:\n",
    "    print(\"Bra, riktig svar!\")\n",
    "else:\n",
    "    print(\"Beklager, feil svar.\")\n"
   ]
  },
  {
   "cell_type": "markdown",
   "id": "05640cb4",
   "metadata": {},
   "source": [
    "Som en liten øvelse, så skal vi skrive om denne, som vi skal bruke etterpå:\n",
    "\n",
    "### Oppgave\n",
    "Skriv om koden slik at vi tester for svar != 8"
   ]
  },
  {
   "cell_type": "code",
   "execution_count": null,
   "id": "b34de899",
   "metadata": {},
   "outputs": [],
   "source": [
    "svar = int(input(\"Hva er kvadratroten til 64? ))\n",
    "\n",
    "if svar != 8:\n",
    "    print(\"Beklager, feil svar.\")\n",
    "else:    \n",
    "    print(\"Bra, riktig svar!\")"
   ]
  },
  {
   "cell_type": "markdown",
   "id": "047ba2f3",
   "metadata": {},
   "source": [
    "Nå ønsker vi å la brukeren få prøve på nytt.\n",
    "- Foreløpig har vi ikke noen måte å *gå tilbake i koden på*.\n",
    "- I Python kan vi gjøre dette ved å bytte ut **if** med **while**"
   ]
  },
  {
   "cell_type": "markdown",
   "id": "cd53ecae",
   "metadata": {},
   "source": [
    "Nå kommer det nye:\n",
    "- I stedet for if, bruker vi en while-setning"
   ]
  },
  {
   "cell_type": "code",
   "execution_count": null,
   "id": "ef4f3166",
   "metadata": {},
   "outputs": [],
   "source": [
    "svar = int(input(\"Hva er kvadratroten til 64? ))\n",
    "\n",
    "while svar != 8:       \n",
    "    print(\"Beklager, feil svar.\")\n",
    "    svar = int(input(\"Prøv på nytt. Hva er kvadratrone til 64? \")\n",
    "else:    \n",
    "    print(\"Bra, riktig svar!\")"
   ]
  },
  {
   "cell_type": "markdown",
   "id": "1174839b",
   "metadata": {},
   "source": [
    "Kode-gjennomgang:\n",
    "- Linje 1:\n",
    "    - programmet spør om svar,\n",
    "    - brukerens input konverteres til heltall, og \n",
    "    - lagres i variabelen svar\n",
    "- Linje 3: vi tester om svar != 8.\n",
    "   - Hvis ja:\n",
    "     - Print feil svar,\n",
    "     - spør etter nytt svar\n",
    "     - konverteres til heltall\n",
    "     - variablen svar peker på det nye svaret, i stedet for det forrige svaret\n",
    "     - Gå tilbake til while-setningen i linje 3, og gjenta\n",
    "   - Hvis nei:\n",
    "     - Else-delen utføres"
   ]
  },
  {
   "cell_type": "markdown",
   "id": "2bc9df5d",
   "metadata": {},
   "source": [
    "- En while-setning brukes ofte uten else-delen (som vi også så for if-setninger)\n",
    "- I eksempelet vårt trenger vi ikke else-delen, fordi vi vil spørre helt til brukeren gir rett svar.\n",
    "- Vi skal se at det går an å hoppe ut av en løkke, da kan else-delen være nyttig."
   ]
  },
  {
   "cell_type": "markdown",
   "id": "8c3a8995",
   "metadata": {},
   "source": [
    "## Å avbryte en løkke\n",
    "- Vi ser i eksempelet over at programmet vil fortsette å spørre helt til riktig svar avgis.\n",
    "- La oss spørre om brukeren vil ha flere forsøk, og avbryte hvis svaret er nei:\n",
    "- - En **break**-kommando inne i løkken vil avbryte og hoppe ut av løkken."
   ]
  },
  {
   "cell_type": "code",
   "execution_count": null,
   "id": "f982e712",
   "metadata": {},
   "outputs": [],
   "source": [
    "svar = int(input(\"Hva er kvadratroten til 64? ))\n",
    "\n",
    "while not svar == 8:   # Vi kan også svar != 8\n",
    "    print(\"Beklager, feil svar.\")\n",
    "    prøv_igjen = input(\"Vil du prøve en gang til? \")\n",
    "    if prøv_igjen == \"ja\":\n",
    "        svar = int(input(\"Hva er kvadratrone til 64? \")\n",
    "    else:\n",
    "        break   # Programmet vil hoppe ut av while-løkken, og ikke utføre else-delen\n",
    "else:\n",
    "    # Dette vil kun kjøres hvis svar == 8, ikke hvis vi hopper ut av løkken med break    \n",
    "    print(\"Bra, riktig svar!\")\n",
    "\n",
    "print(\"Takk for nå.\")"
   ]
  },
  {
   "cell_type": "markdown",
   "id": "11a1fac4",
   "metadata": {},
   "source": [
    "TOOO: FLytt detter til senere?\n",
    "\n",
    "La oss endre litt på programmet, slik at det gis kun tre forsøk.\n",
    "- Da må vi holde tellinga, det gjør vi med en variabel som vi \n",
    "- Vi må øke telleren for hver gang det svares feil.\n",
    "- Vi må teste om det er flere forsøk igjen\n",
    "\n",
    "Her er et første forsøk:"
   ]
  },
  {
   "cell_type": "code",
   "execution_count": null,
   "id": "8ac37e4a",
   "metadata": {},
   "outputs": [],
   "source": [
    "svar = int(input(\"Hva er kvadratroten til 64? ))\n",
    "\n",
    "antall_forsøk = 1\n",
    "\n",
    "while antall_forsøk <= 3 and svar != 8:   #\n",
    "    print(\"Beklager, feil svar.\")\n",
    "    if antall_forsøk < 3:\n",
    "        svar = int(input(\"Prøv på nytt. Hva er kvadratrone til 64? \")\n",
    "    else:\n",
    "        print(\"Beklager, du har brukt opp alle 3 forsøk\")\n",
    "    antall_forsøk += 1\n",
    "\n",
    "else:\n",
    "    # Her har vi et problem: Kom vi hit fordi antall_forsøk > 3, eller fordi svar == 8 ?\n",
    "    # Vi sjekker med en if-test\n",
    "    if svar == 8:   \n",
    "        print(\"Bra, riktig svar!\")\n",
    "\n",
    "    \n",
    "    "
   ]
  },
  {
   "cell_type": "markdown",
   "id": "c744c28e",
   "metadata": {},
   "source": [
    "## En variant av koden over:\n"
   ]
  },
  {
   "cell_type": "markdown",
   "id": "1dc070f2",
   "metadata": {},
   "source": [
    "## Å bryte ut av en loop\n",
    "- Koden over er unødig komplisert\n",
    "- Det er lurt å se på koden, og se om en kan organisere den litt annerledes\n",
    "- Vi beholder den opprinnelige testen til while-løkken\n",
    "- vi breaker ut , så skal vi \"**breake**\" ut av løkka!"
   ]
  },
  {
   "cell_type": "code",
   "execution_count": null,
   "id": "e21392f9",
   "metadata": {},
   "outputs": [],
   "source": [
    "svar = int(input(\"Hva er kvadratroten til 64? ))\n",
    "\n",
    "antall_forsøk = 1\n",
    "\n",
    "while antall_forsøk <= 3:\n",
    "    if svar == 8:\n",
    "        print(\"Bra, riktig svar!\")\n",
    "        break  # HER HOPPER VI UT AV LØKKA\n",
    "    \n",
    "    print(\"Beklager, feil svar.\")\n",
    "    if antall_forsøk < 3:\n",
    "        svar = int(input(\"Prøv på nytt. Hva er kvadratrone til 64? \")\n",
    "    else:\n",
    "        print(\"Beklager, du har brukt opp alle 3 forsøk\")\n",
    "    antall_forsøk += 1\n",
    "\n",
    "else:\n",
    "    print(\"Beklager, du har brukt opp alle tre forsøk\")\n"
   ]
  },
  {
   "cell_type": "code",
   "execution_count": null,
   "id": "bbd7d576",
   "metadata": {},
   "outputs": [],
   "source": [
    "svar = int(input(\"Hva er kvadratroten til 64? ))\n",
    "\n",
    "antall_forsøk = 1\n",
    "\n",
    "while svar != 8:  \n",
    "    print(\"Beklager, feil svar.\")\n",
    "    if antall_forsøk < 3:\n",
    "        svar = int(input(\"Prøv på nytt. Hva er kvadratrone til 64? \")\n",
    "    else:\n",
    "        print(\"Beklager, du har brukt opp alle 3 forsøk\")\n",
    "        break   # Her avbryter vi og hopper ut av løkka\n",
    "    antall_forsøk += 1\n",
    "\n",
    "else:\n",
    "    # Her vet vi at svar == 8 (testen i while-løkka er False)\n",
    "    # DENNE BITEN UTFØRES IKKE NÅR VI BREAKER UT AV KODEN\n",
    "    print(\"Bra, riktig svar!\")\n",
    "\n",
    "print(\"Takk for denne gang.\")"
   ]
  },
  {
   "cell_type": "markdown",
   "id": "de4a5131",
   "metadata": {},
   "source": [
    "TODO: Lag avsluttende oversikt over alternativene , og hvordan koden har utviklet seg"
   ]
  },
  {
   "cell_type": "markdown",
   "id": "8ad43ce6",
   "metadata": {},
   "source": [
    "En while-setning brukes ofte uten else-delen (som vi også så for if-setninger)\n",
    "\n",
    "I eksempelet vårt trenger vi ikke else-delen, fordi vi vil spørre helt til brukeren gir rett svar\n",
    "\n",
    "Python er følger det som kalles strukturert programmering.\n",
    "Vi kan ikke \"hoppe\" til hvor som helst i koden. \n",
    "\n",
    "Vi kan kun hoppe tilbake til starten av while eller for løkker\n",
    "- ved at vi kommer til slutten av en iterasjons-blokk\n",
    "- ved **continue**-kommandoen i en slik blokk\n",
    "Vi kan hoppe ut av iterasjonsblokken med **break**-kommandoen\n",
    "\n",
    "Hvis vi har en **else**-del, så vil den vil den kun uføres når\n",
    "- while-løkke: når testen er False\n",
    "- for-løkke: Når det ikke er flere elementer igjen\n",
    "Den utføres ikke hvis vi går ut av løkka med **break**-kommandoen.\n"
   ]
  },
  {
   "cell_type": "markdown",
   "id": "9e3471c1",
   "metadata": {},
   "source": [
    "## For-løkker\n",
    "I eksemplet over har vi holdt tellinga selv\n",
    "\n",
    "Veldig ofte ønsker vi å utføre kode et visst / kjent antall ganger.\n",
    "\n",
    "I Python har vi såkalte for-løkker for gjør tellinga for oss.\n",
    "\n",
    "Det skjer ting i bakgrunnen. F.eks. så er lister, som \n",
    "noe som kaller \"itererbare\".\n",
    "\n",
    "Når vi skriver \n",
    "```python\n",
    "for navn in [\"per\",\"ida\",\"oda\"]:\n",
    "```\n",
    "så vi Python bruke at listen er *itererbar*,\n",
    "for-løkka vil da hente ett og ett element, og kjøre\n",
    "koden i for-løkken en gang for hvert element.\n",
    "\n",
    "\n"
   ]
  },
  {
   "cell_type": "code",
   "execution_count": 1,
   "id": "1423ff54",
   "metadata": {},
   "outputs": [
    {
     "name": "stdout",
     "output_type": "stream",
     "text": [
      "Hei, per!\n",
      "Hei, ida!\n",
      "Hei, oda!\n"
     ]
    }
   ],
   "source": [
    "for navn in [\"per\",\"ida\",\"oda\"]:\n",
    "    print(f\"Hei, {navn}!\")"
   ]
  },
  {
   "cell_type": "markdown",
   "id": "eb6c61bc",
   "metadata": {},
   "source": [
    "Hvis vi skal utføre en for-løkke et visst antall ganger, så bruker vi \n",
    "et eget range-objekt i Python:\n",
    "\n",
    "\n",
    "Hvis vi skal printe ut 3-gangen: 3,6,9,12,15,18,21,24,27,30\n"
   ]
  },
  {
   "cell_type": "code",
   "execution_count": 2,
   "id": "e497184e",
   "metadata": {},
   "outputs": [
    {
     "name": "stdout",
     "output_type": "stream",
     "text": [
      "0\n",
      "1\n",
      "2\n",
      "3\n",
      "4\n",
      "5\n",
      "6\n",
      "7\n",
      "8\n",
      "9\n"
     ]
    }
   ],
   "source": [
    "for i in range(10):\n",
    "    print(i)"
   ]
  },
  {
   "cell_type": "markdown",
   "id": "e0e436a7",
   "metadata": {},
   "source": [
    "- range(n) genererer tallene 0, 1,..., n-1.\n",
    "- Det er n tall, men tellinga starter på 0\n",
    "- Ønsker vi tallene 1,..., 10, kan vi bruke range(1,11).\n",
    "  \n",
    "Se eget notat på mer om range objektet og oppgavene (TODO)\n"
   ]
  },
  {
   "cell_type": "markdown",
   "id": "8618197c",
   "metadata": {},
   "source": [
    "## Tilbake til kvadratroten av 64\n",
    "La oss bruke for-løkke til å styre antall forsøk brukeren får\n",
    "\n"
   ]
  },
  {
   "cell_type": "code",
   "execution_count": null,
   "id": "aafcf119",
   "metadata": {},
   "outputs": [],
   "source": [
    "for forsøk in range(1,4):\n",
    "    svar = int(input(\"Hva er kvadratroten til 64? \"))\n",
    "    if svar == 8:\n",
    "        print(\"Gratulerer! Riktig svar\")\n",
    "        break\n",
    "    else:\n",
    "        print(\"Beklager, feil svar.\")\n",
    "        "
   ]
  },
  {
   "cell_type": "markdown",
   "id": "5b0f8c82",
   "metadata": {},
   "source": [
    "## Skjulte løkker\n",
    "En god del funksjon, særlig i Numpy, finnes det en de\n",
    "\n",
    "sum\n",
    "vs \n",
    "\n",
    "I standard Python, hvis vi vil gange hvert element med f.eks. 2\n",
    "\n"
   ]
  },
  {
   "cell_type": "markdown",
   "id": "06b8ae56",
   "metadata": {},
   "source": [
    "## List comprehension\n",
    "\n",
    "En variant av for-konstruksjonen er å generere f.eks. en liste (og noen flere datastrukturer)\n",
    "fra en annen liste (eller mer generelt itererbar)\n",
    "\n",
    "liste_tall = [2,-1,5, 3.14]\n",
    "liste_dobbel = [2*x for x in liste_tall]\n",
    "\n"
   ]
  },
  {
   "cell_type": "markdown",
   "id": "051dad73",
   "metadata": {},
   "source": [
    "### Iteratorer\n"
   ]
  },
  {
   "cell_type": "markdown",
   "id": "6a7a7631",
   "metadata": {},
   "source": [
    "## NØstede løkker\n",
    "På samme måte som vi kan nøste if-setninger, så kan vi nøste løkker.\n",
    "\n"
   ]
  }
 ],
 "metadata": {
  "kernelspec": {
   "display_name": "Python 3 (ipykernel)",
   "language": "python",
   "name": "python3"
  },
  "language_info": {
   "codemirror_mode": {
    "name": "ipython",
    "version": 3
   },
   "file_extension": ".py",
   "mimetype": "text/x-python",
   "name": "python",
   "nbconvert_exporter": "python",
   "pygments_lexer": "ipython3",
   "version": "3.8.13"
  },
  "varInspector": {
   "cols": {
    "lenName": 16,
    "lenType": 16,
    "lenVar": 40
   },
   "kernels_config": {
    "python": {
     "delete_cmd_postfix": "",
     "delete_cmd_prefix": "del ",
     "library": "var_list.py",
     "varRefreshCmd": "print(var_dic_list())"
    },
    "r": {
     "delete_cmd_postfix": ") ",
     "delete_cmd_prefix": "rm(",
     "library": "var_list.r",
     "varRefreshCmd": "cat(var_dic_list()) "
    }
   },
   "types_to_exclude": [
    "module",
    "function",
    "builtin_function_or_method",
    "instance",
    "_Feature"
   ],
   "window_display": false
  },
  "vscode": {
   "interpreter": {
    "hash": "369f2c481f4da34e4445cda3fffd2e751bd1c4d706f27375911949ba6bb62e1c"
   }
  }
 },
 "nbformat": 4,
 "nbformat_minor": 5
}
