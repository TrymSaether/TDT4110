{
 "cells": [
  {
   "cell_type": "markdown",
   "metadata": {},
   "source": [
    "# Foreleser Notebooks"
   ]
  },
  {
   "cell_type": "markdown",
   "metadata": {},
   "source": [
    "Bruk filutforskeren til venstre for å navigere i notebooks; klikk på katalog for aktuell uke. Uke 34: aritmetiske uttrykk,variable, enkle funksjoner og plotting, input() og print(). Uke 35: datatyper, typekonvertering, avrundingsfeil. Uke 36: TBC..."
   ]
  }
 ],
 "metadata": {
  "kernelspec": {
   "display_name": "Python 3.9.7 ('tdt4195')",
   "language": "python",
   "name": "python3"
  },
  "language_info": {
   "name": "python",
   "version": "3.9.7"
  },
  "orig_nbformat": 4,
  "vscode": {
   "interpreter": {
    "hash": "63b89d9bfc14eb4486c27c9b239bf0a08c4c63a21c176f83036370f0e204c130"
   }
  }
 },
 "nbformat": 4,
 "nbformat_minor": 2
}
