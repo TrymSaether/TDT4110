{
 "cells": [
  {
   "cell_type": "markdown",
   "id": "16ff22ce",
   "metadata": {
    "slideshow": {
     "slide_type": "fragment"
    }
   },
   "source": [
    "# Lesing og skriving av tekstfil i Python\n",
    "Eksempel her:\n",
    "- starter med tekstfil med data om grunnstoff\n",
    "- leser data fra fil, putter i dictionary\n",
    "    - ønsker kjemisk symbol som nøkkel, \n",
    "    - \\[navn, atomnr, atomvekt\\] som verdi\n",
    "- gjør endring av dictionary\n",
    "- skriver endret dictionary til ny tekstfil\n",
    "\n",
    "## Del 1: Lesing"
   ]
  },
  {
   "cell_type": "code",
   "execution_count": 17,
   "id": "c13dd67c",
   "metadata": {},
   "outputs": [
    {
     "name": "stdout",
     "output_type": "stream",
     "text": [
      "{}\n"
     ]
    }
   ],
   "source": [
    "def les_grunnstoff_fra_fil(filnavn):\n",
    "    '''Leser tekstfil med data om grunnstoff:\n",
    "       atomnr navn symbol atomvekt,\n",
    "       returnerer en dictionary på formen\n",
    "       {symbol: [navn, atomnr, atomvekt]}'''\n",
    "    d = {} # oppretter tom ordbok (dictionary)\n",
    "    with open(filnavn) as fil:\n",
    "        pass # TO BE DONE, erstatt dette med riktig kode\n",
    "        ## Plan for resten av koden:\n",
    "        # Gå i løkke, for hver linje i fila\n",
    "            # splitt linja\n",
    "            # konverter atomnr med int()\n",
    "            # konverter atomvekt med float()\n",
    "            # lag lista [navn, atomnr, atomvekt]\n",
    "            # legg til element d[symbol] i ordbok\n",
    "    # Returner ferdig ordbok\n",
    "    return d\n",
    "\n",
    "# Kode for å teste\n",
    "grunnstoff = les_grunnstoff_fra_fil('grunnstoff.txt')\n",
    "print(grunnstoff)\n",
    "    "
   ]
  },
  {
   "cell_type": "code",
   "execution_count": null,
   "id": "b5b0d7a9",
   "metadata": {},
   "outputs": [],
   "source": []
  },
  {
   "cell_type": "code",
   "execution_count": 22,
   "id": "6a1e7ea0",
   "metadata": {},
   "outputs": [
    {
     "name": "stdout",
     "output_type": "stream",
     "text": [
      "{'H': ['Hydrogen', 1, 1.008], 'He': ['Helium', 2, 4.003], 'Li': ['Litium', 3, 6.939], 'Be': ['Beryllium', 4, 9.012], 'B': ['Bor', 5, 10.811], 'C': ['Karbon', 6, 12.011], 'N': ['Nitrogen', 7, 14.007], 'O': ['Oksygen', 8, 15.998], 'F': ['Fluor', 9, 18.998], 'Ne': ['Neon', 10, 20.183]}\n"
     ]
    }
   ],
   "source": [
    "def les_grunnstoff_fra_fil(filnavn):\n",
    "    '''Leser tekstfil med data om grunnstoff:\n",
    "       atomnr navn symbol atomvekt,\n",
    "       returnerer en dictionary på formen\n",
    "       {symbol: [navn, atomnr, atomvekt]}'''\n",
    "    d = {} # oppretter tom ordbok (dictionary)\n",
    "    with open(filnavn) as fil:\n",
    "        for linje in fil:\n",
    "            liste = linje.split()\n",
    "            atomnr = int(liste[0])\n",
    "            atomvekt = float(liste[3])\n",
    "            d[liste[2]] = [liste[1], atomnr, atomvekt]\n",
    "    return d\n",
    "\n",
    "grunnstoff = les_grunnstoff_fra_fil('grunnstoff.txt')\n",
    "print(grunnstoff)"
   ]
  },
  {
   "cell_type": "markdown",
   "id": "df78b994",
   "metadata": {},
   "source": [
    "## Del 2: Skrive tekstfil\n",
    "Motsatt eksempel:\n",
    "- starter med data i en ordbok (dictionary)\n",
    "- går gjennom ordboka og skriver til tekstfil\n",
    "- (men gidder ikke her å stokke om rekkefølga)"
   ]
  },
  {
   "cell_type": "code",
   "execution_count": null,
   "id": "5b3ed0d3",
   "metadata": {},
   "outputs": [],
   "source": [
    "def skriv_grunnstoff_til_fil(filnavn, ordbok):\n",
    "    '''Får inn et filnavn og ei ordbok (dictionary)\n",
    "       Skriver dataene til tekstfil separert med mellomrom\n",
    "       med nøkkel som venstre kolonne, resten av verdiene deretter'''\n",
    "    with open(filnavn, 'w') as fil: # åpner fil for skriving\n",
    "        pass # TO BE DONE, erstatt dette med riktig kode\n",
    "        ## Plan for resten av koden:\n",
    "        # Gå i løkke gjennom ordboka\n",
    "            # konverter atomnr til str()\n",
    "            # konverter atomvekt til str()\n",
    "            # lag lista [symbol, navn, atomnr, atomvekt]\n",
    "            # join lista med mellomrom\n",
    "            # skriv linja med \\n bakerst\n",
    "\n",
    "\n",
    "# Kode for å teste\n",
    "skriv_grunnstoff_til_fil('nye_grunnstoff.txt', grunnstoff)\n",
    "# Må deretter se på fila om det har blitt rett"
   ]
  },
  {
   "cell_type": "code",
   "execution_count": null,
   "id": "df89f911",
   "metadata": {},
   "outputs": [],
   "source": []
  },
  {
   "cell_type": "code",
   "execution_count": 24,
   "id": "1774ca3c",
   "metadata": {},
   "outputs": [],
   "source": [
    "def skriv_grunnstoff_til_fil(filnavn, ordbok):\n",
    "    '''Får inn et filnavn og ei ordbok (dictionary)\n",
    "       Skriver dataene til tekstfil separert med mellomrom\n",
    "       med nøkkel som venstre kolonne, resten av verdiene deretter'''\n",
    "    with open(filnavn, 'w') as fil: # åpner fil for skriving\n",
    "        for symbol in ordbok:\n",
    "            navn = ordbok[symbol][0]\n",
    "            atomnr = str(ordbok[symbol][1])\n",
    "            atomvekt = str(ordbok[symbol][2])\n",
    "            tekstlinje = ' '.join([symbol, navn, atomnr, atomvekt])\n",
    "            fil.write(tekstlinje + '\\n')\n",
    "\n",
    "# Legger til et nytt grunnstoff\n",
    "grunnstoff['Kr'] = ['Krypton', 36, 83.800]\n",
    "# Kode for å teste\n",
    "skriv_grunnstoff_til_fil('nye_grunnstoff.txt', grunnstoff)\n",
    "# Må deretter se på fila om det har blitt rett"
   ]
  },
  {
   "cell_type": "code",
   "execution_count": null,
   "id": "80417abc",
   "metadata": {},
   "outputs": [],
   "source": []
  },
  {
   "cell_type": "markdown",
   "id": "6962d866",
   "metadata": {},
   "source": [
    "## Del 3: Lesing fra fila, inkludert unntaksbehandling\n",
    "Mye kan gå galt under lesing fra fil. F.eks.\n",
    "- fila kan ha blitt fjerna, flytta eller endra navn på\n",
    "    - vil da få FileNotFoundError\n",
    "- det kan mangle data på fila\n",
    "    - f.eks. at atomvekt mangler for ett av atomene\n",
    "    - vil da få IndexError fordi liste\\[3\\] ikke fins\n",
    "- data på fila kan være på feil format\n",
    "    - f.eks. et flyttall oppgitt med komma, ikke punktum\n",
    "    - vil da få ValueError\n",
    "\n",
    "Dette kan du prøve ut ved å\n",
    "- legge inn slike feil i fila\n",
    "- kjøre koden for å lese fra fila på nytt"
   ]
  },
  {
   "cell_type": "code",
   "execution_count": null,
   "id": "ad98e480",
   "metadata": {},
   "outputs": [],
   "source": [
    "def les_grunnstoff_fra_fil(filnavn):\n",
    "    '''Leser tekstfil med data om grunnstoff:\n",
    "       atomnr navn symbol atomvekt,\n",
    "       returnerer en dictionary på formen\n",
    "       {symbol: [navn, atomnr, atomvekt]}'''\n",
    "    d = {} # oppretter tom ordbok (dictionary)\n",
    "    with open(filnavn) as fil:\n",
    "        for linje in fil:\n",
    "            liste = linje.split()\n",
    "            atomnr = int(liste[0])\n",
    "            atomvekt = float(liste[3])\n",
    "            d[liste[2]] = [liste[1], atomnr, atomvekt]\n",
    "    return d\n",
    "\n",
    "grunnstoff = les_grunnstoff_fra_fil('grunnstoff.txt')\n",
    "print(grunnstoff)"
   ]
  },
  {
   "cell_type": "markdown",
   "id": "5ee2fa40",
   "metadata": {},
   "source": [
    "Det er mulig (men tungvint) å lage if-setninger for å\n",
    "- sjekke at fila fins før vi åpner den\n",
    "- sjekke at alle linjer på fila har nok data\n",
    "- sjekke at alle data er på rett format\n",
    "\n",
    "Enklere å sette alt som har med fila å gjøre i ei try-blokk, som vist nedenfor.\n",
    "- return-setninga trenger ikke være i try, den kan vi gjøre uansett\n",
    "- (vil returnere tom dictionary hvis lesing av fil ikke lykkes)"
   ]
  },
  {
   "cell_type": "code",
   "execution_count": null,
   "id": "e58a3941",
   "metadata": {},
   "outputs": [],
   "source": [
    "def les_grunnstoff_fra_fil(filnavn):\n",
    "    '''Leser tekstfil med data om grunnstoff:\n",
    "       atomnr navn symbol atomvekt,\n",
    "       returnerer en dictionary på formen\n",
    "       {symbol: [navn, atomnr, atomvekt]}'''\n",
    "    d = {} # oppretter tom ordbok (dictionary)\n",
    "    try:\n",
    "        with open(filnavn) as fil:\n",
    "            for linje in fil:\n",
    "                liste = linje.split()\n",
    "                atomnr = int(liste[0])\n",
    "                atomvekt = float(liste[3])\n",
    "                d[liste[2]] = [liste[1], atomnr, atomvekt]\n",
    "    except:\n",
    "        print('Det er noe feil med fila')\n",
    "    return d\n",
    "\n",
    "grunnstoff = les_grunnstoff_fra_fil('grunnstoff.txt')\n",
    "print(grunnstoff)"
   ]
  },
  {
   "cell_type": "markdown",
   "id": "8b4307cd",
   "metadata": {},
   "source": [
    "I koden over er tilbakemelding til brukeren ikke spesielt informativ:\n",
    "- \"noe feil med fila\"\n",
    "\n",
    "Bedre: gi ulike tilbakemeldinger for ulike typer feil:"
   ]
  },
  {
   "cell_type": "code",
   "execution_count": null,
   "id": "917279e1",
   "metadata": {},
   "outputs": [],
   "source": [
    "def les_grunnstoff_fra_fil(filnavn):\n",
    "    '''Leser tekstfil med data om grunnstoff:\n",
    "       atomnr navn symbol atomvekt,\n",
    "       returnerer en dictionary på formen\n",
    "       {symbol: [navn, atomnr, atomvekt]}'''\n",
    "    d = {} # oppretter tom ordbok (dictionary)\n",
    "    try:\n",
    "        with open(filnavn) as fil:\n",
    "            for linje in fil:\n",
    "                liste = linje.split()\n",
    "                atomnr = int(liste[0])\n",
    "                atomvekt = float(liste[3])\n",
    "                d[liste[2]] = [liste[1], atomnr, atomvekt]\n",
    "    except FileNotFoundError:\n",
    "        print('Fant ikke fila, sjekk om filnavn og katalogplassering er korrekt')\n",
    "    except IndexError:\n",
    "        print('Ei linje på fila hadde for lite data')\n",
    "    except ValueError:\n",
    "        print('Data som skulle konverteres til tall var på feil format')\n",
    "    return d\n",
    "\n",
    "grunnstoff = les_grunnstoff_fra_fil('grunnstoff.txt')\n",
    "print(grunnstoff)"
   ]
  },
  {
   "cell_type": "markdown",
   "id": "a2ffec72",
   "metadata": {},
   "source": [
    "Hvis du vil, kan du selv prøve å forbedre denne funksjonen ytterligere.\n",
    "\n",
    "Prøv å legge inn forskjellige typer feil i fila og kjøre.\n",
    "- Dukker det også opp andre typer feilmeldinger enn de som håndteres nå? Prøv i så fall å legge inn kode også for disse.\n",
    "- Er det mulig å gjøre feilmeldingene enda mer presise, f.eks. gi tilbakemelding om akkurat hvilken linje som inneholdt feil data?\n"
   ]
  },
  {
   "cell_type": "code",
   "execution_count": null,
   "id": "273493b3",
   "metadata": {},
   "outputs": [],
   "source": []
  }
 ],
 "metadata": {
  "kernelspec": {
   "display_name": "Python 3 (ipykernel)",
   "language": "python",
   "name": "python3"
  },
  "language_info": {
   "codemirror_mode": {
    "name": "ipython",
    "version": 3
   },
   "file_extension": ".py",
   "mimetype": "text/x-python",
   "name": "python",
   "nbconvert_exporter": "python",
   "pygments_lexer": "ipython3",
   "version": "3.9.7"
  }
 },
 "nbformat": 4,
 "nbformat_minor": 5
}
