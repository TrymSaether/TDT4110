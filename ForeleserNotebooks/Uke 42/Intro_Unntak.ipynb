{
 "cells": [
  {
   "cell_type": "markdown",
   "id": "cb7ff42f",
   "metadata": {},
   "source": [
    "# Intro til unntakshåndtering i Python\n",
    "Ofte vil kode kunne feile. Noen ganger skyldes det at vi har programmert feil, på en måte som bør rettes opp så fort som mulig. Da er det greit at vi får en litt kryptisk feilmelding ut av Python, såframt vi selv har lært hvordan vi tolker den.\n",
    "\n",
    "Andre ganger kan et program feile uten at koden nødvendigvis er direkte feil. For eksempel at bruker har gitt feilaktig input, eller at ei fil som vi skal lese data fra, enten ikke fins, eller har et annet innhold enn det som var forventet. Særlig hvis vi etter hvert blir så gode til å programmere at vi skal begynne å lage program som skal brukes også av andre enn oss selv - og disse andre kanskje ikke forstår feilmeldinger i Python - vil det av og til være dumt om programmet kræsjer med en kryptisk feilmelding. Med __unntaksbehandling__ kan vi håndtere slike situasjoner mer elegant."
   ]
  },
  {
   "cell_type": "markdown",
   "id": "b85b2040",
   "metadata": {},
   "source": [
    "## Hvorfor ikke bare bruke if-setninger i stedet?\n",
    "I mange tilfeller kan if-setninger brukes i stedet for unntaksbehandling.\n",
    "- if-setninger: sjekke på forhånd så vi er sikre på at en operasjon går bra å utføre, deretter utføre operasjonen\n",
    "- unntaksbehandling: prøve å utføre operasjonen (uten å ha sjekket), gjøre en alternativ handling hvis operasjonen feilet\n",
    "\n",
    "MEN: ofte blir unntaksbehandling enklere, som illustrert med eksempler under.\n",
    "\n",
    "Første eksempel: Her har vi verken if-setning eller unntak\n",
    "- koden vil feile (ValueError) hvis bruker skriver noe som ikke er et tall"
   ]
  },
  {
   "cell_type": "code",
   "execution_count": null,
   "id": "05c2cf9d",
   "metadata": {},
   "outputs": [],
   "source": [
    "tall = int(input(\"Skriv et heltall: \"))\n",
    "print(\"Tallet var\", tall)"
   ]
  },
  {
   "cell_type": "markdown",
   "id": "8439b6a4",
   "metadata": {},
   "source": [
    "Andre eksempel: Fikser problemet med if-setning\n",
    "- unngår ValueError\n",
    "- men vil si \"ikke et lovlig heltall\" for negativt tall - var dette meningen?"
   ]
  },
  {
   "cell_type": "code",
   "execution_count": null,
   "id": "9ae1b91f",
   "metadata": {},
   "outputs": [],
   "source": [
    "streng = input(\"Skriv et heltall: \")\n",
    "if streng.isdigit():\n",
    "    tall = int(streng)\n",
    "    print(\"Tallet var\", tall)\n",
    "else:\n",
    "    print(\"Du skrev ikke et lovlig heltall\")"
   ]
  },
  {
   "cell_type": "markdown",
   "id": "9c53e85b",
   "metadata": {},
   "source": [
    "Tredje eksempel: Fortsatt if-setning\n",
    "- lager koden litt mer avansert for å håndtere noen spesielle case\n",
    "    - at tallet kan begynne med minustegn\n",
    "    - at det kan være blanke tegn foran og bak tallet"
   ]
  },
  {
   "cell_type": "code",
   "execution_count": null,
   "id": "27e774db",
   "metadata": {},
   "outputs": [],
   "source": [
    "streng = input(\"Skriv et heltall: \")\n",
    "s = streng.strip()\n",
    "if (s[0].isdigit() or s[0] == '-') and s[1:].isdigit():\n",
    "    tall = int(s)\n",
    "    print(\"Tallet var\", tall)\n",
    "else:\n",
    "    print(\"Du skrev ikke et lovlig heltall\")"
   ]
  },
  {
   "cell_type": "markdown",
   "id": "62f6a593",
   "metadata": {},
   "source": [
    "Koden over viser hva som av og til skjer når vi skal bruke if-setninger for å sjekke at det er trygt å utføre en viss operasjon (som her int(s)): if-setningen blir litt komplisert pga mange spesialcase. Her blir unntakshåndtering enklere kode:\n",
    "- prøver å konvertere til int() og printe\n",
    "- hvis det ikke gikk bra, gjør vi i stedet en alternativ print"
   ]
  },
  {
   "cell_type": "code",
   "execution_count": null,
   "id": "8f0d9d25",
   "metadata": {},
   "outputs": [],
   "source": [
    "try:\n",
    "    tall = int(input(\"Skriv et heltall: \"))\n",
    "    print(\"Tallet var\", tall)\n",
    "except:\n",
    "    print(\"Du skrev ikke et lovlig heltall\")"
   ]
  },
  {
   "cell_type": "markdown",
   "id": "b896fd7f",
   "metadata": {},
   "source": [
    "Fordelen med unntakshåndtering kan bli enda større hvis det er mange ulike ting som kan gå galt. Koden nedenfor har fire tilfeller av inntastede tall som skal konverteres med int(), og som hver for seg kan gå galt.\n",
    "\n",
    "Det første eksemplet har verken if eller unntak, vil feile ved gal input."
   ]
  },
  {
   "cell_type": "code",
   "execution_count": null,
   "id": "e8e8cc4b",
   "metadata": {},
   "outputs": [],
   "source": [
    "# UTEN FEILHÅNDTERING\n",
    "input(\"V0 - uten feilhåndtering\")\n",
    "print('Alle data skal gis som heltall.')\n",
    "alder = int(input('Oppgi alder: '))\n",
    "vekt = int(input('Oppgi vekt i kg: '))\n",
    "h = int(input('Oppgi høyde i cm: '))\n",
    "epler = int(input('Hvor mange epler har du? '))"
   ]
  },
  {
   "cell_type": "markdown",
   "id": "e61a31e2",
   "metadata": {},
   "source": [
    "Neste eksempel prøver å samle opp alt som kan gå galt i én if-setning.\n",
    "- fordel: unngår at koden blir veldig lang\n",
    "- ulempe: gir ikke feilmeldingen til bruker på riktig sted. \n",
    "    - Selv om brukeren taster feil på alder, \n",
    "    - vil programmet fortsette å spørre om de andre opplysningene, \n",
    "    - og så gi feilmelding når alt er tastet inn"
   ]
  },
  {
   "cell_type": "code",
   "execution_count": null,
   "id": "08c0b659",
   "metadata": {},
   "outputs": [],
   "source": [
    "# FEILHÅNDTERING MED if-else\n",
    "input(\"V1 - if oppsamlet\")\n",
    "print('Alle data skal gis som heltall.')\n",
    "alder = input('Oppgi alder: ')\n",
    "vekt = input('Oppgi vekt i kg: ')\n",
    "h = input('Oppgi høyde i cm: ')\n",
    "epler = input('Hvor mange epler har du? ')\n",
    "if (alder.isdigit() and vekt.isdigit()\n",
    "    and h.isdigit() and epler.isdigit()):\n",
    "    alder = int(alder)\n",
    "    vekt = int(vekt)\n",
    "    h = int(h)\n",
    "    epler = int(epler)\n",
    "else:\n",
    "    print('Feil format på inndata')"
   ]
  },
  {
   "cell_type": "markdown",
   "id": "6835a337",
   "metadata": {},
   "source": [
    "Neste versjon klarer å gi feilmelding på rett tidspunkt\n",
    "- ved å ha en if-setning for hver eneste input\n",
    "- men dette gir lang og omstendelig kode"
   ]
  },
  {
   "cell_type": "code",
   "execution_count": null,
   "id": "e1070d06",
   "metadata": {},
   "outputs": [],
   "source": [
    "# FEILHÅNDTERING MED if-else\n",
    "input(\"V2 - if en og en\")\n",
    "print('Alle data skal gis som heltall.')\n",
    "alder = input('Oppgi alder: ')\n",
    "if alder.isdigit():\n",
    "    alder = int(alder)\n",
    "else:\n",
    "    print('Feil format på inndata')\n",
    "vekt = input('Oppgi vekt i kg: ')\n",
    "if vekt.isdigit():\n",
    "    vekt = int(vekt)\n",
    "else:\n",
    "    print('Feil format på inndata')\n",
    "h = input('Oppgi høyde i cm: ')\n",
    "if h.isdigit():\n",
    "    h = int(h)\n",
    "else:\n",
    "    print('Feil format på inndata')\n",
    "epler = input('Hvor mange epler har du? ')\n",
    "if epler.isdigit():\n",
    "    epler = int(epler)\n",
    "else:\n",
    "    print('Feil format på inndata')"
   ]
  },
  {
   "cell_type": "markdown",
   "id": "9c40a719",
   "metadata": {},
   "source": [
    "Med unntakshåndtering (try-except) oppnår vi\n",
    "- kortere og enklere kode\n",
    "- feilmelding kommer på rett tidspunkt"
   ]
  },
  {
   "cell_type": "code",
   "execution_count": null,
   "id": "662fcdf4",
   "metadata": {},
   "outputs": [],
   "source": [
    "# FEILHÅNDTERING MED try-except\n",
    "# Kortere og enklere kode, og gir beskjed om feil på rett tidspunkt\n",
    "input(\"try except\")\n",
    "print('Alle data skal gis som heltall.')\n",
    "try:\n",
    "    alder = int(input('Oppgi alder: '))\n",
    "    vekt = int(input('Oppgi vekt i kg: '))\n",
    "    h = int(input('Oppgi høyde i cm: '))\n",
    "    epler = int(input('Hvor mange epler har du? '))\n",
    "except:\n",
    "    print('Feil format på inndata')"
   ]
  }
 ],
 "metadata": {
  "kernelspec": {
   "display_name": "Python 3 (ipykernel)",
   "language": "python",
   "name": "python3"
  },
  "language_info": {
   "codemirror_mode": {
    "name": "ipython",
    "version": 3
   },
   "file_extension": ".py",
   "mimetype": "text/x-python",
   "name": "python",
   "nbconvert_exporter": "python",
   "pygments_lexer": "ipython3",
   "version": "3.9.7"
  }
 },
 "nbformat": 4,
 "nbformat_minor": 5
}
