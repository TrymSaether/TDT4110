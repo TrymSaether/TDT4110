{
 "cells": [
  {
   "cell_type": "markdown",
   "metadata": {},
   "source": [
    "## Sammensatte if setninger\n",
    "\n",
    "Ved bruk av if setninger er man ikke begrenset til 1 en betingelse. I denne notebooken skal vi se nærmere på hvordan vi ved bruk av logiske operatører kan kombinere flere betingelser. Dette inkluderer bruk av logiske operatører som _and_, _or_ og _not_. Vi vil også se nærmere på rekkefølgen betingelser tolkes av Python. Dette har en påvirkning på hvordan vi bør sette opp våre betingelser."
   ]
  },
  {
   "cell_type": "markdown",
   "metadata": {},
   "source": [
    "__Intro til boolean algebra__"
   ]
  },
  {
   "cell_type": "markdown",
   "metadata": {},
   "source": [
    "__Klassiske boolean algebra tabellen__"
   ]
  },
  {
   "cell_type": "markdown",
   "metadata": {},
   "source": [
    "__Kombinere betingelser med and og or__\n",
    "\n",
    "I svært mange situasjoner har du et behov for at kode skal kjøre dersom en kolleksjon av betingelser er oppfylt. Et eksempel er dersom du skal evaluere om et tall er i et intervall. Si vi skal sjekke om tallet er mellom 0 og 10. Da må vi både sjekke at tallet er større enn 0 og at tallet er mindre enn 10. I Python gjør vi dette med å sette _and_ mellom de to betingelse. Hvis vi har to betingelser X og Y, returnerer and True kun dersom X=True og Y=True."
   ]
  },
  {
   "cell_type": "code",
   "execution_count": 3,
   "metadata": {},
   "outputs": [
    {
     "name": "stdout",
     "output_type": "stream",
     "text": [
      "Tallet 5 er i intervallet 0 til 10\n"
     ]
    }
   ],
   "source": [
    "tall = 5\n",
    "\n",
    "if (tall > 0) and (tall < 10): # et eksempel på bruk av and\n",
    "    print(\"Tallet %d er i intervallet 0 til 10\" % tall)\n",
    "else:\n",
    "    print(\"Tallet %d er ikke i intervallet 0 til 10\" % tall)"
   ]
  },
  {
   "cell_type": "code",
   "execution_count": 4,
   "metadata": {},
   "outputs": [
    {
     "name": "stdout",
     "output_type": "stream",
     "text": [
      "Tallet 12 er ikke i intervallet 0 til 10\n"
     ]
    }
   ],
   "source": [
    "tall = 12\n",
    "\n",
    "if (tall > 0) and (tall < 10): # et eksempel på bruk av and\n",
    "    print(\"Tallet %d er i intervallet 0 til 10\" % tall)\n",
    "else:\n",
    "    print(\"Tallet %d er ikke i intervallet 0 til 10\" % tall)"
   ]
  },
  {
   "cell_type": "markdown",
   "metadata": {},
   "source": [
    "En annen logisk operatør vi kan bruker er _or_. Denne returnerer True dersom en av X og Y er True eller begge er True."
   ]
  },
  {
   "cell_type": "code",
   "execution_count": null,
   "metadata": {},
   "outputs": [],
   "source": []
  },
  {
   "cell_type": "markdown",
   "metadata": {},
   "source": [
    "__Eksempel som også bruker not__"
   ]
  },
  {
   "cell_type": "markdown",
   "metadata": {},
   "source": [
    "__Zero Division Error__"
   ]
  },
  {
   "cell_type": "markdown",
   "metadata": {},
   "source": []
  }
 ],
 "metadata": {
  "kernelspec": {
   "display_name": "Python 3.8.11 ('ada')",
   "language": "python",
   "name": "python3"
  },
  "language_info": {
   "codemirror_mode": {
    "name": "ipython",
    "version": 3
   },
   "file_extension": ".py",
   "mimetype": "text/x-python",
   "name": "python",
   "nbconvert_exporter": "python",
   "pygments_lexer": "ipython3",
   "version": "3.8.11"
  },
  "orig_nbformat": 4,
  "vscode": {
   "interpreter": {
    "hash": "4caa1ec5584986963d819277171fa07aa8ec5967f3252770a79fd2a35e97fb14"
   }
  }
 },
 "nbformat": 4,
 "nbformat_minor": 2
}
