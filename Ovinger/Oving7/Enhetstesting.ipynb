{
 "cells": [
  {
   "cell_type": "markdown",
   "id": "af689029",
   "metadata": {},
   "source": [
    "<nav class=\"navbar navbar-default\">\n",
    "  <div class=\"container-fluid\">\n",
    "    <div class=\"navbar-header\">\n",
    "      <a class=\"navbar-brand\" href=\"_Oving7.ipynb\">Øving 7</a>\n",
    "    </div>\n",
    "    <ul class=\"nav navbar-nav\">\n",
    "    <li><a href=\"Generelt%20om%20dictionary.ipynb\">Generelt om dictionary</a></li>\n",
    "    <li><a href=\"Innebygde%20funksjoner%20i%20dictionaries.ipynb\">Innebygde funksjoner</a></li>\n",
    "    <li><a href=\"Generelt%20om%20sets.ipynb\">Generelt om sets</a></li>\n",
    "    <li><a href=\"Generelt%20om%20filbehandling.ipynb\">Generelt om filbehandling</a></li>\n",
    "    <li><a href=\"Osteviruset.ipynb\">Osteviruset</a></li>\n",
    "    <li><a href=\"Bursdagsdatabasen.ipynb\">Bursdagsdatabasen</a></li>\n",
    "    <li><a href=\"Tallak%20teller%20antall%20tall.ipynb\">Tallak teller antall tall</a></li>\n",
    "    <li class = \"active\"><a href=\"Enhetstesting.ipynb\">Enhetstesting</a></li>\n",
    "    <li><a href=\"Tidtaking.ipynb\">Tidtaking</a></li>\n",
    "    <li><a href=\"Moduler.ipynb\">Moduler</a></li>\n",
    "    <li><a href=\"Opptaksgrenser.ipynb\">Opptaksgrenser</a></li>\n",
    "    <li><a href=\"Soke%20i%20tekst.ipynb\">Søke i tekst</a></li>\n",
    "    <li><a href=\"Tre%20paa%20rad.ipynb\">Tre på rad</a></li>\n",
    "    </ul>\n",
    "  </div>\n",
    "</nav>\n",
    "\n",
    "# Enhetstesting\n",
    "\n",
    "**Læringsmål:**\n",
    "* Enhetstesting"
   ]
  },
  {
   "cell_type": "markdown",
   "id": "3fbf8fc3",
   "metadata": {
    "heading_collapsed": true
   },
   "source": [
    "## Tutorial: Enhetstesting"
   ]
  },
  {
   "cell_type": "markdown",
   "id": "b164cff1",
   "metadata": {
    "hidden": true
   },
   "source": [
    "Testing av kode du selv eller andre har skrevet er en stor og viktig del av programmering. Man kan teste koden sin på mange forksjellige måter. Både manuelt og automatisk. Med manuell testing foregår uten en plan, man kjører koden sin flere ganger med forskjellige inputs og observerer output. Automatisk testing, derimot, er laget med en plan. Da er det skrevet tester som tester spesifikke deler av koden som vi har bestemt at vi ønsker å teste. Det finnes også flere typer automatiske tester, noen av de er:\n",
    "\n",
    "* Enhetstesting - Tester enkelte funksjoner\n",
    "* Integrasjonstesting - Tester større deler av programmet som en helhet\n",
    "* Systemtestig - Tester hele systemet\n",
    "* Akseptansetesting - F.eks en alpha eller betatest, hvor systemet/programmet testes av andre enn programmererene selv. Ofte siste testing før programmet/systemet går \"live\".\n",
    "\n",
    "I denne øvingen skal vi gå litt mer inn på _Enhetstesting_. Som nevnt i listen over er Enhetstesting å teste hver enkelt funksjon. Altså teste at den oppfører seg som forventet. Når man tester en funksjon er det viktig å tenke på typiske \"edge cases\". Det vil si, tilfellene som man ikke nødvendigvis tenker at funksjonen skal brukes til. F.eks hvis du skriver en funksjon som skal legge til et telefonnummer i en adressebok. Du tenker da sikkert at alle telefonnumre som skal legges til er 8 siffer. Dette er ikke nødvendigvis realiteten hvis funksjonen skal brukes av andre enn deg selv. Noen setter kanskje inn et nummer som bare er 7 siffer, og det er jo ikke et gyldig, norsk mobilnummer. Hvis poenget med funksjonen er at det ikke skal være mulig å sende inn mobilnumre som ikke er 8 siffer, skriver man en test for å sjekke dette."
   ]
  },
  {
   "cell_type": "code",
   "execution_count": null,
   "id": "366ee49b",
   "metadata": {
    "hidden": true
   },
   "outputs": [],
   "source": [
    "d = {}\n",
    "def save_phone_number(name, number):\n",
    "    return True\n",
    "    \n",
    "def test_save_phone_number():\n",
    "    assert not save_phone_number(\"Ola\", 1234567), \"Telefonummeret innheolder ikke 8 siffer!\"\n",
    "\n",
    "test_save_phone_number()"
   ]
  },
  {
   "cell_type": "markdown",
   "id": "c493228f",
   "metadata": {
    "hidden": true
   },
   "source": [
    "Ved å kjøre kodeblokken over får man en `AssertionError`. Dette er fordi testen `test_save_phone_number` feiler. Syntaxen på en slik test er `assert <noe som skal bli True>, <Feilmelding>`. Over foventer testen at `save_phone_number` skal returnere `False`, da vi sender inn et telefonnummer som er for kort. Siden testen feilet, vet vi at noe er feil med funksjonen vår, og vi kan endre funksjonen vår:"
   ]
  },
  {
   "cell_type": "code",
   "execution_count": null,
   "id": "316859b0",
   "metadata": {
    "hidden": true
   },
   "outputs": [],
   "source": [
    "d = {}\n",
    "\n",
    "def save_phone_number(name, number):\n",
    "    if len(str(number)) != 8:\n",
    "        return False\n",
    "\n",
    "def test_save_phone_number():\n",
    "    assert not save_phone_number(\"Ola\", 1234567), \"Telefonummeret innheolder ikke 8 siffer!\"\n",
    "    \n",
    "test_save_phone_number()"
   ]
  },
  {
   "cell_type": "markdown",
   "id": "6ab2729c",
   "metadata": {
    "hidden": true
   },
   "source": [
    "Kodeblokken over gir ingen feilmelding, som vil si at funksjonen gjør det vi vil den skal gjøre (returnere `False`), i _akkurat dette tilfellet_. Vi har nå bare testet et tilfelle, som ofte ikke er nok. Vi kan legge inn flere `assert`s:"
   ]
  },
  {
   "cell_type": "code",
   "execution_count": null,
   "id": "75f1577a",
   "metadata": {
    "hidden": true
   },
   "outputs": [],
   "source": [
    "d = {}\n",
    "\n",
    "def save_phone_number(name, number):\n",
    "    if len(str(number)) != 8:\n",
    "        return False\n",
    "    \n",
    "    return True\n",
    "\n",
    "def test_save_phone_number():\n",
    "    assert not save_phone_number(\"Ola\", 1234567), \"Telefonummeret innheolder ikke 8 siffer!\"\n",
    "    assert save_phone_number(\"Ola\", 12345678), \"Telefonnummeret skal kunne inneholde 8 siffer.\"\n",
    "    assert d.get('Ola', None) == 12345678, 'Etter å ha kalt save_phone_number(\"Ola\", 12345678) skal Ola ligge i dictionarien d.'\n",
    "    \n",
    "test_save_phone_number()"
   ]
  },
  {
   "cell_type": "markdown",
   "id": "5e4c66a0",
   "metadata": {
    "hidden": true
   },
   "source": [
    "Som du ser ved å kjøre kodeblokken over feiler testen selvom vi nå returnerer `True` kun om nummeret inneholder 8 siffer. Problemet ligger nå i at vi forventer at funksjonen vår legger inn telefonnummeret i adresseboken, noe testen plukker opp at den ikke gjør. Legger vi til dette kjører testen fint:"
   ]
  },
  {
   "cell_type": "code",
   "execution_count": null,
   "id": "3973c182",
   "metadata": {
    "hidden": true
   },
   "outputs": [],
   "source": [
    "d = {}\n",
    "\n",
    "def save_phone_number(name, number):\n",
    "    if len(str(number)) != 8:\n",
    "        return False\n",
    "    d[name] = number\n",
    "    return True\n",
    "\n",
    "def test_save_phone_number():\n",
    "    assert not save_phone_number(\"Ola\", 1234567), \"Telefonummeret innheolder ikke 8 siffer!\"\n",
    "    assert save_phone_number(\"Ola\", 12345678), \"Telefonnummeret skal kunne inneholde 8 siffer.\"\n",
    "    assert d.get('Ola', None) == 12345678, 'Etter å ha kalt save_phone_number(\"Ola\", 12345678) skal Ola ligge i dictionarien d.'\n",
    "    \n",
    "test_save_phone_number()"
   ]
  },
  {
   "cell_type": "markdown",
   "id": "f49c9f2f",
   "metadata": {
    "hidden": true
   },
   "source": [
    "Nå har vi fått testet litt forksjellig. Vi har testet at funksjonen ikke tillater mobilnummer som ikke er 8 siffer, og at den tillater mobilnummer som _er_ 8 siffer. Videre har vi sjekket at den korrekt legger til mobilnummeret i adresseboken vår. Du tenker kanskje at dette er nok tessting, men nei! Man bør gjerne teste med mange forskjellige inputs. For eksempel et tomt navn, et telefonnummer som er større enn 8 siffer, prøve å legge inn et nytt nummer på \"Ola\" og se at telefonnummeret oppdateres/ikke oppdateres."
   ]
  },
  {
   "cell_type": "markdown",
   "id": "848b82e8",
   "metadata": {
    "hidden": true
   },
   "source": [
    "Det er ikke alltid vi har lyst til å skrive veldig mange linjer med `assert` på egenhånd. Det kan være vi har en funksjon som har _veldig_ mange mulige tilfeller. Da kan vi bruke f.eks en for-løkke:"
   ]
  },
  {
   "cell_type": "code",
   "execution_count": null,
   "id": "49a5db20",
   "metadata": {
    "hidden": true
   },
   "outputs": [],
   "source": [
    "def summer(x, y):\n",
    "    return x + y\n",
    "\n",
    "def test_summer():\n",
    "    for i in range(100):\n",
    "        for j in range(100):\n",
    "            res = summer(i, j)\n",
    "            assert res == i + j, f'Forventet at summer skulle gi resulatet {i+j}, men var {res}'\n",
    "test_summer()"
   ]
  },
  {
   "cell_type": "markdown",
   "id": "8417b886",
   "metadata": {
    "hidden": true
   },
   "source": [
    "Testen over kjører faktisk 1000 `asserts`. Det er litt lettere å gjøre det på den måten enn å måtte skrive 1000 `assert`s nedover slik som her:\n",
    "\n",
    "```python\n",
    "assert summer(0, 0) == 0, 'Forventet at summer skulle gi resultatet 0'\n",
    "assert summer(0, 1) == 1, 'Forventet at summer skulle gi resultatet 1'\n",
    "assert summer(0, 2) == 2, 'Forventet at summer skulle gi resultatet 2'\n",
    "...\n",
    "assert summer(99, 98) == 197, 'Forventet at summer skulle gi resultatet 197'\n",
    "assert summer(99, 99) == 198, 'Forventet at summer skulle gi resultatet 198'\n",
    "```"
   ]
  },
  {
   "cell_type": "markdown",
   "id": "6204d9dd",
   "metadata": {
    "heading_collapsed": true
   },
   "source": [
    "## Oppgave: Yatzy"
   ]
  },
  {
   "cell_type": "markdown",
   "id": "835bd323",
   "metadata": {
    "hidden": true
   },
   "source": [
    "Nedenfor ser du en kodeblokk med allerede skrevet kode og dokumentasjon for en modifisert versjon av Yatzy. Din oppgave er å skrive test(er) til koden, slik at vi er sikre på at koden oppfører seg som forventet. Hvis testene du skriver dine viser at koden ikke oppfører seg som den skal, bes du rette opp koden til testene dine ikke feiler."
   ]
  },
  {
   "cell_type": "code",
   "execution_count": null,
   "id": "5b10abc4",
   "metadata": {
    "hidden": true
   },
   "outputs": [],
   "source": [
    "import numpy as np\n",
    "\n",
    "def roll_dice(num_dice):\n",
    "    \"\"\"Throws num_dice dice and returns a numpy array with all dice values and their counts.\"\"\"\n",
    "    return np.random.randint(1, 7, size=num_dice)\n",
    "\n",
    "def check_highest_pair(dice):\n",
    "    \"\"\"Checks for the highest pair in dice. \n",
    "    Returns the score of the highest pair and 0 if no pair is present.\n",
    "    \"\"\"\n",
    "    sorted_arr = np.sort(dice)\n",
    "    pairs = np.zeros(6)\n",
    "    \n",
    "    for elem in dice:\n",
    "        pairs[int(elem) - 1] += 1\n",
    "    \n",
    "    if pairs.max() < 2:\n",
    "        return 0\n",
    "\n",
    "    return (np.argwhere(pairs >= 2)[-1][0] + 1) * 2\n",
    "\n",
    "def check_highest_two_pair(dice):\n",
    "    \"\"\"Checks for the highest two pairs in dice. \n",
    "    Returns the value of of the dice which is in the highest pairs and 0 if no two pairs is present.\n",
    "    \"\"\"\n",
    "    first_pair = check_highest_pair(dice)\n",
    "    second_pair = check_highest_pair(dice[dice != first_pair/2])\n",
    "    \n",
    "    if first_pair == 0 and second_pair == 0:\n",
    "        return 0\n",
    "    return first_pair + second_pair\n",
    "\n",
    "def check_x_of_a_kind(dice, x):\n",
    "    \"\"\"Checks for x of a kind in dice. x can be either 3, 4 or 5.\n",
    "    Returns the score of the highest x of a kind or 0 if no x of a kind is present.\n",
    "    \"\"\"\n",
    "    \n",
    "    if x not in [3,4,5]:\n",
    "        return 0\n",
    "    \n",
    "    nums = np.zeros(len(dice))\n",
    "    unique, counts = np.unique(dice, return_counts=True)\n",
    "    \n",
    "    if not any(counts[counts >= x]):\n",
    "        return 0\n",
    "   \n",
    "    return unique[np.where(counts >= x)[0][0]] * x\n",
    "\n",
    "def check_yatzy(dice):\n",
    "    \"\"\"Checks if dice is Yatzy. Yatzy is defined as five of a kind\n",
    "    Returns 50 if it is Yatzy and 0 otherwise.\n",
    "    \"\"\"\n",
    "    return 50 if len(set(dice)) == 0 and len(dice) == 5 else 0\n",
    "\n",
    "def check_full_house(dice):\n",
    "    \"\"\"Checks for full house in dice. \n",
    "    Returns the score of the the three of a kind or 0 if no full house is present\n",
    "    \"\"\"\n",
    "    three_of_a_kind = check_x_of_a_kind(dice, 3)\n",
    "    pair = check_highest_pair(dice[dice != three_of_a_kind//3])\n",
    "    \n",
    "    if not three_of_a_kind or not pair:\n",
    "        return 0\n",
    "    \n",
    "    return pair + three_of_a_kind\n",
    "\n",
    "def check_straight(dice, large=False):\n",
    "    \"\"\"Checks for small or large straight, based on keyword argument large.\n",
    "    Returns sum of the straight or 0 if no straight is present.\"\"\"\n",
    "    if not len(dice):\n",
    "        return 0\n",
    "    \n",
    "    if large:\n",
    "        min_val = 2\n",
    "        max_val = 6\n",
    "    else:\n",
    "        min_val = 1\n",
    "        max_val = 5\n",
    "    \n",
    "    sorted_dice = np.sort(dice)\n",
    "    if len(sorted_dice) == len(np.unique(sorted_dice)) and sorted_dice[0] == min_val and sorted_dice[-1] == max_val:\n",
    "        return np.sum(dice)\n",
    "    return 0\n",
    "\n",
    "def check_singles(dice, num):\n",
    "    \"\"\"Checks for single values.\n",
    "    Returns the count of the number.\n",
    "    \"\"\"\n",
    "    \n",
    "    return len(dice[dice == num]) * num\n",
    "\n",
    "def print_rules():\n",
    "    print()\n",
    "    print('You play turn by turn. Each playere must first enter for which category they want to throw the dice.')\n",
    "    print('The categories are as follows:')\n",
    "    print()\n",
    "    print(\"\"\"\n",
    "    Ones:               Scoring is the sum of all ones\n",
    "    Twos:               Scoring is the sum of all twos\n",
    "    Threes:             Scoring is the sum of all threes\n",
    "    Fours:              Scoring is the sum of all fours\n",
    "    Fives:              Scoring is the sum of all fives\n",
    "    Sixes:              Scoring is the sum of all sixes\n",
    "    Pair:               Roll a pair. Score is the sum of the pair\n",
    "    Two pair:           Roll two, distinct, pairs. Score is the sum of both pairs\n",
    "    Three of a kind:    Roll three of a kind. Score is the sum of the three of a kind\n",
    "    Four of a kind:     Roll four of a kind. Score is the sum of the four of a kind\n",
    "    Small straight:     1 2 3 4 5. Score is 15\n",
    "    Large straight:     2 3 4 5 6. Score is 20\n",
    "    Full house:         Roll one pair and one three of a kind. Score is the sum of all dice\n",
    "    Yatzy:             Roll all unique dice. Socore is 50\n",
    "    \"\"\")\n",
    "    print()\n",
    "    print('Once a player has a score in a categoy, they cannot choose this category again.')\n",
    "    print('A player does not have to choose the category \\'Yatzy\\'. The Yatzy is automatically given.')\n",
    "    print('The game is over once each player have a score in each category.')\n",
    "    print('In this version of Yatzy, you only have one throw. I.e, you cannot keep dice and throw again.')\n",
    "\n",
    "def yes_no(question):\n",
    "    ans = input(question).lower()\n",
    "    while ans != 'y' and ans != 'n':\n",
    "        ans = input(f'Sorry, I did not get that. {question}')\n",
    "    return ans == 'y'\n",
    "\n",
    "def print_status(players, curr_player):\n",
    "    print()\n",
    "    print('The scores are as follows:')\n",
    "    \n",
    "    for player in players:\n",
    "        print(f'Player {player} scores:')\n",
    "        for cat, score in players[player].items():\n",
    "            print((cat + ':').ljust(25) + str(score))\n",
    "        \n",
    "        print(f'Sum scores:'.ljust(25) + str(sum(players[player].values())))\n",
    "        print()\n",
    "    \n",
    "    if curr_player != -1:\n",
    "        print(f'It is currently player {curr_player}\\'s turn.')\n",
    "    else:\n",
    "        winner = max([(player, sum(players[player].values())) for player in players], key=lambda x: x[1])\n",
    "        \n",
    "        print(f'The winner is player {winner[0]} with {winner[1]} in score! Congrats.')\n",
    "        \n",
    "        \n",
    "def get_next_player(available_categories, curr_player):\n",
    "    max_player = max(available_categories.keys())\n",
    "    \n",
    "    tmp_curr_player = curr_player + 1\n",
    "    \n",
    "    if tmp_curr_player > max_player:\n",
    "        tmp_curr_player = 1\n",
    "        \n",
    "    while not len(available_categories[tmp_curr_player]):\n",
    "        if tmp_curr_player == max_player:\n",
    "            return -1\n",
    "        tmp_curr_player += 1\n",
    "        \n",
    "    return tmp_curr_player\n",
    "                \n",
    "CATEGORIES = ['Ones', 'Twos', 'Threes', 'Fours', 'Fives', 'Sixes', 'Pair', 'Two pair', 'Three of a kind', 'Four of a kind',\n",
    "             'Small straight', 'Large straight', 'Full house', 'Yatzy']\n",
    "\n",
    "CATEGORY_CHECKS = {\n",
    "    'Ones': check_singles,\n",
    "    'Twos': check_singles,\n",
    "    'Threes': check_singles,\n",
    "    'Fours': check_singles,\n",
    "    'Fives': check_singles,\n",
    "    'Sixes': check_singles,\n",
    "    'Pair': check_highest_pair,\n",
    "    'Two pair': check_highest_two_pair,\n",
    "    'Three of a kind': check_x_of_a_kind,\n",
    "    'Four_of_a_kind': check_x_of_a_kind,\n",
    "    'Small straight': check_straight,\n",
    "    'Large straight': check_straight,\n",
    "    'Full house': check_full_house,\n",
    "    'Yatzy': check_yatzy\n",
    "}\n",
    "\n",
    "CONVERSIONS = {\n",
    "    'Ones': 1,\n",
    "    'Twos': 2,\n",
    "    'Threes': 3,\n",
    "    'Fours': 4,\n",
    "    'Fives': 5,\n",
    "    'Sixes': 6,\n",
    "}\n",
    "\n",
    "def read_category(available):\n",
    "    cat = input('Which category do you want to throw for? ')\n",
    "    while cat.lower().capitalize() not in available:\n",
    "        print(f'{cat.lower().capitalize()} is not a valid category. Choose one of: ')\n",
    "        for i in range(len(available)):\n",
    "            valid = available[i]\n",
    "            if i < len(available) - 1:\n",
    "                print(valid, end = ', ')\n",
    "            else:\n",
    "                print(valid + '.\\n')\n",
    "        cat = input('Which category do you want to throw for? ')\n",
    "    return cat.capitalize()\n",
    "\n",
    "def throw(cat):\n",
    "    dice = roll_dice(5)\n",
    "    \n",
    "    print('Rolling the dice....')\n",
    "    print()\n",
    "    print('You rolled:', *dice)\n",
    "    print()\n",
    "    if check_yatzy(dice) == 50:\n",
    "        print('You got Yatzy!! 50 points.')\n",
    "        return 'Yatze', 50\n",
    "        \n",
    "    \n",
    "    if cat.capitalize() in CONVERSIONS.keys():\n",
    "        score = CATEGORY_CHECKS[cat](dice, CONVERSIONS[cat])\n",
    "    elif 'of a kind' in cat.lower():\n",
    "        if 'four' in cat.lower():\n",
    "            kind = 4\n",
    "        else:\n",
    "            kind = 3\n",
    "        score = kind * check_x_of_a_kind(dice, kind)\n",
    "    elif 'straight' in cat:\n",
    "        if 'Large' in cat.capitalize():\n",
    "            score = check_straight(dice, large = True)\n",
    "        else:\n",
    "            score = check_straight(dice)\n",
    "    else:\n",
    "        score = CATEGORY_CHECKS[cat.capitalize()](dice)\n",
    "    \n",
    "    print(f'Your score in {cat.capitalize()} was {score}.')\n",
    "    \n",
    "    return cat, score\n",
    "\n",
    "def main():\n",
    "    print('Welcome to Yatzy!\\n')\n",
    "    num_players = int(input('How many people want to play? '))\n",
    "    \n",
    "    if num_players == 0:\n",
    "        print('That\\'s too bad :(\\nBye!')\n",
    "        return\n",
    "    \n",
    "    rules = yes_no('Do you need a refresher of the rules? (y/n) ')\n",
    "    \n",
    "    if rules:\n",
    "        print_rules()\n",
    "    \n",
    "    print('\\nLet\\'s play Yatzy!')\n",
    "    print('############################################################')\n",
    "    \n",
    "    players = {}\n",
    "    \n",
    "    for player in range(num_players):\n",
    "        players[player + 1] = {category: 0 for category in CATEGORIES}\n",
    "    \n",
    "    available_categories = {player: [cat for cat in CATEGORIES] for player in players.keys()}\n",
    "    \n",
    "    playing = any([bool(len(x)) for x in available_categories.values()])\n",
    "    \n",
    "    curr_player = 0\n",
    "    while playing:\n",
    "        curr_player = get_next_player(available_categories, curr_player)\n",
    "        last_player = curr_player\n",
    "        print_status(players, curr_player)\n",
    "        \n",
    "        category = read_category(available_categories[curr_player])\n",
    "        actual_cat, score = throw(category)\n",
    "        players[curr_player][actual_cat] = score\n",
    "        available_categories[curr_player].pop(available_categories[curr_player].index(actual_cat))\n",
    "        \n",
    "        playing = any([bool(len(x)) for x in available_categories.values()])\n",
    "    \n",
    "    print(f'The game is over. The final stats are as follows:')\n",
    "    print_status(players, curr_player = -1)\n",
    "    \n",
    "main()"
   ]
  },
  {
   "cell_type": "markdown",
   "id": "f0002839",
   "metadata": {
    "hidden": true
   },
   "source": [
    "Meningen med oppgaven er _ikke_ at du skal teste all koden 100%, men at du får en forståelse for nyttigheten og utforming av automatisk testing kontra manuell testing. Det holder derfor å skrive tester til et par av funksjonene i kodeblokken over, gjerne funksjonene som er dokumentert. Når man skriver tester trenger man ikke nødvendigvis å skjønne innholdet i en funksjon heller. Derfor er noen av funksjonene skrevet på måter som ikke nødvendigvis er forelest. Det som er viktig, derimot, er å vite _hva_ funksjonen skal gjøre. Dette har man dokumentasjonen til. Så lenge du _vet_ hva funksjonen _skal_ gjøre, kan du også skrive tester som _foventer_ et resultat av en funksjon. \n",
    "\n",
    "***Skriv testene dine i kodeblokken nedenfor***"
   ]
  },
  {
   "cell_type": "code",
   "execution_count": null,
   "id": "8c991d7a",
   "metadata": {
    "hidden": true
   },
   "outputs": [],
   "source": [
    "# Skriv testene dine her"
   ]
  }
 ],
 "metadata": {
  "kernelspec": {
   "display_name": "Python 3 (ipykernel)",
   "language": "python",
   "name": "python3"
  },
  "language_info": {
   "codemirror_mode": {
    "name": "ipython",
    "version": 3
   },
   "file_extension": ".py",
   "mimetype": "text/x-python",
   "name": "python",
   "nbconvert_exporter": "python",
   "pygments_lexer": "ipython3",
   "version": "3.9.10"
  }
 },
 "nbformat": 4,
 "nbformat_minor": 5
}
