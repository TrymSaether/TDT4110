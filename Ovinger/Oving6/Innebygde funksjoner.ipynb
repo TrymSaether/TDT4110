{
 "cells": [
  {
   "cell_type": "markdown",
   "metadata": {
    "deletable": false,
    "run_control": {
     "frozen": true
    }
   },
   "source": [
    "<nav class=\"navbar navbar-default\">\n",
    "  <div class=\"container-fluid\">\n",
    "    <div class=\"navbar-header\">\n",
    "      <a class=\"navbar-brand\" href=\"_Oving6.ipynb\">Øving 6</a>\n",
    "    </div>\n",
    "    <ul class=\"nav navbar-nav\">\n",
    "    <li ><a href=\"Aksessering.ipynb\">Aksessering av karakter</a></li>\n",
    "    <li ><a href=\"Strenger%20og%20konkatinering.ipynb\">Konkatinering</a></li>\n",
    "    <li ><a href=\"Slicing.ipynb\">Slicing</a></li>\n",
    "    <li ><a href=\"Tekstbehandling.ipynb\">Tekstbehandling</a></li>\n",
    "    <li ><a href=\"Strenghandtering.ipynb\">Strenghåndtering</a></li>\n",
    "    <li class=\"active\"><a href=\"Innebygde%20funksjoner.ipynb\">Innebygde funksjoner og lister</a></li>\n",
    "    <li><a href=\"Fjesboka.ipynb\">Fjesboka</a></li>\n",
    "    <li ><a href=\"Akkorder%20og%20toner.ipynb\">Akkorder og toner</a></li>\n",
    "    <li ><a href=\"Ideell%20gasslov.ipynb\">Ideell Gasslov</a></li>\n",
    "    <li><a href=\"Sammenhengende%20tallrekke.ipynb\">Sammenhengende Tallrekke</a></li>\n",
    "    <li ><a href=\"Sortering.ipynb\">Sortering</a></li>\n",
    "    <li ><a href=\"Strengmanipulasjon.ipynb\">Strengmanipulasjon</a></li>\n",
    "    <li ><a href=\"Kryptering.ipynb\">Kryptering</a></li>\n",
    "    <li ><a href=\"Litt%20sjakk.ipynb\">Litt Sjakk</a></li>\n",
    "    <li ><a href=\"Lister%20og%20tupler.ipynb\">Lister og tupler</a></li>\n",
    "    </ul>\n",
    "  </div>\n",
    "</nav>\n",
    "\n",
    "# Innebygde funksjoner og lister\n",
    "\n",
    "**Læringsmål:**\n",
    "\n",
    "* Lister\n",
    "* Innebygde funksjoner\n",
    "\n",
    " \n",
    "\n",
    "I denne oppgaven skal vi bruke innebygde funksjoner i Python til å behandle lister. \n",
    "\n",
    "Du finner informasjon og nyttige metoder [her](https://docs.python.org/3/tutorial/datastructures.html). (bruk disse!)"
   ]
  },
  {
   "cell_type": "markdown",
   "metadata": {
    "deletable": false,
    "editable": false,
    "run_control": {
     "frozen": true
    }
   },
   "source": [
    "### a)"
   ]
  },
  {
   "cell_type": "markdown",
   "metadata": {
    "deletable": false,
    "editable": false,
    "run_control": {
     "frozen": true
    }
   },
   "source": [
    "Opprett en liste random_numbers bestående av 100 tilfeldige heltall fra 1 til og med 10.\n",
    "\n",
    "**Eksempel på slik liste:**\n",
    ">```python\n",
    "[9, 7, 4, 3, 2, 3, 9, 4, 4, 1, 1, 3, 4, 9, 5, 5, 3, 4, 7, 8, 9, 4, 6, 6, 1, 6, 5, 7, 2, 5, 7, 1, 9, 4, 9, 6, 1, 1, 1, 5, 6, 5, 9, 10, 5, 7, 4, 4, 10, 4, 4, 8, 1, 5, 4, 9, 5, 5, 2, 8, 10, 8, 1, 5, 10, 8, 3, 3, 7, 7, 6, 3, 3, 3, 4, 9, 4, 8, 4, 6, 1, 10, 3, 6, 5, 7, 10, 9, 9, 1, 10, 3, 2, 3, 6, 9, 8, 3, 2, 5]\n",
    "```\n",
    "\n",
    "***Skriv koden din i kodeblokken under:***"
   ]
  },
  {
   "cell_type": "code",
   "execution_count": 1,
   "metadata": {
    "ExecuteTime": {
     "end_time": "2019-07-04T06:23:49.753780Z",
     "start_time": "2019-07-04T06:23:49.747792Z"
    }
   },
   "outputs": [
    {
     "name": "stdout",
     "output_type": "stream",
     "text": [
      "[8, 9, 4, 4, 4, 9, 4, 10, 8, 6, 8, 10, 1, 4, 10, 5, 2, 5, 8, 2, 5, 1, 8, 4, 9, 5, 5, 6, 1, 9, 7, 4, 2, 3, 9, 4, 10, 8, 3, 7, 2, 2, 10, 1, 3, 4, 9, 8, 2, 2, 5, 6, 5, 5, 3, 7, 3, 5, 10, 6, 3, 10, 1, 3, 8, 2, 3, 8, 5, 2, 8, 8, 3, 10, 9, 9, 5, 6, 9, 2, 5, 8, 3, 7, 9, 2, 5, 2, 6, 2, 2, 7, 5, 10, 3, 5, 8, 1, 2, 2]\n"
     ]
    },
    {
     "data": {
      "text/plain": [
       "100"
      ]
     },
     "execution_count": 1,
     "metadata": {},
     "output_type": "execute_result"
    }
   ],
   "source": [
    "from random import randint\n",
    "\n",
    "\n",
    "def random_numbers(rx = 10, rl = 100):\n",
    "    return([randint(1,rx) for i in range(rl)])\n",
    "print(random_numbers())\n",
    "len(random_numbers())"
   ]
  },
  {
   "cell_type": "markdown",
   "metadata": {
    "deletable": false,
    "editable": false,
    "run_control": {
     "frozen": true
    }
   },
   "source": [
    "### b)"
   ]
  },
  {
   "cell_type": "markdown",
   "metadata": {
    "deletable": false,
    "editable": false,
    "run_control": {
     "frozen": true
    }
   },
   "source": [
    "Skriv kode for å finne antall forekomster av tallet **2** i listen.\n",
    "\n",
    "**Eksempel på kjøring for listen i a):**\n",
    "\n",
    ">```\n",
    "Number of 2s: 5\n",
    "```\n",
    "\n",
    "***Skriv koden din i kodeblokken under:***"
   ]
  },
  {
   "cell_type": "code",
   "execution_count": 2,
   "metadata": {},
   "outputs": [
    {
     "name": "stdout",
     "output_type": "stream",
     "text": [
      "nr: 2 - tot: 8\n"
     ]
    }
   ],
   "source": [
    "def findNumberList(n,mlist = random_numbers()):\n",
    "    sum = 0\n",
    "    for i in mlist:\n",
    "        if(i == n):\n",
    "            sum += 1\n",
    "    print(f'nr: {n} - tot: {sum}')\n",
    "    return(sum)\n",
    "\n",
    "n = 2\n",
    "test_b = random_numbers()\n",
    "findNumberList(n,test_b);"
   ]
  },
  {
   "cell_type": "markdown",
   "metadata": {
    "deletable": false,
    "editable": false,
    "run_control": {
     "frozen": true
    }
   },
   "source": [
    "### c)"
   ]
  },
  {
   "cell_type": "markdown",
   "metadata": {
    "deletable": false,
    "editable": false,
    "run_control": {
     "frozen": true
    }
   },
   "source": [
    "Skriv ut summen av alle tallene i listen.\n",
    "\n",
    "**Eksempel på kjøring for listen i a):**\n",
    ">```python\n",
    "Sum of numbers: 529\n",
    "```\n",
    "\n",
    "***Skriv koden din i kodeblokken under:***"
   ]
  },
  {
   "cell_type": "code",
   "execution_count": 3,
   "metadata": {},
   "outputs": [
    {
     "name": "stdout",
     "output_type": "stream",
     "text": [
      "512\n"
     ]
    }
   ],
   "source": [
    "def sumlist(mlist = random_numbers()):\n",
    "    return(sum(mlist))\n",
    "\n",
    "print(sumlist())"
   ]
  },
  {
   "cell_type": "markdown",
   "metadata": {
    "deletable": false,
    "editable": false,
    "run_control": {
     "frozen": true
    }
   },
   "source": [
    "### d)"
   ]
  },
  {
   "cell_type": "markdown",
   "metadata": {
    "ExecuteTime": {
     "end_time": "2019-07-04T06:31:17.550677Z",
     "start_time": "2019-07-04T06:31:17.541661Z"
    },
    "deletable": false,
    "editable": false,
    "run_control": {
     "frozen": true
    }
   },
   "source": [
    "Sorter listen i stigende rekkefølge.\n",
    "\n",
    "**Eksempel på kjøring for listen i a):**\n",
    ">```python\n",
    "Numbers sorted: [1, 1, 1, 1, 1, 1, 1, 1, 1, 1, 1, 2, 2, 2, 2, 2, 3, 3, 3, 3, 3, 3, 3, 3, 3, 3, 3, 3, 3, 4, 4, 4, 4, 4, 4, 4, 4, 4, 4, 4, 4, 4, 4, 4, 5, 5, 5, 5, 5, 5, 5, 5, 5, 5, 5, 5, 5, 6, 6, 6, 6, 6, 6, 6, 6, 6, 7, 7, 7, 7, 7, 7, 7, 7, 8, 8, 8, 8, 8, 8, 8, 9, 9, 9, 9, 9, 9, 9, 9, 9, 9, 9, 9, 10, 10, 10, 10, 10, 10, 10]\n",
    "```\n",
    "\n",
    "***Skriv koden din i kodeblokken under:***"
   ]
  },
  {
   "cell_type": "code",
   "execution_count": 4,
   "metadata": {},
   "outputs": [
    {
     "name": "stdout",
     "output_type": "stream",
     "text": [
      "[1, 1, 1, 1, 1, 1, 1, 1, 2, 2, 2, 2, 2, 3, 3, 3, 3, 3, 3, 3, 3, 3, 3, 3, 3, 3, 3, 3, 4, 4, 4, 4, 4, 4, 4, 4, 4, 4, 4, 4, 5, 5, 5, 5, 5, 5, 5, 5, 5, 5, 6, 6, 6, 6, 6, 6, 6, 6, 6, 6, 6, 6, 6, 6, 7, 7, 7, 7, 7, 7, 7, 8, 8, 8, 8, 8, 8, 8, 9, 9, 9, 9, 9, 9, 9, 9, 10, 10, 10, 10, 10, 10, 10, 10, 10, 10, 10, 10, 10, 10]\n"
     ]
    }
   ],
   "source": [
    "def sortlist(mlist = random_numbers()):\n",
    "    return(sorted(mlist))\n",
    "\n",
    "print(sortlist())"
   ]
  },
  {
   "cell_type": "markdown",
   "metadata": {
    "deletable": false,
    "editable": false,
    "run_control": {
     "frozen": true
    }
   },
   "source": [
    "### e)"
   ]
  },
  {
   "cell_type": "markdown",
   "metadata": {
    "deletable": false,
    "editable": false,
    "run_control": {
     "frozen": true
    }
   },
   "source": [
    "Skriv ut typetallet. (Det tallet det er flest forekomster av i listen)\n",
    "\n",
    "**Eksempel på kjøring for listen i a):**\n",
    ">```python\n",
    "There are most of number: 4\n",
    "```\n",
    "\n",
    "***Skriv koden din i kodeblokken under:***"
   ]
  },
  {
   "cell_type": "code",
   "execution_count": 5,
   "metadata": {},
   "outputs": [
    {
     "name": "stdout",
     "output_type": "stream",
     "text": [
      "nr: 0 - tot: 0\n",
      "nr: 1 - tot: 10\n",
      "nr: 2 - tot: 10\n",
      "nr: 3 - tot: 5\n",
      "nr: 4 - tot: 8\n",
      "nr: 5 - tot: 10\n",
      "nr: 6 - tot: 17\n",
      "nr: 7 - tot: 8\n",
      "nr: 8 - tot: 15\n",
      "nr: 9 - tot: 8\n",
      "There are most of 6 with 17\n",
      "None\n"
     ]
    }
   ],
   "source": [
    "def findCommon(mlist = random_numbers()):\n",
    "    l = [0]*max(mlist)\n",
    "    for i in range(0,max(mlist)):\n",
    "        l[i] = findNumberList(i, mlist)\n",
    "    print(f'There are most of {l.index(max(l))} with {max(l)}')\n",
    "print(findCommon())\n",
    "        \n"
   ]
  },
  {
   "cell_type": "markdown",
   "metadata": {
    "deletable": false,
    "editable": false,
    "run_control": {
     "frozen": true
    }
   },
   "source": [
    "### f)"
   ]
  },
  {
   "cell_type": "markdown",
   "metadata": {
    "deletable": false,
    "editable": false,
    "run_control": {
     "frozen": true
    }
   },
   "source": [
    "Skriv ut listen baklengs.\n",
    "\n",
    "**Eksempel på kjøring for listen i a):**\n",
    ">```python\n",
    "Numbers reversed: [10, 10, 10, 10, 10, 10, 10, 9, 9, 9, 9, 9, 9, 9, 9, 9, 9, 9, 9, 8, 8, 8, 8, 8, 8, 8, 7, 7, 7, 7, 7, 7, 7, 7, 6, 6, 6, 6, 6, 6, 6, 6, 6, 5, 5, 5, 5, 5, 5, 5, 5, 5, 5, 5, 5, 5, 4, 4, 4, 4, 4, 4, 4, 4, 4, 4, 4, 4, 4, 4, 4, 3, 3, 3, 3, 3, 3, 3, 3, 3, 3, 3, 3, 3, 2, 2, 2, 2, 2, 1, 1, 1, 1, 1, 1, 1, 1, 1, 1, 1]\n",
    "```\n",
    "\n",
    "***Skriv koden din i kodeblokken under:***"
   ]
  },
  {
   "cell_type": "code",
   "execution_count": 6,
   "metadata": {},
   "outputs": [
    {
     "name": "stdout",
     "output_type": "stream",
     "text": [
      "[10, 10, 10, 10, 10, 10, 10, 10, 10, 10, 10, 10, 10, 10, 9, 9, 9, 9, 9, 9, 9, 9, 8, 8, 8, 8, 8, 8, 8, 7, 7, 7, 7, 7, 7, 7, 6, 6, 6, 6, 6, 6, 6, 6, 6, 6, 6, 6, 6, 6, 5, 5, 5, 5, 5, 5, 5, 5, 5, 5, 4, 4, 4, 4, 4, 4, 4, 4, 4, 4, 4, 4, 3, 3, 3, 3, 3, 3, 3, 3, 3, 3, 3, 3, 3, 3, 3, 2, 2, 2, 2, 2, 1, 1, 1, 1, 1, 1, 1, 1]\n"
     ]
    }
   ],
   "source": [
    "l = sortlist()\n",
    "l.reverse()\n",
    "print(l) "
   ]
  },
  {
   "cell_type": "code",
   "execution_count": null,
   "metadata": {},
   "outputs": [],
   "source": []
  }
 ],
 "metadata": {
  "celltoolbar": "Edit Metadata",
  "kernelspec": {
   "display_name": "Python 3.10.6 ('Lindesnes')",
   "language": "python",
   "name": "python3"
  },
  "language_info": {
   "codemirror_mode": {
    "name": "ipython",
    "version": 3
   },
   "file_extension": ".py",
   "mimetype": "text/x-python",
   "name": "python",
   "nbconvert_exporter": "python",
   "pygments_lexer": "ipython3",
   "version": "3.10.6"
  },
  "toc": {
   "base_numbering": 1,
   "nav_menu": {},
   "number_sections": false,
   "sideBar": true,
   "skip_h1_title": false,
   "title_cell": "Table of Contents",
   "title_sidebar": "Contents",
   "toc_cell": false,
   "toc_position": {},
   "toc_section_display": true,
   "toc_window_display": false
  },
  "vscode": {
   "interpreter": {
    "hash": "6d9aee90b7ecb2b52acecec0110b7b3aa292870e29967747a2c5a7fa209fe954"
   }
  }
 },
 "nbformat": 4,
 "nbformat_minor": 2
}
