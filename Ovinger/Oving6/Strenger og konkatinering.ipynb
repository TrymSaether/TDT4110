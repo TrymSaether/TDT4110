{
 "cells": [
  {
   "cell_type": "markdown",
   "source": [
    "<nav class=\"navbar navbar-default\">\n",
    "  <div class=\"container-fluid\">\n",
    "    <div class=\"navbar-header\">\n",
    "      <a class=\"navbar-brand\" href=\"_Oving6.ipynb\">Øving 6</a>\n",
    "    </div>\n",
    "    <ul class=\"nav navbar-nav\">\n",
    "    <li ><a href=\"Aksessering.ipynb\">Aksessering av karakter</a></li>\n",
    "    <li class=\"active\"><a href=\"Strenger%20og%20konkatinering.ipynb\">Konkatinering</a></li>\n",
    "    <li ><a href=\"Slicing.ipynb\">Slicing</a></li>\n",
    "    <li ><a href=\"Tekstbehandling.ipynb\">Tekstbehandling</a></li>\n",
    "    <li ><a href=\"Strenghandtering.ipynb\">Strenghåndtering</a></li>\n",
    "    <li ><a href=\"Innebygde%20funksjoner.ipynb\">Innebygde funksjoner og lister</a></li>\n",
    "    <li><a href=\"Fjesboka.ipynb\">Fjesboka</a></li>\n",
    "    <li ><a href=\"Akkorder%20og%20toner.ipynb\">Akkorder og toner</a></li>\n",
    "    <li ><a href=\"Ideel%20gasslov.ipynb\">Ideel Gasslov</a></li>\n",
    "    <li><a href=\"Sammenhengende%20tallrekke.ipynb\">Sammenhengende Tallrekke</a></li>\n",
    "    <li ><a href=\"Sortering.ipynb\">Sortering</a></li>\n",
    "    <li ><a href=\"Strengmanipulasjon.ipynb\">Strengmanipulasjon</a></li>\n",
    "    <li ><a href=\"Kryptering.ipynb\">Kryptering</a></li>\n",
    "    <li ><a href=\"Litt%20sjakk.ipynb\">Litt Sjakk</a></li>\n",
    "    </ul>\n",
    "  </div>\n",
    "</nav>\n",
    "\n",
    "# Strenger og konkatinering\n",
    "\n",
    "**Læringsmål:**\n",
    "\n",
    "* Strenger\n",
    "* Løkker\n",
    "* Funksjoner\n",
    "* Lister\n",
    "\n",
    "**Starting Out with Python:**\n",
    "\n",
    "* Kap. 7.2\n",
    "* Kap. 8.1"
   ],
   "metadata": {
    "deletable": false,
    "editable": false,
    "run_control": {
     "frozen": true
    }
   }
  },
  {
   "cell_type": "markdown",
   "source": [
    "### Kort om konkatinering"
   ],
   "metadata": {
    "deletable": false,
    "editable": false,
    "heading_collapsed": true,
    "run_control": {
     "frozen": true
    }
   }
  },
  {
   "cell_type": "markdown",
   "source": [
    "Konkatinering er å tilføye en streng ved slutten av en annen streng. Dette gjøres enten vha. + eller +=. For å bruke += må variabelen på venstre side av += være en allerede eksisterende variabel. Kjør eksemplene under og se om du skjønner hvordan de virker. Du må gjerne endre eksemplene og kjøre de igjen."
   ],
   "metadata": {
    "deletable": false,
    "editable": false,
    "hidden": true,
    "run_control": {
     "frozen": true
    }
   }
  },
  {
   "cell_type": "code",
   "execution_count": null,
   "source": [
    "# eksempel 1\n",
    "# Bruk av +\n",
    "melding = \"Hei \" + \"der\"\n",
    "print(melding)"
   ],
   "outputs": [],
   "metadata": {
    "ExecuteTime": {
     "end_time": "2019-07-03T12:09:10.412280Z",
     "start_time": "2019-07-03T12:09:10.013418Z"
    },
    "hidden": true
   }
  },
  {
   "cell_type": "code",
   "execution_count": null,
   "source": [
    "# eksempel 2\n",
    "s1 = \"Hei\"\n",
    "s2 = \"der\"\n",
    "melding1 = s1 + \" \" + s2\n",
    "print(melding1)"
   ],
   "outputs": [],
   "metadata": {
    "ExecuteTime": {
     "end_time": "2019-07-03T12:09:10.412280Z",
     "start_time": "2019-07-03T12:09:10.013418Z"
    },
    "hidden": true
   }
  },
  {
   "cell_type": "code",
   "execution_count": null,
   "source": [
    "# eksempel 3\n",
    "# Bruk av +=\n",
    "navn = \"Bob\"\n",
    "navn += \" \" + \"Bernt\"\n",
    "print(navn)"
   ],
   "outputs": [],
   "metadata": {
    "ExecuteTime": {
     "end_time": "2019-07-03T12:09:10.412280Z",
     "start_time": "2019-07-03T12:09:10.013418Z"
    },
    "hidden": true
   }
  },
  {
   "cell_type": "code",
   "execution_count": null,
   "source": [
    "# eksempel 4\n",
    "liste = [\"Geralt\",\"of\",\"Rivia\"]\n",
    "navn2 = \"\"\n",
    "for streng in liste:\n",
    "    navn2 += streng + \" \"\n",
    "print(navn2)"
   ],
   "outputs": [],
   "metadata": {
    "ExecuteTime": {
     "end_time": "2019-07-03T12:09:10.412280Z",
     "start_time": "2019-07-03T12:09:10.013418Z"
    },
    "hidden": true
   }
  },
  {
   "cell_type": "code",
   "execution_count": null,
   "source": [
    "# eksempel 5\n",
    "# Vil utløse et unntak (exception) siden variabelen navnet ikke eksisterer fra før.\n",
    "# Unntaket som utløses vil være NameError\n",
    "navnet += \"Bob\"       "
   ],
   "outputs": [],
   "metadata": {
    "ExecuteTime": {
     "end_time": "2019-07-03T12:09:10.412280Z",
     "start_time": "2019-07-03T12:09:10.013418Z"
    },
    "hidden": true
   }
  },
  {
   "cell_type": "markdown",
   "source": [
    "### a)"
   ],
   "metadata": {
    "deletable": false,
    "editable": false,
    "run_control": {
     "frozen": true
    }
   }
  },
  {
   "cell_type": "markdown",
   "source": [
    "Skriv en funksjon som tar inn to strenger (s1 og s2), og returnerer én streng bestående av disse med et mellomrom mellom.\n",
    "\n",
    "**Eksempel**:\n",
    "```python\n",
    "#s1 = \"James\", s2 = \"Bond\"\n",
    "-> James Bond\n",
    "```\n",
    "\n",
    "***Skriv koden din i kodeblokken under:***"
   ],
   "metadata": {
    "deletable": false,
    "editable": false,
    "run_control": {
     "frozen": true
    }
   }
  },
  {
   "cell_type": "code",
   "execution_count": null,
   "source": [],
   "outputs": [],
   "metadata": {}
  },
  {
   "cell_type": "markdown",
   "source": [
    "### b)"
   ],
   "metadata": {
    "deletable": false,
    "editable": false,
    "run_control": {
     "frozen": true
    }
   }
  },
  {
   "cell_type": "markdown",
   "source": [
    "Skriv en funksjon som tar inn en liste av strenger, og returnerer én streng bestående av disse uten mellomrom mellom dem.\n",
    "\n",
    "**Eksempel på kjøring:**\n",
    "```python\n",
    "#list = [\"abc\",\"defg\",\"hijklm\",\"nop\"]\n",
    "-> abcdefghijklmnop\n",
    "```\n",
    "\n",
    "***Skriv koden din i kodeblokken under:***"
   ],
   "metadata": {
    "ExecuteTime": {
     "end_time": "2019-07-03T12:18:08.171134Z",
     "start_time": "2019-07-03T12:18:08.159623Z"
    },
    "deletable": false,
    "editable": false,
    "run_control": {
     "frozen": true
    }
   }
  },
  {
   "cell_type": "code",
   "execution_count": null,
   "source": [],
   "outputs": [],
   "metadata": {}
  },
  {
   "cell_type": "markdown",
   "source": [
    "### Ikke-muterbarhet"
   ],
   "metadata": {
    "deletable": false,
    "editable": false,
    "heading_collapsed": true,
    "run_control": {
     "frozen": true
    }
   }
  },
  {
   "cell_type": "markdown",
   "source": [
    "Strenger er ikke-muterbare, som vil si at man ikke kan endre på deler av strengen uten å lage en ny streng. Konkatinering kan gi inntrykket av å endre på en streng, mens det egentlig opprettes en ny en."
   ],
   "metadata": {
    "deletable": false,
    "editable": false,
    "hidden": true,
    "run_control": {
     "frozen": true
    }
   }
  },
  {
   "cell_type": "code",
   "execution_count": null,
   "source": [
    "navn = \"Bob\"        # tilordner strengen \"Bob\" til variabelen navn\n",
    "navn += \" Bernt\"    # tilordner en NY streng \"Bob Bernt\" til variabelen navn"
   ],
   "outputs": [],
   "metadata": {
    "hidden": true
   }
  },
  {
   "cell_type": "markdown",
   "source": [
    "Siden strenger er ikke-muterbare, betyr det at man ikke kan endre på enkelte karakterer i strengen. Altså kan man ikke skrive string[index] = \"c\"."
   ],
   "metadata": {
    "deletable": false,
    "editable": false,
    "hidden": true,
    "run_control": {
     "frozen": true
    }
   }
  },
  {
   "cell_type": "code",
   "execution_count": null,
   "source": [
    "navn = \"Bob Bernt\"\n",
    "navn[0] = \"H\"       # IKKE MULIG!! Vil få utløst et unntak (prøv selv)"
   ],
   "outputs": [],
   "metadata": {
    "hidden": true
   }
  },
  {
   "cell_type": "markdown",
   "source": [
    "Om man ønsker å beholde store deler av en streng, men endre på enkelte deler av den, kan man bruke slicing til å opprette en ny streng med de ønskede endringene. Mer om slicing i neste oppgave."
   ],
   "metadata": {
    "deletable": false,
    "editable": false,
    "hidden": true,
    "run_control": {
     "frozen": true
    }
   }
  },
  {
   "cell_type": "markdown",
   "source": [
    "### c)"
   ],
   "metadata": {
    "deletable": false,
    "editable": false,
    "run_control": {
     "frozen": true
    }
   }
  },
  {
   "cell_type": "markdown",
   "source": [
    "Skriv en funksjon som tar inn en liste med strenger og skriver ut den første karakteren i hver av dem.\n",
    "\n",
    "**Eksempel:**\n",
    "```python\n",
    "#list = [\"UKA\",\"lever\",\"videre\"]\n",
    "U\n",
    "l\n",
    "v\n",
    "```\n",
    "\n",
    "***Skriv koden din i kodeblokken under:***"
   ],
   "metadata": {
    "deletable": false,
    "editable": false,
    "run_control": {
     "frozen": true
    }
   }
  },
  {
   "cell_type": "code",
   "execution_count": null,
   "source": [],
   "outputs": [],
   "metadata": {}
  },
  {
   "cell_type": "markdown",
   "source": [
    "### d)"
   ],
   "metadata": {
    "deletable": false,
    "editable": false,
    "run_control": {
     "frozen": true
    }
   }
  },
  {
   "cell_type": "markdown",
   "source": [
    "Hva vil kodesnutten under skrive ut til skjerm?\n",
    "\n",
    ">```python\n",
    "def func1(liste):\n",
    "    streng = \"\"\n",
    "    for s in liste:\n",
    "        if len(s)>3:\n",
    "            streng += s[3]\n",
    "    return streng\n",
    "```\n",
    ">```python  \n",
    "def func2(streng):\n",
    "    streng += streng\n",
    "    return streng\n",
    "```\n",
    ">```python\n",
    "print(func2(func1([\"Klabert\",\"Oslo\",\"Tur\",\"stubbe\"])))\n",
    "```\n",
    "\n",
    "Dobbeltklikk på teksten under for å svare."
   ],
   "metadata": {
    "deletable": false,
    "editable": false,
    "run_control": {
     "frozen": true
    }
   }
  },
  {
   "cell_type": "markdown",
   "source": [
    "**Svar:** <dobbelklikk her for å skrive\\>"
   ],
   "metadata": {
    "ExecuteTime": {
     "end_time": "2019-07-03T12:26:09.541554Z",
     "start_time": "2019-07-03T12:26:09.530256Z"
    }
   }
  }
 ],
 "metadata": {
  "kernelspec": {
   "display_name": "Python 3",
   "language": "python",
   "name": "python3"
  },
  "language_info": {
   "codemirror_mode": {
    "name": "ipython",
    "version": 3
   },
   "file_extension": ".py",
   "mimetype": "text/x-python",
   "name": "python",
   "nbconvert_exporter": "python",
   "pygments_lexer": "ipython3",
   "version": "3.7.4"
  },
  "toc": {
   "base_numbering": 1,
   "nav_menu": {},
   "number_sections": false,
   "sideBar": true,
   "skip_h1_title": false,
   "title_cell": "Table of Contents",
   "title_sidebar": "Contents",
   "toc_cell": false,
   "toc_position": {},
   "toc_section_display": true,
   "toc_window_display": false
  }
 },
 "nbformat": 4,
 "nbformat_minor": 2
}