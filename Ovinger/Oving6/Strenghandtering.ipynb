{
 "cells": [
  {
   "cell_type": "markdown",
   "source": [
    "<nav class=\"navbar navbar-default\">\n",
    "  <div class=\"container-fluid\">\n",
    "    <div class=\"navbar-header\">\n",
    "      <a class=\"navbar-brand\" href=\"_Oving6.ipynb\">Øving 6</a>\n",
    "    </div>\n",
    "    <ul class=\"nav navbar-nav\">\n",
    "    <li ><a href=\"Aksessering.ipynb\">Aksessering av karakter</a></li>\n",
    "    <li ><a href=\"Strenger%20og%20konkatinering.ipynb\">Konkatinering</a></li>\n",
    "    <li ><a href=\"Slicing.ipynb\">Slicing</a></li>\n",
    "    <li ><a href=\"Tekstbehandling.ipynb\">Tekstbehandling</a></li>\n",
    "    <li class=\"active\"><a href=\"Strenghandtering.ipynb\">Strenghåndtering</a></li>\n",
    "    <li ><a href=\"Innebygde%20funksjoner.ipynb\">Innebygde funksjoner og lister</a></li>\n",
    "    <li><a href=\"Fjesboka.ipynb\">Fjesboka</a></li>\n",
    "    <li ><a href=\"Akkorder%20og%20toner.ipynb\">Akkorder og toner</a></li>\n",
    "    <li ><a href=\"Ideel%20gasslov.ipynb\">Ideel Gasslov</a></li>\n",
    "    <li><a href=\"Sammenhengende%20tallrekke.ipynb\">Sammenhengende Tallrekke</a></li>\n",
    "    <li ><a href=\"Sortering.ipynb\">Sortering</a></li>\n",
    "    <li ><a href=\"Strengmanipulasjon.ipynb\">Strengmanipulasjon</a></li>\n",
    "    <li ><a href=\"Kryptering.ipynb\">Kryptering</a></li>\n",
    "    <li ><a href=\"Litt%20sjakk.ipynb\">Litt Sjakk</a></li>\n",
    "    </ul>\n",
    "  </div>\n",
    "</nav>\n",
    "\n",
    "# Strenghåndtering\n",
    "\n",
    "**Læringsmål:**\n",
    "\n",
    "* Strenger\n",
    "* Løkker\n",
    "\n",
    "**Starting Out with Python:**\n",
    "\n",
    "* Kap. 8: More About Strings\n",
    " \n",
    "\n",
    "I denne oppgaven skal vi lære å sammenligne, reversere og sjekke om en streng er et palindrom."
   ],
   "metadata": {
    "deletable": false,
    "editable": false,
    "run_control": {
     "frozen": true
    }
   }
  },
  {
   "cell_type": "markdown",
   "source": [
    "### a)"
   ],
   "metadata": {
    "deletable": false,
    "editable": false,
    "run_control": {
     "frozen": true
    }
   }
  },
  {
   "cell_type": "markdown",
   "source": [
    "Lag en funksjon `check_equal(str1, str2)` som sjekker om to strenger er like ved å sammenligne dem tegn for tegn. Funksjonen returnerer `True` hvis strengene er like; `False` ellers.\n",
    "\n",
    "***Skriv koden din i kodeblokken under:***"
   ],
   "metadata": {
    "deletable": false,
    "editable": false,
    "run_control": {
     "frozen": true
    }
   }
  },
  {
   "cell_type": "code",
   "execution_count": null,
   "source": [],
   "outputs": [],
   "metadata": {}
  },
  {
   "cell_type": "markdown",
   "source": [
    "**Test av kode:**"
   ],
   "metadata": {
    "deletable": false,
    "editable": false,
    "run_control": {
     "frozen": true
    }
   }
  },
  {
   "cell_type": "code",
   "execution_count": null,
   "source": [
    "str1 = 'hei'\n",
    "str2 = 'hello'\n",
    "str3 = 'hello'\n",
    "print(check_equal(str1, str2))\n",
    "print(check_equal(str3, str2))\n",
    "# Denne koden skal returnere:\n",
    "# False\n",
    "# True"
   ],
   "outputs": [],
   "metadata": {}
  },
  {
   "cell_type": "markdown",
   "source": [
    "### b)"
   ],
   "metadata": {
    "deletable": false,
    "editable": false,
    "run_control": {
     "frozen": true
    }
   }
  },
  {
   "cell_type": "markdown",
   "source": [
    "Lag en funksjon `reversed_word(string)` som tar inn en streng, reverserer den og returnerer den reverserte strengen. Dette skal gjøres tegn for tegn med en løkke.\n",
    "\n",
    "***Skriv koden din i kodeblokken under:***"
   ],
   "metadata": {
    "deletable": false,
    "editable": false,
    "run_control": {
     "frozen": true
    }
   }
  },
  {
   "cell_type": "code",
   "execution_count": null,
   "source": [],
   "outputs": [],
   "metadata": {}
  },
  {
   "cell_type": "markdown",
   "source": [
    "**Test av kode:**"
   ],
   "metadata": {
    "deletable": false,
    "editable": false,
    "run_control": {
     "frozen": true
    }
   }
  },
  {
   "cell_type": "code",
   "execution_count": null,
   "source": [
    "string = 'star desserts'\n",
    "print(reversed_word(string))\n",
    "# Denne koden skal returnere:\n",
    "# stressed rats"
   ],
   "outputs": [],
   "metadata": {}
  },
  {
   "cell_type": "markdown",
   "source": [
    "### c)"
   ],
   "metadata": {
    "deletable": false,
    "editable": false,
    "run_control": {
     "frozen": true
    }
   }
  },
  {
   "cell_type": "markdown",
   "source": [
    "Et palindrom er et ord som staves likt begge veier (eks. “abba”). Lag en funksjon `check_palindrome(string)` som returnerer `True` om en streng er et palindrom; `False` ellers.\n",
    "\n",
    "***Skriv koden din i kodeblokken under:***"
   ],
   "metadata": {
    "deletable": false,
    "editable": false,
    "run_control": {
     "frozen": true
    }
   }
  },
  {
   "cell_type": "code",
   "execution_count": null,
   "source": [],
   "outputs": [],
   "metadata": {}
  },
  {
   "cell_type": "markdown",
   "source": [
    "**Test av kode:**"
   ],
   "metadata": {
    "deletable": false,
    "editable": false,
    "run_control": {
     "frozen": true
    }
   }
  },
  {
   "cell_type": "code",
   "execution_count": null,
   "source": [
    "str1 = 'agnes i senga'\n",
    "str2 = 'hello'\n",
    "print(check_palindrome(str1))\n",
    "print(check_palindrome(str2))\n",
    "# Denne koden skal returnere:\n",
    "# True\n",
    "# False"
   ],
   "outputs": [],
   "metadata": {
    "ExecuteTime": {
     "end_time": "2019-07-04T06:14:09.130262Z",
     "start_time": "2019-07-04T06:14:08.799088Z"
    }
   }
  },
  {
   "cell_type": "markdown",
   "source": [
    "#### Hint"
   ],
   "metadata": {
    "deletable": false,
    "editable": false,
    "heading_collapsed": true,
    "run_control": {
     "frozen": true
    }
   }
  },
  {
   "cell_type": "markdown",
   "source": [
    "bruk metoder du har laget tidligere som hjelpemetoder."
   ],
   "metadata": {
    "ExecuteTime": {
     "end_time": "2019-07-04T06:13:35.155690Z",
     "start_time": "2019-07-04T06:13:35.144678Z"
    },
    "deletable": false,
    "editable": false,
    "hidden": true,
    "run_control": {
     "frozen": true
    }
   }
  },
  {
   "cell_type": "markdown",
   "source": [
    "### d)"
   ],
   "metadata": {
    "deletable": false,
    "editable": false,
    "run_control": {
     "frozen": true
    }
   }
  },
  {
   "cell_type": "markdown",
   "source": [
    "Lag en funksjon `contains_string(str1, str2)` som tar inn to strenger og sjekker om den første strengen inneholder den andre. Dersom den gjør det, returner **posisjonen** den andre strengen begynner på (fra 0). Returner **-1** ellers.\n",
    "\n",
    "***Skriv koden din i kodeblokken under:***"
   ],
   "metadata": {
    "deletable": false,
    "editable": false,
    "run_control": {
     "frozen": true
    }
   }
  },
  {
   "cell_type": "code",
   "execution_count": null,
   "source": [],
   "outputs": [],
   "metadata": {}
  },
  {
   "cell_type": "markdown",
   "source": [
    "**Test av kode:**"
   ],
   "metadata": {
    "deletable": false,
    "editable": false,
    "run_control": {
     "frozen": true
    }
   }
  },
  {
   "cell_type": "code",
   "execution_count": null,
   "source": [
    "str1 = 'pepperkake'\n",
    "str2 = 'per'\n",
    "str3 = 'ola'\n",
    "print(contains_string(str1, str2))\n",
    "print(contains_string(str1, str3))\n",
    "# Denne koden skal returnere:\n",
    "# 3\n",
    "# -1"
   ],
   "outputs": [],
   "metadata": {}
  }
 ],
 "metadata": {
  "kernelspec": {
   "display_name": "Python 3",
   "language": "python",
   "name": "python3"
  },
  "language_info": {
   "codemirror_mode": {
    "name": "ipython",
    "version": 3
   },
   "file_extension": ".py",
   "mimetype": "text/x-python",
   "name": "python",
   "nbconvert_exporter": "python",
   "pygments_lexer": "ipython3",
   "version": "3.6.2"
  },
  "toc": {
   "base_numbering": 1,
   "nav_menu": {},
   "number_sections": false,
   "sideBar": true,
   "skip_h1_title": false,
   "title_cell": "Table of Contents",
   "title_sidebar": "Contents",
   "toc_cell": false,
   "toc_position": {},
   "toc_section_display": true,
   "toc_window_display": false
  }
 },
 "nbformat": 4,
 "nbformat_minor": 2
}