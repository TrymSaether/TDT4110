{
 "cells": [
  {
   "cell_type": "markdown",
   "metadata": {
    "deletable": false,
    "editable": false,
    "run_control": {
     "frozen": true
    }
   },
   "source": [
    " <nav class=\"navbar navbar-default\">\n",
    "  <div class=\"container-fluid\">\n",
    "    <div class=\"navbar-header\">\n",
    "      <a class=\"navbar-brand\" href=\"_Oving8.ipynb\">Øving 8</a>\n",
    "    </div>\n",
    "    <ul class=\"nav navbar-nav\">\n",
    "    <li ><a href=\"Matplotlib.ipynb\">Matplotlib</a></li>\n",
    "    <li ><a href=\"Assorterte%20Eksamensoppgaver.ipynb\">Assorterte Eksamensoppgaver</a></li>\n",
    "    <li ><a href=\"Sudoku.ipynb\">Sudoku</a></li>\n",
    "    <li ><a href=\"numpy-arrays%20og%20matplotlib.ipynb\">Numpy-arrays og matplotlib</a></li>\n",
    "    <li class=\"active\"><a href=\"Bokanalyse%20med%20plotting.ipynb\">Bokanalyse med plotting</a></li>\n",
    "    <li ><a href=\"Sjakk.ipynb\">Sjakk</a></li>\n",
    "    </ul>\n",
    "  </div>\n",
    "</nav>\n",
    "\n",
    "\n",
    "# Mer om plotting (Obligatorisk)\n",
    "\n",
    "**Læringsmål:**\n",
    "- Plotting\n",
    "- Dictionaries\n",
    "- Numpy"
   ]
  },
  {
   "cell_type": "markdown",
   "metadata": {
    "deletable": false,
    "editable": false,
    "run_control": {
     "frozen": true
    }
   },
   "source": [
    "Denne øvingen tar for seg ulike typer plots som kan være nyttig å kunne. Hvis du ønsker å friske opp plotte-kunnskapene dine, kan du ta en titt på oppgaven \"Plotting\" fra øving 1. Det er ikke forventet at du kan syntaksen som brukes i denne øvingen, og det kan være smart å ta en titt [her](https://matplotlib.org/stable/index.html) for å finne dokumentasjon og eksempler du trenger for å lage fine plots.\n",
    "\n",
    "I denne øvingen skal du lage statistikk over mobilbruk og visualisere den på ulike måter."
   ]
  },
  {
   "cell_type": "markdown",
   "metadata": {
    "deletable": false,
    "editable": false,
    "run_control": {
     "frozen": true
    }
   },
   "source": [
    "## Oppgave a"
   ]
  },
  {
   "cell_type": "markdown",
   "metadata": {
    "deletable": false,
    "editable": false,
    "run_control": {
     "frozen": true
    }
   },
   "source": [
    "Lag en funksjon tar inn en liste med mobilapplikasjoner og ber brukeren om å skrive inn hvor mange minutter hen bruker på applikasjonen i løpet av én dag. Funksjonen skal returnere en dictionary med appene som nøkler, og tiden som verdier. Kjør koden, og lagre dictionarien som en variabel som heter eksempelvis `mobiltid`.\n",
    "\n",
    "Eksempel på kjøring:\n",
    "``` python\n",
    "applikasjoner = [\"Facebook\", \"Instagram\",\"Tik Tok\", \"VG\", \"Snapchat\", \"Temple Run\"]\n",
    "mobiltid = legg_inn_mobiltid(applikasjoner)\n",
    "```\n",
    "Utskriften kan da for eksempel ved printing være:\n",
    "`{'Facebook': 10.0, 'Instagram': 20.0, 'Tik Tok': 30.0, 'VG': 30.0, 'Snapchat': 40.0, 'Temple Run': 50.0}`\n",
    "\n",
    "\n",
    "***Skriv koden din under:***"
   ]
  },
  {
   "cell_type": "code",
   "execution_count": null,
   "metadata": {},
   "outputs": [],
   "source": []
  },
  {
   "cell_type": "markdown",
   "metadata": {
    "deletable": false,
    "editable": false,
    "run_control": {
     "frozen": true
    }
   },
   "source": [
    "## Oppgave b"
   ]
  },
  {
   "cell_type": "markdown",
   "metadata": {
    "deletable": false,
    "editable": false,
    "run_control": {
     "frozen": true
    }
   },
   "source": [
    "Nå skal du visualisere statistikken vi har laget som et søylediagram og et kakediagram i to ulike plots. Du kan se på eksempelsiden til matplotlib sin dokumentasjon [her](https://matplotlib.org/stable/gallery/index.html) for inspirasjon. Husk å få med x- og ylabel på søylediagrammet, og prosentvis fordeling på kakediagrammet.\n",
    "\n",
    "***Skriv koden din under:***"
   ]
  },
  {
   "cell_type": "code",
   "execution_count": 25,
   "metadata": {},
   "outputs": [],
   "source": [
    "# Lag søylediagram her.\n"
   ]
  },
  {
   "cell_type": "code",
   "execution_count": 27,
   "metadata": {},
   "outputs": [],
   "source": [
    "# Lag kakediagram her\n"
   ]
  },
  {
   "cell_type": "markdown",
   "metadata": {
    "deletable": false,
    "editable": false,
    "heading_collapsed": true,
    "run_control": {
     "frozen": true
    }
   },
   "source": [
    "#### Hint:"
   ]
  },
  {
   "cell_type": "markdown",
   "metadata": {
    "deletable": false,
    "editable": false,
    "hidden": true,
    "run_control": {
     "frozen": true
    }
   },
   "source": [
    "Du kan bruke dict.keys() og dict.values() for å hente ut nøklene og verdiene i dictionarien"
   ]
  },
  {
   "cell_type": "markdown",
   "metadata": {
    "deletable": false,
    "editable": false,
    "run_control": {
     "frozen": true
    }
   },
   "source": [
    "## Oppgave c"
   ]
  },
  {
   "cell_type": "markdown",
   "metadata": {
    "deletable": false,
    "editable": false,
    "run_control": {
     "frozen": true
    }
   },
   "source": [
    "Histogram er et nyttig verktøy for å vise variasjon i mobilbruk per dag for et år. Filen `mobiltid_aar.txt` inneholder informasjon om hvor mange timer en person har brukt på mobilen sin per dag gjennom 2021. Les inn filen med `np.loadtxt` (husk å importere numpy) og lag et histogram som gir informasjon om antall dager mobilen brukes x timer. Altså skal x-aksen bestå av timer, og y-aksen antall dager personen har brukt mobilen så mange timer. Bruk dokumentasjon og eksempler som er henvist til tidligere for inspirasjon.\n",
    "\n",
    "Histogram er litt som et søylediagram, men for å ikke få 365 søyler (eller potensielt mye mer for større mengde data), så deler man inn verdiene i såkalte \"bins\". Hvis man har et datasett (som mobiltider her) med verdier mellom 0 og 10, og velger 5 bins, vil man da ha \"søyler\" som teller antall verdier mellom 0 og 2, 2 og 4, 4 og 6, osv. Du kan prøve deg fram med ulike antall bins, men et bra utgangspunkt her er å ha 20 bins. Jo flere bins du velger, jo høyere blir oppløsningen av data. Med 365 bins kan du potensiet få 365 søyler, og med en bin får du en søyle.\n",
    "\n",
    "Histogram er nyttig for å se på fordelingen av verdier - noe som gir mer informasjon enn bare gjennomsnittsverdi, maksverdi og minverdi, og bruke ofte i analyse a data.\n",
    "\n",
    "***Skriv koden din under:***"
   ]
  },
  {
   "cell_type": "code",
   "execution_count": 28,
   "metadata": {},
   "outputs": [],
   "source": []
  }
 ],
 "metadata": {
  "kernelspec": {
   "display_name": "Python 3.8.8 ('base')",
   "language": "python",
   "name": "python3"
  },
  "language_info": {
   "codemirror_mode": {
    "name": "ipython",
    "version": 3
   },
   "file_extension": ".py",
   "mimetype": "text/x-python",
   "name": "python",
   "nbconvert_exporter": "python",
   "pygments_lexer": "ipython3",
   "version": "3.8.8"
  },
  "toc": {
   "base_numbering": 1,
   "nav_menu": {},
   "number_sections": false,
   "sideBar": true,
   "skip_h1_title": false,
   "title_cell": "Table of Contents",
   "title_sidebar": "Contents",
   "toc_cell": false,
   "toc_position": {},
   "toc_section_display": true,
   "toc_window_display": false
  },
  "vscode": {
   "interpreter": {
    "hash": "ad2bdc8ecc057115af97d19610ffacc2b4e99fae6737bb82f5d7fb13d2f2c186"
   }
  }
 },
 "nbformat": 4,
 "nbformat_minor": 2
}
