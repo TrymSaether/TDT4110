{
 "cells": [
  {
   "cell_type": "markdown",
   "metadata": {
    "deletable": false,
    "editable": false,
    "run_control": {
     "frozen": true
    }
   },
   "source": [
    " <nav class=\"navbar navbar-default\">\n",
    "  <div class=\"container-fluid\">\n",
    "    <div class=\"navbar-header\">\n",
    "      <a class=\"navbar-brand\" href=\"_Oving8.ipynb\">Øving 8</a>\n",
    "    </div>\n",
    "    <ul class=\"nav navbar-nav\">\n",
    "    <li ><a href=\"Matplotlib.ipynb\">Matplotlib</a></li>\n",
    "    <li ><a href=\"Assorterte%20Eksamensoppgaver.ipynb\">Assorterte Eksamensoppgaver</a></li>\n",
    "    <li ><a href=\"Sudoku.ipynb\">Sudoku</a></li>\n",
    "    <li ><a href=\"numpy-arrays%20og%20matplotlib.ipynb\">Numpy-arrays og matplotlib</a></li>\n",
    "    <li class=\"active\"><a href=\"Bokanalyse%20med%20plotting.ipynb\">Bokanalyse med plotting</a></li>\n",
    "    <li ><a href=\"Sjakk.ipynb\">Sjakk</a></li>\n",
    "    </ul>\n",
    "  </div>\n",
    "</nav>\n",
    "\n",
    "\n",
    "# Assorterte eksamensoppgaver\n",
    "**NB:** Du må gjøre oppgaver som tilsvarer minst 100 vektingspoeng, altså 100%. Hele oppgavesettet tilsvarer 140%."
   ]
  },
  {
   "cell_type": "markdown",
   "metadata": {},
   "source": [
    "\n",
    "\n",
    "\n",
    "\n",
    "## Eksamen 2012"
   ]
  },
  {
   "cell_type": "markdown",
   "metadata": {
    "deletable": false,
    "editable": false,
    "run_control": {
     "frozen": true
    }
   },
   "source": [
    "## Oppgave 2 -  Grunnleggende programmering (20%)"
   ]
  },
  {
   "cell_type": "markdown",
   "metadata": {
    "deletable": false,
    "editable": false,
    "run_control": {
     "frozen": true
    }
   },
   "source": [
    "***I denne versjonen har vi fjernet teorien som telte 25% av eksamen. Topp prosentscore er da altså 75%.***\n",
    "\n",
    "Du kan anta at alle fuksjonene mottar gyldige input-verdier."
   ]
  },
  {
   "cell_type": "markdown",
   "metadata": {
    "deletable": false,
    "editable": false,
    "run_control": {
     "frozen": true
    }
   },
   "source": [
    "### Oppgave 2 a) (5%)"
   ]
  },
  {
   "cell_type": "markdown",
   "metadata": {
    "deletable": false,
    "editable": false,
    "run_control": {
     "frozen": true
    }
   },
   "source": [
    "Lag funksjonen **summerOlympics** som har inn-parametere **firstYear** og **lastYear**. Funksjonen skal returnere variabelen **years**,som er ei list emed alle OL-årene fra og med **firstYear** til og med **lastYear** (inkludert framtidige planlagte år for sommer-OL). Fra og med OL i London i 1948,har sommer-OL vært arrangert hvert fjerde år. Du kan anta at **firstYear** ≥ 1948.\n",
    "\n",
    "Eksempel på kjøring av funksjonen og hva den returnerer:\n",
    "\n",
    "```python\n",
    ">>>years = summerOlympics(1999,2012)\n",
    ">>> years\n",
    "[2000, 2004, 2008, 2012]\n",
    ">>>\n",
    "```"
   ]
  },
  {
   "cell_type": "code",
   "execution_count": null,
   "metadata": {
    "scrolled": false
   },
   "outputs": [],
   "source": [
    "#skriv koden din her"
   ]
  },
  {
   "cell_type": "markdown",
   "metadata": {
    "deletable": false,
    "editable": false,
    "run_control": {
     "frozen": true
    }
   },
   "source": [
    "### Oppgave 2b) (7.5%)"
   ]
  },
  {
   "cell_type": "markdown",
   "metadata": {
    "deletable": false,
    "editable": false,
    "run_control": {
     "frozen": true
    }
   },
   "source": [
    "Lag funksjonen **`findAge`** som har inn-parametere **bYear**, **bMonth**, **bDay** som er tre heltall som beskriver dato for en fødselsdag. Funksjonen skal returnere **age** som beskriver hvor gammel en person med oppgitt fødselsdag (**bYear**, **bMonth** og **bDay**) er i dag angitt i hele år.\n",
    "\n",
    "For å finne år, måned og dag for i dag ***skal du bruke*** en eksisterende funksjon som heter `current_date()`.Funksjonen returnerer tre heltall på formatet **(yyyy,mm,dd)**. \n",
    "\n",
    "Eksempel på bruk av funksjonen **current_date**:  \n",
    "`(yyyy,mm,dd)= current_date()` gir i dag yyyy=2012,mm=12, dd=11.\n",
    "\n",
    "Eksempel på kjøring av funksjonen **`findAge`** og hva den returnerer:\n",
    "\n",
    "```python\n",
    ">>> age = findAge(2000,12,15)\n",
    ">>> age\n",
    "11\n",
    ">>>\n",
    "```"
   ]
  },
  {
   "cell_type": "code",
   "execution_count": null,
   "metadata": {
    "ExecuteTime": {
     "end_time": "2019-07-05T10:58:13.647340Z",
     "start_time": "2019-07-05T10:58:13.641077Z"
    },
    "scrolled": false
   },
   "outputs": [],
   "source": [
    "from datetime import datetime\n",
    "def current_date():\n",
    "    yyyy = int(datetime.today().strftime('%Y'))\n",
    "    mm = int(datetime.today().strftime('%m'))\n",
    "    dd = int(datetime.today().strftime('%d'))\n",
    "    return yyyy,mm,dd"
   ]
  },
  {
   "cell_type": "code",
   "execution_count": null,
   "metadata": {
    "scrolled": false
   },
   "outputs": [],
   "source": [
    "#skriv koden din her"
   ]
  },
  {
   "cell_type": "markdown",
   "metadata": {
    "deletable": false,
    "editable": false,
    "run_control": {
     "frozen": true
    }
   },
   "source": [
    "### Oppgave 2c) (7.5 %)"
   ]
  },
  {
   "cell_type": "markdown",
   "metadata": {
    "deletable": false,
    "editable": false,
    "run_control": {
     "frozen": true
    }
   },
   "source": [
    "Lag en funksjon **`printAgeDiff`** som tar en parameter **table**,som er en to-dimensjonal tabell (liste av lister) der hver rekke beskriver personer med fornavn, etternavn, fødselsår, fødselsmåned og fødselsdato. Funksjonen skal bruke funksjonen **`findAge`** fra oppgave 2b til å sammenlikne alderen i hele år på etterfølgende personer i tabellen (rekke for rekke) og gjøre følgende:\n",
    "\n",
    "* Hvis person n og person n+1 har samme alder angitt i antall hele år, skal følgende skrives ut til skjerm:  \n",
    "``<fornavnn> <etternavnn> is at the same age as <fornavnn+1> <etternavnn+1>``\n",
    "* Hvis person n er eldre enn person n+1 angitt i antall hele år, skal følgende skrives ut til skjerm:  \n",
    "``<fornavnn> <etternavnn> is older than <fornavnn+1> <etternavn n+1>``\n",
    "* Hvis person n er yngre enn person n+1 angitt i antall hele år, skal følgende skrives ut til skjerm:  \n",
    "``<fornavnn> <etternavnn> is younger than <fornavnn+1> <etternavnn+1>``\n",
    "\n",
    "Eksempel på en to-dimensjonal tabell som beskriver fire kjente personer:"
   ]
  },
  {
   "cell_type": "code",
   "execution_count": null,
   "metadata": {
    "scrolled": false
   },
   "outputs": [],
   "source": [
    "table=[['Justin','Bieber',1994,3,1],\n",
    "       ['Donald','Duck',1934,8,1],\n",
    "       ['George','Clooney',1961,5,6],\n",
    "       ['Eddie','Murphy',1961,4,3]]"
   ]
  },
  {
   "cell_type": "markdown",
   "metadata": {
    "deletable": false,
    "editable": false,
    "run_control": {
     "frozen": true
    }
   },
   "source": [
    "Eksempel på kjøring av funksjonen **`printAgeDiff`** med tabellen **table**, som inneholder listene for bieber, donald, george og eddie:\n",
    "\n",
    "```python\n",
    ">>>printAgeDiff(table)\n",
    "Justin Bieber is younger than Donald Duck\n",
    "Donald Duck is older than George Clooney\n",
    "George Clooney is at the same age as Eddie Murphy\n",
    ">>>\n",
    "```"
   ]
  },
  {
   "cell_type": "code",
   "execution_count": null,
   "metadata": {
    "scrolled": false
   },
   "outputs": [],
   "source": [
    "#skriv koden din her"
   ]
  },
  {
   "cell_type": "markdown",
   "metadata": {
    "deletable": false,
    "editable": false,
    "run_control": {
     "frozen": true
    }
   },
   "source": [
    "## Oppgave 3 - Kodeforståelse (15%)"
   ]
  },
  {
   "cell_type": "markdown",
   "metadata": {
    "deletable": false,
    "editable": false,
    "run_control": {
     "frozen": true
    }
   },
   "source": [
    "### Oppgave 3a) (5%)"
   ]
  },
  {
   "cell_type": "markdown",
   "metadata": {
    "deletable": false,
    "editable": false,
    "run_control": {
     "frozen": true
    }
   },
   "source": [
    "Hva returneres hvis funksjonen `fu1(1234)`med kode som vist under kjøres?\n",
    "\n",
    "```python\n",
    "def fu1(a):\n",
    "    r = 0\n",
    "    while(a>0):\n",
    "        s = a%10\n",
    "        r = r + s\n",
    "        a = (a-s)/10\n",
    "return r\n",
    "```"
   ]
  },
  {
   "cell_type": "markdown",
   "metadata": {},
   "source": [
    "Svar: <dobbeltklikk for å svare>"
   ]
  },
  {
   "cell_type": "markdown",
   "metadata": {
    "deletable": false,
    "editable": false,
    "run_control": {
     "frozen": true
    }
   },
   "source": [
    "### Oppgave 3b) (5%)"
   ]
  },
  {
   "cell_type": "markdown",
   "metadata": {
    "deletable": false,
    "editable": false,
    "run_control": {
     "frozen": true
    }
   },
   "source": [
    "Hva blir verdiene til a,b,c og d etter kallet  \n",
    "`(a, b, c, d) = fu2(’Ut pa tur, aldri sur’)`  \n",
    "med koden som vist under?\n",
    "\n",
    "```python\n",
    "    def fu2(input):\n",
    "        r = 0\n",
    "        s = 0\n",
    "        t = 0\n",
    "        u = 0\n",
    "        n = len(input)\n",
    "        for c in input:\n",
    "            if(c.isalpha()):\n",
    "                r = r + 1\n",
    "            elif(c.isdigit()):\n",
    "                s = s + 1\n",
    "            elif(c==' '):\n",
    "                t = t + 1\n",
    "            else:\n",
    "                u = u + 1\n",
    "        r = 100*r/n\n",
    "        s = 100*s/n\n",
    "        t = 100*t/n\n",
    "        u = 100*u/n\n",
    "        return(r,s,t,u)\n",
    "```"
   ]
  },
  {
   "cell_type": "markdown",
   "metadata": {},
   "source": [
    "Svar: <dobbeltklikk for å svare>"
   ]
  },
  {
   "cell_type": "markdown",
   "metadata": {
    "deletable": false,
    "editable": false,
    "run_control": {
     "frozen": true
    }
   },
   "source": [
    "### Oppgave 3c) (5%)"
   ]
  },
  {
   "cell_type": "markdown",
   "metadata": {
    "deletable": false,
    "editable": false,
    "run_control": {
     "frozen": true
    }
   },
   "source": [
    "Hva returneres av kallet `fu3(100)`med koden som vist under?\n",
    "```python\n",
    "def fu3(a):\n",
    "    if(a<=2):\n",
    "        r = 1\n",
    "    else:\n",
    "        r = 1 + fu3(a/2)\n",
    "    return r\n",
    "```"
   ]
  },
  {
   "cell_type": "markdown",
   "metadata": {},
   "source": [
    "Svar: <dobbeltklikk for å svare>"
   ]
  },
  {
   "cell_type": "markdown",
   "metadata": {
    "deletable": false,
    "editable": false,
    "run_control": {
     "frozen": true
    }
   },
   "source": [
    "## Oppgave 4 - Programmering (40%)"
   ]
  },
  {
   "cell_type": "markdown",
   "metadata": {
    "deletable": false,
    "editable": false,
    "run_control": {
     "frozen": true
    }
   },
   "source": [
    "Denne oppgaven fokuserer på behandling av data fra fire vær sensorer som måler en verdi per døgn av følgende data:\n",
    "\n",
    "* Temperatur: Angis som heltall i Celsius fra -50C til + 50C\n",
    "* Nedbør: Angis som heltall i mm nedbør per døgn fra 0 til 2000mm\n",
    "* Luftfuktighet. Angis som heltall fra 0 til 100%\n",
    "* Vindstyrke: Angis som heltall fra 0 til 50 meter per sekund\n",
    "\n",
    "Hvis ikke noe annet er oppgitt kan du anta korrekt input til funksjonene."
   ]
  },
  {
   "cell_type": "markdown",
   "metadata": {
    "deletable": false,
    "editable": false,
    "run_control": {
     "frozen": true
    }
   },
   "source": [
    "### Oppgave 4a) (5%)"
   ]
  },
  {
   "cell_type": "markdown",
   "metadata": {
    "deletable": false,
    "editable": false,
    "run_control": {
     "frozen": true
    }
   },
   "source": [
    "Lag en funksjon **`cold_days`** som tar imot parameteren **templist**, som en liste av temperaturer, og returnerer variabelen **days**,som angir antall døgn der temperaturen var under 0 grader.\n",
    "\n",
    "Eksempel på kall av funksjonen og hva den returnerer:\n",
    "```python\n",
    ">>> days = cold_days([1,-5,3,0,-6,-3,15,0])\n",
    ">>> days\n",
    "3\n",
    ">>>\n",
    "```"
   ]
  },
  {
   "cell_type": "code",
   "execution_count": null,
   "metadata": {
    "scrolled": false
   },
   "outputs": [],
   "source": [
    "#skriv koden din her"
   ]
  },
  {
   "cell_type": "markdown",
   "metadata": {
    "deletable": false,
    "editable": false,
    "run_control": {
     "frozen": true
    }
   },
   "source": [
    "### Oppgave 4 b) (5 %)"
   ]
  },
  {
   "cell_type": "markdown",
   "metadata": {
    "deletable": false,
    "editable": false,
    "run_control": {
     "frozen": true
    }
   },
   "source": [
    "Lag en funksjon **`cap_data`** som har inn-parameterne **array** (liste med data), **min_value** (minimumsverdi) og **max_value** (maksimumsverdi). Funksjonen skal returnere ei ny liste **result** der alle elementer i lista **array** som har verdi mindre enn **min_value** skal settes lik **min_value** og alle elementer i lista **array** som har verdi høyere enn **max_value** skal settes lik **max_value**.\n",
    "\n",
    "Eksempel på kall av funksjonen og hva den returnerer:\n",
    "```python\n",
    ">>>A=[-70,30,0,90,23,-12,95,12]\n",
    ">>>result = cap_data(A,-50,50)\n",
    ">>>result\n",
    "[-50,30,0,50,23,-12,50,12]\n",
    ">>>\n",
    "```\n",
    "\n",
    "Legg merke til hvilke verdier som endres."
   ]
  },
  {
   "cell_type": "code",
   "execution_count": null,
   "metadata": {
    "scrolled": false
   },
   "outputs": [],
   "source": [
    "#skriv koden din her"
   ]
  },
  {
   "cell_type": "markdown",
   "metadata": {
    "deletable": false,
    "editable": false,
    "run_control": {
     "frozen": true
    }
   },
   "source": [
    "### Oppgave 4c) (10%)"
   ]
  },
  {
   "cell_type": "markdown",
   "metadata": {
    "deletable": false,
    "editable": false,
    "run_control": {
     "frozen": true
    }
   },
   "source": [
    "Lag en funksjon **`generate_testdatasom`** har inn-parameterne **N**, **min_value** (minimumsverdi)og **max_value** (maksimumsverdi). Funksjonen skal returnere tabellen **result** som består av **N** unike *tall* (heltall) som blir trukket tilfeldig der {**min_value** ≤ *tall* ≤ **max_value**}. Unik betyr her at ingen elementer i tabellen **result** skal ha samme verdi. Du kan anta at antall mulige verdier i intervallet tallet blir trukket fra alltid vil være større enn **N**.\n",
    "\n",
    "Eksempel på kall av funksjonen og hva den returnerer:\n",
    "```python\n",
    ">>> result = generate_testdata(10,-5,10)\n",
    ">>> result\n",
    "[-5,3,7,9,-3,4,2,0,-1,5]\n",
    ">>>\n",
    "```"
   ]
  },
  {
   "cell_type": "code",
   "execution_count": null,
   "metadata": {
    "scrolled": false
   },
   "outputs": [],
   "source": [
    "#skriv koden din her"
   ]
  },
  {
   "cell_type": "markdown",
   "metadata": {
    "deletable": false,
    "editable": false,
    "run_control": {
     "frozen": true
    }
   },
   "source": [
    "### Oppgave 4d) (5%)"
   ]
  },
  {
   "cell_type": "markdown",
   "metadata": {
    "deletable": false,
    "editable": false,
    "run_control": {
     "frozen": true
    }
   },
   "source": [
    "Lag en funksjon **`create_db`** som har inn-parameterne **temp**, **rain**, **humidity** og **wind**,som er fire tabeller av samme størrelse (likt antall elementer) med data for temperatur, nedbør, luftfuktighet og vind.\n",
    "\n",
    "Funksjonen skal lage og returnere *dictionarien* **weather**,der nøkkelen er ett heltall som starter med verdien 1 og teller oppover (representerer dagen for måling). Hvert innslag i *dictionarien* skal være en liste av verdier for temperatur, nedbør, luftfuktighet og vind. Verdiene for **weather** med nøkkel 1 skal inneholde værdata for dag 1, **weather** med nøkkel2 skal inneholde værdata for dag 2 og så videre.\n",
    "\n",
    "Eksempel på kall av funksjonen og hva den returnerer:\n",
    "```python\n",
    ">>> temp = [1,5,3]\n",
    ">>> rain = [0,30,120]\n",
    ">>> humidity = [30,50,65]\n",
    ">>> wind = [3,5,7]\n",
    ">>> weather = create_db(temp,rain,humidity,wind)\n",
    ">>> weather\n",
    "{1: [1, 0, 30, 3], 2: [5, 30, 50, 5], 3: [3, 120, 65, 7]}\n",
    ">>>\n",
    "``` "
   ]
  },
  {
   "cell_type": "code",
   "execution_count": null,
   "metadata": {
    "scrolled": false
   },
   "outputs": [],
   "source": [
    "#skriv koden din her"
   ]
  },
  {
   "cell_type": "markdown",
   "metadata": {
    "deletable": false,
    "editable": false,
    "run_control": {
     "frozen": true
    }
   },
   "source": [
    "### Oppgave 4e) (5%)"
   ]
  },
  {
   "cell_type": "markdown",
   "metadata": {
    "deletable": false,
    "editable": false,
    "run_control": {
     "frozen": true
    }
   },
   "source": [
    "Lag en funksjon **`print_db`** som har inn-parameteren **weather**,som er en dictionary som beskrevet i oppgave 4d. Funksjonen skal skrive ut innholdet i **weather** på skjerm etter følgende format og med overskrift som vist på utskriften nederst i deloppgaven:\n",
    "* Day(dag) –høyrejustert med 4 tegn\n",
    "* Temp (temperatur)–høyrejustert med 6 tegn\n",
    "* Rain (nedbør)–høyrejustert med 6 tegn\n",
    "* Humidity (luftfuktighet)–høyrejustert med 10 tegn\n",
    "* Wind (vind)–høyrejustert med 6 tegn\n",
    "\n",
    "Eksempel på kall av funksjonen ved bruk av dictionarien fra oppgave 4d:\n",
    "```p\n",
    ">>> print_db(weather)\n",
    "Day | Temp | rain | humidity | wind\n",
    "====+======+======+==========+======\n",
    "   1      1      0         30      5\n",
    "   2      5     30         50      3\n",
    "   3      3    120         65      7\n",
    ">>>\n",
    "```"
   ]
  },
  {
   "cell_type": "code",
   "execution_count": null,
   "metadata": {
    "scrolled": false
   },
   "outputs": [],
   "source": [
    "#skriv koden din her"
   ]
  },
  {
   "cell_type": "markdown",
   "metadata": {
    "deletable": false,
    "editable": false,
    "run_control": {
     "frozen": true
    }
   },
   "source": [
    "### Oppgave 4f) (10%)"
   ]
  },
  {
   "cell_type": "markdown",
   "metadata": {
    "deletable": false,
    "editable": false,
    "run_control": {
     "frozen": true
    }
   },
   "source": [
    "Lag funksjonen **`strange_weather`** som har inn-parameterne **temp** og **rain**,som er to tabeller med data for temperaturer og regn av lik størrelse (samme antall elementer). Funksjonen skal returnere **start** (startdag)og **stop** (sluttdag)for det lengste intervallet der det er minusgrader, samt at temperaturen faller samtidig som nedbørsmengden stiger i etterfølgende dager. Indekseringen av dager starter på 1. Hvis ingen etterfølgende dager har denne karakteristikken, returneres (0,0).\n",
    "\n",
    "Eksempel på kall av funksjonen(med intervall som oppfyller kravet uthevet):\n",
    "```python\n",
    ">>> temp=[1,3, 4,-5,-6,-7,-8,-9,3,0]\n",
    ">>> rain=[0,20,30,0,10,30,50,0,5,2]\n",
    ">>> (start, stop) = strange_weather(temp,rain)\n",
    ">>> start\n",
    "4\n",
    ">>> stop\n",
    "7\n",
    ">>>\n",
    "```"
   ]
  },
  {
   "cell_type": "code",
   "execution_count": null,
   "metadata": {
    "ExecuteTime": {
     "end_time": "2019-07-05T12:00:04.448245Z",
     "start_time": "2019-07-05T12:00:04.442468Z"
    },
    "scrolled": false
   },
   "outputs": [],
   "source": [
    "#skriv koden din her"
   ]
  },
  {
   "cell_type": "markdown",
   "metadata": {},
   "source": [
    "# Eksamensoppgaver fra TDT4127"
   ]
  },
  {
   "cell_type": "markdown",
   "metadata": {},
   "source": [
    "De følgende eksamensoppgavene er tatt fra TDT4127, et fjerdeklassefag hvor pensum er mye større enn i dette faget. Vektingene er tilpasset denne øvingen, og oppgavene er noe modifiserte for å passe inn i pensum. De er tatt med for at den totale arbeidsmengden i notebooken skal være noenlunde likt eksamen som kommer."
   ]
  },
  {
   "cell_type": "markdown",
   "metadata": {},
   "source": [
    "## Høsten 2020"
   ]
  },
  {
   "cell_type": "markdown",
   "metadata": {},
   "source": [
    "### Oppg 1a) (5%)\n",
    "\n",
    "Du er gitt en tekstfil med en liste av navn til studenter. Ta for eksempel fila <a href=\"students.txt\">students.txt</a>, der innholdet er:\n",
    "\n",
    "```txt\n",
    "1 Ola Nordmann\n",
    "2 Kari Olsen\n",
    "3 Otto Hansen\n",
    "```\n",
    "\n",
    "Skriv en funksjon `file_to_list(filename)` som gitt et filnavn `filename` returnerer en liste med strings. Hver string skal være navnet til en student, uten tallet foran.\n",
    "\n",
    "Gitt fila over bør output være \n",
    "```python\n",
    ">>> file_to_list(\"students.txt\")\n",
    "[\"Ola Nordmann\", \"Kari Olsen\", \"Otto Hansen\"]\n",
    "```"
   ]
  },
  {
   "cell_type": "code",
   "execution_count": null,
   "metadata": {},
   "outputs": [],
   "source": [
    "# Skriv koden din her"
   ]
  },
  {
   "cell_type": "markdown",
   "metadata": {},
   "source": [
    "### Oppg 1b) (5%)\n",
    "\n",
    "Du ønsker å lage en liste av brukernavn fra en liste med navn. Et brukernavn er de første seks bokstavene i fornavnet konkatenert med de første tre bokstavene i etternavnet. Brukernavnet skal bare ha små bokstaver. Dersom fornavnet er kortere enn seks bokstaver eller etternavnet er kortere enn tre bokstaver skal du ta med alle bokstavene i det navnet.\n",
    "\n",
    "Lag en funksjon `create_username_list(name_list)` som returnerer en liste av brukernavnene til alle navnene i `name_list`.\n",
    "\n",
    "```python\n",
    ">>> create_username_list([\"Ola Nordmann\", \"Kari Olsen\", \"Alexander Hansen\"])\n",
    "[\"olanor\", \"kariols\", \"alexanhan\"]\n",
    "```"
   ]
  },
  {
   "cell_type": "code",
   "execution_count": null,
   "metadata": {},
   "outputs": [],
   "source": [
    "# Skriv koden din her"
   ]
  },
  {
   "cell_type": "markdown",
   "metadata": {},
   "source": [
    "### Oppg 1c) (5%)\n",
    "\n",
    "Du er gitt en liste med brukernavn, for eksempel\n",
    "\n",
    "```python\n",
    "username_list = [\"olanor\", \"kariols\", \"ottohan\", \"olanor\", \"kariols\"]\n",
    "```\n",
    "\n",
    "Dessverre er det slik at måten brukernavnene opprettes på ikke er perfekt. Det er fort gjort at flere studenter får samme brukernavn. Lag en funksjon `fix_duplicates(username_list)` som sjekker om det er duplikater og legger til en ekstra `\"a\"` til slutten av ett av de. Du kan anta at det finnes _maks to_ av hvert brukernavn.\n",
    "\n",
    "```python\n",
    ">>> fix_duplicates([\"olanor\", \"kariols\", \"olanor\"])\n",
    "[\"olanor\", \"kariols\", \"olanora\"]\n",
    "```"
   ]
  },
  {
   "cell_type": "code",
   "execution_count": null,
   "metadata": {},
   "outputs": [],
   "source": [
    "# Skriv koden din her"
   ]
  },
  {
   "cell_type": "markdown",
   "metadata": {},
   "source": [
    "### Oppg 1d) (5%)\n",
    "\n",
    "Du er gitt to lister: den ene inneholder en liste av navnene til studentene i klassen, den andre de respektive brukernavnene.\n",
    "\n",
    "Skriv en funksjon `create_username_dict(name_list, username_list)` som lager en dictionary man kan bruke til å finne brukernavn gitt et navn. \n",
    "\n",
    "Eks: \n",
    "```python\n",
    ">>> name_list = [\"Ola Nordmann\", \"Kari Olsen\", \"Roger Jensen\"]\n",
    ">>> username_list = [\"olanor\", \"kariols\", \"rogerjen\"]\n",
    ">>> create_username_dict(name_list, username_list)\n",
    "{\n",
    "    \"Ola Nordmann\": \"olanor\",\n",
    "    \"Kari Olsen\": \"kariols\",\n",
    "    \"Roger Jensen\": \"rogerjen\"\n",
    "}\n",
    "```"
   ]
  },
  {
   "cell_type": "code",
   "execution_count": null,
   "metadata": {},
   "outputs": [],
   "source": [
    "# Skriv koden din her"
   ]
  },
  {
   "cell_type": "markdown",
   "metadata": {},
   "source": [
    "### Oppg 1e) (7.5%)\n",
    "\n",
    "Skriv en funksjon `plot_cos()` som plotter funksjonene $cos(kx)$ for $k = 1, 2, 3$ på intervallet $[0, 2\\pi]$\n",
    "\n",
    "Plottet bør ha de følgende egenskapene:\n",
    "- x-label skal være \"x\"\n",
    "- y-label skal være \"y\"\n",
    "- tittelen skal være \"cos med forskjellige bølgetall\"\n",
    "- legenden må fortelle oss hvilke verdier av $k$ som tilhører hvilken kurve\n",
    "\n",
    "_Hint: Numpy inneholder en cosinusfunksjon,_ `np.cos(x)`\n",
    "\n",
    "Eks:  \n",
    "![](cosines.png)"
   ]
  },
  {
   "cell_type": "code",
   "execution_count": 1,
   "metadata": {},
   "outputs": [],
   "source": [
    "# Skriv koden din her"
   ]
  },
  {
   "cell_type": "markdown",
   "metadata": {},
   "source": [
    "### Oppgave 1f) (7.5%)\n",
    "\n",
    "Du er gitt en liste med elever som hører til et fag. Du skal dele dem opp i _tilfeldige_ grupper på fire. Dessverre er det ikke garantert at antall elever er delelig med fire. Der kan være en, to eller tre elever til overs. Du kan anta at antall elever er større enn seks.\n",
    "\n",
    "Når det er elever til overs skal programmet oppføre seg slik:\n",
    "- Dersom det er 1 elev ekstra skal den settes inn i en eksisterende gruppe slik at det blir en gruppe på 5.\n",
    "- Dersom det er 2 elever ekstra skal de settes inn i en eksisterende gruppe hver slik at det blir to grupper på 5.\n",
    "- Dersom det er 3 elever ekstra skal de bli en gruppe på 3.\n",
    "\n",
    "Lag en funksjon `create_groups(name_list)` som grupperer elevene etter reglene over. Merk at gruppene skal være tilfeldige, og at de skal være tupler. \n",
    "\n",
    "Eksempel, 1 til overs:\n",
    "```python\n",
    ">>> create_groups([\"Ola\", \"Kari\", \"Egil\", \"Hans\", \"Magnus\", \"Kjetil\", \"Hanne\", \"Kristin\", \"Jens\"])\n",
    "[\n",
    "    (\"Kari\", \"Hanne\", \"Jens\", \"Egil\"), \n",
    "    (\"Kjetil\", \"Ola\", \"Hans\", \"Kristin\", \"Magnus\")\n",
    "]\n",
    "```\n",
    "\n",
    "Eksempel, 3 til overs:\n",
    "```python\n",
    ">>> create_groups([\"Ola\", \"Kari\", \"Egil\", \"Hans\", \"Magnus\", \"Kjetil\", \"Hanne\", \"Kristin\", \"Jens\", \"Henriette\", \"Siv\"])\n",
    "[\n",
    "    (\"Kari\", \"Siv\", \"Hanne\", \"Jens\"), \n",
    "    (\"Egil\", \"Henriette\", \"Kristin\", \"Magnus\"), \n",
    "    (\"Kjetil\", \"Ola\", \"Hans\")\n",
    "]\n",
    "```\n",
    "\n",
    "_Tips: I standardbiblioteket til python finnes det en modul for å printe ekstra pent (pretty-print). Den kalles på slik:_ "
   ]
  },
  {
   "cell_type": "code",
   "execution_count": 5,
   "metadata": {},
   "outputs": [
    {
     "name": "stdout",
     "output_type": "stream",
     "text": [
      "{'et': ['komplekst',\n",
      "        'objekt',\n",
      "        'med',\n",
      "        'mange',\n",
      "        'ting',\n",
      "        ['og', 'er', {'nøstet': 'hvorfor?'}]],\n",
      " 'som_er': 0,\n",
      " 'vanskelig å': 'lese'}\n"
     ]
    }
   ],
   "source": [
    "import pprint\n",
    "pprint.pprint({\"et\": [\"komplekst\", \"objekt\", \"med\", \"mange\", \"ting\", [\"og\", \"er\", {\"nøstet\": \"hvorfor?\"}]], \"som_er\": 0, \"vanskelig å\": \"lese\"})"
   ]
  },
  {
   "cell_type": "markdown",
   "metadata": {},
   "source": [
    "### Oppgave 1g) (5%)\n",
    "\n",
    "Skriv en funksjon `flatten(listy)` som tar inn en matrise (2d-liste) av vilkårlige dimensjoner og returnerer en 1d-liste med de samme elementene.\n",
    "\n",
    "```python\n",
    ">>> listy = [[1, 2], [3, 4]]\n",
    ">>> flatten(listy)\n",
    "[1, 2, 3, 4]\n",
    "```\n",
    "\n"
   ]
  },
  {
   "cell_type": "code",
   "execution_count": null,
   "metadata": {},
   "outputs": [],
   "source": [
    "# Skriv koden din her"
   ]
  },
  {
   "cell_type": "markdown",
   "metadata": {},
   "source": [
    "## Kont 2019"
   ]
  },
  {
   "cell_type": "markdown",
   "metadata": {},
   "source": [
    "### 5) Lese fra tekstfil (5%)\n",
    "\n",
    "Du er quizmaster på en pub, og elsker å stille obskure spørsmål om blant annet hovedstader og vil lage et Python-program for å automatisk sjekke fasit på en del mulige spørsmål. Du har allerede laget en tekstfil med nyttig data du fant på Wikipedia.\n",
    "\n",
    "```txt\n",
    "1;China PR;Beijing;20,693,000;1.52%\n",
    "2;India;New Delhi;16,787,949[2];1.10%\n",
    "3;Japan;Tokyo;13,491,000[3];10.67%\n",
    "4;Philippines;Manila;12,877,253[4];12.8%\n",
    "5;Russia;Moscow;11,541,000[5];8.07%\n",
    "6;Egypt;Cairo;10,230,350;11.10%\n",
    "``` \n",
    "\n",
    "Det første steget er å lage en funksjon som leser alle disse linjene til en liste av strenger, der hver streng tilsvarer en linje.\n",
    "\n",
    "Eks:\n",
    "```python\n",
    "['1;China PR;Beijing;20,693,000[1];1.52%', '2;India;New Delhi;16,787,949[2];1.10%',\n",
    "'3;Japan;Tokyo;13,491,000[3];10.67%', '4;Philippines;Manila;12,877,253[4];12.8%',\n",
    "'5;Russia;Moscow;11,541,000[5];8.07%', '6;Egypt;Cairo;10,230,350;11.10%' ]\n",
    "```\n",
    "\n",
    "Sett sammen de følgende linjene med kode til en fullstendig funksjon som beskrevet over. Husk riktig indentering:\n",
    "\n",
    "- `with open(filename, 'r') as file`\n",
    "- `result.append(line.strip())`\n",
    "- `for line in file:`\n",
    "- `return result`\n",
    "- `result = []`\n",
    "- `def file_to_list(filename):`"
   ]
  },
  {
   "cell_type": "code",
   "execution_count": null,
   "metadata": {},
   "outputs": [],
   "source": [
    "with open(filename, 'r') as file\n",
    "result.append(line.strip())\n",
    "for line in file:\n",
    "return result\n",
    "result = []\n",
    "def file_to_list(filename):"
   ]
  },
  {
   "cell_type": "markdown",
   "metadata": {},
   "source": [
    "### 6) Konvertere til tall (5%)\n",
    "\n",
    "På Wikipedia, og dermed også i fila du har lagd, har folketallene til hovedstadene inkludert komma for hvert tredje siffer for å øke leseligheten. Bak noen av tallene er det også fotnoter i klammeparanteser, se f.eks. Tokyo. `13,491,000[3]`. For å kunne konvertere fra streng til tall må vi kvitte oss med både klammeparanteser og heltall.\n",
    "\n",
    "Skriv en funksjon `population_to_int(population)` som tar inn en string og returnerer et heltall. Du kan anta at strengen som kommer inn ikke inneholder noen andre uvedkommede tegn enn fotnoter og komma.\n",
    "\n",
    "Eksempel på kjøringer\n",
    "```python\n",
    ">>> population_to_int('13,491,000[3]')\n",
    "13491000\n",
    ">>> population_to_int('10,230,350')\n",
    "10230350\n",
    ">>> population_to_int('1,435')\n",
    "1435\n",
    "```"
   ]
  },
  {
   "cell_type": "code",
   "execution_count": null,
   "metadata": {},
   "outputs": [],
   "source": [
    "# Skriv koden din her"
   ]
  },
  {
   "cell_type": "markdown",
   "metadata": {},
   "source": [
    "#### Her skulle det vært oppgaver 7-9, men de er tatt ut"
   ]
  },
  {
   "cell_type": "markdown",
   "metadata": {},
   "source": [
    "### 10) Unike bokstaver (7.5%)\n",
    "\n",
    "Du er nå gitt en ferdig behandlet 2d-liste på følgende format:\n",
    "\n",
    "```python\n",
    "countries = [\n",
    "    [\"China PR\", \"Beijing\", 20693000],\n",
    "    [\"India\", \"New Delhi\", 16787949],\n",
    "    [\"Japan\", \"Tokyo\", 13491000],\n",
    "    [\"Philippines\", \"Manilla\", 12877253],\n",
    "    [\"Russia\", \"Moscow\", 11541000],\n",
    "    [\"Egypt\", \"Cairo\", 10230350]\n",
    "]\n",
    "```\n",
    "\n",
    "Altså `[land, hovedstad, folketall]`. Skriv en funksjon `no_common_letters(countries)` som gitt denne listen finner alle land-hovedstad par med ingen felles bokstaver i navnet.\n",
    "\n",
    "Eks med listen over:\n",
    "\n",
    "```python\n",
    ">>> no_common_letters(countries)\n",
    "[[\"Japan\", \"Tokyo\"], [\"Egypt\", \"Cairo\"]]\n",
    "```"
   ]
  },
  {
   "cell_type": "code",
   "execution_count": null,
   "metadata": {},
   "outputs": [],
   "source": [
    "# Skriv koden din her"
   ]
  },
  {
   "cell_type": "markdown",
   "metadata": {},
   "source": [
    "#### Her skulle det vært en oppgave 11, men den er tatt ut"
   ]
  },
  {
   "cell_type": "markdown",
   "metadata": {},
   "source": [
    "### 12) Lage dictionary (7.5%)\n",
    "\n",
    "En annen spørsmålstype du vurderer til quizzen din dreier seg om hovedstadsnavn hvor ingen bokstav forekommer to eller flere ganger. F.eks. vil \"Berlin\" tilfredsstille dette, med 6 unike bokstaver, mens \"Oslo\" ikke, fordi det har to \"o\"-er. \n",
    "\n",
    "Funksjonen `unique_letters()` skal gå gjennom hele lista av hovedsteder, med format som gitt tidligere:\n",
    "\n",
    "```python\n",
    "countries = [\n",
    "    [\"China PR\", \"Beijing\", 20693000],\n",
    "    [\"India\", \"New Delhi\", 16787949],\n",
    "    [\"Japan\", \"Tokyo\", 13491000],\n",
    "    [\"Philippines\", \"Manilla\", 12877253],\n",
    "    [\"Russia\", \"Moscow\", 11541000],\n",
    "    [\"Egypt\", \"Cairo\", 10230350]\n",
    "]\n",
    "```\n",
    "\n",
    "Den skal finne alle hovedstader som tilfredsstiller kravet, og returnere en **dictionary**. Nøkkelen i dictionaryet skal være **antall bokstaver**. \n",
    "Resultatet (med en liste som inneholdt alle hovedsteder i verden) ville inneholdt blant annet dette:\n",
    "\n",
    "```python\n",
    "{\n",
    "    10: [\"Bridgetown\"],\n",
    "    7: [\"Algiers\", \"Yaoundé\", \"Conakry\", \"Belfast\"],\n",
    "    9: [\"Singapore\", \"Bucharest\", \"Mogadishu\", \"Edinburgh\"],\n",
    "    ...\n",
    "}\n",
    "```\n",
    "\n",
    "Merk at \"Port Vila\" hører til i kategorien for 8 bokstaver, ikke 9, altså mellomrom teller _ikke_ som bokstaver."
   ]
  },
  {
   "cell_type": "code",
   "execution_count": null,
   "metadata": {},
   "outputs": [],
   "source": [
    "# Skriv koden din her"
   ]
  }
 ],
 "metadata": {
  "kernelspec": {
   "display_name": "Python 3.9.10 64-bit (microsoft store)",
   "language": "python",
   "name": "python3"
  },
  "language_info": {
   "codemirror_mode": {
    "name": "ipython",
    "version": 3
   },
   "file_extension": ".py",
   "mimetype": "text/x-python",
   "name": "python",
   "nbconvert_exporter": "python",
   "pygments_lexer": "ipython3",
   "version": "3.9.10"
  },
  "toc": {
   "base_numbering": 1,
   "nav_menu": {},
   "number_sections": false,
   "sideBar": true,
   "skip_h1_title": false,
   "title_cell": "Table of Contents",
   "title_sidebar": "Contents",
   "toc_cell": false,
   "toc_position": {},
   "toc_section_display": true,
   "toc_window_display": false
  },
  "vscode": {
   "interpreter": {
    "hash": "84613ed7f399af20e1e2ef8af506be689ae865345b9dceeaa3cba33ce1bef069"
   }
  }
 },
 "nbformat": 4,
 "nbformat_minor": 2
}
