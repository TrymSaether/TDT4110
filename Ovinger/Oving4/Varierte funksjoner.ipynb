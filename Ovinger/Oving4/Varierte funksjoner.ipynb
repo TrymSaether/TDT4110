{
 "cells": [
  {
   "cell_type": "markdown",
   "source": [
    "<nav class=\"navbar navbar-default\">\n",
    "  <div class=\"container-fluid\">\n",
    "    <div class=\"navbar-header\">\n",
    "      <a class=\"navbar-brand\" href=\"_Oving4.ipynb\">Øving 4</a>\n",
    "    </div>\n",
    "    <ul class=\"nav navbar-nav\">\n",
    "    <li><a href=\"Grunnleggende%20om%20funksjoner.ipynb\">Grunnleggende om funksjoner</a></li>\n",
    "    <li class=\"active\"><a href=\"Varierte%20funksjoner.ipynb\">Varierte funksjoner</a></li>\n",
    "    <li><a href=\"Lokale%20variabler.ipynb\">Lokale variabler</a></li>\n",
    "    <li><a href=\"Globale%20variabler.ipynb\">Globale variabler</a></li>\n",
    "    <li><a href=\"Euklids%20algoritme.ipynb\">Euklids algoritme</a></li>\n",
    "    <li><a href=\"Primtall.ipynb\">Primtall</a></li>\n",
    "    <li><a href=\"Multiplikasjon.ipynb\">Multiplikasjon</a></li>\n",
    "        <li><a href=\"Den%20store%20sporreundersokelsen.ipynb\">Den store spørreundersøkelsen</a></li>\n",
    "    <li><a href=\"Arbeidsdager.ipynb\">Arbeidsdager</a></li>\n",
    "    <li><a href=\"Sekantmetoden.ipynb\">Sekantmetoden</a></li>\n",
    "    <li><a href=\"Not%20quite%20Blackjack.ipynb\">Not quite Blackjack</a></li>\n",
    "        <li><a href=\"Funksjoner%20og%20Jupyter%20widgets.ipynb\">Funksjoner og Jupyter widgets</a></li>\n",
    "    </ul>\n",
    "  </div>\n",
    "</nav>\n",
    "\n",
    "# Varierte funksjoner\n",
    "\n",
    "**Læringsmål:**\n",
    "- Kodeforståelse\n",
    "- Funksjoner\n",
    "\n",
    "**Starting Out with Python:**\n",
    "- Kap. 5.1, 5.2, 5.5, 5.8\n",
    "\n",
    "Oppgaven *grunnleggende om funksjoner* dreier seg mest om å omstrukturere eksisterende kode. I denne oppgaven skal du få prøve å skrive funksjoner helt fra grunnen av."
   ],
   "metadata": {
    "deletable": false,
    "editable": false,
    "run_control": {
     "frozen": true
    }
   }
  },
  {
   "cell_type": "markdown",
   "source": [
    "## a)"
   ],
   "metadata": {
    "deletable": false,
    "editable": false,
    "run_control": {
     "frozen": true
    }
   }
  },
  {
   "cell_type": "markdown",
   "source": [
    "Absoluttverdi er en funksjon med mange nyttige anvendelser, bl.a. i statistisk analyse (f.eks. utregning av standardavvik).\n",
    "\n",
    "Python har allerede funksjonen `abs()`. Men siden dette er en enkel funksjon å lage, later vi her som om den ikke fins, slik at det er behov for å skrive den.\n",
    "\n",
    "Kall din funksjon `absol()` så ikke navnet kolliderer med den eksisterende funksjonen. Reglene for `absol(x)` skal da være:\n",
    "\n",
    "- hvis x >= 0, er absoluttverdien til x identisk med x\n",
    "- hvis x < 0, er absoluttverdien -x (minus minus gir pluss, absoluttverdi skal alltid være positiv)\n",
    "\n",
    "***Skriv koden i feltet under***"
   ],
   "metadata": {
    "deletable": false,
    "editable": false,
    "run_control": {
     "frozen": true
    }
   }
  },
  {
   "cell_type": "code",
   "execution_count": null,
   "source": [],
   "outputs": [],
   "metadata": {}
  },
  {
   "cell_type": "markdown",
   "source": [
    "Under har vi skrevet et test-skript slik at du kan teste funksjonen etter at du har skrevet den"
   ],
   "metadata": {
    "deletable": false,
    "editable": false,
    "run_control": {
     "frozen": true
    }
   }
  },
  {
   "cell_type": "code",
   "execution_count": null,
   "source": [
    "# skript for å teste funksjonen:\n",
    "print(\"Absoluttverdien til 5 er\", absol(5))\n",
    "print(\"Absoluttverdien til -3 er\", absol(-3))\n",
    "print(\"Absoluttverdien til 0 er\", absol(0))"
   ],
   "outputs": [],
   "metadata": {}
  },
  {
   "cell_type": "markdown",
   "source": [
    "Resultat av kjøring med det gitte testskriptet skal bli:\n",
    "\n",
    "```python\n",
    "Absoluttverdien til 5 er 5\n",
    "Absoluttverdien til -3 er 3\n",
    "Absoluttverdien til 0 er 0\n",
    "```\n",
    "\n",
    "Kjør kodeblokken og sjekk om din kode gir det samme resultatet"
   ],
   "metadata": {
    "deletable": false,
    "editable": false,
    "run_control": {
     "frozen": true
    }
   }
  },
  {
   "cell_type": "markdown",
   "source": [
    "## b)"
   ],
   "metadata": {
    "deletable": false,
    "editable": false,
    "run_control": {
     "frozen": true
    }
   }
  },
  {
   "cell_type": "markdown",
   "source": [
    "Skriv en funksjon som får inn hastighet i knop og returnerer hastighet i km/t ved hjelp av følgende opplysninger:\n",
    "\n",
    "- 1 knop er 0.514444444 m/s\n",
    "- 1 m/s er 3.6 km/t\n",
    "\n",
    "***Kall funksjonen for `knop2km_t` og skriv den i feltet under***"
   ],
   "metadata": {
    "deletable": false,
    "editable": false,
    "run_control": {
     "frozen": true
    }
   }
  },
  {
   "cell_type": "code",
   "execution_count": null,
   "source": [],
   "outputs": [],
   "metadata": {}
  },
  {
   "cell_type": "markdown",
   "source": [
    "Under har du et skript for å teste funksjonen din:"
   ],
   "metadata": {
    "deletable": false,
    "editable": false,
    "run_control": {
     "frozen": true
    }
   }
  },
  {
   "cell_type": "code",
   "execution_count": null,
   "source": [
    "# testskript for knop2km_t\n",
    "knop = float(input(\"Oppgi fart i knop:\"))\n",
    "km_t = knop2km_t(knop)\n",
    "print(\"Det blir\", round(km_t, 2), \"km/t\")"
   ],
   "outputs": [],
   "metadata": {}
  },
  {
   "cell_type": "markdown",
   "source": [
    "Hvis du har skrevet funksjonen riktig skal skriptet gi følgende output:\n",
    "```python\n",
    "Oppgi fart i knop: 15.2\n",
    "Det blir 28.15 km/t.\n",
    "```"
   ],
   "metadata": {
    "deletable": false,
    "editable": false,
    "run_control": {
     "frozen": true
    }
   }
  },
  {
   "cell_type": "markdown",
   "source": [
    "## c)"
   ],
   "metadata": {
    "deletable": false,
    "editable": false,
    "run_control": {
     "frozen": true
    }
   }
  },
  {
   "cell_type": "markdown",
   "source": [
    " I England og USA har det vært vanlig å oppgi personers høyde i fot og tommer (feet, inches - såkalte **imperial** måleenheter).\n",
    "\n",
    "Lag en funksjon med navn `imp2cm()` som får inn som parametrenen antall fot og antall tommer og returnerer antall cm som dette tilsvarer.\n",
    "\n",
    "Til dette kan man bruke følgende opplysninger:\n",
    "\n",
    "en fot tilsvarer 12 tommer\n",
    "en tomme tilsvarer 2.54 cm\n",
    "Funksjonen skal returnere antall cm avrundet til nærmeste heltall.\n",
    "\n",
    "***Skriv funksjonen din under***"
   ],
   "metadata": {
    "deletable": false,
    "editable": false,
    "run_control": {
     "frozen": true
    }
   }
  },
  {
   "cell_type": "code",
   "execution_count": null,
   "source": [],
   "outputs": [],
   "metadata": {}
  },
  {
   "cell_type": "markdown",
   "source": [
    "Kjør skriptet under for å teste funksjonen:"
   ],
   "metadata": {
    "deletable": false,
    "editable": false,
    "run_control": {
     "frozen": true
    }
   }
  },
  {
   "cell_type": "code",
   "execution_count": null,
   "source": [
    "# Testskript for funksjonen imp2cm\n",
    "fot = int(input(\"Oppgi antall fot: \"))\n",
    "tommer = int(input(\"Oppgi antall tommer: \"))\n",
    "cm = imp2cm(fot, tommer)\n",
    "print(\"Det blir\", cm, \"cm\")"
   ],
   "outputs": [],
   "metadata": {}
  },
  {
   "cell_type": "markdown",
   "source": [
    "Eksempel på kjøring av testskript dersom funksjonen din er riktig:\n",
    "```python\n",
    "Oppgi antall fot: 5\n",
    "Oppgi antall tommer: 9\n",
    "Det blir 175 cm\n",
    "```"
   ],
   "metadata": {
    "deletable": false,
    "editable": false,
    "run_control": {
     "frozen": true
    }
   }
  },
  {
   "cell_type": "markdown",
   "source": [
    "## d)"
   ],
   "metadata": {
    "deletable": false,
    "editable": false,
    "run_control": {
     "frozen": true
    }
   }
  },
  {
   "cell_type": "markdown",
   "source": [
    "Farger for utskrift på papir angis i CMYK, med 4 flyttall mellom 0-1 for hvor mye cyan (C), gult (Y), magenta (M) og sort (K) printerblekk.\n",
    "\n",
    "Når farger skal vises på skjerm, angis de i RGB, dvs. som 3 heltall 0-255 som angir intensiteten av rødt (R), grønt (G) og blått (B) lys.\n",
    "\n",
    "\"Nina\" har jobbet som designer av brosjyremateriell på papir og vet om mange kule farger som hun kjenner CMYK-verdiene for.\n",
    "\n",
    "Kundene går i økende grad over til nettbasert infomateriell, så hun ønsker nå et program for å konvertere fra CMYK til RGB.\n",
    "\n",
    "Gitt verdier for C, M, Y, K som flyttall mellom 0 og 1, er formlene for konvertering slik:\n",
    "\n",
    "- R = 255 * (1-C) * (1-K)\n",
    "- G = 255 * (1-M) * (1-K)\n",
    "- B = 255 * (1-Y) * (1-K)\n",
    "Mesteparten av programmet er gjort ferdig av en annen programmerer, men funksjonen **cmyk2rgb()** for selve konverteringen mangler.\n",
    "\n",
    "***Skriv inn den manglende koden i kodeblokken nedenfor; kjør deretter koden og se om den virker.***"
   ],
   "metadata": {
    "deletable": false,
    "editable": false,
    "run_control": {
     "frozen": true
    }
   }
  },
  {
   "cell_type": "code",
   "execution_count": null,
   "source": [
    "# skriv funksjonen cmyk2rgb() her øverst\n",
    "  \n",
    "  \n",
    "print(\"Oppgi farge i CMYK og få det konvertert til RGB.\")\n",
    "C = float(input(\"C: \"))\n",
    "M = float(input(\"M: \"))\n",
    "Y = float(input(\"Y: \"))\n",
    "K = float(input(\"K: \"))\n",
    "R, G, B = cmyk2rgb(C, M, Y, K)\n",
    "print(\"Som RGB:\", R, G, B)"
   ],
   "outputs": [],
   "metadata": {}
  },
  {
   "cell_type": "markdown",
   "source": [
    "#### Hint"
   ],
   "metadata": {
    "deletable": false,
    "editable": false,
    "heading_collapsed": true,
    "run_control": {
     "frozen": true
    }
   }
  },
  {
   "cell_type": "markdown",
   "source": [
    "**Hint 1:** Du må navngi funksjonen akkurat `cmyk2rgb` hvis den skal virke med den koden som er gitt på forhånd, siden dette navnet brukes i et kall midt nede i koden.\n",
    "\n",
    "Funksjonen må ha et antall parametre som stemmer med antallet argumenter i kallet cmyk2rgb(C, M, Y, K) -  dvs. 4 parametre.\n",
    "\n",
    "\n",
    "\n",
    "**Hint 2:** Siden det står R, G, B = cmyk2rgb... i skriptet, må det komme **3 verdier** fra funksjonen for at alle disse variablene skal få innhold.\n",
    "\n",
    "Altså trenger funksjonen å returnere 3 verdier, ikke  bare 1 som vi har sett tidligere.\n",
    "\n",
    "Dette er imidlertid ikke spesielt vanskelig - å returnere flere verdier fra en funksjon gjøres simpelthen ved å liste opp flere returverdier med komma mellom.\n",
    "\n",
    "F.eks., `return x, y, z` vil  returnere verdiene til 3 variable x, y, z fra en funksjon (men du kan godt gi dine variable litt mer intelligente navn)\n",
    "\n",
    " \n",
    "\n",
    "**Hint 3:** C, M, Y, K  inneholder flyttall mellom 0 og 1. Utregningene med formlene  gitt over vil dermed også gi flyttall som resultat.\n",
    "\n",
    "Du trenger imidlertid heltall 0-255 som verdier for R, G, B. Husk derfor å bruke round() eller int() på sluttresultatet av formlene før du returnerer verdier fra funksjonen."
   ],
   "metadata": {
    "deletable": false,
    "editable": false,
    "hidden": true,
    "run_control": {
     "frozen": true
    }
   }
  }
 ],
 "metadata": {
  "kernelspec": {
   "display_name": "Python 3",
   "language": "python",
   "name": "python3"
  },
  "language_info": {
   "codemirror_mode": {
    "name": "ipython",
    "version": 3
   },
   "file_extension": ".py",
   "mimetype": "text/x-python",
   "name": "python",
   "nbconvert_exporter": "python",
   "pygments_lexer": "ipython3",
   "version": "3.7.4"
  },
  "toc": {
   "base_numbering": 1,
   "nav_menu": {},
   "number_sections": false,
   "sideBar": true,
   "skip_h1_title": false,
   "title_cell": "Table of Contents",
   "title_sidebar": "Contents",
   "toc_cell": false,
   "toc_position": {},
   "toc_section_display": true,
   "toc_window_display": false
  }
 },
 "nbformat": 4,
 "nbformat_minor": 2
}