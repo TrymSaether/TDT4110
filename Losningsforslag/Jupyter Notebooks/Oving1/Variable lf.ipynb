{
 "cells": [
  {
   "cell_type": "markdown",
   "metadata": {},
   "source": [
    "a)"
   ]
  },
  {
   "cell_type": "code",
   "execution_count": 1,
   "metadata": {},
   "outputs": [
    {
     "name": "stdout",
     "output_type": "stream",
     "text": [
      "Hei, Ada\n",
      "ITGK - interessant!\n",
      "Ha en fin dag, Ada\n",
      "- og lykke til med ITGK\n"
     ]
    }
   ],
   "source": [
    "navn = 'Ada'\n",
    "favorittfag = 'ITGK'\n",
    "\n",
    "print(f'Hei, {navn}')\n",
    "print(f'{favorittfag} - interessant!')\n",
    "print(f'Ha en fin dag, {navn}')\n",
    "print(f'- og lykke til med {favorittfag}')"
   ]
  },
  {
   "cell_type": "markdown",
   "metadata": {},
   "source": [
    "b)"
   ]
  },
  {
   "cell_type": "code",
   "execution_count": 2,
   "metadata": {},
   "outputs": [
    {
     "name": "stdout",
     "output_type": "stream",
     "text": [
      "Har en sirkel med radius 5.4 som er grunnflate i en sylinder med høyde 7.9\n",
      "Omkrets av sirkelen: 33.929200658769766\n",
      "Areal av sirkelen: 91.60884177867838\n",
      "Areal av sylinderen: 451.25836876163794\n"
     ]
    }
   ],
   "source": [
    "import math\n",
    "import numpy as np\n",
    "   \n",
    "r = 5.4\n",
    "h = 7.9\n",
    "print(\"Har en sirkel med radius\", r, \"som er grunnflate i en sylinder med høyde\", h)\n",
    "omkrets = math.tau * r\n",
    "print(\"Omkrets av sirkelen:\", omkrets)  #tau er det samme som 2 pi\n",
    "areal_sirkel = np.pi * r**2\n",
    "print(\"Areal av sirkelen:\", areal_sirkel)\n",
    "areal_sylinder = omkrets * h + 2 * areal_sirkel\n",
    "print(\"Areal av sylinderen:\", areal_sylinder)"
   ]
  },
  {
   "cell_type": "markdown",
   "metadata": {},
   "source": [
    "c)"
   ]
  },
  {
   "cell_type": "code",
   "execution_count": 3,
   "metadata": {},
   "outputs": [
    {
     "name": "stdout",
     "output_type": "stream",
     "text": [
      "Per er 5 år unna idealalderen\n"
     ]
    }
   ],
   "source": [
    "fornavn = \"Per\"\n",
    "ideal_alder = 42\n",
    "kundensAlder = 37\n",
    "differanse = ideal_alder - kundensAlder\n",
    "print(fornavn, \"er\", differanse, \"år unna idealalderen\")"
   ]
  },
  {
   "cell_type": "markdown",
   "metadata": {},
   "source": [
    "d)"
   ]
  },
  {
   "cell_type": "code",
   "execution_count": 4,
   "metadata": {},
   "outputs": [
    {
     "name": "stdout",
     "output_type": "stream",
     "text": [
      "Jeg heter Bob Bernt, og er 46 år\n"
     ]
    }
   ],
   "source": [
    "navn = 'Bob Bernt'\n",
    "alder = 46\n",
    "\n",
    "print(f'Jeg heter {navn}, og er {alder} år')"
   ]
  }
 ],
 "metadata": {
  "kernelspec": {
   "display_name": "Python 3 (ipykernel)",
   "language": "python",
   "name": "python3"
  },
  "language_info": {
   "codemirror_mode": {
    "name": "ipython",
    "version": 3
   },
   "file_extension": ".py",
   "mimetype": "text/x-python",
   "name": "python",
   "nbconvert_exporter": "python",
   "pygments_lexer": "ipython3",
   "version": "3.9.10"
  }
 },
 "nbformat": 4,
 "nbformat_minor": 2
}
