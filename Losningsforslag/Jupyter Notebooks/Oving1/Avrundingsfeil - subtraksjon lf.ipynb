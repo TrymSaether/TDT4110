{
 "cells": [
  {
   "cell_type": "markdown",
   "id": "d8e68450",
   "metadata": {},
   "source": [
    "a)"
   ]
  },
  {
   "cell_type": "code",
   "execution_count": 1,
   "id": "a27abec5",
   "metadata": {},
   "outputs": [],
   "source": [
    "def a_pluss_b_ganger_a_minus_b(a, b):\n",
    "    return (a + b) * (a - b)\n",
    "\n",
    "\n",
    "def a_opphoyd_i_annen_minus_b_opphoyd_i_annen(a, b):\n",
    "    return (a ** 2 - b**2)\n",
    "    \n",
    "def avvik(a, b):\n",
    "     return a_pluss_b_ganger_a_minus_b(a, b) - a_opphoyd_i_annen_minus_b_opphoyd_i_annen(a, b)"
   ]
  },
  {
   "cell_type": "markdown",
   "id": "45cb676c",
   "metadata": {},
   "source": [
    "b)"
   ]
  },
  {
   "cell_type": "code",
   "execution_count": 2,
   "id": "474d0f14",
   "metadata": {},
   "outputs": [],
   "source": [
    "import numpy as np\n",
    "\n",
    "def areal1(a, b, c):\n",
    "    s_verdi = s(a, b, c)\n",
    "    return np.sqrt(s_verdi * (s_verdi - a) * (s_verdi - b) * (s_verdi - c))\n",
    "\n",
    "def areal2(a, b, c):\n",
    "    return np.sqrt(((a + (b + c)) * (c - (a - b)) * (c + (a -b)) * (a + (b - c))))/4"
   ]
  }
 ],
 "metadata": {
  "kernelspec": {
   "display_name": "Python 3 (ipykernel)",
   "language": "python",
   "name": "python3"
  },
  "language_info": {
   "codemirror_mode": {
    "name": "ipython",
    "version": 3
   },
   "file_extension": ".py",
   "mimetype": "text/x-python",
   "name": "python",
   "nbconvert_exporter": "python",
   "pygments_lexer": "ipython3",
   "version": "3.9.10"
  }
 },
 "nbformat": 4,
 "nbformat_minor": 5
}
