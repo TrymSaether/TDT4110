{
 "cells": [
  {
   "cell_type": "markdown",
   "metadata": {},
   "source": [
    "a)"
   ]
  },
  {
   "cell_type": "code",
   "execution_count": null,
   "metadata": {},
   "outputs": [],
   "source": [
    "a = 2\n",
    "b = 3\n",
    "c = 5*a + b\n",
    "d = a * b + c\n",
    "e = (-b + 4) / (a - 4)\n",
    "f = 5 ** (a * b + 2)\n",
    "g = (a + b) * c - d"
   ]
  },
  {
   "cell_type": "markdown",
   "metadata": {},
   "source": [
    "b)"
   ]
  },
  {
   "cell_type": "code",
   "execution_count": null,
   "metadata": {},
   "outputs": [],
   "source": [
    "import numpy as np\n",
    "\n",
    "def f(x):\n",
    "    return 2 * x + 1\n",
    "\n",
    "def g(x):\n",
    "    return (-4 * x + 2) / (5 * x + 3)\n",
    "\n",
    "def h(x):\n",
    "    return x**2 + 2*x + 1\n",
    "\n",
    "def i(x):\n",
    "    return np.sqrt(x)\n",
    "\n",
    "def j(x):\n",
    "    return np.sin(x) + np.cos(x)"
   ]
  },
  {
   "cell_type": "markdown",
   "metadata": {},
   "source": [
    "c)"
   ]
  },
  {
   "cell_type": "code",
   "execution_count": null,
   "metadata": {},
   "outputs": [],
   "source": [
    "def antall_minutt_sekund(minutter):\n",
    "    return minutter // 60\n",
    "\n",
    "def antall_dogn_timer(timer):\n",
    "    return timer // 24\n",
    "    \n",
    "def antall_timer_minutt_sekund(sek):\n",
    "    timer = sek // 3600\n",
    "    minutter = sek % 60\n",
    "    return timer, minutter"
   ]
  }
 ],
 "metadata": {
  "kernelspec": {
   "display_name": "Python 3.10.6 64-bit",
   "language": "python",
   "name": "python3"
  },
  "language_info": {
   "codemirror_mode": {
    "name": "ipython",
    "version": 3
   },
   "file_extension": ".py",
   "mimetype": "text/x-python",
   "name": "python",
   "nbconvert_exporter": "python",
   "pygments_lexer": "ipython3",
   "version": "3.10.6"
  },
  "vscode": {
   "interpreter": {
    "hash": "aee8b7b246df8f9039afb4144a1f6fd8d2ca17a180786b69acc140d282b71a49"
   }
  }
 },
 "nbformat": 4,
 "nbformat_minor": 2
}
