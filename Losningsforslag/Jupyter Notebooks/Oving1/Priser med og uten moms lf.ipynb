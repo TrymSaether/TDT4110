{
 "cells": [
  {
   "cell_type": "markdown",
   "id": "dd5b8b22",
   "metadata": {},
   "source": [
    "a)"
   ]
  },
  {
   "cell_type": "code",
   "execution_count": 1,
   "id": "e5b575cd",
   "metadata": {},
   "outputs": [],
   "source": [
    "def pris_m_valgfri_moms(pris_u_moms, moms):\n",
    "    return pris_u_moms * (1+ moms)\n",
    "\n",
    "def pris_u_moms(pris):\n",
    "    return pris / 1.25"
   ]
  },
  {
   "cell_type": "markdown",
   "id": "232a8da1",
   "metadata": {},
   "source": [
    "b)"
   ]
  },
  {
   "cell_type": "code",
   "execution_count": null,
   "id": "7ceeaa17",
   "metadata": {},
   "outputs": [],
   "source": [
    "import numpy as np\n",
    "\n",
    "priser_inkl_moms = np.array([25, 18, 42, 75, 5, 34.5])\n",
    "moms = pris_m_valgfri_moms(priser_inkl_moms, .1)\n",
    "moms_til_betaling = np.sum(moms)\n",
    "moms_til_betaling"
   ]
  }
 ],
 "metadata": {
  "kernelspec": {
   "display_name": "Python 3.9.7 ('tdt4195')",
   "language": "python",
   "name": "python3"
  },
  "language_info": {
   "codemirror_mode": {
    "name": "ipython",
    "version": 3
   },
   "file_extension": ".py",
   "mimetype": "text/x-python",
   "name": "python",
   "nbconvert_exporter": "python",
   "pygments_lexer": "ipython3",
   "version": "3.9.7"
  },
  "vscode": {
   "interpreter": {
    "hash": "63b89d9bfc14eb4486c27c9b239bf0a08c4c63a21c176f83036370f0e204c130"
   }
  }
 },
 "nbformat": 4,
 "nbformat_minor": 5
}
