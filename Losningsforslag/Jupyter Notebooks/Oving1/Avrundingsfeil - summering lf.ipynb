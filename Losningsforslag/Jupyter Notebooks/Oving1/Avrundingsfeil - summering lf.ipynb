{
 "cells": [
  {
   "cell_type": "markdown",
   "id": "30801ef4",
   "metadata": {},
   "source": [
    "b)"
   ]
  },
  {
   "cell_type": "code",
   "execution_count": 1,
   "id": "ddd558ba",
   "metadata": {},
   "outputs": [
    {
     "name": "stdout",
     "output_type": "stream",
     "text": [
      "Standard sum(): 310000000000.0024\n",
      "Numpy sum(): 310000000000.00134\n",
      "Math fsum(): 310000000000.0012\n"
     ]
    }
   ],
   "source": [
    "import numpy as np\n",
    "import math\n",
    "\n",
    "T = 3.1e11 # et stort tall\n",
    "t = 3.1e-5 # et lite tall\n",
    "\n",
    "# Liste med stort tall fremst, bruker Pythons standard sum-funksjon\n",
    "L = [T,t,t,t,t,t,t,t,t,t,t,t,t,t,t,t,t,t,t,t,t,t,t,t,t,t,t,t,t,t,t,t,t,t,t,t,t,t,t,t]\n",
    "print(f'Standard sum(): {sum(L)}')\n",
    "\n",
    "# Numpy array, stort tall fremst, np.sum() funksjon\n",
    "A = np.array(L)\n",
    "print(f'Numpy sum(): {np.sum(A)}')\n",
    "\n",
    "# math.fsum() funksjonen\n",
    "print(f'Math fsum(): {math.fsum(L)}')"
   ]
  }
 ],
 "metadata": {
  "kernelspec": {
   "display_name": "Python 3 (ipykernel)",
   "language": "python",
   "name": "python3"
  },
  "language_info": {
   "codemirror_mode": {
    "name": "ipython",
    "version": 3
   },
   "file_extension": ".py",
   "mimetype": "text/x-python",
   "name": "python",
   "nbconvert_exporter": "python",
   "pygments_lexer": "ipython3",
   "version": "3.9.10"
  }
 },
 "nbformat": 4,
 "nbformat_minor": 5
}
