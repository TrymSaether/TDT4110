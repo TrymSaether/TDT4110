{
 "cells": [
  {
   "cell_type": "markdown",
   "metadata": {},
   "source": [
    "a)"
   ]
  },
  {
   "cell_type": "code",
   "execution_count": 1,
   "metadata": {},
   "outputs": [],
   "source": [
    "import numpy as np\n",
    "\n",
    "def areal(h):\n",
    "    a = (3 / np.sqrt(6)) * h\n",
    "    return np.sqrt(3) * np.power(a, 2)"
   ]
  },
  {
   "cell_type": "markdown",
   "metadata": {},
   "source": [
    "b)"
   ]
  },
  {
   "cell_type": "code",
   "execution_count": 2,
   "metadata": {},
   "outputs": [],
   "source": [
    "import numpy as np\n",
    "\n",
    "def volum(h):\n",
    "    h = 3\n",
    "    a = 3/np.sqrt(6)*h\n",
    "    return 1/12*np.sqrt(2)*np.power(a,3)"
   ]
  },
  {
   "cell_type": "markdown",
   "metadata": {},
   "source": [
    "c)"
   ]
  },
  {
   "cell_type": "code",
   "execution_count": 3,
   "metadata": {},
   "outputs": [],
   "source": [
    "import numpy as np\n",
    "\n",
    "def areal(h):\n",
    "    a = calculate_a(h)\n",
    "    return np.sqrt(3) * np.power(a, 2)\n",
    "\n",
    "def volum(h):\n",
    "    a = calculate_a(h)\n",
    "    return 1/12*np.sqrt(2)*np.power(a,3)\n",
    "\n",
    "def calculate_a(h):\n",
    "    return (3 / np.sqrt(6)) * h"
   ]
  }
 ],
 "metadata": {
  "kernelspec": {
   "display_name": "Python 3 (ipykernel)",
   "language": "python",
   "name": "python3"
  },
  "language_info": {
   "codemirror_mode": {
    "name": "ipython",
    "version": 3
   },
   "file_extension": ".py",
   "mimetype": "text/x-python",
   "name": "python",
   "nbconvert_exporter": "python",
   "pygments_lexer": "ipython3",
   "version": "3.9.10"
  }
 },
 "nbformat": 4,
 "nbformat_minor": 2
}
