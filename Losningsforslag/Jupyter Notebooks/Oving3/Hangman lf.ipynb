{
 "cells": [
  {
   "cell_type": "code",
   "execution_count": 3,
   "metadata": {},
   "outputs": [
    {
     "name": "stdout",
     "output_type": "stream",
     "text": [
      "Angi hemmelig ordhemmelig\n",
      "Angi antall liv2\n",
      "Gjett en bokstav i ordet :h\n",
      " Stemmer, bokstaven er i ordet\n",
      "Gjett en bokstav i ordet :e\n",
      " Stemmer, bokstaven er i ordet\n",
      "Gjett en bokstav i ordet :m\n",
      " Stemmer, bokstaven er i ordet\n",
      "Gjett en bokstav i ordet :m\n",
      " Stemmer, bokstaven er i ordet\n",
      "Gjett en bokstav i ordet :e\n",
      " Stemmer, bokstaven er i ordet\n",
      "Gjett en bokstav i ordet :l\n",
      " Stemmer, bokstaven er i ordet\n",
      "Gjett en bokstav i ordet :f\n",
      "bokstaven er ikke i ordet\n",
      "Du har  1 liv igjen\n",
      "Gjett en bokstav i ordet :d\n",
      "bokstaven er ikke i ordet\n",
      "Du har  0 liv igjen\n"
     ]
    }
   ],
   "source": [
    "hemmelig_ord = input(\"Angi hemmelig ord\")\n",
    "antall_liv = int(input(\"Angi antall liv\"))\n",
    "\n",
    "def sjekk_bokstaver(hemmelig_ord, antall_liv):\n",
    "    \n",
    "    while antall_liv > 0:\n",
    "        bokstav = input(\"Gjett en bokstav i ordet :\")\n",
    "        if bokstav in hemmelig_ord:\n",
    "            print(\" Stemmer, bokstaven er i ordet\")\n",
    "        else:\n",
    "            antall_liv -= 1\n",
    "            print(\"bokstaven er ikke i ordet\")\n",
    "            print(\"Du har \", antall_liv, \"liv igjen\")\n",
    "    \n",
    "\n",
    "sjekk_bokstaver(hemmelig_ord,antall_liv)"
   ]
  },
  {
   "cell_type": "code",
   "execution_count": null,
   "metadata": {},
   "outputs": [],
   "source": []
  }
 ],
 "metadata": {
  "kernelspec": {
   "display_name": "Python 3",
   "language": "python",
   "name": "python3"
  },
  "language_info": {
   "codemirror_mode": {
    "name": "ipython",
    "version": 3
   },
   "file_extension": ".py",
   "mimetype": "text/x-python",
   "name": "python",
   "nbconvert_exporter": "python",
   "pygments_lexer": "ipython3",
   "version": "3.7.4"
  }
 },
 "nbformat": 4,
 "nbformat_minor": 2
}
