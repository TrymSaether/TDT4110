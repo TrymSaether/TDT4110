{
 "cells": [
  {
   "cell_type": "markdown",
   "metadata": {},
   "source": [
    "a)"
   ]
  },
  {
   "cell_type": "code",
   "execution_count": 21,
   "metadata": {},
   "outputs": [
    {
     "name": "stdout",
     "output_type": "stream",
     "text": [
      "34\n"
     ]
    }
   ],
   "source": [
    "def fibonacci(n):\n",
    "    \n",
    "    fib, fib_next = 0,1\n",
    "    if n==0:\n",
    "        return fib\n",
    "    elif n==1:\n",
    "        return fib_next\n",
    "    else:\n",
    "        for i in range(2,n+1):\n",
    "            fib, fib_next = fib_next , fib+fib_next   \n",
    "            \n",
    "        return fib\n",
    " \n",
    "\n",
    "##Evt med arrays\n",
    "\n",
    "def fibonacci(k):\n",
    "    array = [0,1]\n",
    "    if k == 0 or k == 1 :\n",
    "        return array[k]\n",
    "    \n",
    "    else:  \n",
    "        for i in range(2,k):\n",
    "            array.append(array[i-1] + array[i-2])\n",
    "        return array[-1]\n",
    "print(fibonacci(10)) "
   ]
  },
  {
   "cell_type": "markdown",
   "metadata": {},
   "source": [
    "b)"
   ]
  },
  {
   "cell_type": "code",
   "execution_count": 18,
   "metadata": {},
   "outputs": [],
   "source": [
    "\n",
    "def fibonacci_sum(n):\n",
    "    fib, fib_next = 0,1\n",
    "    summen = 0\n",
    "    if n==0:\n",
    "        return fib \n",
    "    elif n == 1:\n",
    "        return fib_next\n",
    "\n",
    "    else:\n",
    "        for i in range(2,n+1):\n",
    "            fib, fib_next = fib_next , fib+fib_next\n",
    "            summen += fib\n",
    "    \n",
    "    return fib, summen\n",
    "\n",
    "# Ev med arrays\n",
    "\n",
    "def fibonacci_sum(k):\n",
    "    array = [0,1]\n",
    "    if k == 0 :\n",
    "        return 0\n",
    "    elif k == 1:\n",
    "        return 1\n",
    "    else:\n",
    "        summen = 1\n",
    "        for i in range(2,k):\n",
    "            array.append(array[i-1] + array[i-2])\n",
    "            summen += array[-1]\n",
    "            \n",
    "        return array[-1], summen\n",
    "\n"
   ]
  },
  {
   "cell_type": "markdown",
   "metadata": {},
   "source": [
    "c)"
   ]
  },
  {
   "cell_type": "code",
   "execution_count": 20,
   "metadata": {},
   "outputs": [],
   "source": [
    "# ev med arrays\n",
    "def fibonacci_list(k):\n",
    "    array = [0,1]\n",
    "    if k == 0 or k == 1:\n",
    "        return array[i]\n",
    "    else:\n",
    "        for i in range(2,k):\n",
    "            array.append(array[i-1] + array[i-2])\n",
    "        return array"
   ]
  },
  {
   "cell_type": "code",
   "execution_count": null,
   "metadata": {},
   "outputs": [],
   "source": []
  }
 ],
 "metadata": {
  "kernelspec": {
   "display_name": "Python 3",
   "language": "python",
   "name": "python3"
  },
  "language_info": {
   "codemirror_mode": {
    "name": "ipython",
    "version": 3
   },
   "file_extension": ".py",
   "mimetype": "text/x-python",
   "name": "python",
   "nbconvert_exporter": "python",
   "pygments_lexer": "ipython3",
   "version": "3.7.4"
  }
 },
 "nbformat": 4,
 "nbformat_minor": 2
}
