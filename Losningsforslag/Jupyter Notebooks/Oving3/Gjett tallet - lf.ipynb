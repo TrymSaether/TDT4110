{
 "cells": [
  {
   "cell_type": "code",
   "execution_count": null,
   "metadata": {},
   "outputs": [],
   "source": [
    "import random\n",
    "a = int(input(\"Oppgi en nedre grense: \"))\n",
    "b = int(input(\"Oppgi en øvre grense: \"))\n",
    "\n",
    "def gjettelek(a,b):\n",
    "    tilfeldigTall = random.randint(a,b)\n",
    "    guess = int(input(\"Make a guess? \"))\n",
    "    while guess != tilfeldigTall:\n",
    "        if tilfeldigTall > guess:\n",
    "            print (\"The correct number is higher\")\n",
    "        else: \n",
    "            print(\"The correct number is lower\")\n",
    "        guess = int(input(\"Make a guess? \"))\n",
    "    print(\"Correct, well done! \")\n",
    "\n",
    "gjettelek(a,b)"
   ]
  }
 ],
 "metadata": {
  "kernelspec": {
   "display_name": "Python 3",
   "language": "python",
   "name": "python3"
  },
  "language_info": {
   "codemirror_mode": {
    "name": "ipython",
    "version": 3
   },
   "file_extension": ".py",
   "mimetype": "text/x-python",
   "name": "python",
   "nbconvert_exporter": "python",
   "pygments_lexer": "ipython3",
   "version": "3.7.4"
  }
 },
 "nbformat": 4,
 "nbformat_minor": 2
}
