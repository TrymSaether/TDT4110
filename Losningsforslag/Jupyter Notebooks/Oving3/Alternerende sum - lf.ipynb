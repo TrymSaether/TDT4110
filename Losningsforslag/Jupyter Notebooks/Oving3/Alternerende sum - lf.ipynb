{
 "cells": [
  {
   "cell_type": "code",
   "execution_count": 1,
   "metadata": {},
   "outputs": [
    {
     "data": {
      "text/plain": [
       "(-10, 4)"
      ]
     },
     "execution_count": 1,
     "metadata": {},
     "output_type": "execute_result"
    }
   ],
   "source": [
    "#Oppgave a\n",
    "\n",
    "def alternerende_sum(n):\n",
    "    summen = 0\n",
    "    for i in range(1, n + 1):\n",
    "        if i % 2 == 1:\n",
    "            summen += i**2\n",
    "        else:\n",
    "            summen -= i**2\n",
    "    return summen\n",
    "\n",
    " \n",
    "#oppgave b\n",
    "def alternerende_sum_2(k):\n",
    "    \n",
    "    s = 0\n",
    "    i = 1\n",
    "    while True :\n",
    "        new_s = s + ((-1)**(i+1) * i**2)      #(-1)**(i+1) gjør at alle ledd som er partall blir negative\n",
    "        if new_s > k:\n",
    "            break                             #break gjør at løkken avsluttes\n",
    "        s = new_s\n",
    "        i += 1\n",
    "    return s, i - 1\n"
   ]
  },
  {
   "cell_type": "code",
   "execution_count": null,
   "metadata": {},
   "outputs": [],
   "source": []
  }
 ],
 "metadata": {
  "celltoolbar": "Edit Metadata",
  "kernelspec": {
   "display_name": "Python 3",
   "language": "python",
   "name": "python3"
  },
  "language_info": {
   "codemirror_mode": {
    "name": "ipython",
    "version": 3
   },
   "file_extension": ".py",
   "mimetype": "text/x-python",
   "name": "python",
   "nbconvert_exporter": "python",
   "pygments_lexer": "ipython3",
   "version": "3.7.4"
  }
 },
 "nbformat": 4,
 "nbformat_minor": 2
}
