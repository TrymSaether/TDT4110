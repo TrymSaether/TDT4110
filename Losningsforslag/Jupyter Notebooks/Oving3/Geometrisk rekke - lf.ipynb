{
 "cells": [
  {
   "cell_type": "markdown",
   "metadata": {},
   "source": [
    "a)"
   ]
  },
  {
   "cell_type": "code",
   "execution_count": 2,
   "metadata": {},
   "outputs": [
    {
     "data": {
      "text/plain": [
       "1.9375"
      ]
     },
     "execution_count": 2,
     "metadata": {},
     "output_type": "execute_result"
    }
   ],
   "source": [
    "\n",
    "def geometrisk_rekke(r,n):\n",
    "    summen = 0\n",
    "    \n",
    "    for i in range(n +1):\n",
    "        summen += r**i\n",
    "    return summen\n",
    "\n",
    "geometrisk_rekke(0.5,4)"
   ]
  },
  {
   "cell_type": "markdown",
   "metadata": {},
   "source": [
    "b) og c)"
   ]
  },
  {
   "cell_type": "code",
   "execution_count": 4,
   "metadata": {},
   "outputs": [
    {
     "name": "stdout",
     "output_type": "stream",
     "text": [
      "(11, 0.0009765625)\n"
     ]
    }
   ],
   "source": [
    "\n",
    "def geometrisk_rekke_tol(tol, r):\n",
    "    limit = 1/(1-r)\n",
    "    s, i = 0, 0\n",
    "    while limit - s >= tol:\n",
    "        s += r**i\n",
    "        i += 1\n",
    "    return i, limit-s\n",
    "\n",
    "print(geometrisk_rekke_tol(0.001,0.5))\n",
    "\n"
   ]
  },
  {
   "cell_type": "code",
   "execution_count": null,
   "metadata": {},
   "outputs": [],
   "source": []
  }
 ],
 "metadata": {
  "kernelspec": {
   "display_name": "Python 3",
   "language": "python",
   "name": "python3"
  },
  "language_info": {
   "codemirror_mode": {
    "name": "ipython",
    "version": 3
   },
   "file_extension": ".py",
   "mimetype": "text/x-python",
   "name": "python",
   "nbconvert_exporter": "python",
   "pygments_lexer": "ipython3",
   "version": "3.7.4"
  }
 },
 "nbformat": 4,
 "nbformat_minor": 2
}
