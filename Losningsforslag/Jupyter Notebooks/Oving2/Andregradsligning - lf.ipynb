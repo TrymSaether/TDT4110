{
 "cells": [
  {
   "cell_type": "code",
   "execution_count": 9,
   "metadata": {},
   "outputs": [],
   "source": [
    "import math\n",
    "\n",
    "def andregradsligning(a, b, c):\n",
    "    d = b**2 - 4*a*c\n",
    "    streng = \"\" \n",
    "\n",
    "    #Kode for å få rett fortegn/unngå dobbelt fortegn i utskrift. Må ikke ha dette.\n",
    "    if b<0:\n",
    "        if c<0:\n",
    "            streng += f\"Andregradsligningen {a}x^2 - {-b}x - {-c} har\"\n",
    "        else:\n",
    "            streng += f\"Andregradsligningen {a}x^2 - {-b}x + {c} har\"\n",
    "    else:\n",
    "        if c<0:\n",
    "            streng += f\"Andregradsligningen {a}x^2 + {b}x - {-c} har\"\n",
    "        else:\n",
    "            streng += f\"Andregradsligningen {a}x^2 + {b}x + {c} har\"\n",
    "\n",
    "    if d < 0.0:\n",
    "        streng += \" to imaginære løsninger.\"\n",
    "    elif d > 0.0:\n",
    "        x1 = (-b+math.sqrt(d))/(2*a)\n",
    "        x2 = (-b-math.sqrt(d))/(2*a)\n",
    "        streng += f\" de to reelle løsningene {round(x1, 2)} og {round(x2, 2)}.\"\n",
    "    else:\n",
    "        x = -b/(2*a)\n",
    "        streng += f\" en reell dobbeltrot {round(x, 2)}.\"\n",
    " \n",
    "    return streng\n",
    "\n",
    "#Stjerne-oppgaven:\n",
    "def andregradsligning_b(a, b, c):\n",
    "    d = b**2 - 4*a*c\n",
    "    streng = \"\"\n",
    "    \n",
    "    #Kode for å få rett fortegn/unngå dobbelt fortegn i utskrift. Må ikke ha dette.\n",
    "    if b<0:\n",
    "        if c<0:\n",
    "            streng += f\"Andregradsligningen {a}x^2 - {-b}x - {-c} har\"\n",
    "        else:\n",
    "            streng += f\"Andregradsligningen {a}x^2 - {-b}x + {c} har\"\n",
    "    else:\n",
    "        if c<0:\n",
    "            streng += f\"Andregradsligningen {a}x^2 + {b}x - {-c} har\"\n",
    "        else:\n",
    "            streng += f\"Andregradsligningen {a}x^2 + {b}x + {c} har\"\n",
    "\n",
    "    if d < 0.0:\n",
    "        streng += f\" de to reelle løsningene {round(x1, 2)} og {round(x2, 2)}.\"\n",
    "    elif d > 0.0:\n",
    "        if b <= 0:\n",
    "            x1 = (-b+math.sqrt(d))/(2*a)\n",
    "            x2 = c/(a*x1)\n",
    "        else:\n",
    "            x2 = (-b-math.sqrt(d))/(2*a)\n",
    "            x1 = c/(a*x2)\n",
    "        streng += f\" de to reelle løsningene {round(x1, 2)} og {round(x2, 2)}.\"\n",
    "    else:\n",
    "        x = -b/(2*a)\n",
    "        streng += f\" en reell dobbeltrot {round(x, 2)}.\"\n",
    "    return streng\n"
   ]
  },
  {
   "cell_type": "code",
   "execution_count": null,
   "metadata": {},
   "outputs": [],
   "source": []
  }
 ],
 "metadata": {
  "kernelspec": {
   "display_name": "Python 3.10.6 64-bit",
   "language": "python",
   "name": "python3"
  },
  "language_info": {
   "codemirror_mode": {
    "name": "ipython",
    "version": 3
   },
   "file_extension": ".py",
   "mimetype": "text/x-python",
   "name": "python",
   "nbconvert_exporter": "python",
   "pygments_lexer": "ipython3",
   "version": "3.10.6"
  },
  "vscode": {
   "interpreter": {
    "hash": "aee8b7b246df8f9039afb4144a1f6fd8d2ca17a180786b69acc140d282b71a49"
   }
  }
 },
 "nbformat": 4,
 "nbformat_minor": 2
}
