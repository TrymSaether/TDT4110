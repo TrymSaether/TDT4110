{
 "cells": [
  {
   "cell_type": "code",
   "execution_count": null,
   "metadata": {},
   "outputs": [],
   "source": [
    "#oppgave a\n",
    "True: 1, 3, 5\n",
    "False: 2, 4\n",
    " \n",
    " \n",
    "#oppgave b\n",
    "\n",
    "def gyldige_tall(a, b):    \n",
    "    if ((a>70 and a<90) or (a>40 and not a>50)) and (70<b<90 or (b>40 and b<50)):\n",
    "        return \"Tallene er begge i gyldige intervall!\"\n",
    "    else:\n",
    "        return \"Minst ett av tallene er utenfor et gyldig intervall :(\"\n",
    "\"\"\"    \n",
    "eventuelt:\n",
    "if ((a>70 and a<90) or (a>40 and not a>50)) and ((70<b and b<90) or (b>40 and b<50)):\n",
    "    ...\n",
    "(Flere mulige løsninger, men minimal retting gir øverste)\n",
    "\"\"\"\n",
    "  \n",
    "#oppgave c\n",
    "...\n",
    "if p<0 or p>10:\n",
    "    ...\n",
    "    \n",
    "#oppgave d\n",
    "...\n",
    "if not elsker_pannekaker or p<0 or p>10:\n",
    "    ..."
   ]
  }
 ],
 "metadata": {
  "kernelspec": {
   "display_name": "Python 3",
   "language": "python",
   "name": "python3"
  },
  "language_info": {
   "codemirror_mode": {
    "name": "ipython",
    "version": 3
   },
   "file_extension": ".py",
   "mimetype": "text/x-python",
   "name": "python",
   "nbconvert_exporter": "python",
   "pygments_lexer": "ipython3",
   "version": "3.9.2"
  }
 },
 "nbformat": 4,
 "nbformat_minor": 2
}
