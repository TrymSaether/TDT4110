{
 "cells": [
  {
   "cell_type": "code",
   "execution_count": null,
   "metadata": {},
   "outputs": [],
   "source": [
    "#oppgave a\n",
    "a = \"druer\"\n",
    "b = \"DrUer\"\n",
    " \n",
    "print(\"Sammenligner\",a,\"og\",b)\n",
    "if a.lower() == b.lower():\n",
    "    print(\"Det er samme matvare\")\n",
    "else:\n",
    "    print(\"Dette er to forskjellige matvarer\")\n",
    " \n",
    " \n",
    "  \n",
    "#oppgave b\n",
    "navn1 = input(\"Første navn: \")\n",
    "navn2 = input(\"Andre navn: \")\n",
    " \n",
    "print(\"Under følger navnene i alfabetisk rekkefølge:\")\n",
    "if navn1 < navn2:\n",
    "    print(navn1)\n",
    "    print(navn2)\n",
    "else:\n",
    "    print(navn2)\n",
    "    print(navn1)\n",
    "  \n",
    "  \n",
    "#oppgave c\n",
    "Kodesnutt 1:\n",
    "    k er større enn b\n",
    "Kodesnutt 2:\n",
    "    Los Angeles\n",
    "    New York\n",
    "Kodesnutt 3:\n",
    "    druer"
   ]
  }
 ],
 "metadata": {
  "kernelspec": {
   "display_name": "Python 3",
   "language": "python",
   "name": "python3"
  },
  "language_info": {
   "codemirror_mode": {
    "name": "ipython",
    "version": 3
   },
   "file_extension": ".py",
   "mimetype": "text/x-python",
   "name": "python",
   "nbconvert_exporter": "python",
   "pygments_lexer": "ipython3",
   "version": "3.7.3"
  }
 },
 "nbformat": 4,
 "nbformat_minor": 2
}
