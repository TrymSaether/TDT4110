{
 "cells": [
  {
   "cell_type": "code",
   "execution_count": 1,
   "id": "statewide-stack",
   "metadata": {},
   "outputs": [],
   "source": [
    "import numpy\n",
    "import math"
   ]
  },
  {
   "cell_type": "code",
   "execution_count": 2,
   "id": "extreme-convert",
   "metadata": {},
   "outputs": [],
   "source": [
    "########### Oppgave a) ###########\n",
    "\n",
    "def f(x):\n",
    "    if x == 0:\n",
    "        return 0\n",
    "    return x**2 * math.sin(1/x)"
   ]
  },
  {
   "cell_type": "code",
   "execution_count": 7,
   "id": "systematic-indicator",
   "metadata": {},
   "outputs": [],
   "source": [
    "########### Oppgave b) ###########\n",
    "\n",
    "def hastighet(tid):\n",
    "    if tid < 10:\n",
    "        return tid * 9.8\n",
    "    return 10 * 9.8"
   ]
  },
  {
   "cell_type": "code",
   "execution_count": null,
   "id": "ultimate-idaho",
   "metadata": {},
   "outputs": [],
   "source": []
  }
 ],
 "metadata": {
  "kernelspec": {
   "display_name": "Python 3",
   "language": "python",
   "name": "python3"
  },
  "language_info": {
   "codemirror_mode": {
    "name": "ipython",
    "version": 3
   },
   "file_extension": ".py",
   "mimetype": "text/x-python",
   "name": "python",
   "nbconvert_exporter": "python",
   "pygments_lexer": "ipython3",
   "version": "3.9.2"
  }
 },
 "nbformat": 4,
 "nbformat_minor": 5
}
