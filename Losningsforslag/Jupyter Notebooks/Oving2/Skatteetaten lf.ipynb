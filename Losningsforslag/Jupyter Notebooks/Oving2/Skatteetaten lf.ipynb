{
 "cells": [
  {
   "cell_type": "code",
   "execution_count": 1,
   "metadata": {},
   "outputs": [],
   "source": [
    "#a)\n",
    "\n",
    "def skattepliktig_beløp_a(leieinntekt, prosent_utleid):\n",
    "    print('INFO: Denne funksjonen besvarer om utleie av boligen din er skattepliktig.')\n",
    "    \"\"\"Skriv koden din her\"\"\"\n",
    "    if leieinntekt > 20000 and prosent_utleid > 50:\n",
    "        beløp = leieinntekt\n",
    "    else:\n",
    "        beløp = 0\n",
    "    \n",
    "    return f\"Skattepliktig beløp er: {beløp}kr\""
   ]
  },
  {
   "cell_type": "code",
   "execution_count": 1,
   "metadata": {},
   "outputs": [],
   "source": [
    "    \n",
    "#b) \n",
    "def skattepliktig_beløp_b():\n",
    "    boligtype = input(\"Skriv inn type annen bolig (Sekundærbolig/Fritidsbolig) du har leid ut: \")\n",
    "    \n",
    "    if boligtype == \"Sekundærbolig\":\n",
    "        belop = int(input(\"Skriv inn leieinntekt for sekundærboligen: \"))\n",
    "    elif boligtype == \"Fritidsbolig\":\n",
    "        formal = input(\"Skriv inn formålet med fritidsboligen(e): \")\n",
    "        antall_boliger = int(input(\"Skriv inn antallet fritidsboliger du leier ut: \"))\n",
    "        inntekt_per = int(input(\"Skriv inn utleieinntekten pr. fritidsbolig: \"))\n",
    "        \n",
    "        if formal == \"Fritid\":\n",
    "            if inntekt_per < 10000:\n",
    "                 belop = 0\n",
    "            else:\n",
    "                skatt_per = inntekt_per - 10000\n",
    "                belop_per = int(0.85*skatt_per)\n",
    "                belop = belop_per * antall_boliger\n",
    "                \n",
    "        else:\n",
    "            belop = inntekt_per * antall_boliger\n",
    "    else:\n",
    "        print(\"Du har skrevet inn feil boligtype.\")\n",
    "    \n",
    "    return f\"Skappepliktig beløp er på: {belop}\"\n"
   ]
  },
  {
   "cell_type": "code",
   "execution_count": 2,
   "metadata": {},
   "outputs": [],
   "source": [
    "#c)\n",
    "\n",
    "#Vi lar denne være opp til studenten. Ideelt sett kombinerer vedkommende if-setningene fra ovenstående kode \n",
    "#til et stort, helhetlig skript. Første nøkkelbetingelse blir hvorvidt boligen er en primærbolig eller en \n",
    "#sekundær-/fritidsbolig. "
   ]
  },
  {
   "cell_type": "code",
   "execution_count": null,
   "metadata": {},
   "outputs": [],
   "source": []
  }
 ],
 "metadata": {
  "kernelspec": {
   "display_name": "Python 3",
   "language": "python",
   "name": "python3"
  },
  "language_info": {
   "codemirror_mode": {
    "name": "ipython",
    "version": 3
   },
   "file_extension": ".py",
   "mimetype": "text/x-python",
   "name": "python",
   "nbconvert_exporter": "python",
   "pygments_lexer": "ipython3",
   "version": "3.9.2"
  }
 },
 "nbformat": 4,
 "nbformat_minor": 2
}
