{
 "cells": [
  {
   "cell_type": "code",
   "execution_count": 1,
   "metadata": {},
   "outputs": [],
   "source": [
    "def arstid(m, d):\n",
    "    if m == 'mars':\n",
    "        if d<20:\n",
    "            return \"Vinter\"\n",
    "        else:\n",
    "            return \"Vår\"\n",
    "    elif m == 'juni':\n",
    "        if d<21:\n",
    "            return \"Vår\"\n",
    "        else:\n",
    "            return \"Sommer\"\n",
    "    elif m == 'september':\n",
    "        if d<22:\n",
    "            return \"Sommer\"\n",
    "        else:\n",
    "            return \"Høst\"\n",
    "    elif m == 'desember':\n",
    "        if d<21:\n",
    "            return \"Høst\"\n",
    "        else:\n",
    "            return \"Vinter\"\n",
    "    elif m == 'april' or m == 'mai':\n",
    "        return \"Vår\"\n",
    "    elif m == 'juli' or m == 'august':\n",
    "        return \"Sommer\"\n",
    "    elif m == 'oktober' or m == 'november':\n",
    "        return \"Høst\"\n",
    "    else:\n",
    "        return \"Vinter\"\n",
    "\n"
   ]
  },
  {
   "cell_type": "code",
   "execution_count": null,
   "metadata": {},
   "outputs": [],
   "source": []
  }
 ],
 "metadata": {
  "kernelspec": {
   "display_name": "Python 3.10.6 64-bit",
   "language": "python",
   "name": "python3"
  },
  "language_info": {
   "codemirror_mode": {
    "name": "ipython",
    "version": 3
   },
   "file_extension": ".py",
   "mimetype": "text/x-python",
   "name": "python",
   "nbconvert_exporter": "python",
   "pygments_lexer": "ipython3",
   "version": "3.10.6"
  },
  "vscode": {
   "interpreter": {
    "hash": "aee8b7b246df8f9039afb4144a1f6fd8d2ca17a180786b69acc140d282b71a49"
   }
  }
 },
 "nbformat": 4,
 "nbformat_minor": 2
}
