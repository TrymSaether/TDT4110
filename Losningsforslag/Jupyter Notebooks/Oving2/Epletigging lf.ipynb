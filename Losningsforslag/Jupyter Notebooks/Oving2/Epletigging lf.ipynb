{
 "cells": [
  {
   "cell_type": "code",
   "execution_count": 4,
   "metadata": {},
   "outputs": [],
   "source": [
    "#Oppgave a\n",
    "def test_gavmildhet_a(antall_epler, antall_gis_bort):\n",
    "    streng = \"Dette er et program for å teste din sjenerøsitet.\\n\"\n",
    "\n",
    "    if antall_epler == 0:\n",
    "        streng += \"Æsj, det sier du bare for å slippe å gi noe!\"\n",
    "        return streng\n",
    "    else:\n",
    "        streng += f\"Du er villig til å gi bort {antall_gis_bort} epler.\\n\"\n",
    "        if antall_gis_bort < antall_epler / 2:\n",
    "            streng += \"Du beholder det meste for deg selv...\\n\"\n",
    "        else:\n",
    "            streng += \"Takk, det var snilt!\\n\"\n",
    "        streng += \"Du har nå\", har - gir, \"epler igjen.\"\n",
    "        return streng\n",
    "    \n",
    "#Oppgave b\n",
    "def test_gavmildhet_b(antall_epler, antall_gis_bort):\n",
    "    streng = \"Dette er et program for å teste din sjenerøsitet.\\n\"\n",
    "\n",
    "    if antall_epler == 0:\n",
    "        streng += \"Æsj, det sier du bare for å slippe å gi noe!\"\n",
    "        return streng\n",
    "    else:\n",
    "        streng += f\"Du er villig til å gi bort {antall_gis_bort} epler.\\n\"\n",
    "        if antall_gis_bort < antall_epler / 2:\n",
    "            streng += \"Du beholder det meste for deg selv...\\n\"\n",
    "        else:\n",
    "            streng += \"Takk, det var snilt!\\n\"\n",
    "        rest = antall_epler - antall_gis_bort\n",
    "        if rest == 1:\n",
    "            tekst = \"eple\"\n",
    "        else:\n",
    "            tekst = \"epler\"\n",
    "        streng += f\"Du har nå {rest} {tekst} igjen.\"\n",
    "        return streng\n",
    "    \n",
    "#Oppgave c\n",
    "def test_gavmildhet_c(antall_epler, antall_gis_bort):\n",
    "    streng = \"Dette er et program for å teste din sjenerøsitet.\\n\"\n",
    "\n",
    "    if antall_epler == 0:\n",
    "        streng += \"Æsj, det sier du bare for å slippe å gi noe!\"\n",
    "        return streng\n",
    "    else:\n",
    "        streng += f\"Du er villig til å gi bort {antall_gis_bort} epler.\\n\"\n",
    "        if antall_gis_bort < antall_epler / 2:\n",
    "            streng += \"Du beholder det meste for deg selv...\\n\"\n",
    "        else:\n",
    "            streng += \"Takk, det var snilt!\\n\"\n",
    "        rest = antall_epler - antall_gis_bort\n",
    "        if rest >= 0:\n",
    "            if rest == 1:\n",
    "                tekst = \"eple\"\n",
    "            else:\n",
    "                tekst = \"epler\"\n",
    "            streng += f\"Du har nå {rest} {tekst} igjen.\"\n",
    "        else:\n",
    "            streng += f\"Du har nå 0 epler igjen. Gi med de {-rest} du skylder meg neste gang.\"\n",
    "        return streng"
   ]
  }
 ],
 "metadata": {
  "kernelspec": {
   "display_name": "Python 3.10.6 64-bit",
   "language": "python",
   "name": "python3"
  },
  "language_info": {
   "codemirror_mode": {
    "name": "ipython",
    "version": 3
   },
   "file_extension": ".py",
   "mimetype": "text/x-python",
   "name": "python",
   "nbconvert_exporter": "python",
   "pygments_lexer": "ipython3",
   "version": "3.10.6"
  },
  "vscode": {
   "interpreter": {
    "hash": "aee8b7b246df8f9039afb4144a1f6fd8d2ca17a180786b69acc140d282b71a49"
   }
  }
 },
 "nbformat": 4,
 "nbformat_minor": 2
}
