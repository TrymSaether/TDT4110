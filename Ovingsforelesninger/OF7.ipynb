{
 "cells": [
  {
   "cell_type": "markdown",
   "metadata": {},
   "source": [
    "# Øvingsforelesning 7"
   ]
  },
  {
   "cell_type": "markdown",
   "metadata": {},
   "source": [
    "# Sets\n",
    "\n",
    "## Forklaring av Sets\n",
    "Et **sett** er en uordnet samling av elementer som er itererbar, muterbar og ikke  har duplikate elementer. Det fungerer på mange måter likt som en liste; man kan eksempelvis også legge til elementer i sett. Et sett har ikke indekser, så man kan **ikke** aksessere elementer ved hjelp av indeks som man gjør med lister og strenger."
   ]
  },
  {
   "cell_type": "code",
   "execution_count": null,
   "metadata": {},
   "outputs": [],
   "source": [
    "mitt_sett = set([\"a\", \"b\", \"c\"])\n",
    "mitt_sett"
   ]
  },
  {
   "cell_type": "markdown",
   "metadata": {},
   "source": [
    "For å legge til et element i settet kan vi bruke `.add()`-funksjonen:"
   ]
  },
  {
   "cell_type": "code",
   "execution_count": null,
   "metadata": {},
   "outputs": [],
   "source": [
    "mitt_sett.add(\"d\")\n",
    "mitt_sett"
   ]
  },
  {
   "cell_type": "markdown",
   "metadata": {},
   "source": [
    "For å fjerne et element fra settet kan vi bruke `.discard()`-funksjonen:"
   ]
  },
  {
   "cell_type": "code",
   "execution_count": null,
   "metadata": {},
   "outputs": [],
   "source": [
    "mitt_sett.discard(\"d\")\n",
    "mitt_sett"
   ]
  },
  {
   "cell_type": "markdown",
   "metadata": {},
   "source": [
    "Dersom vi har en liste med flere forekomster men ønsker å gjøre om til å bare ha én forekomst per element kan vi gjøre om listen til et sett. Siden et sett ikke har duplikate elementer vil det kun beholde en forekomst per element."
   ]
  },
  {
   "cell_type": "code",
   "execution_count": null,
   "metadata": {},
   "outputs": [],
   "source": [
    "duplikate_elementer = [1,1,2,2,4,4,2,1,1,3,3,3]\n",
    "ingen_duplikater = set(duplikate_elementer)\n",
    "ingen_duplikater"
   ]
  },
  {
   "cell_type": "markdown",
   "metadata": {},
   "source": [
    "Hvis vi vil konvertere settet vårt til en liste kan vi gjøre følgende:"
   ]
  },
  {
   "cell_type": "code",
   "execution_count": null,
   "metadata": {},
   "outputs": [],
   "source": [
    "min_liste = list(ingen_duplikater)\n",
    "min_liste"
   ]
  },
  {
   "cell_type": "markdown",
   "metadata": {},
   "source": [
    "Nå har vi en liste uten duplikate elementer. "
   ]
  },
  {
   "cell_type": "markdown",
   "metadata": {},
   "source": [
    "## Sett-funksjoner: Nice to know\n",
    "<img src=\"Res/bilder/sett_funksjoner.jpg\" style=\"width: 700px;\">"
   ]
  },
  {
   "cell_type": "markdown",
   "metadata": {},
   "source": [
    "<br><br>"
   ]
  },
  {
   "cell_type": "markdown",
   "metadata": {},
   "source": [
    "# Dictionaries"
   ]
  },
  {
   "cell_type": "markdown",
   "metadata": {},
   "source": [
    "## Forklaring av Dictionaries"
   ]
  },
  {
   "cell_type": "markdown",
   "metadata": {},
   "source": [
    "En **dictionary** er en muterbar samling av elementer. I motsetning til lister kan *ikke* dictionaries indekseres basert på plass/tall, men indekseres basert på `keys`. På et abstrakt nivå består dictionaries av en `key`med en assosiert `value`."
   ]
  },
  {
   "cell_type": "markdown",
   "metadata": {},
   "source": [
    "Under er det definert en dictionary, `vitass_alder`, som inneholder navnene til vit.assene i ITGK som `key` med alderen til tilhøremde vit.ass som `value`:"
   ]
  },
  {
   "cell_type": "code",
   "execution_count": null,
   "metadata": {},
   "outputs": [],
   "source": [
    "vitass_alder = {\"Jostein\": 24, \"Eirik\": 23, \"Mathea\":24, \"Juni\": 24, \"Nora\":23}"
   ]
  },
  {
   "cell_type": "markdown",
   "metadata": {},
   "source": [
    "For å hente ut en `value` i en dictionary bruker vi den tilhørende `key`-en. Under henter vi ut alderen (value) til Jostein (key)"
   ]
  },
  {
   "cell_type": "code",
   "execution_count": null,
   "metadata": {},
   "outputs": [],
   "source": [
    "vitass_alder[\"Jostein\"]"
   ]
  },
  {
   "cell_type": "markdown",
   "metadata": {
    "collapsed": true
   },
   "source": [
    "Vi kan også sjekke om en `key` eksisterer i en dictionary. Merk at ved å bruke `value in dictionary`vil den automatisk sjekke keys og ikke values"
   ]
  },
  {
   "cell_type": "code",
   "execution_count": null,
   "metadata": {},
   "outputs": [],
   "source": [
    "\"Eirik\" in vitass_alder"
   ]
  },
  {
   "cell_type": "markdown",
   "metadata": {},
   "source": [
    "Hvis vi ønsker å sjekke om en `value` eksisterer i dictionarymmå vi bruke `.values()`-funksjonen som henter ut verdiene i notebooken:"
   ]
  },
  {
   "cell_type": "code",
   "execution_count": null,
   "metadata": {},
   "outputs": [],
   "source": [
    "23 in vitass_alder.values()"
   ]
  },
  {
   "cell_type": "markdown",
   "metadata": {},
   "source": [
    "På samme måte som med lister, kan vi også iterere gjennom dictionarien ved hjelp av en for-løkke:"
   ]
  },
  {
   "cell_type": "code",
   "execution_count": null,
   "metadata": {},
   "outputs": [],
   "source": [
    "for key in vitass_alder:\n",
    "    print(key, \"har alderen\", vitass_alder[key])"
   ]
  },
  {
   "cell_type": "markdown",
   "metadata": {},
   "source": [
    "## Dictionary-funksjoner: Nice to know\n",
    "<img src=\"Res/bilder/dictionary-funksjoner.jpg\" style=\"width: 700px;\">\n"
   ]
  },
  {
   "cell_type": "markdown",
   "metadata": {},
   "source": [
    "<br><br>"
   ]
  },
  {
   "cell_type": "markdown",
   "metadata": {},
   "source": [
    "# Filbehandling"
   ]
  },
  {
   "cell_type": "markdown",
   "metadata": {},
   "source": [
    "## Forklaring av filer"
   ]
  },
  {
   "cell_type": "markdown",
   "metadata": {},
   "source": [
    "En **fil** er et sted du kan lagre data eller informasjon som lagres i minnet til datamaskinen din. Når du definerer variabler i koden din lagres de i korttidsminnet, mens en fil lagres i langtidsminnet til datamaskinen. "
   ]
  },
  {
   "cell_type": "markdown",
   "metadata": {},
   "source": [
    "I kodeblokken under oppretter vi filen `min_fil.txt`. Den lagres på samme sted som notebooken ligger. `w` er modusen vi bruker, og forteller at filen er i skrivemodus."
   ]
  },
  {
   "cell_type": "code",
   "execution_count": null,
   "metadata": {},
   "outputs": [],
   "source": [
    "fil = open(\"Res/min_fil.txt\",\"w\")"
   ]
  },
  {
   "cell_type": "markdown",
   "metadata": {},
   "source": [
    "Vi kan gjøre flere ting med en fil, blant annet *skrive* til den og *lese* fra den. Under skriver vi 10 linjer til filen hvor det står `Dette er linje i` for hver linje 1-10, ved bruk av `.write()`-funksjonen."
   ]
  },
  {
   "cell_type": "code",
   "execution_count": null,
   "metadata": {},
   "outputs": [],
   "source": [
    "for i in range(1,11):\n",
    "     fil.write(\"Dette er linje \" + str(i) + \"\\n\")"
   ]
  },
  {
   "cell_type": "markdown",
   "metadata": {},
   "source": [
    "Når vi er ferdig med å utføre handlinger på en fil, **må vi huske å lukke den**. Dette er blant annet fordi at å holde filer åpne i kortiddsminnet er kostbart for datamaskinen din."
   ]
  },
  {
   "cell_type": "code",
   "execution_count": null,
   "metadata": {},
   "outputs": [],
   "source": [
    "fil.close()"
   ]
  },
  {
   "cell_type": "markdown",
   "metadata": {},
   "source": [
    "For å se om handlingen over var vellykket forsøker vi å lese fra filen ved bruk av `.read()`-funksjonen. Siden vi har lukket filen må vi åpne den på nytt. "
   ]
  },
  {
   "cell_type": "code",
   "execution_count": null,
   "metadata": {},
   "outputs": [],
   "source": [
    "fil = open(\"Res/min_fil.txt\")\n",
    "innhold = fil.read()\n",
    "innhold"
   ]
  },
  {
   "cell_type": "markdown",
   "metadata": {},
   "source": [
    "Merk at dersom vi viser innhold, så ser det ikke helt lesbart ut da characters som linjeskift ser ut som `\\n` i teksten. For å få det på et fint format, kan vi bruke `print`-funksjonen som endrer `\\n` og andre white-space-karakterer til slik vi ønsker å se dem"
   ]
  },
  {
   "cell_type": "code",
   "execution_count": null,
   "metadata": {},
   "outputs": [],
   "source": [
    "print(innhold)"
   ]
  },
  {
   "cell_type": "code",
   "execution_count": null,
   "metadata": {},
   "outputs": [],
   "source": [
    "fil.close()"
   ]
  },
  {
   "cell_type": "markdown",
   "metadata": {},
   "source": [
    "## Test deg frem med filer selv\n",
    "Kodeblokken under er lagt til for at du skal kunne leke deg litt frem med Filer selv. \n",
    "Du bør bruke `with open`-metoden for å håndtere filer, slik at du ikke trenger å huske på at filene må lukkes."
   ]
  },
  {
   "cell_type": "code",
   "execution_count": null,
   "metadata": {},
   "outputs": [],
   "source": [
    "# Skriv koden din her\n",
    "with open(\"Res/min_fil.txt\", 'r') as fil:\n",
    "    for linje in fil:\n",
    "        print(linje)\n",
    "\n",
    "# trenger ikke bruke close"
   ]
  },
  {
   "cell_type": "markdown",
   "metadata": {},
   "source": [
    "## Fil-funksjoner: Nice to know \n",
    "<img src=\"Res/bilder/fil-funksjoner.jpg\" style=\"width: 700px;\">"
   ]
  },
  {
   "cell_type": "markdown",
   "metadata": {},
   "source": [
    "<br><br><br><br>"
   ]
  },
  {
   "cell_type": "markdown",
   "metadata": {},
   "source": [
    "# Oppgaver til øvingsforelesning 7"
   ]
  },
  {
   "cell_type": "markdown",
   "metadata": {},
   "source": [
    "## Oppgave 1 - Sets"
   ]
  },
  {
   "cell_type": "markdown",
   "metadata": {},
   "source": [
    "*Du skal på butikken for moren din som har skrevet en handleliste med mange elementer. Da hun er litt glemsk hadde hun glemt at hun allerede har skrevet opp mange av elementene tidligere. Det er din oppgave å lage en funksjon som henter ut kun ett av hvert element i handlelisten til moren din*"
   ]
  },
  {
   "cell_type": "code",
   "execution_count": null,
   "metadata": {},
   "outputs": [],
   "source": [
    "handleliste = [\"Brød\", \"Melk\", \"Smør\", \"Egg\", \"Melk\", \"Brød\", \"Melk\"]"
   ]
  },
  {
   "cell_type": "markdown",
   "metadata": {},
   "source": [
    "Lag en funksjon, `unique_items` som tar inn en liste,`l`, som inneholder ut ukjent antall elementer som kan forekomme flere ganger. Din oppgave er å returnere en liste som *kun* inneholder unike elementer. Dvs. at dersom `[1, 2, 3, 2, 2]`blir sendt inn i funksjonen som `l` skal `unique_items`returnere `[1, 2, 3]`\n",
    "* Hint: bruk *set()*-funskjonen\n",
    "* Husk å konvertere settet tilbake til en liste før du returnerer"
   ]
  },
  {
   "cell_type": "code",
   "execution_count": null,
   "metadata": {},
   "outputs": [],
   "source": [
    "# Skriv koden din her\n"
   ]
  },
  {
   "cell_type": "markdown",
   "metadata": {},
   "source": [
    "## Oppgave 2 - Sets\n",
    "Lag en funksjon `random_set` som prøver ti ganger å legge til et tilfeldig heltall mellom 1 og 10 i settet\n",
    "* Hint: `my_set.add(verdi)`\n",
    "* For hvert tall du prøver å legge til, print tallet\n",
    "* Print til slutt det endelige settet og lengden av settet\n",
    "* Hint: `print(my_set, \"har lengde\", len(my_set))`"
   ]
  },
  {
   "cell_type": "code",
   "execution_count": null,
   "metadata": {},
   "outputs": [],
   "source": [
    "def random_set():\n",
    "\n",
    "    print()\n",
    "\n",
    "\n",
    "random_set()"
   ]
  },
  {
   "cell_type": "markdown",
   "metadata": {},
   "source": [
    "## Oppgave 3 - Dictionaries"
   ]
  },
  {
   "cell_type": "markdown",
   "metadata": {},
   "source": [
    "*Du har fått beskjed om å ta vare på alle prisene til elementene i handlelisten*"
   ]
  },
  {
   "cell_type": "markdown",
   "metadata": {},
   "source": [
    "a) Lag en ny dictionary `shopping_list` som inneholder følgende elementer som key med korresponderende pris som value. Print ut prisen til 'Brød' etter handlelisten er definert.\n",
    "* 'Brød': 23\n",
    "* 'Melk': 17\n",
    "* 'Egg': 39\n",
    "* 'Smør': 30"
   ]
  },
  {
   "cell_type": "code",
   "execution_count": null,
   "metadata": {},
   "outputs": [],
   "source": [
    "#din kode her"
   ]
  },
  {
   "cell_type": "code",
   "execution_count": null,
   "metadata": {},
   "outputs": [],
   "source": [
    "print(shopping_list)"
   ]
  },
  {
   "cell_type": "markdown",
   "metadata": {},
   "source": [
    "*Prisene endrer seg raskt som fy. Du har fått beskjed om å legge til funksjonalitet i programmet ditt for å oppdatere prisene i handlelisten*"
   ]
  },
  {
   "cell_type": "markdown",
   "metadata": {},
   "source": [
    "b) Lag en funksjon `update_price` som tar inn parameterne `item` og `price` og oppdaterer prisen til `item` til den nye prisen `price` i `shopping_list`"
   ]
  },
  {
   "cell_type": "code",
   "execution_count": null,
   "metadata": {},
   "outputs": [],
   "source": [
    "#din kode her"
   ]
  },
  {
   "cell_type": "code",
   "execution_count": null,
   "metadata": {},
   "outputs": [],
   "source": [
    "update_price(\"Melk\", 10)\n",
    "\n",
    "print(shopping_list)"
   ]
  },
  {
   "cell_type": "markdown",
   "metadata": {},
   "source": [
    "*Moren din vil nå ha listen pent printet ut på en handlelapp*"
   ]
  },
  {
   "cell_type": "markdown",
   "metadata": {},
   "source": [
    "c) Lag en funkjson, `print_shopping_list`, som tar inn en dictionary `dict` og itererer gjennom alle elementene i `dict` og printer ut item med korresponderende pris med `:` i mellom og `kr` på slutten.\n",
    "* Hint: Item er key i dict og prisen er value\n",
    "* Hint: en value til korresponderende key kan hentes ut ved `dict[key]`"
   ]
  },
  {
   "cell_type": "code",
   "execution_count": null,
   "metadata": {},
   "outputs": [],
   "source": [
    "#din kode her"
   ]
  },
  {
   "cell_type": "markdown",
   "metadata": {},
   "source": [
    "d) Lag en funksjon `total_price_shopping`, som tar inn to dictionaries: \n",
    "* En dictionary, `prices`. Den kan se slik ut: `{\"Brød\": 23, \"Melk\": 17, \"Kattemat\": 3}`\n",
    "* En dictionary `numer_of_items` som representerer en \"handlekurv\", og kan se slik ut: `{\"Melk\": 2, \"Egg\": 4}`. Dette betyr at det ligger to melk og 4 egg i handlekurven.\n",
    "\n",
    "Returner total pris på handlekurven, ved hjelp av de to dictionariene. \n"
   ]
  },
  {
   "cell_type": "code",
   "execution_count": null,
   "metadata": {},
   "outputs": [],
   "source": [
    "#din kode her"
   ]
  },
  {
   "cell_type": "markdown",
   "metadata": {},
   "source": [
    "## Oppgave 4 - Filbehandling"
   ]
  },
  {
   "cell_type": "markdown",
   "metadata": {},
   "source": [
    "a) Skriv en funksjon `produce_number_file` som tar inn som inputparametere: \n",
    "* `filename`: et filnavn \n",
    "* `a`: et heltall\n",
    "* `b`: et heltall\n",
    "\n",
    "Programmet skal opprette en fil med navn `filnavn` og skrive 100 tilfeldige tall mellom a og b, med linjeskift mellom, til en fil med navnet filnavn. \n",
    "* Hint: file.write(\"\\n\")\n",
    "* Hint: file.writelines(lines)"
   ]
  },
  {
   "cell_type": "code",
   "execution_count": null,
   "metadata": {},
   "outputs": [],
   "source": [
    "#din kode her"
   ]
  },
  {
   "cell_type": "markdown",
   "metadata": {},
   "source": [
    "b) Skriv en funksjon `append_to_file` som tar inn som inputparametere\n",
    "* `filename`: et filnavn til en eksisterende fil\n",
    "* `a`: et tall\n",
    "* `b`: et tall\n",
    "\n",
    "Programmet skal appende/legge til 20 nye tilfeldige tall i en fil, ett tall på hver linje"
   ]
  },
  {
   "cell_type": "code",
   "execution_count": null,
   "metadata": {},
   "outputs": [],
   "source": [
    "#din kode her"
   ]
  },
  {
   "cell_type": "markdown",
   "metadata": {},
   "source": [
    "c) Skriv en funksjon, `from_file_to_list` som tar inn en fil med ett tall på hver linje, og putter alle tallene i en liste Listen med tall skal returneres. Funksjonen skal ta inn `filename` som er navnet på filen du skal lese fra. Test så programmet på `numbers.txt` filen.\n",
    "\n",
    "\n",
    "Det du ønsker å gjøre:\n",
    "* Åpne filen du skal lese fra\n",
    "* For hver linje i filen:  for linje in file.readlines():\n",
    "    * Preprosesser (Fjern linjeskift ect) linje.strip()\n",
    "    * Legge det i en liste eller annen datastruktur\n"
   ]
  },
  {
   "cell_type": "code",
   "execution_count": null,
   "metadata": {},
   "outputs": [],
   "source": [
    "#din kode her"
   ]
  },
  {
   "cell_type": "code",
   "execution_count": null,
   "metadata": {},
   "outputs": [],
   "source": [
    "liste = from_file_to_list(\"Res/numbers.txt\")\n",
    "print(liste)"
   ]
  },
  {
   "cell_type": "markdown",
   "metadata": {},
   "source": [
    "d) Skriv en funksjon, `from_file_to_list2`, som tar inn en fil med fem tall på hver linje, separert med mellomrom. Funksjonen skal returnere en liste med alle tallene i filen. Prøv ut funksjonen på `morenumbers.txt`."
   ]
  },
  {
   "cell_type": "code",
   "execution_count": null,
   "metadata": {},
   "outputs": [],
   "source": [
    "#din kode her"
   ]
  },
  {
   "cell_type": "code",
   "execution_count": null,
   "metadata": {},
   "outputs": [],
   "source": [
    "liste = from_file_to_list2(\"Res/morenumbers.txt\")\n",
    "print(liste)"
   ]
  },
  {
   "cell_type": "markdown",
   "metadata": {},
   "source": [
    "e) Lag en funksjon main som spør brukeren om å gi inn filnavnet på filen det skal leses fra. Dersom filen eksisterer skal programmet printe ut første linje i filen, hvis ikke filen eksisterer skal programmet printe ut en passende feilmelding og spørre på nytt. Dersom brukeren skriver inn \"exit\" skal programmet hoppe ut."
   ]
  },
  {
   "cell_type": "code",
   "execution_count": null,
   "metadata": {},
   "outputs": [],
   "source": [
    "#din kode her"
   ]
  },
  {
   "cell_type": "markdown",
   "metadata": {},
   "source": [
    "## Eksamensoppgaver\n",
    "\n",
    "### Høst 2017 oppgave 3a\n",
    "\n",
    "<img src=\"Res/bilder/eksamensoppgave1.PNG\" style=\"width: 700px;\">\n",
    "<img src=\"Res/bilder/eksamensoppgave2.PNG\" style=\"width: 700px;\">\n"
   ]
  },
  {
   "cell_type": "code",
   "execution_count": null,
   "metadata": {},
   "outputs": [],
   "source": [
    "# sjekk ut box_a.txt og box_b.txt\n",
    "\n",
    "#din kode her\n"
   ]
  },
  {
   "cell_type": "code",
   "execution_count": null,
   "metadata": {},
   "outputs": [],
   "source": [
    "table = file_to_table(\"Res/box_a.txt\")\n",
    "print(table)"
   ]
  },
  {
   "cell_type": "markdown",
   "metadata": {},
   "source": [
    "### Høst 2016 oppgave 4\n",
    "\n",
    "<img src=\"Res/bilder/eksamen3.PNG\" style=\"width: 700px\">\n",
    "\n",
    "<img src=\"Res/bilder/eksamen4.PNG\" style=\"width: 700px\">"
   ]
  },
  {
   "cell_type": "code",
   "execution_count": null,
   "metadata": {},
   "outputs": [],
   "source": [
    "D = {1: 'one', 2: 'two', 3: 'three', 4: 'four', 5: 'five',\n",
    "6: 'six', 7: 'seven', 8: 'eight', 9: 'nine', 10: 'ten',\n",
    "11: 'eleven', 12: 'twelve', 13: 'thirteen', 14: 'fourteen',\n",
    "15: 'fifteen', 16: 'sixteen', 17: 'seventeen',\n",
    "18: 'eighteen', 19: 'nineteen', 20: 'twenty', 30: 'thirty',\n",
    "40: 'forty', 50: 'fifty', 60: 'sixty', 70: 'seventy',\n",
    "80: 'eighty', 90: 'ninety'}\n",
    "L = [ 1000000, ' million', 1000, ' thousand', 1, '']"
   ]
  },
  {
   "cell_type": "code",
   "execution_count": null,
   "metadata": {},
   "outputs": [],
   "source": [
    "def i2_txt(n):\n",
    "  \n",
    "    return \"\""
   ]
  },
  {
   "cell_type": "code",
   "execution_count": null,
   "metadata": {},
   "outputs": [],
   "source": [
    "i2_txt(71)"
   ]
  },
  {
   "cell_type": "markdown",
   "metadata": {},
   "source": [
    "<img src=\"Res/bilder/eksamen5.PNG\" style=\"width: 700px\">"
   ]
  },
  {
   "cell_type": "code",
   "execution_count": null,
   "metadata": {},
   "outputs": [],
   "source": [
    "#din kode her\n",
    "def i3_txt(n):\n",
    "  \n",
    "    return \"\""
   ]
  },
  {
   "cell_type": "code",
   "execution_count": null,
   "metadata": {},
   "outputs": [],
   "source": [
    "i3_txt(971)"
   ]
  },
  {
   "cell_type": "markdown",
   "metadata": {},
   "source": [
    "<img src=\"Res/bilder/eksamen6.PNG\" style=\"width: 700px\">"
   ]
  },
  {
   "cell_type": "code",
   "execution_count": null,
   "metadata": {},
   "outputs": [],
   "source": [
    "#din kode her\n",
    "def i4_txt(n):\n",
    "  \n",
    "    return \"\""
   ]
  },
  {
   "cell_type": "code",
   "execution_count": null,
   "metadata": {},
   "outputs": [],
   "source": [
    "i4_txt(9511971)"
   ]
  },
  {
   "cell_type": "markdown",
   "metadata": {},
   "source": [
    "<img src=\"Res/bilder/eksamen7.PNG\" style=\"width: 700px\">"
   ]
  },
  {
   "cell_type": "code",
   "execution_count": null,
   "metadata": {},
   "outputs": [],
   "source": [
    "#din kode her\n",
    "def add_words(tekst):\n",
    "  \n",
    "    return "
   ]
  },
  {
   "cell_type": "code",
   "execution_count": null,
   "metadata": {},
   "outputs": [],
   "source": [
    "\n",
    "add_words(\"Mr. X shall pay 9005100 dollars\")"
   ]
  }
 ],
 "metadata": {
  "kernelspec": {
   "display_name": "Python 3.9.7 ('tdt4195')",
   "language": "python",
   "name": "python3"
  },
  "language_info": {
   "codemirror_mode": {
    "name": "ipython",
    "version": 3
   },
   "file_extension": ".py",
   "mimetype": "text/x-python",
   "name": "python",
   "nbconvert_exporter": "python",
   "pygments_lexer": "ipython3",
   "version": "3.9.7"
  },
  "vscode": {
   "interpreter": {
    "hash": "63b89d9bfc14eb4486c27c9b239bf0a08c4c63a21c176f83036370f0e204c130"
   }
  }
 },
 "nbformat": 4,
 "nbformat_minor": 2
}
