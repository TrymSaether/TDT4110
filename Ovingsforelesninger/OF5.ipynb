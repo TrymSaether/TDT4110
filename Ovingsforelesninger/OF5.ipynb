{
 "cells": [
  {
   "cell_type": "markdown",
   "metadata": {},
   "source": [
    "# Øvingsforelesning 5"
   ]
  },
  {
   "cell_type": "markdown",
   "metadata": {},
   "source": [
    "## Repetisjonsoppgave\n",
    "\n",
    "### a)\n",
    "\n",
    "Husker du primtallsfunksjonen vi lagde i forrige uke? Da sjekket vi alle tall opp til x, men egentlig trenger vi bare å sjekke opp til kvadratroten av x. \n",
    "\n",
    "**Lag en funksjon er_primtall som sjekker alle tall fra 2 opp til takfunksjonen av kvadratroten til x.**\n",
    "\n",
    "Hint:\n",
    "- Bruk oppgaven fra forrige ØF\n",
    "- math.ceil\n",
    "- math.sqrt\n"
   ]
  },
  {
   "cell_type": "code",
   "execution_count": null,
   "metadata": {},
   "outputs": [],
   "source": [
    "# Skriv kode her"
   ]
  },
  {
   "cell_type": "markdown",
   "metadata": {},
   "source": [
    "Noen funksjoner fra tidligere ØF:"
   ]
  },
  {
   "cell_type": "code",
   "execution_count": null,
   "metadata": {},
   "outputs": [],
   "source": [
    "def finn_heltall(): # Spør brukeren om et heltall, spør på nytt om det ikke er et heltall\n",
    "    \n",
    "    inn = input(\"Skriv inn et tall: \")\n",
    "    \n",
    "    while not inn.isnumeric():\n",
    "        print(\"Det var ikke et tall\")\n",
    "        inn = input(\"Skriv inn et tall: \")\n",
    "               \n",
    "    return int(inn)\n",
    "\n",
    "def is_prime(x): # Sjekker om et tall er et primtall\n",
    "    \n",
    "    prim = True\n",
    "    \n",
    "    for i in range(2,x):\n",
    "        if x % i == 0:\n",
    "            prim = False\n",
    "    \n",
    "    return prim\n",
    "\n",
    "def er_partall(x): # Sjekker om et tall er partall\n",
    "    \n",
    "    return x % 2 == 0\n",
    "\n",
    "def fakultet(n):\n",
    "    result = 1\n",
    "    \n",
    "    for i in range(n,1, -1):\n",
    "        result *= i\n",
    "    return result\n"
   ]
  },
  {
   "cell_type": "markdown",
   "metadata": {},
   "source": [
    "### b)\n",
    "\n",
    "La oss prøve å kombinere det vi har lært. \n",
    "\n",
    "Lag en funksjon **main()** som spør brukeren om å gi inn et tall.\n",
    "\n",
    "Dersom brukeren ikke gir inn et tall skal programmet fortsette og spørre om et tall.\n",
    "\n",
    "Dersom brukeren gir inn et tall skal programmet sjekke om tallet er et primtall, og printe ut en passende melding om det er det. \n",
    "\n",
    "Dersom det ikke er et primtall, skal programmet sjekke om det er et partall og printe ut en passende melding om det er det. \n",
    "\n",
    "Dersom det ikke er et partall skal programmet til slutt printe ut fakultet av et tilfeldig tall mellom en og ti.\n",
    "\n",
    "\n",
    "Hint: bruk funksjonene vi har laget\n"
   ]
  },
  {
   "cell_type": "code",
   "execution_count": null,
   "metadata": {},
   "outputs": [],
   "source": [
    "def main():\n",
    "    # Skriv kode her\n",
    "\n",
    "    \n",
    "    return"
   ]
  },
  {
   "cell_type": "code",
   "execution_count": null,
   "metadata": {},
   "outputs": [],
   "source": [
    "main() # Kaller på main-funksjonen for å kjøre programmet"
   ]
  },
  {
   "cell_type": "markdown",
   "metadata": {},
   "source": [
    "## Forklaring av lister\n",
    "**Lister** er en datatype som inneholder *elementer* som kan ha ulike datatyper. Det er altså en måte å samle flere ting i samme variabel. En liste lages ved å legge elementer inn i et par med firkantparanteser `[]`. Dette kan også tilegnes en variabel. For eksempel kan jeg opprette en liste `min_liste` med partall mellom 2 og 10:   \n"
   ]
  },
  {
   "cell_type": "code",
   "execution_count": null,
   "metadata": {
    "collapsed": true
   },
   "outputs": [],
   "source": [
    "min_liste = [2,4,6,8,10]"
   ]
  },
  {
   "cell_type": "markdown",
   "metadata": {},
   "source": [
    "For å aksessere elementene i listen under kan vi benytte indeksering. Indeksen forteller hvilken \"plass\" vi er på i listen. Den første indeksen i listen er 0 og den siste er *antall elementer - 1*. Det vil si at det første elementet i `min_liste`, 2,  kan hentes ut slik:"
   ]
  },
  {
   "cell_type": "code",
   "execution_count": null,
   "metadata": {},
   "outputs": [],
   "source": [
    "min_liste[0]"
   ]
  },
  {
   "cell_type": "markdown",
   "metadata": {},
   "source": [
    "og det siste elementet i listen kan hentes ut slik:"
   ]
  },
  {
   "cell_type": "code",
   "execution_count": null,
   "metadata": {},
   "outputs": [],
   "source": [
    "min_liste[4] # Hvor 4 er lengden til listen minus 1 "
   ]
  },
  {
   "cell_type": "markdown",
   "metadata": {},
   "source": [
    "Man kan legge elementer til i en liste med `append()` slik som dette:"
   ]
  },
  {
   "cell_type": "code",
   "execution_count": null,
   "metadata": {},
   "outputs": [],
   "source": [
    "min_liste.append(12) # Legger til 12 på slutten av listen\n",
    "print(min_liste)"
   ]
  },
  {
   "cell_type": "markdown",
   "metadata": {},
   "source": [
    "## Test deg frem med lister selv\n",
    "Kodeblokken under er lagt til for at du skal kunne leke deg litt frem med lister selv. Gjerne kombiner det med konsepter du har lært tidligere som if-setninger, løkker og funksjoner. Hvis du trenger litt hjelp til å begynne kan du titte i tabellene under som viser hvordan vi kan jobbe med lister i Python."
   ]
  },
  {
   "cell_type": "code",
   "execution_count": null,
   "metadata": {},
   "outputs": [],
   "source": [
    "handle_liste = [\"Brød\", \"Melk\", \"Smør\", \"Brus\"]\n",
    "print(handle_liste)"
   ]
  },
  {
   "cell_type": "markdown",
   "metadata": {},
   "source": [
    "## Innebygde liste-funksjoner: Nice to know\n",
    "<img src=\"../Resources/Images/liste-funksjoner.jpg\" style=\"width: 600px;\">"
   ]
  },
  {
   "cell_type": "markdown",
   "metadata": {},
   "source": [
    "# Oppgaver til øvingsforelesning 5"
   ]
  },
  {
   "cell_type": "markdown",
   "metadata": {},
   "source": [
    "## Oppgave 1\n",
    "\n",
    "a) Opprett en liste med tall fra 0 til 5\n",
    "\n",
    "b) Opprett en liste med karakterene i ordet “Jeg bor på Gløshaugen”\n",
    "\n",
    "c) Opprett en liste med annethvert tall fra 0 til 50\n",
    "\n",
    "d) Opprett en liste med annenhver ```True``` og ```False``` med lengde 20\n"
   ]
  },
  {
   "cell_type": "code",
   "execution_count": null,
   "metadata": {},
   "outputs": [],
   "source": [
    "#din kode her"
   ]
  },
  {
   "cell_type": "markdown",
   "metadata": {},
   "source": [
    "## Oppgave 2\n",
    "\n",
    "### Velg en en av listene du lagde i oppgave 1 og bruk den i denne oppgaven:\n",
    "\n",
    "**a)** Hent ut elementet på indeks 4 og skriv det til bruker med print().\n",
    "\n",
    "**b)** Endre det siste elementet i listen til 0.\n",
    "\n",
    "**c)** Lag en funksjon ```printNumberInList(i, lst)``` som tar inn et heltall ```i``` og en liste ```lst```. Funksjonen skal printe element på indeks ```i``` fra ```lst``` på formatet under:\n",
    "\n",
    "### Eksempel på kjøring:\n",
    "<img src=\"../Resources/Images/oppg.png\" style=\"width: 400px;\">"
   ]
  },
  {
   "cell_type": "code",
   "execution_count": null,
   "metadata": {},
   "outputs": [],
   "source": [
    "#din kode her"
   ]
  },
  {
   "cell_type": "code",
   "execution_count": null,
   "metadata": {},
   "outputs": [],
   "source": [
    "def printNumberInList(i, lst):\n",
    "    # Din kode her\n",
    "    print(\"\")"
   ]
  },
  {
   "cell_type": "markdown",
   "metadata": {},
   "source": [
    "## Oppgave 3\n",
    "\n",
    "**a)** Lag en funksjon som tar inn en liste og returnerer første halvdelen av listen\n",
    "\n",
    "**b)** Lag en funksjon som tar inn en liste og som kopierer alt utenom det første og siste elementet i en ny liste, og returnerer den nye listen.\n",
    "\n",
    "**Tips:**\n",
    "- Bruk slicing!\n",
    "- Her må vi vite hvor lang listen er - ```len()``` fungerer også på lister, og returnerer antall elementer i liste"
   ]
  },
  {
   "cell_type": "code",
   "execution_count": null,
   "metadata": {},
   "outputs": [],
   "source": [
    "# Oppgave a)\n",
    "# Skriv kode her\n"
   ]
  },
  {
   "cell_type": "code",
   "execution_count": null,
   "metadata": {},
   "outputs": [],
   "source": [
    "# Oppgave b)\n",
    "# Skriv kode her\n",
    "\n"
   ]
  },
  {
   "cell_type": "markdown",
   "metadata": {},
   "source": [
    "## Oppgave 4\n",
    "\n",
    "I denne oppgaven skal vi lage en forenklet versjon av yatzy"
   ]
  },
  {
   "cell_type": "markdown",
   "metadata": {},
   "source": [
    "*Først trenger vi en funksjon som triller 5 terninger for oss.*\n",
    "\n",
    "**a)** Lag en funksjon, `roll_dice()`,  som lager en liste som inneholder 5 elementer der hvert element har en tilfeldig tall-verdi mellom 1 og 6.\n",
    "- Hint: ```random.randint()```\n",
    "- Valgfritt: Generer listen med numpy i stedet (Kan gjøres på 1 linje kode)"
   ]
  },
  {
   "cell_type": "code",
   "execution_count": null,
   "metadata": {},
   "outputs": [],
   "source": [
    "import numpy as np\n",
    "import random\n",
    "#din kode her\n"
   ]
  },
  {
   "cell_type": "markdown",
   "metadata": {},
   "source": [
    "*Videre trenger vi en funksjon for å telle antall forekomster av en gitt verdi, f.eks. enere og toere*\n",
    "\n",
    "**b)** Lag en funksjon som tar inn listen med tall og et heltall mellom 1 og 6, og returnerer antallet terninger som har den heltallsverdien \n",
    "\n",
    "- Valgfritt (numpy løsning): Bruke [np.count_nonzero](https://numpy.org/doc/stable/reference/generated/numpy.count_nonzero.html)\n"
   ]
  },
  {
   "cell_type": "code",
   "execution_count": null,
   "metadata": {},
   "outputs": [],
   "source": [
    "#din kode her\n"
   ]
  },
  {
   "cell_type": "markdown",
   "metadata": {},
   "source": [
    "**c)** Til slutt vil vi kunne spille hele den første delen av et Yatzy-spill\n",
    "\n",
    "Lag en funksjon som kaster terningene seks ganger, og gir poeng for antall enere i det første kastet, toere i det andre, osv. \n",
    "- Print poeng for hvert kast\n",
    "- Returner summen"
   ]
  },
  {
   "cell_type": "code",
   "execution_count": null,
   "metadata": {},
   "outputs": [],
   "source": [
    "def yatzy():\n",
    "    #din kode her\n",
    "    return"
   ]
  },
  {
   "cell_type": "code",
   "execution_count": null,
   "metadata": {},
   "outputs": [],
   "source": [
    "yatzy() # Spille Yatzy"
   ]
  },
  {
   "cell_type": "markdown",
   "metadata": {},
   "source": [
    "## Oppgave 5"
   ]
  },
  {
   "cell_type": "markdown",
   "metadata": {},
   "source": [
    "### a) \n",
    "Lag en funksjon ```zeroMatrix(dim)``` som tar inn et heltall ```dim``` og som oppretter en kvadratisk tabell (2D-liste) med antall rader og kolonner lik ```dim```. \n",
    "\n",
    "Tabellen skal kun inneholde 0 i alle elementer, og funksjonen skal returnere tabellen.\n",
    "\n",
    "(Denne oppgaven kan løses på veldig mange ulike måter, blant annet med numpy)\n",
    "\n",
    "<img src=\"../Resources/Images/zeroMatrix.png\" style=\"width: 200px;\">"
   ]
  },
  {
   "cell_type": "code",
   "execution_count": null,
   "metadata": {},
   "outputs": [],
   "source": [
    "#din kode her\n"
   ]
  },
  {
   "cell_type": "markdown",
   "metadata": {},
   "source": [
    "### b)\n",
    "Lag en funksjon ```identityMatrix(dim)``` som, slik som i **a)**, skal returnere en kvadratisk tabell med dimensjon ```dim``` der alle elementer er 0, bortsett fra at elementer på diagonalen skal være 1. \n",
    "\n",
    "<img src=\"../Resources/Images/identity.png\" style=\"width: 300px;\">"
   ]
  },
  {
   "cell_type": "code",
   "execution_count": null,
   "metadata": {},
   "outputs": [],
   "source": [
    "#din kode her\n",
    "\n"
   ]
  },
  {
   "cell_type": "markdown",
   "metadata": {},
   "source": [
    "## Numpy arrays\n",
    "Her kommer en liten samling eksempler som dekker det meste av vanlig numpy-bruk"
   ]
  },
  {
   "cell_type": "code",
   "execution_count": null,
   "metadata": {},
   "outputs": [],
   "source": [
    "numpy_liste = np.array([0,1,2,3])\n",
    "vanlig_liste = [0,1,2,3]\n",
    "\n",
    "\n",
    "\n",
    "print(numpy_liste + 2 )\n",
    "# print(vanlig_liste + 2) # Denne gir feilmelding\n",
    "print(numpy_liste * 2 )\n",
    "print(vanlig_liste * 2)\n",
    "print(numpy_liste / 2 )\n",
    "# print(vanlig_liste / 2) # Denne gir feilmelding\n",
    "print(numpy_liste - 2 )\n",
    "# print(vanlig_liste - 2) # Denne gir feilmelding\n"
   ]
  },
  {
   "cell_type": "markdown",
   "metadata": {},
   "source": [
    "Noen eksempler på arange, reshape og transpose"
   ]
  },
  {
   "cell_type": "code",
   "execution_count": null,
   "metadata": {},
   "outputs": [],
   "source": [
    "a = np.arange(9)\n",
    "print(\"Original:\\n\", a)\n",
    "\n",
    "b = a.reshape(3,3) # Lager en ny array b som konverterer fra 1x9 til 3x3 (dimensjonene må \"gå opp\" for at dette skal fungere)\n",
    "print(\"Reshaped:\\n\", b)\n",
    "\n",
    "c = b.T # Forkortelse for b.transpose()\n",
    "print(\"Transposed:\\n\", c)"
   ]
  },
  {
   "cell_type": "markdown",
   "metadata": {},
   "source": [
    "Slicing for å hente ut rader og kolonner fra 2D-arrays (kan også gjøres i N dimensjoner)"
   ]
  },
  {
   "cell_type": "code",
   "execution_count": null,
   "metadata": {},
   "outputs": [],
   "source": [
    "first_column = b[:,0] # Henter ut første kolonne i b\n",
    "print(\"First column:\\n\", first_column)\n",
    "\n",
    "first_row = b[0,:] # Henter ut første rad i b\n",
    "print(\"First row:\\n\", first_row)"
   ]
  },
  {
   "cell_type": "markdown",
   "metadata": {},
   "source": [
    "Matrisemultiplikasjon i Numpy"
   ]
  },
  {
   "cell_type": "code",
   "execution_count": null,
   "metadata": {},
   "outputs": [],
   "source": [
    "a = np.ones((3,3)) # Lager en 3x3 matrise med 1-ere\n",
    "\n",
    "b = np.array([[1,2,3],[4,5,6],[7,8,9]]) # Lager en 3x3 matrise\n",
    "\n",
    "c = a * b # Multipliserer a med b\n",
    "\n",
    "d = a @ b # Matrisemultipliserer a med b\n",
    "print(a)\n",
    "print(c)\n",
    "print(d)\n",
    "\n"
   ]
  },
  {
   "cell_type": "markdown",
   "metadata": {},
   "source": [
    "Typecasting"
   ]
  },
  {
   "cell_type": "code",
   "execution_count": null,
   "metadata": {},
   "outputs": [],
   "source": [
    "a = np.identity(3) # Lager en 3x3 identitetsmatrise\n",
    "print(a)\n",
    "print(a.dtype)\n",
    "\n",
    "b = a.astype(bool) # Konverterer a til en boolsk matrise, lagrer i variabel b (a blir ikke forandret)\n",
    "print(b)"
   ]
  }
 ],
 "metadata": {
  "kernelspec": {
   "display_name": "Python 3.9.7 ('tdt4195')",
   "language": "python",
   "name": "python3"
  },
  "language_info": {
   "codemirror_mode": {
    "name": "ipython",
    "version": 3
   },
   "file_extension": ".py",
   "mimetype": "text/x-python",
   "name": "python",
   "nbconvert_exporter": "python",
   "pygments_lexer": "ipython3",
   "version": "3.9.7"
  },
  "vscode": {
   "interpreter": {
    "hash": "63b89d9bfc14eb4486c27c9b239bf0a08c4c63a21c176f83036370f0e204c130"
   }
  }
 },
 "nbformat": 4,
 "nbformat_minor": 2
}
