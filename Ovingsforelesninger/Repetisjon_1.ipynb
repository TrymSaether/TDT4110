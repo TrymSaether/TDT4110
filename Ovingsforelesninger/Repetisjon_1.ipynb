{
 "cells": [
  {
   "cell_type": "markdown",
   "metadata": {},
   "source": [
    "# Øvingsforelesning - Repetisjon 1"
   ]
  },
  {
   "cell_type": "markdown",
   "metadata": {},
   "source": [
    "## Oppgave 1 - Regne ut Areal og Volum\n",
    "\n",
    "Vi ønsker å regne ut både overflateaeralet og volumet av en boks (se bildet).\n",
    "- Ta inn verdier for lengde, bredde og høyde gjennom å spørre brukeren med input()-funksjonen. \n",
    "\n",
    "\n",
    "- Print ut “Volumet er {volum}, og arealet er {areal}\"\n",
    "\n",
    "<img src=\"../Resources/Images/prisme.png\" style=\"width: 500px;\">\n",
    "\n",
    "### Ekstraoppgave\n",
    "\n",
    "Anta at boksen lages av papp, og at vi har 1000 m^2 med papp (anta at brukeren skriver inn målene i meter). Print ut hvor mange bokser vi maksimalt kan lage, og hvor mange m^2 med papp som blir til overs. \n",
    "(Hint: modulo) "
   ]
  },
  {
   "cell_type": "code",
   "execution_count": null,
   "metadata": {},
   "outputs": [],
   "source": [
    "# Skriv koden din her"
   ]
  },
  {
   "cell_type": "markdown",
   "metadata": {},
   "source": [
    "## Oppgave 2 - Sekunder til tid\n",
    "\n",
    "- La brukeren skrive inn et antall sekunder s.\n",
    "\n",
    "- Dette skal konverteres til formatet t:m:s, og printes ut. Her står t for time, m for minutt og s for sekunder. Hvis tiden er mindre enn 1 time skal du printe 'm:s'. Ellers skal du printe 't:m:s'.\n",
    "\n",
    "Eks. på riktig output: '0:45','2:23', '12:04','1:02:09' etc.\n",
    "\n",
    "Legg merke til at hvis antall sekunder (og minutter hvis det er over en time) er mindre enn 10 skal det det skrives en 0 først.\n"
   ]
  },
  {
   "cell_type": "code",
   "execution_count": null,
   "metadata": {},
   "outputs": [],
   "source": [
    "# Skriv koden din her"
   ]
  },
  {
   "cell_type": "markdown",
   "metadata": {},
   "source": [
    "### Eksempler på for-løkker"
   ]
  },
  {
   "cell_type": "code",
   "execution_count": null,
   "metadata": {},
   "outputs": [],
   "source": [
    "# for i in range (antall)\n",
    "for i in range(5):\n",
    "\tprint(\"Hello\") \n",
    "# Printer Hello 5 ganger"
   ]
  },
  {
   "cell_type": "code",
   "execution_count": null,
   "metadata": {},
   "outputs": [],
   "source": [
    "# for i in range (start, slutt)\n",
    "for j in range(5, 10):\n",
    "\tprint(j) \n",
    "# Printer tallene fra 5 til 9. \n",
    "# Start er inkludert, slutt er ekskludert "
   ]
  },
  {
   "cell_type": "code",
   "execution_count": null,
   "metadata": {},
   "outputs": [],
   "source": [
    "# for i in range (start, slutt, skrittlengde)\n",
    "for k in range(0, 20, 2):\n",
    "\tprint(k) \n",
    "# Printer alle partall fra 0 til 19 "
   ]
  },
  {
   "cell_type": "markdown",
   "metadata": {},
   "source": [
    "### Eksempler på while-løkker"
   ]
  },
  {
   "cell_type": "code",
   "execution_count": null,
   "metadata": {},
   "outputs": [],
   "source": [
    "i = 0\n",
    "while i < 5:\n",
    "\tprint(\"Hello\")\n",
    "\ti += 1\n",
    "# Printer Hello 5 ganger"
   ]
  },
  {
   "cell_type": "code",
   "execution_count": null,
   "metadata": {},
   "outputs": [],
   "source": [
    "i = 5\n",
    "while i < 10:\n",
    "\tprint(i)\n",
    "\ti += 1\n",
    "# Printer tallene fra 5 til 9"
   ]
  },
  {
   "cell_type": "markdown",
   "metadata": {},
   "source": [
    "## Oppgave 3\n",
    "\n",
    "Lag et program som printer 10 tilfeldige tall \n",
    "\n",
    "hint: random.randint(min, max)\n",
    "\n",
    "**Ekstraoppgave:**\n",
    "* Modifiser programmet til å printe ut hvor mange oddetall som ble laget til slutt"
   ]
  },
  {
   "cell_type": "code",
   "execution_count": null,
   "metadata": {},
   "outputs": [],
   "source": [
    "import random\n",
    "# Skriv koden din her"
   ]
  },
  {
   "cell_type": "markdown",
   "metadata": {},
   "source": [
    "## Oppgave 4\n",
    "\n",
    "- Du skal ha Multiple Choice eksamen med 10 spørsmål, og lurer på om du klarer å gjette deg til å stå!\n",
    "\n",
    "- Lag et program som 10 ganger gir deg sjansen til å gjette på et tall mellom 1-4. \n",
    "\n",
    "- Hvilket tall som er riktig er tilfeldig hver gang. \n",
    "\n",
    "- Lagre hvor mange riktige svar du har i en variabel\n",
    "\n",
    "\n",
    "- Etter løkken, skriv ut hvor mange prosent riktige du hadde. \n",
    "\n",
    "Hint: Kopier kode fra oppgave 3\n"
   ]
  },
  {
   "cell_type": "code",
   "execution_count": null,
   "metadata": {},
   "outputs": [],
   "source": [
    "import random\n",
    "# Skriv koden din her"
   ]
  },
  {
   "cell_type": "markdown",
   "metadata": {},
   "source": [
    "## Oppgave 5\n",
    "\n",
    "Lag et program som gjør følgende:\n",
    "- Tar inn et heltall **max** fra brukeren\n",
    "- Tar inn et heltall **target** fra brukeren\n",
    "- Genererer tilfeldige tall mellom 0 og **max**, helt til det genererer **target**\n",
    "- Printer hvert genererte tall\n",
    "\n",
    "\n",
    "Ekstra: Utvid programmet til å til slutt printe ut hvor mange forsøk det trengte for å lage **target**"
   ]
  },
  {
   "cell_type": "code",
   "execution_count": null,
   "metadata": {},
   "outputs": [],
   "source": [
    "# Skriv koden din her"
   ]
  },
  {
   "cell_type": "markdown",
   "metadata": {},
   "source": [
    "## X-akse i numpy"
   ]
  },
  {
   "cell_type": "code",
   "execution_count": null,
   "metadata": {},
   "outputs": [],
   "source": [
    "import numpy as np\n",
    "import matplotlib.pyplot as plt\n",
    "\n",
    "start = -2\n",
    "slutt = 2\n",
    "n = 5 # Antall punkter\n",
    "\n",
    "x = np.linspace(start,slutt,n)\n",
    "y = np.zeros(len(x))\n",
    "plt.plot(x,y, 'o')\n",
    "plt.show()"
   ]
  },
  {
   "cell_type": "markdown",
   "metadata": {},
   "source": [
    "## Plotte en funksjon"
   ]
  },
  {
   "cell_type": "code",
   "execution_count": null,
   "metadata": {},
   "outputs": [],
   "source": [
    "import numpy as np\n",
    "import matplotlib.pyplot as plt\n",
    "\n",
    "# Definere funksjon\n",
    "def f(x):\n",
    "    return x**3 - 2*x**2+3\n",
    "\n",
    "\n",
    "# Lage x-akse\n",
    "x = np.linspace(-1,2.5, 30)\n",
    "\n",
    "# Bruke funksjonen på x-aksen\n",
    "y = f(x)\n",
    "\n",
    "# Plot med matplotplib\n",
    "fig, ax = plt.subplots()\n",
    "ax.plot(x,y)\n",
    "plt.show()\n"
   ]
  },
  {
   "cell_type": "markdown",
   "metadata": {},
   "source": [
    "## Oppgave 6\n",
    "\n",
    "- Plott funksjonen f(x) = sin(x) i intervallet (-4 pi, 4 pi)\n",
    "- Velg \"oppløsning\" på x-aksen selv\n",
    "\n",
    "Hint: (numpy har innebygget sinus-funksjon)"
   ]
  },
  {
   "cell_type": "code",
   "execution_count": null,
   "metadata": {},
   "outputs": [],
   "source": [
    "import numpy as np\n",
    "import matplotlib.pyplot as plt\n",
    "# Skriv koden din her\n",
    "\n",
    "\n",
    "\n",
    "fig, ax = plt.subplots()\n"
   ]
  },
  {
   "cell_type": "markdown",
   "metadata": {},
   "source": [
    "## Oppgave 7\n",
    "\n",
    "- Plott funksjonene f(x) = sin(2x) og g(x) = cos(2x) i hvert sitt plot ved siden av hverandre\n",
    "- Velg \"oppløsning\" på x-aksen selv"
   ]
  },
  {
   "cell_type": "code",
   "execution_count": null,
   "metadata": {},
   "outputs": [],
   "source": [
    "import numpy as np\n",
    "import matplotlib.pyplot as plt\n",
    "# Skriv koden din her\n",
    "\n",
    "fig, (ax1, ax2) = plt.subplots(1,2)"
   ]
  },
  {
   "cell_type": "code",
   "execution_count": null,
   "metadata": {},
   "outputs": [],
   "source": []
  }
 ],
 "metadata": {
  "kernelspec": {
   "display_name": "Python 3.9.7 ('tdt4195')",
   "language": "python",
   "name": "python3"
  },
  "language_info": {
   "codemirror_mode": {
    "name": "ipython",
    "version": 3
   },
   "file_extension": ".py",
   "mimetype": "text/x-python",
   "name": "python",
   "nbconvert_exporter": "python",
   "pygments_lexer": "ipython3",
   "version": "3.9.7"
  },
  "orig_nbformat": 4,
  "vscode": {
   "interpreter": {
    "hash": "63b89d9bfc14eb4486c27c9b239bf0a08c4c63a21c176f83036370f0e204c130"
   }
  }
 },
 "nbformat": 4,
 "nbformat_minor": 2
}
