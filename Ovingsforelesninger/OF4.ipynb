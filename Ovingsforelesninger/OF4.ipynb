{
 "cells": [
  {
   "cell_type": "markdown",
   "metadata": {},
   "source": [
    "# Øvingsforelesning 4"
   ]
  },
  {
   "cell_type": "markdown",
   "metadata": {},
   "source": [
    "### Funksjoner"
   ]
  },
  {
   "cell_type": "markdown",
   "metadata": {},
   "source": [
    "# Repetisjon "
   ]
  },
  {
   "cell_type": "markdown",
   "metadata": {},
   "source": [
    "## Oppgave 1\n",
    "\n",
    "- Plott funksjonen f(x) = sin(x) i intervallet (-4 pi, 4 pi)\n",
    "- Velg \"oppløsning\" på x-aksen selv\n",
    "\n",
    "Hint: (numpy har innebygget sinus-funksjon)"
   ]
  },
  {
   "cell_type": "code",
   "execution_count": null,
   "metadata": {},
   "outputs": [],
   "source": [
    "import numpy as np\n",
    "import matplotlib.pyplot as plt\n",
    "# Skriv koden din her\n",
    "\n",
    "\n",
    "\n",
    "fig, ax = plt.subplots()"
   ]
  },
  {
   "cell_type": "markdown",
   "metadata": {},
   "source": [
    "## Oppgave 2\n",
    "\n",
    "- Plott funksjonene f(x) = sin(2x) og g(x) = cos(2x) i hvert sitt plot ved siden av hverandre\n",
    "- Velg \"oppløsning\" på x-aksen selv"
   ]
  },
  {
   "cell_type": "code",
   "execution_count": null,
   "metadata": {},
   "outputs": [],
   "source": [
    "import numpy as np\n",
    "import matplotlib.pyplot as plt\n",
    "# Skriv koden din her\n",
    "\n",
    "fig, (ax1, ax2) = plt.subplots(1,2)"
   ]
  },
  {
   "cell_type": "markdown",
   "metadata": {},
   "source": [
    "# Funksjoner"
   ]
  },
  {
   "cell_type": "markdown",
   "metadata": {},
   "source": [
    "## Oppgave 3\n",
    "\n",
    "Lag en funksjon som tilsvarer absoluttverdi funksjonen:\n",
    "\n",
    "$$f(x) = |x|$$ \n",
    "\n",
    "eller abs(), uten å faktisk bruke abs()"
   ]
  },
  {
   "cell_type": "code",
   "execution_count": null,
   "metadata": {},
   "outputs": [],
   "source": [
    "#skriv koden her"
   ]
  },
  {
   "cell_type": "markdown",
   "metadata": {},
   "source": [
    "## Oppgave 4"
   ]
  },
  {
   "cell_type": "markdown",
   "metadata": {},
   "source": [
    "*Du ønsker å fremstå sint på et diskusjonsforum på nett, uten den ekstra jobben det er å trykke på Caps Lock*\n",
    "\n",
    "Lag en funksjon som ber om input fra bruker, og skriver ut det den får i **STORE BOKSTAVER** med et utropstegn på slutten! <br>\n",
    "\n",
    "Hint:\n",
    "* str.upper()\n",
    "\n",
    "Ekstraoppgave:\n",
    "* Endre programmet til å returnere strengen i stedenfor å printe den ut"
   ]
  },
  {
   "cell_type": "code",
   "execution_count": null,
   "metadata": {},
   "outputs": [],
   "source": [
    "#skriv koden her"
   ]
  },
  {
   "cell_type": "markdown",
   "metadata": {},
   "source": [
    "## Oppgave 5"
   ]
  },
  {
   "cell_type": "markdown",
   "metadata": {},
   "source": [
    "*Du vil lage en dum chatbot som svarer ja eller nei med like stor sannsynlighet*"
   ]
  },
  {
   "cell_type": "markdown",
   "metadata": {},
   "source": [
    "Lag en funksjon som tar inn et spørsmål som parameter, og skriver ut spørsmålet og svaret sitt (ja eller nei tilfeldig) <br>\n",
    "\n",
    "Hint:\n",
    "* import random\n",
    "* random.choice([«Ja», «Nei»])\n"
   ]
  },
  {
   "cell_type": "code",
   "execution_count": null,
   "metadata": {},
   "outputs": [],
   "source": [
    "#skriv koden her"
   ]
  },
  {
   "cell_type": "markdown",
   "metadata": {},
   "source": [
    "## Oppgave 6"
   ]
  },
  {
   "cell_type": "markdown",
   "metadata": {},
   "source": [
    "*Forsikring av input-type*"
   ]
  },
  {
   "cell_type": "markdown",
   "metadata": {},
   "source": [
    "* Lag en funksjon som spør bruker om et heltall, og spør igjen dersom brukeren ikke skriver inn et heltall\n",
    "* Når brukeren har skrevet inn et heltall, skal funksjonen skal returnere tallet \n",
    "\n",
    "Hint: \n",
    "* str.isnumeric() sjekker om en streng kun inneholder tall \n"
   ]
  },
  {
   "cell_type": "code",
   "execution_count": null,
   "metadata": {},
   "outputs": [],
   "source": [
    "#skriv koden her"
   ]
  },
  {
   "cell_type": "markdown",
   "metadata": {},
   "source": [
    "## Oppgave 7 \n",
    "*Fakultetsfunksjon*\n",
    "* Skriv en funksjon som regner ut fakultetet til et tall og deretter returnerer svaret \n",
    "* Fakultetet er gitt ved \n",
    "$$x! = x*(X-1)*(X-)*...*3*2*1$$"
   ]
  },
  {
   "cell_type": "code",
   "execution_count": null,
   "metadata": {},
   "outputs": [],
   "source": [
    "#skriv koden her"
   ]
  },
  {
   "cell_type": "markdown",
   "metadata": {},
   "source": [
    "## Hint til øvingen"
   ]
  },
  {
   "cell_type": "markdown",
   "metadata": {},
   "source": [
    "* Skriv en funksjon som tar inn et heltall, og returnerer True hvis tallet er et primtall, ellers False\n",
    "\n",
    "* Husk: Et tall er et primtall hvis det ikke er delelig på noen andre tall enn seg selv og 1\n"
   ]
  },
  {
   "cell_type": "code",
   "execution_count": null,
   "metadata": {},
   "outputs": [],
   "source": [
    "#skriv koden her"
   ]
  },
  {
   "cell_type": "markdown",
   "metadata": {},
   "source": [
    "### Mer effektive løsninger\n",
    "Dette er en veldig lite effektiv løsning, det å sjekke alle tall fra to og opp krever mye jobb.\n",
    "\n",
    "Enkle forbedringer er å bare sjekke opp til kvadratroten av x, og å kun sjekke oddetall og 2, siden tallet ikke kan være delelig på andre partall hvis det ikke er delelig på 2. Mange andre forbedringer er også mulig"
   ]
  },
  {
   "cell_type": "markdown",
   "metadata": {},
   "source": [
    "## Oppgave 8 \n",
    "### Del 1\n",
    "\n",
    "Lag en funksjon omkrets som gjør følgende:\n",
    "* Tar inn et tall radius som parameter\n",
    "* Returnerer omkretsen til en sirkel med radius `<radius>`\n",
    "\n",
    "Lag en funksjon areal som gjør følgende:\n",
    "* Tar inn et tall radius som parameter\n",
    "* Returnerer areal til en sirkel med radius `<radius>`"
   ]
  },
  {
   "cell_type": "code",
   "execution_count": null,
   "metadata": {},
   "outputs": [],
   "source": [
    "#skriv koden her"
   ]
  },
  {
   "cell_type": "markdown",
   "metadata": {},
   "source": [
    "### Del 2\n",
    "Lag en geometriprogram()-funksjon som gjør følgende:\n",
    "1. Tar inn en radius fra bruker\n",
    "2. Regner ut omkretsen av en sirkel med radius `<radius>`\n",
    "3. Regner ut arealet av en sirkel med radius `<radius>`\n",
    "4. Skriver ut \"Omkrets: {omkrets}, Areal: {areal}\"\n"
   ]
  },
  {
   "cell_type": "code",
   "execution_count": null,
   "metadata": {},
   "outputs": [],
   "source": [
    "#skriv koden her"
   ]
  },
  {
   "cell_type": "markdown",
   "metadata": {},
   "source": [
    "## Oppgave 9 - Terningspill (Hvis tid) \n",
    "### Del 1\n",
    "*Vi skal lage et enkelt terningspill. I spillet trenger vi mulighet til å trille en terning*"
   ]
  },
  {
   "cell_type": "markdown",
   "metadata": {},
   "source": [
    "* Lag en funksjon som triller en terning, dvs. returnerer et tall fra og med 1 til og med 6\n",
    "\n",
    "Hint: \n",
    "* import random, random.randint(1, 6) \n"
   ]
  },
  {
   "cell_type": "code",
   "execution_count": null,
   "metadata": {},
   "outputs": [],
   "source": [
    "#skriv koden her"
   ]
  },
  {
   "cell_type": "markdown",
   "metadata": {},
   "source": [
    "###  Del 2\n",
    "*En runde i spillet består av at spilleren gjetter hvor mye hen til sammen kommer til å trille, før 6 terninger trilles. Hvis hen gjettet riktig, får hen 3 poeng. Hvis hen var innenfor 5 fra riktig verdi, får hen 1 poeng.*\n",
    "\n",
    "* Lag en funksjon for å beregne poeng gitt spilleren, basert på spillerens gjett og verdien til de trillede terningene. \n",
    "\n",
    "* Lag så en funksjon for en runde, som spør spilleren om å gjette, triller terninger, og returnerer poengsummen for den runden. \n"
   ]
  },
  {
   "cell_type": "code",
   "execution_count": null,
   "metadata": {},
   "outputs": [],
   "source": [
    "#skriv koden her"
   ]
  },
  {
   "cell_type": "markdown",
   "metadata": {},
   "source": [
    "### Del 3\n",
    "*Til slutt vil vi ha mulighet til å spille hele spillet*\n",
    "\n",
    "* Husk: main() kaller de andre funksjonene og står for kommunikasjon med bruker\n",
    "\n",
    "* Spør spilleren først hvor mange runder h*n vil spille, og kjør så gjennom `<antall>` mange runder. Hold kontroll på poengsummen til brukeren, og skriv den ut til slutt. \n",
    "\n",
    "Ekstraoppgave:\n",
    "* Utvid spillet til å være for to spillere \n"
   ]
  },
  {
   "cell_type": "code",
   "execution_count": null,
   "metadata": {},
   "outputs": [],
   "source": [
    "#skriv koden her"
   ]
  }
 ],
 "metadata": {
  "kernelspec": {
   "display_name": "Python 3.9.7 ('tdt4195')",
   "language": "python",
   "name": "python3"
  },
  "language_info": {
   "codemirror_mode": {
    "name": "ipython",
    "version": 3
   },
   "file_extension": ".py",
   "mimetype": "text/x-python",
   "name": "python",
   "nbconvert_exporter": "python",
   "pygments_lexer": "ipython3",
   "version": "3.9.7"
  },
  "vscode": {
   "interpreter": {
    "hash": "63b89d9bfc14eb4486c27c9b239bf0a08c4c63a21c176f83036370f0e204c130"
   }
  }
 },
 "nbformat": 4,
 "nbformat_minor": 2
}
