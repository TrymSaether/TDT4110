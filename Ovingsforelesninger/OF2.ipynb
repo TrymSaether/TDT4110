{
 "cells": [
  {
   "cell_type": "markdown",
   "source": [
    "# Øvingsforelesning 2 - ITGK"
   ],
   "metadata": {}
  },
  {
   "cell_type": "markdown",
   "source": [
    "### Logiske uttrykk, betingelser og if-setninger"
   ],
   "metadata": {}
  },
  {
   "cell_type": "markdown",
   "source": [
    "## Eksempel\r\n",
    "Ulike måter å formatere strenger på"
   ],
   "metadata": {}
  },
  {
   "cell_type": "code",
   "execution_count": 2,
   "source": [
    "navn = \"Tobias\"\r\n",
    "sted = \"Oppdal\"\r\n",
    "\r\n",
    "#Alternativ 1: ,\r\n",
    "print(navn, \"kommer fra\", sted)\r\n",
    "\r\n",
    "#Alternativ 2: % formatering\r\n",
    "print(\"%s kommer fra %s\" % (navn, sted))\r\n",
    "\r\n",
    "#Alternativ 3: str.format()\r\n",
    "print(\"{} kommer fra {}\".format(navn,sted))\r\n",
    "print(\"{navn} kommer fra {sted}\".format(navn=navn,sted=sted))\r\n",
    "\r\n",
    "#Alternativ 4: f string\r\n",
    "print(f\"{navn} kommer fra {sted}\")"
   ],
   "outputs": [
    {
     "output_type": "stream",
     "name": "stdout",
     "text": [
      "Tobias komme fra Oppdal\n",
      "Tobias kommer fra Oppdal\n",
      "Tobias kommer fra Oppdal\n",
      "Tobias kommer fra Oppdal\n",
      "Tobias kommer fra Oppdal\n"
     ]
    }
   ],
   "metadata": {}
  },
  {
   "cell_type": "markdown",
   "source": [
    "## Oppgave 1: Repetisjon"
   ],
   "metadata": {}
  },
  {
   "cell_type": "markdown",
   "source": [
    "**Lag et program som gjør følgende:**\r\n",
    "1. Spør om to tall fra brukeren og lagrer disse som variabler\r\n",
    "2. Finner ut hvilket av tallene som er det minste\r\n",
    "3. Skriver ut \"(z) er det minste tallet av (x) og (y)\""
   ],
   "metadata": {}
  },
  {
   "cell_type": "code",
   "execution_count": 3,
   "source": [
    "# Skriv koden din her"
   ],
   "outputs": [],
   "metadata": {
    "collapsed": true
   }
  },
  {
   "cell_type": "markdown",
   "source": [
    "## Oppgave 2: Repetisjon"
   ],
   "metadata": {}
  },
  {
   "cell_type": "markdown",
   "source": [
    "**Lag et program som gjør følgende:**\n",
    "1. Ber om radius og høyde fra en bruker og lagrerdette i variabler \n",
    "2. Regner ut volumet til en sylinder med denne høyden og radiusen\n",
    "3. Skriver ut volumet med fem desimalers nøyaktighet"
   ],
   "metadata": {}
  },
  {
   "cell_type": "markdown",
   "source": [
    "*Hint:* \n",
    "* $ V = \\frac{\\pi r^2h}{3}$\n",
    "* `round(tall, desimaler)`"
   ],
   "metadata": {}
  },
  {
   "cell_type": "code",
   "execution_count": 12,
   "source": [
    "# Skriv koden din her"
   ],
   "outputs": [],
   "metadata": {
    "collapsed": true
   }
  },
  {
   "cell_type": "markdown",
   "source": [
    "## Boolske uttrykk, prøv selv"
   ],
   "metadata": {}
  },
  {
   "cell_type": "code",
   "execution_count": 1,
   "source": [
    "a = True\r\n",
    "b = False\r\n",
    "x = 23\r\n",
    "y = 26\r\n",
    "\r\n",
    "z = x + 2 == y\r\n",
    "print(z)\r\n",
    "w = not((a and b) or x != y)\r\n",
    "print(w)\r\n",
    "u = a is not b and ((y - 4) <= x)\r\n",
    "print(u)"
   ],
   "outputs": [
    {
     "output_type": "stream",
     "name": "stdout",
     "text": [
      "False\n",
      "False\n",
      "True\n"
     ]
    }
   ],
   "metadata": {}
  },
  {
   "cell_type": "markdown",
   "source": [
    "## Oppgave 3"
   ],
   "metadata": {}
  },
  {
   "cell_type": "markdown",
   "source": [
    "**Skriv et program som gjør følgende:** \n",
    "1. Spør en bruker om tre tall, ett om gangen\n",
    "2. Sjekker om summen av de to første er lik det tredje\n",
    "3. Skriver ut resultatet til bruker\n"
   ],
   "metadata": {}
  },
  {
   "cell_type": "markdown",
   "source": [
    "*Hint:* \n",
    "* `a + b == c`\n"
   ],
   "metadata": {}
  },
  {
   "cell_type": "code",
   "execution_count": null,
   "source": [
    "# Skriv koden din her"
   ],
   "outputs": [],
   "metadata": {
    "collapsed": true
   }
  },
  {
   "cell_type": "markdown",
   "source": [
    "## Oppgave 4"
   ],
   "metadata": {}
  },
  {
   "cell_type": "markdown",
   "source": [
    "Skriv et program som tar inn et tall og sjekker om det er et partall <br>\n",
    "\n",
    "*Hint:*\n",
    "* Sjekk om resten er 0 når det deles på 2\n",
    "\n",
    "**Ekstraoppgave**\n",
    "* Skriv ut om det er partall eller oddetall\n"
   ],
   "metadata": {}
  },
  {
   "cell_type": "code",
   "execution_count": null,
   "source": [
    "# Skriv koden din her"
   ],
   "outputs": [],
   "metadata": {
    "collapsed": true
   }
  },
  {
   "cell_type": "markdown",
   "source": [
    "## Oppgave 5"
   ],
   "metadata": {}
  },
  {
   "cell_type": "markdown",
   "source": [
    "Lag et program som ber om et passord og sjekker om det er likt et passord som du har lagret  i en variabel i koden. <br>\n",
    "\n",
    "*Hint:*\n",
    "* a == b\n",
    "* Start med å opprette en variabel “passord” som inneholder passordet ditt.\n",
    "\n",
    "**Ekstraoppgave**\n",
    "* Sjekk om det er likt uavhengig av små eller store bokstaver\n"
   ],
   "metadata": {}
  },
  {
   "cell_type": "code",
   "execution_count": null,
   "source": [
    "# Skriv koden din her"
   ],
   "outputs": [],
   "metadata": {
    "collapsed": true
   }
  },
  {
   "cell_type": "markdown",
   "source": [
    "## Oppgave 6 "
   ],
   "metadata": {}
  },
  {
   "cell_type": "markdown",
   "source": [
    "Lag et program som tar inn et tall og skriver ut ` \"(tall) er et partall\"` hvis det er et partall <br>\n",
    "\n",
    "*Hint:*\n",
    "* `if <logisk uttrykk>:`\n",
    "\n",
    "**Ekstraoppgave:**\n",
    "* Print ut «<tall> er et oddetall» hvis det er oddetall\n"
   ],
   "metadata": {}
  },
  {
   "cell_type": "code",
   "execution_count": null,
   "source": [
    "# Skriv koden din her"
   ],
   "outputs": [],
   "metadata": {
    "collapsed": true
   }
  },
  {
   "cell_type": "markdown",
   "source": [
    "## Oppgave 7 \n",
    "Lag et program som spør om et etternavn. Hvis det er likt ditt etternavn skal det skrive ut `«Dette er en match!!»`"
   ],
   "metadata": {}
  },
  {
   "cell_type": "code",
   "execution_count": null,
   "source": [
    "# Skriv koden din her"
   ],
   "outputs": [],
   "metadata": {
    "collapsed": true
   }
  },
  {
   "cell_type": "markdown",
   "source": [
    "## Oppgave 8 \n",
    "Lag et program som tar inn to tall. Programmet skal skrive ut `”(tall1) er større enn eller lik (tall2)”` eller`”(tall1) er mindre enn (tall2)” `avhengig av tallene. <br>\n",
    "\n",
    "*Hint:*\n",
    "* `tall1 > tall2`\n",
    "\n",
    "**Ekstraoppgave:**\n",
    "* Utvid programmet til å gi en spesiell beskjed dersom tallene er like\n"
   ],
   "metadata": {}
  },
  {
   "cell_type": "code",
   "execution_count": null,
   "source": [
    "# Skriv koden din her"
   ],
   "outputs": [],
   "metadata": {
    "collapsed": true
   }
  },
  {
   "cell_type": "markdown",
   "source": [
    "## Oppgave 9\n",
    "Kjell trenger help til å bestemme hva han skal ha med til lunsj. Han har en regel han vil følge, men sliter med å huske den. Regelen er: \n",
    "* På mandag, onsdag og fredag spiser han brødskive med geitost\n",
    "* På tirsdag og torsdag spiser han rundstykke med salami\n",
    "\n",
    "Lag et program der Kjell kan skrive inn hvilken ukedag et er, og deretter få vite hva han skal ha til lunsj\n"
   ],
   "metadata": {}
  },
  {
   "cell_type": "code",
   "execution_count": null,
   "source": [
    "# Skriv koden din her"
   ],
   "outputs": [],
   "metadata": {
    "collapsed": true
   }
  },
  {
   "cell_type": "markdown",
   "source": [
    "## Oppgave 10\n",
    "**Lage et program som gjør følgende:**\n",
    "* Tar inn to tall (kalt `tall1` og `tall2`). \n",
    "* Dersom de er like skal programmet skrive ut `”Gratulerer, tallene er like” `\n",
    "* Hvis `tall1` er større enn `tall2` skal det skrive ut ”`Tall1 er <differanse mellom tallene> større enn tall2`”. \n",
    "* Dersom `tall2` er større enn `tall1` skal programmet skrive ut ”`Tall1 er <differanse mellom tallene> mindre enn tall2`”.\n",
    "* Til slutt skal programmet skrive ut ”`Takk for denne gang`” \n"
   ],
   "metadata": {}
  },
  {
   "cell_type": "code",
   "execution_count": null,
   "source": [
    "# Skriv koden din her"
   ],
   "outputs": [],
   "metadata": {
    "collapsed": true
   }
  },
  {
   "cell_type": "markdown",
   "source": [
    "## Oppgave 11\n",
    "<img src=\"if-setninger.jpg\" style=\"width: 500px;\">"
   ],
   "metadata": {}
  },
  {
   "cell_type": "code",
   "execution_count": null,
   "source": [
    "# Skriv koden din her"
   ],
   "outputs": [],
   "metadata": {
    "collapsed": true
   }
  },
  {
   "cell_type": "markdown",
   "source": [
    "## Oppgave 12\n",
    "Lag et program som tar inn en tekststreng fra brukeren. Ut i fra strengen kan følgende fire ting skje\n",
    "<br>\n",
    "1. Dersom strengen er lik `”IalwaysCheat”` skal programmet skrive ut `”Juksing er ikke lov, prøv igjen senere” `\n",
    "2. Ellers, dersom lengden på strengen er større enn 4 og mindre enn 10 skal programmet skrive ut `”Dette var en streng med perfekt lengde”`. \n",
    " * `len(streng)` gir lengden på strengen med navn ”streng”. \n",
    "3. Ellers, hvis strengen starter på `”hei”` og har mer enn 6 tegn skal programmet skrive ut `”Hei på deg også”`\n",
    " * Hint: streng.startswith(\"hei\") gir True hvis strengen starter med ”hei” \n",
    "4. Ellers skal programmet skrive ut `”Dette var en kjedelig streng”`\n"
   ],
   "metadata": {}
  },
  {
   "cell_type": "code",
   "execution_count": null,
   "source": [
    "# Skriv koden din her"
   ],
   "outputs": [],
   "metadata": {
    "collapsed": true
   }
  }
 ],
 "metadata": {
  "kernelspec": {
   "name": "python3",
   "display_name": "Python 3.6.2 32-bit"
  },
  "language_info": {
   "codemirror_mode": {
    "name": "ipython",
    "version": 3
   },
   "file_extension": ".py",
   "mimetype": "text/x-python",
   "name": "python",
   "nbconvert_exporter": "python",
   "pygments_lexer": "ipython3",
   "version": "3.6.2"
  },
  "interpreter": {
   "hash": "701e255ce9e6ffc7be21cb678d8777de32a36d9572a61b0e9645a07eb5a2e63f"
  }
 },
 "nbformat": 4,
 "nbformat_minor": 2
}