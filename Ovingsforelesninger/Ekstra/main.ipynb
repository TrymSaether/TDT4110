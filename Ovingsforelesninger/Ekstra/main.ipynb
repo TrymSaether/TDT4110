{
 "cells": [
  {
   "cell_type": "code",
   "execution_count": 57,
   "metadata": {},
   "outputs": [],
   "source": [
    "import pandas as pd\n",
    "import seaborn as sns\n",
    "import matplotlib.pyplot as plt\n",
    "# Read the data\n",
    "data = pd.read_csv('./data.csv')"
   ]
  },
  {
   "cell_type": "markdown",
   "metadata": {},
   "source": [
    "### Inspect the data"
   ]
  },
  {
   "cell_type": "code",
   "execution_count": 58,
   "metadata": {},
   "outputs": [
    {
     "data": {
      "text/html": [
       "<div>\n",
       "<style scoped>\n",
       "    .dataframe tbody tr th:only-of-type {\n",
       "        vertical-align: middle;\n",
       "    }\n",
       "\n",
       "    .dataframe tbody tr th {\n",
       "        vertical-align: top;\n",
       "    }\n",
       "\n",
       "    .dataframe thead th {\n",
       "        text-align: right;\n",
       "    }\n",
       "</style>\n",
       "<table border=\"1\" class=\"dataframe\">\n",
       "  <thead>\n",
       "    <tr style=\"text-align: right;\">\n",
       "      <th></th>\n",
       "      <th>Tidsmerke</th>\n",
       "      <th>Hvilken øvingsforelesning følger du?</th>\n",
       "      <th>Hvor i \"øvingskalenderen\" ønsker du øvingsforelesningen skal være?\\n\\nGitt at innlevering for  øving 2 er fredag i uke 2, og innlevering for øving 3 er fredag i uke 3.</th>\n",
       "      <th>Hvordan synes du tiden til å løse oppgaver i øvingsforelesningen er?</th>\n",
       "    </tr>\n",
       "  </thead>\n",
       "  <tbody>\n",
       "    <tr>\n",
       "      <th>0</th>\n",
       "      <td>2022/09/02 2:18:40 p.m. EET</td>\n",
       "      <td>Fredag</td>\n",
       "      <td>Øvingsforelesning fredag uke 2 og mandag uke 3...</td>\n",
       "      <td>3.0</td>\n",
       "    </tr>\n",
       "    <tr>\n",
       "      <th>1</th>\n",
       "      <td>2022/09/02 2:18:46 p.m. EET</td>\n",
       "      <td>Fredag</td>\n",
       "      <td>Øvingsforelesning fredag uke 1 og mandag uke 2...</td>\n",
       "      <td>3.0</td>\n",
       "    </tr>\n",
       "    <tr>\n",
       "      <th>2</th>\n",
       "      <td>2022/09/02 2:18:57 p.m. EET</td>\n",
       "      <td>Fredag</td>\n",
       "      <td>Blanding av de to forrige alternativene, 50% i...</td>\n",
       "      <td>3.0</td>\n",
       "    </tr>\n",
       "    <tr>\n",
       "      <th>3</th>\n",
       "      <td>2022/09/02 2:18:59 p.m. EET</td>\n",
       "      <td>Fredag</td>\n",
       "      <td>Øvingsforelesning fredag uke 2 og mandag uke 3...</td>\n",
       "      <td>1.0</td>\n",
       "    </tr>\n",
       "    <tr>\n",
       "      <th>4</th>\n",
       "      <td>2022/09/02 2:19:01 p.m. EET</td>\n",
       "      <td>Fredag</td>\n",
       "      <td>Øvingsforelesning fredag uke 2 og mandag uke 3...</td>\n",
       "      <td>3.0</td>\n",
       "    </tr>\n",
       "  </tbody>\n",
       "</table>\n",
       "</div>"
      ],
      "text/plain": [
       "                     Tidsmerke Hvilken øvingsforelesning følger du?  \\\n",
       "0  2022/09/02 2:18:40 p.m. EET                               Fredag   \n",
       "1  2022/09/02 2:18:46 p.m. EET                               Fredag   \n",
       "2  2022/09/02 2:18:57 p.m. EET                               Fredag   \n",
       "3  2022/09/02 2:18:59 p.m. EET                               Fredag   \n",
       "4  2022/09/02 2:19:01 p.m. EET                               Fredag   \n",
       "\n",
       "  Hvor i \"øvingskalenderen\" ønsker du øvingsforelesningen skal være?\\n\\nGitt at innlevering for  øving 2 er fredag i uke 2, og innlevering for øving 3 er fredag i uke 3.   \\\n",
       "0  Øvingsforelesning fredag uke 2 og mandag uke 3...                                                                                                                         \n",
       "1  Øvingsforelesning fredag uke 1 og mandag uke 2...                                                                                                                         \n",
       "2  Blanding av de to forrige alternativene, 50% i...                                                                                                                         \n",
       "3  Øvingsforelesning fredag uke 2 og mandag uke 3...                                                                                                                         \n",
       "4  Øvingsforelesning fredag uke 2 og mandag uke 3...                                                                                                                         \n",
       "\n",
       "   Hvordan synes du tiden til å løse oppgaver i øvingsforelesningen er?  \n",
       "0                                                3.0                     \n",
       "1                                                3.0                     \n",
       "2                                                3.0                     \n",
       "3                                                1.0                     \n",
       "4                                                3.0                     "
      ]
     },
     "execution_count": 58,
     "metadata": {},
     "output_type": "execute_result"
    }
   ],
   "source": [
    "data.head()"
   ]
  },
  {
   "cell_type": "markdown",
   "metadata": {},
   "source": [
    "### Rename columns"
   ]
  },
  {
   "cell_type": "code",
   "execution_count": 59,
   "metadata": {},
   "outputs": [
    {
     "data": {
      "text/html": [
       "<div>\n",
       "<style scoped>\n",
       "    .dataframe tbody tr th:only-of-type {\n",
       "        vertical-align: middle;\n",
       "    }\n",
       "\n",
       "    .dataframe tbody tr th {\n",
       "        vertical-align: top;\n",
       "    }\n",
       "\n",
       "    .dataframe thead th {\n",
       "        text-align: right;\n",
       "    }\n",
       "</style>\n",
       "<table border=\"1\" class=\"dataframe\">\n",
       "  <thead>\n",
       "    <tr style=\"text-align: right;\">\n",
       "      <th></th>\n",
       "      <th>timestamp</th>\n",
       "      <th>forelesning</th>\n",
       "      <th>alternativ</th>\n",
       "      <th>oppgavetid</th>\n",
       "    </tr>\n",
       "  </thead>\n",
       "  <tbody>\n",
       "    <tr>\n",
       "      <th>0</th>\n",
       "      <td>2022/09/02 2:18:40 p.m. EET</td>\n",
       "      <td>Fredag</td>\n",
       "      <td>Øvingsforelesning fredag uke 2 og mandag uke 3...</td>\n",
       "      <td>3.0</td>\n",
       "    </tr>\n",
       "    <tr>\n",
       "      <th>1</th>\n",
       "      <td>2022/09/02 2:18:46 p.m. EET</td>\n",
       "      <td>Fredag</td>\n",
       "      <td>Øvingsforelesning fredag uke 1 og mandag uke 2...</td>\n",
       "      <td>3.0</td>\n",
       "    </tr>\n",
       "    <tr>\n",
       "      <th>2</th>\n",
       "      <td>2022/09/02 2:18:57 p.m. EET</td>\n",
       "      <td>Fredag</td>\n",
       "      <td>Blanding av de to forrige alternativene, 50% i...</td>\n",
       "      <td>3.0</td>\n",
       "    </tr>\n",
       "    <tr>\n",
       "      <th>3</th>\n",
       "      <td>2022/09/02 2:18:59 p.m. EET</td>\n",
       "      <td>Fredag</td>\n",
       "      <td>Øvingsforelesning fredag uke 2 og mandag uke 3...</td>\n",
       "      <td>1.0</td>\n",
       "    </tr>\n",
       "    <tr>\n",
       "      <th>4</th>\n",
       "      <td>2022/09/02 2:19:01 p.m. EET</td>\n",
       "      <td>Fredag</td>\n",
       "      <td>Øvingsforelesning fredag uke 2 og mandag uke 3...</td>\n",
       "      <td>3.0</td>\n",
       "    </tr>\n",
       "  </tbody>\n",
       "</table>\n",
       "</div>"
      ],
      "text/plain": [
       "                     timestamp forelesning  \\\n",
       "0  2022/09/02 2:18:40 p.m. EET      Fredag   \n",
       "1  2022/09/02 2:18:46 p.m. EET      Fredag   \n",
       "2  2022/09/02 2:18:57 p.m. EET      Fredag   \n",
       "3  2022/09/02 2:18:59 p.m. EET      Fredag   \n",
       "4  2022/09/02 2:19:01 p.m. EET      Fredag   \n",
       "\n",
       "                                          alternativ  oppgavetid  \n",
       "0  Øvingsforelesning fredag uke 2 og mandag uke 3...         3.0  \n",
       "1  Øvingsforelesning fredag uke 1 og mandag uke 2...         3.0  \n",
       "2  Blanding av de to forrige alternativene, 50% i...         3.0  \n",
       "3  Øvingsforelesning fredag uke 2 og mandag uke 3...         1.0  \n",
       "4  Øvingsforelesning fredag uke 2 og mandag uke 3...         3.0  "
      ]
     },
     "execution_count": 59,
     "metadata": {},
     "output_type": "execute_result"
    }
   ],
   "source": [
    "data.columns = ['timestamp', 'forelesning', 'alternativ', 'oppgavetid']\n",
    "data.head()"
   ]
  },
  {
   "cell_type": "markdown",
   "metadata": {},
   "source": [
    "### Clean up alternatives"
   ]
  },
  {
   "cell_type": "code",
   "execution_count": 60,
   "metadata": {},
   "outputs": [],
   "source": [
    "alt1 = 'Øvingsforelesning fredag uke 1 og mandag uke 2 med tema knyttet til øving 3 (11 dager fra mandags-øf til innlevering. 14 dager fra fredags-øf))'\n",
    "alt2 = 'Øvingsforelesning fredag uke 2 og mandag uke 3 med tema knyttet til øving 3 (bare 4 dager fra mandags-øf til innlevering. 7 dager fra fredags-øf)'\n",
    "alt3 = 'Blanding av de to forrige alternativene, 50% innhold til øvingen som har innlevering om under en uke, og 50% innhold til neste.'"
   ]
  },
  {
   "cell_type": "code",
   "execution_count": 61,
   "metadata": {},
   "outputs": [],
   "source": [
    "data.loc[data['alternativ'] == alt1, 'alternativ'] = 1\n",
    "data.loc[data['alternativ'] == alt2, 'alternativ'] = 2\n",
    "data.loc[data['alternativ'] == alt3, 'alternativ'] = 3"
   ]
  },
  {
   "cell_type": "code",
   "execution_count": 62,
   "metadata": {},
   "outputs": [],
   "source": [
    "data_fredag = data[data['forelesning'] == 'Fredag']\n",
    "data_mandag = data[data['forelesning'] == 'Mandag - Fysisk']\n",
    "data_digital = data[data['forelesning'] == 'Mandag - Digital']"
   ]
  },
  {
   "cell_type": "markdown",
   "metadata": {},
   "source": [
    "### Looks better now"
   ]
  },
  {
   "cell_type": "code",
   "execution_count": 63,
   "metadata": {},
   "outputs": [
    {
     "data": {
      "text/html": [
       "<div>\n",
       "<style scoped>\n",
       "    .dataframe tbody tr th:only-of-type {\n",
       "        vertical-align: middle;\n",
       "    }\n",
       "\n",
       "    .dataframe tbody tr th {\n",
       "        vertical-align: top;\n",
       "    }\n",
       "\n",
       "    .dataframe thead th {\n",
       "        text-align: right;\n",
       "    }\n",
       "</style>\n",
       "<table border=\"1\" class=\"dataframe\">\n",
       "  <thead>\n",
       "    <tr style=\"text-align: right;\">\n",
       "      <th></th>\n",
       "      <th>timestamp</th>\n",
       "      <th>forelesning</th>\n",
       "      <th>alternativ</th>\n",
       "      <th>oppgavetid</th>\n",
       "    </tr>\n",
       "  </thead>\n",
       "  <tbody>\n",
       "    <tr>\n",
       "      <th>0</th>\n",
       "      <td>2022/09/02 2:18:40 p.m. EET</td>\n",
       "      <td>Fredag</td>\n",
       "      <td>2</td>\n",
       "      <td>3.0</td>\n",
       "    </tr>\n",
       "    <tr>\n",
       "      <th>1</th>\n",
       "      <td>2022/09/02 2:18:46 p.m. EET</td>\n",
       "      <td>Fredag</td>\n",
       "      <td>1</td>\n",
       "      <td>3.0</td>\n",
       "    </tr>\n",
       "    <tr>\n",
       "      <th>2</th>\n",
       "      <td>2022/09/02 2:18:57 p.m. EET</td>\n",
       "      <td>Fredag</td>\n",
       "      <td>3</td>\n",
       "      <td>3.0</td>\n",
       "    </tr>\n",
       "    <tr>\n",
       "      <th>3</th>\n",
       "      <td>2022/09/02 2:18:59 p.m. EET</td>\n",
       "      <td>Fredag</td>\n",
       "      <td>2</td>\n",
       "      <td>1.0</td>\n",
       "    </tr>\n",
       "    <tr>\n",
       "      <th>4</th>\n",
       "      <td>2022/09/02 2:19:01 p.m. EET</td>\n",
       "      <td>Fredag</td>\n",
       "      <td>2</td>\n",
       "      <td>3.0</td>\n",
       "    </tr>\n",
       "  </tbody>\n",
       "</table>\n",
       "</div>"
      ],
      "text/plain": [
       "                     timestamp forelesning alternativ  oppgavetid\n",
       "0  2022/09/02 2:18:40 p.m. EET      Fredag          2         3.0\n",
       "1  2022/09/02 2:18:46 p.m. EET      Fredag          1         3.0\n",
       "2  2022/09/02 2:18:57 p.m. EET      Fredag          3         3.0\n",
       "3  2022/09/02 2:18:59 p.m. EET      Fredag          2         1.0\n",
       "4  2022/09/02 2:19:01 p.m. EET      Fredag          2         3.0"
      ]
     },
     "execution_count": 63,
     "metadata": {},
     "output_type": "execute_result"
    }
   ],
   "source": [
    "data_fredag.head()"
   ]
  },
  {
   "cell_type": "markdown",
   "metadata": {},
   "source": [
    "# Plot some stuff"
   ]
  },
  {
   "cell_type": "code",
   "execution_count": 64,
   "metadata": {},
   "outputs": [
    {
     "data": {
      "image/png": "[encoded data removed]",
      "text/plain": [
       "<Figure size 432x288 with 1 Axes>"
      ]
     },
     "metadata": {
      "needs_background": "light"
     },
     "output_type": "display_data"
    }
   ],
   "source": [
    "sns.histplot(data_fredag['oppgavetid']).title.set_text('Fredag - Oppgavetid')\n",
    "\n",
    "plt.show()"
   ]
  },
  {
   "cell_type": "code",
   "execution_count": 65,
   "metadata": {},
   "outputs": [
    {
     "data": {
      "image/png": "[encoded data removed]",
      "text/plain": [
       "<Figure size 432x288 with 1 Axes>"
      ]
     },
     "metadata": {
      "needs_background": "light"
     },
     "output_type": "display_data"
    }
   ],
   "source": [
    "sns.histplot(data, x='oppgavetid', hue='forelesning').title.set_text('Oppgavetid fordelt på forelesningstype')\n",
    "\n",
    "plt.show()"
   ]
  },
  {
   "cell_type": "code",
   "execution_count": 66,
   "metadata": {},
   "outputs": [
    {
     "data": {
      "image/png": "[encoded data removed]",
      "text/plain": [
       "<Figure size 432x288 with 1 Axes>"
      ]
     },
     "metadata": {
      "needs_background": "light"
     },
     "output_type": "display_data"
    }
   ],
   "source": [
    "sns.histplot(data, x='alternativ', hue='forelesning').title.set_text('Alternativ')\n",
    "\n",
    "plt.show()"
   ]
  },
  {
   "cell_type": "code",
   "execution_count": 67,
   "metadata": {},
   "outputs": [
    {
     "data": {
      "image/png": "[encoded data removed]",
      "text/plain": [
       "<Figure size 432x288 with 1 Axes>"
      ]
     },
     "metadata": {
      "needs_background": "light"
     },
     "output_type": "display_data"
    }
   ],
   "source": [
    "sns.histplot(data_fredag['alternativ']).title.set_text('Fredag - Alternativ')\n",
    "\n",
    "plt.show()"
   ]
  },
  {
   "cell_type": "code",
   "execution_count": 68,
   "metadata": {},
   "outputs": [
    {
     "data": {
      "image/png": "[encoded data removed]",
      "text/plain": [
       "<Figure size 432x288 with 1 Axes>"
      ]
     },
     "metadata": {
      "needs_background": "light"
     },
     "output_type": "display_data"
    }
   ],
   "source": [
    "sns.histplot(data_mandag['alternativ']).title.set_text('Mandag - Alternativ')\n",
    "\n",
    "plt.show()"
   ]
  },
  {
   "cell_type": "code",
   "execution_count": 69,
   "metadata": {},
   "outputs": [
    {
     "data": {
      "image/png": "[encoded data removed]",
      "text/plain": [
       "<Figure size 432x288 with 1 Axes>"
      ]
     },
     "metadata": {
      "needs_background": "light"
     },
     "output_type": "display_data"
    }
   ],
   "source": [
    "sns.histplot(data_digital['alternativ']).title.set_text('Mandag Digital - Alternativ')\n",
    "\n",
    "plt.show()"
   ]
  }
 ],
 "metadata": {
  "kernelspec": {
   "display_name": "Python 3.9.7 ('tdt4195')",
   "language": "python",
   "name": "python3"
  },
  "language_info": {
   "codemirror_mode": {
    "name": "ipython",
    "version": 3
   },
   "file_extension": ".py",
   "mimetype": "text/x-python",
   "name": "python",
   "nbconvert_exporter": "python",
   "pygments_lexer": "ipython3",
   "version": "3.9.7"
  },
  "orig_nbformat": 4,
  "vscode": {
   "interpreter": {
    "hash": "63b89d9bfc14eb4486c27c9b239bf0a08c4c63a21c176f83036370f0e204c130"
   }
  }
 },
 "nbformat": 4,
 "nbformat_minor": 2
}
