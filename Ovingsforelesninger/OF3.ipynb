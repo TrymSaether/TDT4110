{
 "cells": [
  {
   "cell_type": "markdown",
   "metadata": {},
   "source": [
    "# Øvingsforelesning 3 TDT4110"
   ]
  },
  {
   "cell_type": "markdown",
   "metadata": {},
   "source": [
    "### For- og while-Løkker"
   ]
  },
  {
   "cell_type": "markdown",
   "metadata": {},
   "source": [
    "## Oppgave 1: Repetisjon"
   ]
  },
  {
   "cell_type": "markdown",
   "metadata": {},
   "source": [
    "<img src=\"../Resources/Images/if-setninger.jpg\" style=\"width: 500px;\">"
   ]
  },
  {
   "cell_type": "code",
   "execution_count": null,
   "metadata": {
    "collapsed": true
   },
   "outputs": [],
   "source": [
    "# Skriv koden din her"
   ]
  },
  {
   "cell_type": "markdown",
   "metadata": {},
   "source": [
    "## Oppgave 2: Repetisjon\n",
    "\n",
    "Lag et program som tar inn en tekststreng fra brukeren. Ut i fra strengen kan følgende fire ting skje\n",
    "<br>\n",
    "1. Dersom strengen er lik `”IalwaysCheat”` skal programmet skrive ut `”Juksing er ikke lov, prøv igjen senere” `\n",
    "2. Ellers, dersom lengden på strengen er større enn 4 og mindre enn 10 skal programmet skrive ut `”Dette var en streng med perfekt lengde”`. \n",
    " * `len(streng)` gir lengden på strengen med navn ”streng”. \n",
    "3. Ellers, hvis strengen starter på `”hei”` og har mer enn 6 tegn skal programmet skrive ut `”Hei på deg også”`\n",
    " * Hint: streng.startswith(\"hei\") gir True hvis strengen starter med ”hei” \n",
    "4. Ellers skal programmet skrive ut `”Dette var en kjedelig streng”`"
   ]
  },
  {
   "cell_type": "code",
   "execution_count": null,
   "metadata": {},
   "outputs": [],
   "source": [
    "# Skriv koden din her"
   ]
  },
  {
   "cell_type": "markdown",
   "metadata": {},
   "source": [
    "\n",
    "## Oppgave 3"
   ]
  },
  {
   "cell_type": "markdown",
   "metadata": {},
   "source": [
    "Skriv et program som printer alle tallene fra 1 til 10."
   ]
  },
  {
   "cell_type": "code",
   "execution_count": 5,
   "metadata": {},
   "outputs": [],
   "source": [
    "# Skriv koden din her"
   ]
  },
  {
   "cell_type": "markdown",
   "metadata": {},
   "source": [
    "## Oppgave 4"
   ]
  },
  {
   "cell_type": "markdown",
   "metadata": {},
   "source": [
    "Skriv et program som summerer sammen tallene fra 4 til og med 20\n",
    "\n",
    "\n",
    "*Hint:*\n",
    "* Bruk en sum-variabel\n",
    "\n",
    "**Ekstraoppgave**\n",
    "* Summer opp partall og oddetall hver for seg\n"
   ]
  },
  {
   "cell_type": "code",
   "execution_count": 3,
   "metadata": {},
   "outputs": [],
   "source": [
    "# Skriv koden din her"
   ]
  },
  {
   "cell_type": "markdown",
   "metadata": {},
   "source": [
    "## Oppgave 5"
   ]
  },
  {
   "cell_type": "markdown",
   "metadata": {},
   "source": [
    "Lag et program som tar inn to tall fra brukeren, og skriver ut alle tallene mellom disse (første inklusiv, andre eksklusiv) som er delelige på 3 <br>\n",
    "\n",
    "*Hint:*\n",
    "* a%3 == 0\n",
    "* I koden for i in range (a, b) er a inklusiv og b eksklusiv by default\n",
    "\n",
    "**Ekstraoppgave**\n",
    "* Ta inn et tredje tall som sier hvilket tall det skal være delelig på (istedenfor 3)\n"
   ]
  },
  {
   "cell_type": "code",
   "execution_count": 4,
   "metadata": {},
   "outputs": [],
   "source": [
    "# Skriv koden din her"
   ]
  },
  {
   "cell_type": "markdown",
   "metadata": {},
   "source": [
    "## Oppgave 6"
   ]
  },
  {
   "cell_type": "markdown",
   "metadata": {},
   "source": [
    "Skriv et program som gjør følgende:\n",
    "1. Tar inn et tall fra bruker\n",
    "2. Summerer tallene fra 1 og oppover helt til summen overstiger tallet fra bruker\n",
    "3. Skriver ut hvert regnestykke til konsollen\n"
   ]
  },
  {
   "cell_type": "code",
   "execution_count": 6,
   "metadata": {},
   "outputs": [],
   "source": [
    "# Skriv koden din her "
   ]
  },
  {
   "cell_type": "markdown",
   "metadata": {},
   "source": [
    "## Oppgave 7\n",
    "Lag en while-løkke som skriver ut alle tallene fra 10 til og med 0. <br>\n",
    "\n",
    "*Hint:*\n",
    "* i = 10, i -= 1\n",
    "\n",
    "**Ekstraoppgave:**\n",
    "* Skriv ut alle partall fra 10 til og med 0 "
   ]
  },
  {
   "cell_type": "code",
   "execution_count": 7,
   "metadata": {},
   "outputs": [],
   "source": [
    "# Skriv koden din her"
   ]
  },
  {
   "cell_type": "markdown",
   "metadata": {},
   "source": [
    "## Oppgave 8\n",
    "Lag et program som gjør følgende:\n",
    "1. Tar inn et tall fra brukeren\n",
    "2. Sjekker om tallet er likt et annet tall som du har bestemt på forhånd\n",
    "3. Hvis tallene ikke er like: Si om det innskrevne tallet er større eller mindre enn målet\n",
    "4. La brukeren gjette tall igjen\n",
    "\n",
    "\n",
    "**Ekstraoppgave:**\n",
    "* Skriv at tallet er mye større / mindre hvis det er mer enn 10 i differanse\n"
   ]
  },
  {
   "cell_type": "code",
   "execution_count": 8,
   "metadata": {},
   "outputs": [],
   "source": [
    "# Skriv koden din her "
   ]
  },
  {
   "cell_type": "markdown",
   "metadata": {},
   "source": [
    "## Oppgave 9\n",
    "* Skriv en while-løkke som tar inn et tall hver iterasjon og summerer tallene som er skrevet inn\n",
    " * Hint: while True:\n",
    "\n",
    "* Gjør at programmet avsluttes dersom -1 skrives inn (uten å legge -1 til i summen)\n",
    "\n",
    "* Avslutt programmet dersom summen overgår 100 (men skriv ut siste summen)\n",
    "\n"
   ]
  },
  {
   "cell_type": "code",
   "execution_count": null,
   "metadata": {
    "collapsed": true
   },
   "outputs": [],
   "source": [
    "# Skriv koden din her"
   ]
  },
  {
   "cell_type": "markdown",
   "metadata": {},
   "source": [
    "## Oppgave 10\n",
    "Lag et program som printer 10 tilfeldige tall \n",
    "import random, random.randint(min, max). <br>\n",
    "\n",
    "**Ekstraoppgave:**\n",
    "* Modifiser programmet til å printe ut hvor mange oddetall som ble laget til slutt\n"
   ]
  },
  {
   "cell_type": "code",
   "execution_count": null,
   "metadata": {
    "collapsed": true
   },
   "outputs": [],
   "source": [
    "# Skriv koden din her"
   ]
  },
  {
   "cell_type": "markdown",
   "metadata": {},
   "source": [
    "## Oppgave 11\n",
    "* Du skal ha Multiple Choice eksamen med 10 spm, og lurer på om du klarer å gjette deg til å stå!\n",
    "\n",
    "* Lag et program som 10 ganger gir deg sjansen til å gjette på et tall mellom 1-4, og lagrer det riktige svaret som en variabel med tilfeldig verdi før man gjetter \n",
    " * Hint: np.random.randint(min, max+1) eller random.randint(min, max)\n",
    "\n",
    "* Etter løkken, skriv ut hvor mange prosent riktige du hadde. \n"
   ]
  },
  {
   "cell_type": "code",
   "execution_count": 2,
   "metadata": {
    "collapsed": false,
    "pycharm": {
     "name": "#%%\n"
    }
   },
   "outputs": [],
   "source": [
    "import numpy as np\n",
    "import random\n",
    "\n",
    "# Skriv koden din her"
   ]
  },
  {
   "cell_type": "markdown",
   "metadata": {
    "collapsed": false
   },
   "source": [
    "## Oppgave 12\n",
    "Lag et program som gjør følgende:\n",
    "1. Tar inn et heltall max fra brukeren\n",
    "2. Tar inn et heltall target fra brukeren\n",
    "3. Genererer tilfeldige tall mellom 0 og max, helt til det genererer target\n",
    "4. Printer hvert genererte tall\n",
    "\n",
    "Utvid programmet til å til slutt printe ut hvor mange forsøk det trengte for å lage target"
   ]
  },
  {
   "cell_type": "code",
   "execution_count": null,
   "metadata": {
    "collapsed": true
   },
   "outputs": [],
   "source": [
    "# Skriv koden din her"
   ]
  },
  {
   "cell_type": "markdown",
   "metadata": {},
   "source": [
    "## Fritt kodefelt"
   ]
  },
  {
   "cell_type": "code",
   "execution_count": null,
   "metadata": {
    "collapsed": true
   },
   "outputs": [],
   "source": [
    "# Skriv koden din her"
   ]
  }
 ],
 "metadata": {
  "kernelspec": {
   "display_name": "Python 3.9.7 ('tdt4195')",
   "language": "python",
   "name": "python3"
  },
  "language_info": {
   "codemirror_mode": {
    "name": "ipython",
    "version": 3
   },
   "file_extension": ".py",
   "mimetype": "text/x-python",
   "name": "python",
   "nbconvert_exporter": "python",
   "pygments_lexer": "ipython3",
   "version": "3.9.7"
  },
  "vscode": {
   "interpreter": {
    "hash": "63b89d9bfc14eb4486c27c9b239bf0a08c4c63a21c176f83036370f0e204c130"
   }
  }
 },
 "nbformat": 4,
 "nbformat_minor": 2
}
