{
 "cells": [
  {
   "cell_type": "markdown",
   "metadata": {},
   "source": [
    "# Øvingsforelesning 6"
   ]
  },
  {
   "cell_type": "markdown",
   "metadata": {},
   "source": [
    "## Repetisjonsoppgave"
   ]
  },
  {
   "cell_type": "markdown",
   "metadata": {},
   "source": [
    "### a) \n",
    "Lag en funksjon ```zeroMatrix(dim)``` som tar inn et heltall ```dim``` og som oppretter en kvadratisk tabell (2D-liste) med antall rader og kolonner lik ```dim```. \n",
    "\n",
    "Tabellen skal kun inneholde 0 i alle elementer, og funksjonen skal returnere tabellen.\n",
    "\n",
    "(Denne oppgaven kan løses på veldig mange ulike måter, blant annet med numpy)\n",
    "\n",
    "<img src=\"../Resources/Images/zeroMatrix.png\" style=\"width: 200px;\">"
   ]
  },
  {
   "cell_type": "code",
   "execution_count": null,
   "metadata": {
    "collapsed": true
   },
   "outputs": [],
   "source": [
    "# din kode her"
   ]
  },
  {
   "cell_type": "markdown",
   "metadata": {},
   "source": [
    "### b)\n",
    "Lag en funksjon ```identityMatrix(dim)``` som, slik som i **a)**, skal returnere en kvadratisk tabell med dimensjon ```dim``` der alle elementer er 0, bortsett fra at elementer på diagonalen skal være 1. \n",
    "\n",
    "<img src=\"../Resources/Images/identity.png\" style=\"width: 300px;\">"
   ]
  },
  {
   "cell_type": "code",
   "execution_count": null,
   "metadata": {
    "collapsed": true
   },
   "outputs": [],
   "source": [
    "# din kode her"
   ]
  },
  {
   "cell_type": "markdown",
   "metadata": {},
   "source": [
    "## Oppgave 1"
   ]
  },
  {
   "cell_type": "markdown",
   "metadata": {},
   "source": [
    "Lag en funksjon som tar inn to ord og sjekker om de tre første bokstavene i ordene er like, ikke sensitivt for store/små bokstaver\n",
    "\n",
    "Returner ```True``` hvis de tre første bokstavene er like, ```False``` ellers\n",
    "\n",
    "*«Fotball»* og *«fotografi»* skal i dette tilfellet gi True\n",
    "\n",
    "**Hint:**\n",
    "* Bruk slicing for å hente ut en substreng med de tre første bokstavene - ```new_str = str[0:3]```\n",
    "* Bruk ```str.lower()``` for å kun sammenligne små bokstaver\n"
   ]
  },
  {
   "cell_type": "code",
   "execution_count": null,
   "metadata": {
    "collapsed": true
   },
   "outputs": [],
   "source": [
    "# kode her"
   ]
  },
  {
   "cell_type": "markdown",
   "metadata": {},
   "source": [
    "## Oppgave 2"
   ]
  },
  {
   "cell_type": "markdown",
   "metadata": {},
   "source": [
    "a) Lag en funksjon som tar inn et ord og en bokstav. Funksjonen skal returnere en liste over alle indeksene man finner bokstaven i ordet\n",
    "\n"
   ]
  },
  {
   "cell_type": "code",
   "execution_count": null,
   "metadata": {},
   "outputs": [],
   "source": [
    "def finn_indekser(ord, bokstav):\n",
    "    # din kode her\n",
    "\n",
    "    return"
   ]
  },
  {
   "cell_type": "markdown",
   "metadata": {},
   "source": [
    "\n",
    "b) Lag en funksjon ```contains_vowels(streng)``` som tar inn en streng ```streng``` og som returnerer ```True``` eller ```False``` avhengig om strengen inneholder vokaler eller ikke"
   ]
  },
  {
   "cell_type": "code",
   "execution_count": null,
   "metadata": {},
   "outputs": [],
   "source": [
    "def contains_vowels(streng):\n",
    "    # din kode her\n",
    "    \n",
    "    return"
   ]
  },
  {
   "cell_type": "markdown",
   "metadata": {
    "collapsed": false
   },
   "source": [
    "## Oppgave 3"
   ]
  },
  {
   "cell_type": "markdown",
   "metadata": {
    "collapsed": false
   },
   "source": [
    "Lag funksjonen ```isAngry(word)``` som tar inn en streng word og som returnerer ```True``` hvis alle alfabetiske tegn er store og strengen slutter på ‘!’.\n",
    "\n",
    "Eksempel på kjøring:\n",
    "* ```print(isAngry(“Så fin du er!”)) # Printer False```\n",
    "* ```print(isAngry(“SÅ FIN DU ER!”)) # Printer True```\n"
   ]
  },
  {
   "cell_type": "code",
   "execution_count": null,
   "metadata": {
    "collapsed": false,
    "pycharm": {
     "name": "#%%\n"
    }
   },
   "outputs": [],
   "source": [
    "# Kode her"
   ]
  },
  {
   "cell_type": "markdown",
   "metadata": {
    "collapsed": false
   },
   "source": [
    "## Oppgave 4"
   ]
  },
  {
   "cell_type": "markdown",
   "metadata": {
    "collapsed": false
   },
   "source": [
    "Lag en funksjon som tar inn en liste med strenger og som returnerer en sammensatt streng bestående av strengene i listen som inneholder vokaler\n",
    "\n",
    "**Hint:**\n",
    "* Bruk ```contains_vocals(str)``` fra oppgave 3b) "
   ]
  },
  {
   "cell_type": "code",
   "execution_count": null,
   "metadata": {
    "collapsed": false,
    "pycharm": {
     "name": "#%%\n"
    }
   },
   "outputs": [],
   "source": [
    "# Koden din"
   ]
  },
  {
   "cell_type": "markdown",
   "metadata": {},
   "source": [
    "## Oppgave 5"
   ]
  },
  {
   "cell_type": "markdown",
   "metadata": {},
   "source": [
    "Lag en funksjon som tar inn en streng og som returnerer en liste med alle ord i strengen\n",
    "\n",
    "Listen skal kun inneholde ord uten mellomrom, og følgende tegn på starten og slutten av ordene skal fjernes: .,:;?!-_*@+\n"
   ]
  },
  {
   "cell_type": "code",
   "execution_count": null,
   "metadata": {},
   "outputs": [],
   "source": [
    "chars = '.,:;?!-_*@+ '\n",
    "\n",
    "# Koden din\n"
   ]
  },
  {
   "cell_type": "markdown",
   "metadata": {},
   "source": [
    "## Eksamensoppgave\n",
    "*Oppgavene er hentet fra kontinuasjonseksamen august 2020*\n",
    "### Oppgave 2.1\n",
    "\n",
    "Lag funksjonen ``home_draw_away`` som har en input-parameter ``matches`` som er en liste som\n",
    "inneholder informasjon om fotballkamper i siste runde ble hjemmeseier (\"H\"), uavgjort (\"U\")\n",
    "eller borteseier (\"B\").\n",
    "\n",
    "Funksjonen skal returnere ei liste med 3 tall, der det første tallet er antallet hjemmeseire, det\n",
    "andre tallet er antallet uavgjort, og det siste tallet er antallet borteseiere. Funksjonen skal\n",
    "fungere på lister av ulik lengde, skal fungere for stor og liten bokstav for H, U og B, samt at\n",
    "den skal ignorere resultat som ikke er H, U, eller B.\n",
    "\n",
    "Eksempel på kjøring av kode: \n",
    "<br>\n",
    "<img src=\"../Resources/Images/eksempelpakjoring21.png\" style=\"width: 600px;\">\n"
   ]
  },
  {
   "cell_type": "code",
   "execution_count": null,
   "metadata": {},
   "outputs": [],
   "source": [
    "matches = (\"H\", \"u\", \"B\", \"h\", \"b\", \"H\", \"U\", \"H\", \"h\", \"B\", \"H\", \"U\", \"x\", \"h\", \"U\")\n",
    "\n",
    "def home_draw_away(matches):\n",
    "    #koden din her\n",
    "\n",
    "    return\n",
    "\n",
    "res = home_draw_away(matches)\n",
    "print(res)"
   ]
  },
  {
   "cell_type": "markdown",
   "metadata": {},
   "source": [
    "## Oppgave 2.2\n",
    "\n",
    "Lag funksjon ``pos_vowels`` som tar inn en parameter ``text`` som er en tekststreng og returnerer\n",
    "posisjonen til alle norske vokaler i strengen ``text`` som en liste. Funksjonen skal fungere for\n",
    "vokaler skrevet med stor og liten bokstav.\n",
    "\n",
    "Eksempel på kjøring av kode:\n",
    "\n",
    "```python\n",
    "test = \"DettE er et eksempel pÅ lAng liste med vokaler\"\n",
    "pos = pos_vowels(test)\n",
    "print(pos)\n",
    "[1, 4, 6, 9, 12, 15, 18, 22, 25, 30, 33, 36, 40, 42, 44]\n",
    "```"
   ]
  },
  {
   "cell_type": "code",
   "execution_count": null,
   "metadata": {},
   "outputs": [],
   "source": [
    "test = \"DettE er et eksempel pÅ lAng liste med vokaler\"\n",
    "\n",
    "def pos_vocals(text):\n",
    "    #koden din her\n",
    "    \n",
    "    return\n",
    "\n",
    "print(pos_vocals(test))"
   ]
  },
  {
   "cell_type": "markdown",
   "metadata": {},
   "source": [
    "## Oppgave 2.3\n",
    "\n",
    "Lag funksjon ``unique`` som har en inn-parameter ``text`` som er en tekststreng.\n",
    "\n",
    "Funksjonen skal returnere en liste med alle unike ord i teksten skrevet med små bokstaver.\n",
    "Rekkefølgen ordene i lista har er ikke bestemt. Merk at funksjonen skal returnere kun ord og\n",
    "tegn som man typisk har i en setning skal fjernes. Man kan anta at tekstrengen starter med en\n",
    "bokstav, at ordene er adskilt med mellomrom, at man ikke har tegn inne i et ord, og at man\n",
    "ikke har flere enn et tegn etter hverandre.\n",
    "\n",
    "Eksempel på kjøring av kode:\n",
    "```python\n",
    "test = \"Er dette greit, eller er det IKKE greit? Det er greit tror jeg!\"\n",
    "words = unique(test)\n",
    "print(words)\n",
    ">>> [\"er\", \"dette\", \"greit\", \"eller\", \"det\", \"ikke\", \"tror\", \"jeg\"]\n",
    "```"
   ]
  },
  {
   "cell_type": "code",
   "execution_count": null,
   "metadata": {},
   "outputs": [],
   "source": [
    "test = \"Er dette greit, eller er det IKKE greit? Det er greit tror jeg!\"\n",
    "tegn = '.,:;?!-_*@+'\n",
    "\n",
    "def unique(test):\n",
    "    # koden din her\n",
    "\n",
    "    return\n"
   ]
  },
  {
   "cell_type": "markdown",
   "metadata": {},
   "source": [
    "## Ekstraoppgave (hvis tid)\n",
    "\n",
    "### Lagre og lese tekstfiler med numpy.\n",
    "\n",
    "- Lag en numpy array med 30 tilfeldige flyttall mellom -20 og 20\n",
    "- Lagre arrayen som en tekstfil med `np.savetxt()` . Velg filnavn selv, pass på at den slutter på .txt\n",
    "- Lagre med 2 desimaler  (`fmt='%.2f'`)\n",
    "- Last inn tekstfilen i en ny numpy array med `np.loadtxt()` og print ut arrayen\n"
   ]
  },
  {
   "cell_type": "code",
   "execution_count": 8,
   "metadata": {},
   "outputs": [],
   "source": [
    "import numpy as np\n",
    "# Koden din\n"
   ]
  },
  {
   "cell_type": "code",
   "execution_count": 6,
   "metadata": {},
   "outputs": [],
   "source": [
    "# Koden din"
   ]
  }
 ],
 "metadata": {
  "kernelspec": {
   "display_name": "Python 3.9.7 ('tdt4195')",
   "language": "python",
   "name": "python3"
  },
  "language_info": {
   "codemirror_mode": {
    "name": "ipython",
    "version": 3
   },
   "file_extension": ".py",
   "mimetype": "text/x-python",
   "name": "python",
   "nbconvert_exporter": "python",
   "pygments_lexer": "ipython3",
   "version": "3.9.7"
  },
  "vscode": {
   "interpreter": {
    "hash": "63b89d9bfc14eb4486c27c9b239bf0a08c4c63a21c176f83036370f0e204c130"
   }
  }
 },
 "nbformat": 4,
 "nbformat_minor": 2
}
